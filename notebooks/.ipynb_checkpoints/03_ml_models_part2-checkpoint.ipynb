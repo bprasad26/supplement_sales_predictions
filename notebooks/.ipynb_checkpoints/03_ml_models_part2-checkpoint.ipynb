{
 "cells": [
  {
   "cell_type": "markdown",
   "id": "68830001",
   "metadata": {},
   "source": [
    "### Setup"
   ]
  },
  {
   "cell_type": "code",
   "execution_count": 1,
   "id": "f14e34a7",
   "metadata": {},
   "outputs": [],
   "source": [
    "import os\n",
    "import pandas as pd\n",
    "import numpy as np\n",
    "import matplotlib.pyplot as plt\n",
    "import plotly.graph_objects as go\n",
    "import plotly.express as px\n",
    "import seaborn\n",
    "%matplotlib inline\n",
    "\n",
    "# project paths\n",
    "project_root_dir = os.path.normpath(os.getcwd() + os.sep + os.pardir)\n",
    "\n",
    "data_path = os.path.join(project_root_dir, \"data\")\n",
    "os.makedirs(data_path, exist_ok=True)\n",
    "\n",
    "# function for reading data\n",
    "def read_data(filename, date_cols=None, file_path=data_path):\n",
    "    csv_path = os.path.join(file_path, filename)\n",
    "    return pd.read_csv(csv_path, parse_dates=date_cols)\n",
    "\n",
    "# function for saving data as csv file\n",
    "def save_dataframe(df, filename, file_path=data_path):\n",
    "    path = os.path.join(file_path, filename)\n",
    "    df.to_csv(path, index=False)"
   ]
  },
  {
   "cell_type": "markdown",
   "id": "5fc73b5e",
   "metadata": {},
   "source": [
    "### Read Data"
   ]
  },
  {
   "cell_type": "code",
   "execution_count": 2,
   "id": "0a0c6bb1",
   "metadata": {},
   "outputs": [],
   "source": [
    "train = read_data(\"TRAIN.CSV\", date_cols=[\"Date\"])\n",
    "test = read_data(\"TEST_FINAL.csv\", date_cols=[\"Date\"])\n",
    "submission = read_data(\"SAMPLE.csv\")"
   ]
  },
  {
   "cell_type": "markdown",
   "id": "28f69c24",
   "metadata": {},
   "source": [
    "### Prepare Data For ML"
   ]
  },
  {
   "cell_type": "code",
   "execution_count": 3,
   "id": "94f0241b",
   "metadata": {},
   "outputs": [],
   "source": [
    "from prepare import prepare_data"
   ]
  },
  {
   "cell_type": "code",
   "execution_count": 4,
   "id": "05f1d91a",
   "metadata": {},
   "outputs": [],
   "source": [
    "X_train, y_train, X_test, full_pipe = prepare_data(train, test)"
   ]
  },
  {
   "cell_type": "markdown",
   "id": "14f5f57e",
   "metadata": {},
   "source": [
    "## Hyperparameter Tunning"
   ]
  },
  {
   "cell_type": "code",
   "execution_count": 5,
   "id": "e4689500",
   "metadata": {},
   "outputs": [
    {
     "name": "stdout",
     "output_type": "stream",
     "text": [
      "Fitting 3 folds for each of 20 candidates, totalling 60 fits\n",
      "[CV] END linearsvr__C=4.745401188473625, linearsvr__tol=0.07114476009343418; total time=   1.0s\n",
      "[CV] END linearsvr__C=4.745401188473625, linearsvr__tol=0.07114476009343418; total time=   1.1s\n",
      "[CV] END linearsvr__C=4.745401188473625, linearsvr__tol=0.07114476009343418; total time=   1.0s\n",
      "[CV] END linearsvr__C=8.31993941811405, linearsvr__tol=0.006251373574521747; total time=   3.5s\n",
      "[CV] END linearsvr__C=8.31993941811405, linearsvr__tol=0.006251373574521747; total time=   3.5s\n",
      "[CV] END linearsvr__C=8.31993941811405, linearsvr__tol=0.006251373574521747; total time=   3.8s\n",
      "[CV] END linearsvr__C=2.560186404424365, linearsvr__tol=0.00029375384576328287; total time=   2.0s\n",
      "[CV] END linearsvr__C=2.560186404424365, linearsvr__tol=0.00029375384576328287; total time=   2.1s\n",
      "[CV] END linearsvr__C=2.560186404424365, linearsvr__tol=0.00029375384576328287; total time=   2.2s\n",
      "[CV] END linearsvr__C=1.5808361216819946, linearsvr__tol=0.039676050770529867; total time=   0.7s\n",
      "[CV] END linearsvr__C=1.5808361216819946, linearsvr__tol=0.039676050770529867; total time=   0.7s\n",
      "[CV] END linearsvr__C=1.5808361216819946, linearsvr__tol=0.039676050770529867; total time=   0.7s\n",
      "[CV] END linearsvr__C=7.011150117432088, linearsvr__tol=0.013311216080736881; total time=   2.5s\n",
      "[CV] END linearsvr__C=7.011150117432088, linearsvr__tol=0.013311216080736881; total time=   2.8s\n",
      "[CV] END linearsvr__C=7.011150117432088, linearsvr__tol=0.013311216080736881; total time=   2.6s\n",
      "[CV] END linearsvr__C=1.2058449429580245, linearsvr__tol=0.08123245085588685; total time=   0.5s\n",
      "[CV] END linearsvr__C=1.2058449429580245, linearsvr__tol=0.08123245085588685; total time=   0.5s\n",
      "[CV] END linearsvr__C=1.2058449429580245, linearsvr__tol=0.08123245085588685; total time=   0.5s\n",
      "[CV] END linearsvr__C=9.324426408004218, linearsvr__tol=0.00043352817949515634; total time=   5.5s\n",
      "[CV] END linearsvr__C=9.324426408004218, linearsvr__tol=0.00043352817949515634; total time=   5.6s\n",
      "[CV] END linearsvr__C=9.324426408004218, linearsvr__tol=0.00043352817949515634; total time=   5.7s\n",
      "[CV] END linearsvr__C=2.818249672071006, linearsvr__tol=0.00035498788321965016; total time=   2.1s\n",
      "[CV] END linearsvr__C=2.818249672071006, linearsvr__tol=0.00035498788321965016; total time=   2.2s\n",
      "[CV] END linearsvr__C=2.818249672071006, linearsvr__tol=0.00035498788321965016; total time=   2.2s\n",
      "[CV] END linearsvr__C=4.042422429595377, linearsvr__tol=0.00375205585512428; total time=   2.1s\n",
      "[CV] END linearsvr__C=4.042422429595377, linearsvr__tol=0.00375205585512428; total time=   2.1s\n",
      "[CV] END linearsvr__C=4.042422429595377, linearsvr__tol=0.00375205585512428; total time=   2.4s\n",
      "[CV] END linearsvr__C=5.319450186421157, linearsvr__tol=0.0007476312062252299; total time=   3.7s\n",
      "[CV] END linearsvr__C=5.319450186421157, linearsvr__tol=0.0007476312062252299; total time=   3.5s\n",
      "[CV] END linearsvr__C=5.319450186421157, linearsvr__tol=0.0007476312062252299; total time=   3.6s\n",
      "[CV] END linearsvr__C=7.118528947223795, linearsvr__tol=0.00026210878782654396; total time=   4.6s\n",
      "[CV] END linearsvr__C=7.118528947223795, linearsvr__tol=0.00026210878782654396; total time=   4.8s\n",
      "[CV] END linearsvr__C=7.118528947223795, linearsvr__tol=0.00026210878782654396; total time=   7.9s\n",
      "[CV] END linearsvr__C=3.9214464853521815, linearsvr__tol=0.0012562773503807024; total time=   2.9s\n",
      "[CV] END linearsvr__C=3.9214464853521815, linearsvr__tol=0.0012562773503807024; total time=   3.5s\n",
      "[CV] END linearsvr__C=3.9214464853521815, linearsvr__tol=0.0012562773503807024; total time=   3.4s\n",
      "[CV] END linearsvr__C=5.56069984217036, linearsvr__tol=0.022673986523780394; total time=   2.2s\n",
      "[CV] END linearsvr__C=5.56069984217036, linearsvr__tol=0.022673986523780394; total time=   2.1s\n",
      "[CV] END linearsvr__C=5.56069984217036, linearsvr__tol=0.022673986523780394; total time=   2.1s\n",
      "[CV] END linearsvr__C=2.996737821583597, linearsvr__tol=0.0034890188454913865; total time=   2.0s\n",
      "[CV] END linearsvr__C=2.996737821583597, linearsvr__tol=0.0034890188454913865; total time=   2.6s\n",
      "[CV] END linearsvr__C=2.996737821583597, linearsvr__tol=0.0034890188454913865; total time=   2.0s\n",
      "[CV] END linearsvr__C=6.924145688620425, linearsvr__tol=0.00013783237455007182; total time=   5.4s\n",
      "[CV] END linearsvr__C=6.924145688620425, linearsvr__tol=0.00013783237455007182; total time=   5.0s\n",
      "[CV] END linearsvr__C=6.924145688620425, linearsvr__tol=0.00013783237455007182; total time=   6.8s\n",
      "[CV] END linearsvr__C=7.075448519014383, linearsvr__tol=0.00032476735706274477; total time=   5.1s\n",
      "[CV] END linearsvr__C=7.075448519014383, linearsvr__tol=0.00032476735706274477; total time=   4.9s\n",
      "[CV] END linearsvr__C=7.075448519014383, linearsvr__tol=0.00032476735706274477; total time=   4.9s\n",
      "[CV] END linearsvr__C=1.6505159298527952, linearsvr__tol=0.07025166339242157; total time=   0.6s\n",
      "[CV] END linearsvr__C=1.6505159298527952, linearsvr__tol=0.07025166339242157; total time=   0.6s\n",
      "[CV] END linearsvr__C=1.6505159298527952, linearsvr__tol=0.07025166339242157; total time=   0.6s\n",
      "[CV] END linearsvr__C=10.656320330745594, linearsvr__tol=0.02661901888489055; total time=   2.8s\n",
      "[CV] END linearsvr__C=10.656320330745594, linearsvr__tol=0.02661901888489055; total time=   2.8s\n",
      "[CV] END linearsvr__C=10.656320330745594, linearsvr__tol=0.02661901888489055; total time=   2.9s\n",
      "[CV] END linearsvr__C=4.046137691733707, linearsvr__tol=0.00019634341572933326; total time=   2.9s\n",
      "[CV] END linearsvr__C=4.046137691733707, linearsvr__tol=0.00019634341572933326; total time=   3.0s\n",
      "[CV] END linearsvr__C=4.046137691733707, linearsvr__tol=0.00019634341572933326; total time=   3.1s\n",
      "[CV] END linearsvr__C=7.842330265121569, linearsvr__tol=0.00209149813290356; total time=   4.1s\n",
      "[CV] END linearsvr__C=7.842330265121569, linearsvr__tol=0.00209149813290356; total time=   4.2s\n",
      "[CV] END linearsvr__C=7.842330265121569, linearsvr__tol=0.00209149813290356; total time=   4.3s\n"
     ]
    },
    {
     "data": {
      "text/plain": [
       "RandomizedSearchCV(cv=3,\n",
       "                   estimator=Pipeline(steps=[('columntransformer',\n",
       "                                              ColumnTransformer(transformers=[('num',\n",
       "                                                                               Pipeline(steps=[('simpleimputer',\n",
       "                                                                                                SimpleImputer())]),\n",
       "                                                                               ['Store_id']),\n",
       "                                                                              ('cat',\n",
       "                                                                               Pipeline(steps=[('simpleimputer',\n",
       "                                                                                                SimpleImputer(fill_value='NA',\n",
       "                                                                                                              strategy='constant')),\n",
       "                                                                                               ('onehotencoder',\n",
       "                                                                                                OneHotEncoder(handle_unknown='ignore',\n",
       "                                                                                                              sparse=False))]),\n",
       "                                                                               ['Store_Ty...\n",
       "                                                                                'Day',\n",
       "                                                                                'Month',\n",
       "                                                                                'Year'])])),\n",
       "                                             ('linearsvr',\n",
       "                                              LinearSVR(max_iter=10000,\n",
       "                                                        random_state=42))]),\n",
       "                   n_iter=20,\n",
       "                   param_distributions={'linearsvr__C': <scipy.stats._distn_infrastructure.rv_frozen object at 0x000002500E4C9550>,\n",
       "                                        'linearsvr__tol': <scipy.stats._distn_infrastructure.rv_frozen object at 0x000002500E4C9910>},\n",
       "                   random_state=42, scoring='neg_mean_squared_log_error',\n",
       "                   verbose=2)"
      ]
     },
     "execution_count": 5,
     "metadata": {},
     "output_type": "execute_result"
    }
   ],
   "source": [
    "from sklearn.svm import LinearSVR\n",
    "from sklearn.model_selection import RandomizedSearchCV\n",
    "from scipy.stats import uniform, reciprocal \n",
    "from sklearn.pipeline import make_pipeline\n",
    "\n",
    "\n",
    "svr = make_pipeline(full_pipe, LinearSVR(random_state=42, max_iter=10000))\n",
    "\n",
    "param_dist = {\"linearsvr__C\": uniform(1, 10),\n",
    "              \"linearsvr__tol\": reciprocal(0.0001, 0.1)\n",
    "             }\n",
    "\n",
    "svr_rnd_search = RandomizedSearchCV(\n",
    "    svr,\n",
    "    param_distributions=param_dist,\n",
    "    n_iter=20,\n",
    "    cv=3,\n",
    "    scoring=\"neg_mean_squared_log_error\",\n",
    "    random_state=42,\n",
    "    verbose=2\n",
    ")\n",
    "\n",
    "svr_rnd_search.fit(X_train, y_train)"
   ]
  },
  {
   "cell_type": "code",
   "execution_count": 6,
   "id": "f3456462",
   "metadata": {},
   "outputs": [
    {
     "data": {
      "text/plain": [
       "-0.1307540115941013"
      ]
     },
     "execution_count": 6,
     "metadata": {},
     "output_type": "execute_result"
    }
   ],
   "source": [
    "svr_rnd_search.best_score_"
   ]
  },
  {
   "cell_type": "code",
   "execution_count": 7,
   "id": "442921b4",
   "metadata": {},
   "outputs": [
    {
     "data": {
      "text/plain": [
       "{'linearsvr__C': 1.5808361216819946, 'linearsvr__tol': 0.039676050770529867}"
      ]
     },
     "execution_count": 7,
     "metadata": {},
     "output_type": "execute_result"
    }
   ],
   "source": [
    "svr_rnd_search.best_params_"
   ]
  },
  {
   "cell_type": "code",
   "execution_count": 8,
   "id": "6fe673de",
   "metadata": {},
   "outputs": [
    {
     "name": "stdout",
     "output_type": "stream",
     "text": [
      "Fitting 2 folds for each of 10 candidates, totalling 20 fits\n",
      "[CV] END randomforestregressor__min_samples_leaf=7, randomforestregressor__min_samples_split=5; total time=   9.4s\n",
      "[CV] END randomforestregressor__min_samples_leaf=7, randomforestregressor__min_samples_split=5; total time=   6.8s\n",
      "[CV] END randomforestregressor__min_samples_leaf=8, randomforestregressor__min_samples_split=6; total time=   7.3s\n",
      "[CV] END randomforestregressor__min_samples_leaf=8, randomforestregressor__min_samples_split=6; total time=   6.5s\n",
      "[CV] END randomforestregressor__min_samples_leaf=5, randomforestregressor__min_samples_split=8; total time=   7.7s\n",
      "[CV] END randomforestregressor__min_samples_leaf=5, randomforestregressor__min_samples_split=8; total time=   6.7s\n",
      "[CV] END randomforestregressor__min_samples_leaf=3, randomforestregressor__min_samples_split=8; total time=   7.8s\n",
      "[CV] END randomforestregressor__min_samples_leaf=3, randomforestregressor__min_samples_split=8; total time=   7.4s\n",
      "[CV] END randomforestregressor__min_samples_leaf=8, randomforestregressor__min_samples_split=6; total time=   7.4s\n",
      "[CV] END randomforestregressor__min_samples_leaf=8, randomforestregressor__min_samples_split=6; total time=   6.7s\n",
      "[CV] END randomforestregressor__min_samples_leaf=4, randomforestregressor__min_samples_split=9; total time=   7.6s\n",
      "[CV] END randomforestregressor__min_samples_leaf=4, randomforestregressor__min_samples_split=9; total time=   6.8s\n",
      "[CV] END randomforestregressor__min_samples_leaf=8, randomforestregressor__min_samples_split=4; total time=   7.3s\n",
      "[CV] END randomforestregressor__min_samples_leaf=8, randomforestregressor__min_samples_split=4; total time=   6.5s\n",
      "[CV] END randomforestregressor__min_samples_leaf=6, randomforestregressor__min_samples_split=6; total time=   7.4s\n",
      "[CV] END randomforestregressor__min_samples_leaf=6, randomforestregressor__min_samples_split=6; total time=   6.8s\n",
      "[CV] END randomforestregressor__min_samples_leaf=2, randomforestregressor__min_samples_split=9; total time=   7.8s\n",
      "[CV] END randomforestregressor__min_samples_leaf=2, randomforestregressor__min_samples_split=9; total time=   7.2s\n",
      "[CV] END randomforestregressor__min_samples_leaf=6, randomforestregressor__min_samples_split=3; total time=   7.5s\n",
      "[CV] END randomforestregressor__min_samples_leaf=6, randomforestregressor__min_samples_split=3; total time=   6.8s\n"
     ]
    },
    {
     "data": {
      "text/plain": [
       "RandomizedSearchCV(cv=2,\n",
       "                   estimator=Pipeline(steps=[('columntransformer',\n",
       "                                              ColumnTransformer(transformers=[('num',\n",
       "                                                                               Pipeline(steps=[('simpleimputer',\n",
       "                                                                                                SimpleImputer())]),\n",
       "                                                                               ['Store_id']),\n",
       "                                                                              ('cat',\n",
       "                                                                               Pipeline(steps=[('simpleimputer',\n",
       "                                                                                                SimpleImputer(fill_value='NA',\n",
       "                                                                                                              strategy='constant')),\n",
       "                                                                                               ('onehotencoder',\n",
       "                                                                                                OneHotEncoder(handle_unknown='ignore',\n",
       "                                                                                                              sparse=False))]),\n",
       "                                                                               ['Store_Ty...\n",
       "                                              RandomForestRegressor(n_jobs=-1,\n",
       "                                                                    random_state=42))]),\n",
       "                   param_distributions={'randomforestregressor__min_samples_leaf': <scipy.stats._distn_infrastructure.rv_frozen object at 0x0000025009326490>,\n",
       "                                        'randomforestregressor__min_samples_split': <scipy.stats._distn_infrastructure.rv_frozen object at 0x000002500DF05400>},\n",
       "                   random_state=42, scoring='neg_mean_squared_log_error',\n",
       "                   verbose=2)"
      ]
     },
     "execution_count": 8,
     "metadata": {},
     "output_type": "execute_result"
    }
   ],
   "source": [
    "from sklearn.ensemble import RandomForestRegressor\n",
    "from sklearn.model_selection import RandomizedSearchCV\n",
    "from scipy.stats import randint\n",
    "\n",
    "params = {\n",
    "    \"randomforestregressor__min_samples_split\": randint(low=2, high=10),\n",
    "    \"randomforestregressor__min_samples_leaf\": randint(low=1, high=10), \n",
    "}\n",
    "\n",
    "rf = make_pipeline(full_pipe, RandomForestRegressor(random_state=42, n_jobs=-1))\n",
    "\n",
    "rf_rnd_search = RandomizedSearchCV(\n",
    "    estimator=rf,\n",
    "    param_distributions= params,\n",
    "    n_iter=10,\n",
    "    scoring=\"neg_mean_squared_log_error\",\n",
    "    cv=2,\n",
    "    verbose=2,\n",
    "    random_state=42)\n",
    "\n",
    "\n",
    "rf_rnd_search.fit(X_train, y_train)"
   ]
  },
  {
   "cell_type": "code",
   "execution_count": 9,
   "id": "8fedbfe7",
   "metadata": {},
   "outputs": [
    {
     "data": {
      "text/plain": [
       "-0.12414510460809519"
      ]
     },
     "execution_count": 9,
     "metadata": {},
     "output_type": "execute_result"
    }
   ],
   "source": [
    "rf_rnd_search.best_score_"
   ]
  },
  {
   "cell_type": "code",
   "execution_count": 10,
   "id": "e153a4d3",
   "metadata": {},
   "outputs": [
    {
     "data": {
      "text/plain": [
       "{'randomforestregressor__min_samples_leaf': 8,\n",
       " 'randomforestregressor__min_samples_split': 6}"
      ]
     },
     "execution_count": 10,
     "metadata": {},
     "output_type": "execute_result"
    }
   ],
   "source": [
    "rf_rnd_search.best_params_"
   ]
  },
  {
   "cell_type": "code",
   "execution_count": 13,
   "id": "75348f36",
   "metadata": {},
   "outputs": [
    {
     "name": "stdout",
     "output_type": "stream",
     "text": [
      "Fitting 3 folds for each of 60 candidates, totalling 180 fits\n",
      "[CV] END randomforestregressor__max_depth=20, randomforestregressor__max_features=auto; total time=  14.8s\n",
      "[CV] END randomforestregressor__max_depth=20, randomforestregressor__max_features=auto; total time=  11.6s\n",
      "[CV] END randomforestregressor__max_depth=20, randomforestregressor__max_features=auto; total time=  12.0s\n",
      "[CV] END randomforestregressor__max_depth=20, randomforestregressor__max_features=sqrt; total time=   3.7s\n",
      "[CV] END randomforestregressor__max_depth=20, randomforestregressor__max_features=sqrt; total time=   3.3s\n",
      "[CV] END randomforestregressor__max_depth=20, randomforestregressor__max_features=sqrt; total time=   3.9s\n",
      "[CV] END randomforestregressor__max_depth=20, randomforestregressor__max_features=log2; total time=   3.3s\n",
      "[CV] END randomforestregressor__max_depth=20, randomforestregressor__max_features=log2; total time=   3.1s\n",
      "[CV] END randomforestregressor__max_depth=20, randomforestregressor__max_features=log2; total time=   3.3s\n",
      "[CV] END randomforestregressor__max_depth=21, randomforestregressor__max_features=auto; total time=  13.9s\n",
      "[CV] END randomforestregressor__max_depth=21, randomforestregressor__max_features=auto; total time=  12.3s\n",
      "[CV] END randomforestregressor__max_depth=21, randomforestregressor__max_features=auto; total time=  12.0s\n",
      "[CV] END randomforestregressor__max_depth=21, randomforestregressor__max_features=sqrt; total time=   3.7s\n",
      "[CV] END randomforestregressor__max_depth=21, randomforestregressor__max_features=sqrt; total time=   3.5s\n",
      "[CV] END randomforestregressor__max_depth=21, randomforestregressor__max_features=sqrt; total time=   4.5s\n",
      "[CV] END randomforestregressor__max_depth=21, randomforestregressor__max_features=log2; total time=   3.4s\n",
      "[CV] END randomforestregressor__max_depth=21, randomforestregressor__max_features=log2; total time=   3.3s\n",
      "[CV] END randomforestregressor__max_depth=21, randomforestregressor__max_features=log2; total time=   3.4s\n",
      "[CV] END randomforestregressor__max_depth=22, randomforestregressor__max_features=auto; total time=  15.8s\n",
      "[CV] END randomforestregressor__max_depth=22, randomforestregressor__max_features=auto; total time=  12.4s\n",
      "[CV] END randomforestregressor__max_depth=22, randomforestregressor__max_features=auto; total time=  12.4s\n",
      "[CV] END randomforestregressor__max_depth=22, randomforestregressor__max_features=sqrt; total time=   4.1s\n",
      "[CV] END randomforestregressor__max_depth=22, randomforestregressor__max_features=sqrt; total time=   3.5s\n",
      "[CV] END randomforestregressor__max_depth=22, randomforestregressor__max_features=sqrt; total time=   4.2s\n",
      "[CV] END randomforestregressor__max_depth=22, randomforestregressor__max_features=log2; total time=   3.6s\n",
      "[CV] END randomforestregressor__max_depth=22, randomforestregressor__max_features=log2; total time=   3.5s\n",
      "[CV] END randomforestregressor__max_depth=22, randomforestregressor__max_features=log2; total time=   3.8s\n",
      "[CV] END randomforestregressor__max_depth=23, randomforestregressor__max_features=auto; total time=  16.2s\n",
      "[CV] END randomforestregressor__max_depth=23, randomforestregressor__max_features=auto; total time=  11.9s\n",
      "[CV] END randomforestregressor__max_depth=23, randomforestregressor__max_features=auto; total time=  13.1s\n",
      "[CV] END randomforestregressor__max_depth=23, randomforestregressor__max_features=sqrt; total time=   3.8s\n",
      "[CV] END randomforestregressor__max_depth=23, randomforestregressor__max_features=sqrt; total time=   3.5s\n",
      "[CV] END randomforestregressor__max_depth=23, randomforestregressor__max_features=sqrt; total time=   3.9s\n",
      "[CV] END randomforestregressor__max_depth=23, randomforestregressor__max_features=log2; total time=   3.3s\n",
      "[CV] END randomforestregressor__max_depth=23, randomforestregressor__max_features=log2; total time=   3.1s\n",
      "[CV] END randomforestregressor__max_depth=23, randomforestregressor__max_features=log2; total time=   3.2s\n",
      "[CV] END randomforestregressor__max_depth=24, randomforestregressor__max_features=auto; total time=  14.1s\n",
      "[CV] END randomforestregressor__max_depth=24, randomforestregressor__max_features=auto; total time=  12.0s\n",
      "[CV] END randomforestregressor__max_depth=24, randomforestregressor__max_features=auto; total time=  11.9s\n",
      "[CV] END randomforestregressor__max_depth=24, randomforestregressor__max_features=sqrt; total time=   3.7s\n",
      "[CV] END randomforestregressor__max_depth=24, randomforestregressor__max_features=sqrt; total time=   3.7s\n",
      "[CV] END randomforestregressor__max_depth=24, randomforestregressor__max_features=sqrt; total time=   4.0s\n",
      "[CV] END randomforestregressor__max_depth=24, randomforestregressor__max_features=log2; total time=   3.6s\n",
      "[CV] END randomforestregressor__max_depth=24, randomforestregressor__max_features=log2; total time=   3.2s\n",
      "[CV] END randomforestregressor__max_depth=24, randomforestregressor__max_features=log2; total time=   3.8s\n",
      "[CV] END randomforestregressor__max_depth=25, randomforestregressor__max_features=auto; total time=  14.1s\n",
      "[CV] END randomforestregressor__max_depth=25, randomforestregressor__max_features=auto; total time=  13.3s\n",
      "[CV] END randomforestregressor__max_depth=25, randomforestregressor__max_features=auto; total time=  13.3s\n",
      "[CV] END randomforestregressor__max_depth=25, randomforestregressor__max_features=sqrt; total time=   3.9s\n",
      "[CV] END randomforestregressor__max_depth=25, randomforestregressor__max_features=sqrt; total time=   4.0s\n",
      "[CV] END randomforestregressor__max_depth=25, randomforestregressor__max_features=sqrt; total time=   4.6s\n",
      "[CV] END randomforestregressor__max_depth=25, randomforestregressor__max_features=log2; total time=   3.9s\n",
      "[CV] END randomforestregressor__max_depth=25, randomforestregressor__max_features=log2; total time=   3.5s\n",
      "[CV] END randomforestregressor__max_depth=25, randomforestregressor__max_features=log2; total time=   3.7s\n",
      "[CV] END randomforestregressor__max_depth=26, randomforestregressor__max_features=auto; total time=  16.2s\n",
      "[CV] END randomforestregressor__max_depth=26, randomforestregressor__max_features=auto; total time=  13.4s\n",
      "[CV] END randomforestregressor__max_depth=26, randomforestregressor__max_features=auto; total time=  13.2s\n",
      "[CV] END randomforestregressor__max_depth=26, randomforestregressor__max_features=sqrt; total time=   4.1s\n",
      "[CV] END randomforestregressor__max_depth=26, randomforestregressor__max_features=sqrt; total time=   3.7s\n",
      "[CV] END randomforestregressor__max_depth=26, randomforestregressor__max_features=sqrt; total time=   3.9s\n",
      "[CV] END randomforestregressor__max_depth=26, randomforestregressor__max_features=log2; total time=   3.3s\n",
      "[CV] END randomforestregressor__max_depth=26, randomforestregressor__max_features=log2; total time=   3.1s\n",
      "[CV] END randomforestregressor__max_depth=26, randomforestregressor__max_features=log2; total time=   3.2s\n",
      "[CV] END randomforestregressor__max_depth=27, randomforestregressor__max_features=auto; total time=  12.8s\n",
      "[CV] END randomforestregressor__max_depth=27, randomforestregressor__max_features=auto; total time=  11.4s\n",
      "[CV] END randomforestregressor__max_depth=27, randomforestregressor__max_features=auto; total time=  11.7s\n",
      "[CV] END randomforestregressor__max_depth=27, randomforestregressor__max_features=sqrt; total time=   3.5s\n",
      "[CV] END randomforestregressor__max_depth=27, randomforestregressor__max_features=sqrt; total time=   3.3s\n",
      "[CV] END randomforestregressor__max_depth=27, randomforestregressor__max_features=sqrt; total time=   3.5s\n",
      "[CV] END randomforestregressor__max_depth=27, randomforestregressor__max_features=log2; total time=   3.2s\n",
      "[CV] END randomforestregressor__max_depth=27, randomforestregressor__max_features=log2; total time=   3.1s\n",
      "[CV] END randomforestregressor__max_depth=27, randomforestregressor__max_features=log2; total time=   3.4s\n",
      "[CV] END randomforestregressor__max_depth=28, randomforestregressor__max_features=auto; total time=  13.7s\n",
      "[CV] END randomforestregressor__max_depth=28, randomforestregressor__max_features=auto; total time=  12.1s\n",
      "[CV] END randomforestregressor__max_depth=28, randomforestregressor__max_features=auto; total time=  12.2s\n",
      "[CV] END randomforestregressor__max_depth=28, randomforestregressor__max_features=sqrt; total time=   4.0s\n"
     ]
    },
    {
     "name": "stdout",
     "output_type": "stream",
     "text": [
      "[CV] END randomforestregressor__max_depth=28, randomforestregressor__max_features=sqrt; total time=   3.5s\n",
      "[CV] END randomforestregressor__max_depth=28, randomforestregressor__max_features=sqrt; total time=   3.9s\n",
      "[CV] END randomforestregressor__max_depth=28, randomforestregressor__max_features=log2; total time=   3.4s\n",
      "[CV] END randomforestregressor__max_depth=28, randomforestregressor__max_features=log2; total time=   3.2s\n",
      "[CV] END randomforestregressor__max_depth=28, randomforestregressor__max_features=log2; total time=   3.5s\n",
      "[CV] END randomforestregressor__max_depth=29, randomforestregressor__max_features=auto; total time=  14.4s\n",
      "[CV] END randomforestregressor__max_depth=29, randomforestregressor__max_features=auto; total time=  13.0s\n",
      "[CV] END randomforestregressor__max_depth=29, randomforestregressor__max_features=auto; total time=  13.0s\n",
      "[CV] END randomforestregressor__max_depth=29, randomforestregressor__max_features=sqrt; total time=   3.8s\n",
      "[CV] END randomforestregressor__max_depth=29, randomforestregressor__max_features=sqrt; total time=   3.4s\n",
      "[CV] END randomforestregressor__max_depth=29, randomforestregressor__max_features=sqrt; total time=   3.8s\n",
      "[CV] END randomforestregressor__max_depth=29, randomforestregressor__max_features=log2; total time=   3.2s\n",
      "[CV] END randomforestregressor__max_depth=29, randomforestregressor__max_features=log2; total time=   3.1s\n",
      "[CV] END randomforestregressor__max_depth=29, randomforestregressor__max_features=log2; total time=   3.3s\n",
      "[CV] END randomforestregressor__max_depth=30, randomforestregressor__max_features=auto; total time=  13.8s\n",
      "[CV] END randomforestregressor__max_depth=30, randomforestregressor__max_features=auto; total time=  12.0s\n",
      "[CV] END randomforestregressor__max_depth=30, randomforestregressor__max_features=auto; total time=  12.9s\n",
      "[CV] END randomforestregressor__max_depth=30, randomforestregressor__max_features=sqrt; total time=   4.0s\n",
      "[CV] END randomforestregressor__max_depth=30, randomforestregressor__max_features=sqrt; total time=   3.9s\n",
      "[CV] END randomforestregressor__max_depth=30, randomforestregressor__max_features=sqrt; total time=   3.9s\n",
      "[CV] END randomforestregressor__max_depth=30, randomforestregressor__max_features=log2; total time=   3.3s\n",
      "[CV] END randomforestregressor__max_depth=30, randomforestregressor__max_features=log2; total time=   2.9s\n",
      "[CV] END randomforestregressor__max_depth=30, randomforestregressor__max_features=log2; total time=   3.4s\n",
      "[CV] END randomforestregressor__max_depth=31, randomforestregressor__max_features=auto; total time=  15.3s\n",
      "[CV] END randomforestregressor__max_depth=31, randomforestregressor__max_features=auto; total time=  12.4s\n",
      "[CV] END randomforestregressor__max_depth=31, randomforestregressor__max_features=auto; total time=  12.8s\n",
      "[CV] END randomforestregressor__max_depth=31, randomforestregressor__max_features=sqrt; total time=   3.8s\n",
      "[CV] END randomforestregressor__max_depth=31, randomforestregressor__max_features=sqrt; total time=   3.8s\n",
      "[CV] END randomforestregressor__max_depth=31, randomforestregressor__max_features=sqrt; total time=   3.6s\n",
      "[CV] END randomforestregressor__max_depth=31, randomforestregressor__max_features=log2; total time=   3.2s\n",
      "[CV] END randomforestregressor__max_depth=31, randomforestregressor__max_features=log2; total time=   3.0s\n",
      "[CV] END randomforestregressor__max_depth=31, randomforestregressor__max_features=log2; total time=   3.4s\n",
      "[CV] END randomforestregressor__max_depth=32, randomforestregressor__max_features=auto; total time=  14.7s\n",
      "[CV] END randomforestregressor__max_depth=32, randomforestregressor__max_features=auto; total time=  11.8s\n",
      "[CV] END randomforestregressor__max_depth=32, randomforestregressor__max_features=auto; total time=  12.3s\n",
      "[CV] END randomforestregressor__max_depth=32, randomforestregressor__max_features=sqrt; total time=   4.0s\n",
      "[CV] END randomforestregressor__max_depth=32, randomforestregressor__max_features=sqrt; total time=   4.0s\n",
      "[CV] END randomforestregressor__max_depth=32, randomforestregressor__max_features=sqrt; total time=   4.4s\n",
      "[CV] END randomforestregressor__max_depth=32, randomforestregressor__max_features=log2; total time=   3.6s\n",
      "[CV] END randomforestregressor__max_depth=32, randomforestregressor__max_features=log2; total time=   3.3s\n",
      "[CV] END randomforestregressor__max_depth=32, randomforestregressor__max_features=log2; total time=   3.6s\n",
      "[CV] END randomforestregressor__max_depth=33, randomforestregressor__max_features=auto; total time=  15.5s\n",
      "[CV] END randomforestregressor__max_depth=33, randomforestregressor__max_features=auto; total time=  12.8s\n",
      "[CV] END randomforestregressor__max_depth=33, randomforestregressor__max_features=auto; total time=  12.8s\n",
      "[CV] END randomforestregressor__max_depth=33, randomforestregressor__max_features=sqrt; total time=   3.6s\n",
      "[CV] END randomforestregressor__max_depth=33, randomforestregressor__max_features=sqrt; total time=   3.5s\n",
      "[CV] END randomforestregressor__max_depth=33, randomforestregressor__max_features=sqrt; total time=   3.8s\n",
      "[CV] END randomforestregressor__max_depth=33, randomforestregressor__max_features=log2; total time=   3.4s\n",
      "[CV] END randomforestregressor__max_depth=33, randomforestregressor__max_features=log2; total time=   3.3s\n",
      "[CV] END randomforestregressor__max_depth=33, randomforestregressor__max_features=log2; total time=   5.3s\n",
      "[CV] END randomforestregressor__max_depth=34, randomforestregressor__max_features=auto; total time=  15.3s\n",
      "[CV] END randomforestregressor__max_depth=34, randomforestregressor__max_features=auto; total time=  13.7s\n",
      "[CV] END randomforestregressor__max_depth=34, randomforestregressor__max_features=auto; total time=  12.7s\n",
      "[CV] END randomforestregressor__max_depth=34, randomforestregressor__max_features=sqrt; total time=   3.9s\n",
      "[CV] END randomforestregressor__max_depth=34, randomforestregressor__max_features=sqrt; total time=   3.8s\n",
      "[CV] END randomforestregressor__max_depth=34, randomforestregressor__max_features=sqrt; total time=   3.8s\n",
      "[CV] END randomforestregressor__max_depth=34, randomforestregressor__max_features=log2; total time=   3.2s\n",
      "[CV] END randomforestregressor__max_depth=34, randomforestregressor__max_features=log2; total time=   3.1s\n",
      "[CV] END randomforestregressor__max_depth=34, randomforestregressor__max_features=log2; total time=   3.4s\n",
      "[CV] END randomforestregressor__max_depth=35, randomforestregressor__max_features=auto; total time=  13.7s\n",
      "[CV] END randomforestregressor__max_depth=35, randomforestregressor__max_features=auto; total time=  12.0s\n",
      "[CV] END randomforestregressor__max_depth=35, randomforestregressor__max_features=auto; total time=  12.9s\n",
      "[CV] END randomforestregressor__max_depth=35, randomforestregressor__max_features=sqrt; total time=   3.5s\n",
      "[CV] END randomforestregressor__max_depth=35, randomforestregressor__max_features=sqrt; total time=   3.3s\n",
      "[CV] END randomforestregressor__max_depth=35, randomforestregressor__max_features=sqrt; total time=   3.9s\n",
      "[CV] END randomforestregressor__max_depth=35, randomforestregressor__max_features=log2; total time=   3.4s\n",
      "[CV] END randomforestregressor__max_depth=35, randomforestregressor__max_features=log2; total time=   2.9s\n",
      "[CV] END randomforestregressor__max_depth=35, randomforestregressor__max_features=log2; total time=   3.3s\n",
      "[CV] END randomforestregressor__max_depth=36, randomforestregressor__max_features=auto; total time=  13.1s\n",
      "[CV] END randomforestregressor__max_depth=36, randomforestregressor__max_features=auto; total time=  12.0s\n",
      "[CV] END randomforestregressor__max_depth=36, randomforestregressor__max_features=auto; total time=  11.7s\n",
      "[CV] END randomforestregressor__max_depth=36, randomforestregressor__max_features=sqrt; total time=   3.9s\n",
      "[CV] END randomforestregressor__max_depth=36, randomforestregressor__max_features=sqrt; total time=   3.4s\n",
      "[CV] END randomforestregressor__max_depth=36, randomforestregressor__max_features=sqrt; total time=   3.5s\n",
      "[CV] END randomforestregressor__max_depth=36, randomforestregressor__max_features=log2; total time=   3.3s\n",
      "[CV] END randomforestregressor__max_depth=36, randomforestregressor__max_features=log2; total time=   3.3s\n",
      "[CV] END randomforestregressor__max_depth=36, randomforestregressor__max_features=log2; total time=   3.4s\n"
     ]
    },
    {
     "name": "stdout",
     "output_type": "stream",
     "text": [
      "[CV] END randomforestregressor__max_depth=37, randomforestregressor__max_features=auto; total time=  13.8s\n",
      "[CV] END randomforestregressor__max_depth=37, randomforestregressor__max_features=auto; total time=  11.6s\n",
      "[CV] END randomforestregressor__max_depth=37, randomforestregressor__max_features=auto; total time=  12.3s\n",
      "[CV] END randomforestregressor__max_depth=37, randomforestregressor__max_features=sqrt; total time=   3.7s\n",
      "[CV] END randomforestregressor__max_depth=37, randomforestregressor__max_features=sqrt; total time=   3.6s\n",
      "[CV] END randomforestregressor__max_depth=37, randomforestregressor__max_features=sqrt; total time=   3.7s\n",
      "[CV] END randomforestregressor__max_depth=37, randomforestregressor__max_features=log2; total time=   3.5s\n",
      "[CV] END randomforestregressor__max_depth=37, randomforestregressor__max_features=log2; total time=   3.2s\n",
      "[CV] END randomforestregressor__max_depth=37, randomforestregressor__max_features=log2; total time=   3.5s\n",
      "[CV] END randomforestregressor__max_depth=38, randomforestregressor__max_features=auto; total time=  13.9s\n",
      "[CV] END randomforestregressor__max_depth=38, randomforestregressor__max_features=auto; total time=  12.2s\n",
      "[CV] END randomforestregressor__max_depth=38, randomforestregressor__max_features=auto; total time=  13.1s\n",
      "[CV] END randomforestregressor__max_depth=38, randomforestregressor__max_features=sqrt; total time=   3.9s\n",
      "[CV] END randomforestregressor__max_depth=38, randomforestregressor__max_features=sqrt; total time=   3.2s\n",
      "[CV] END randomforestregressor__max_depth=38, randomforestregressor__max_features=sqrt; total time=   3.5s\n",
      "[CV] END randomforestregressor__max_depth=38, randomforestregressor__max_features=log2; total time=   3.1s\n",
      "[CV] END randomforestregressor__max_depth=38, randomforestregressor__max_features=log2; total time=   2.9s\n",
      "[CV] END randomforestregressor__max_depth=38, randomforestregressor__max_features=log2; total time=   3.2s\n",
      "[CV] END randomforestregressor__max_depth=39, randomforestregressor__max_features=auto; total time=  13.2s\n",
      "[CV] END randomforestregressor__max_depth=39, randomforestregressor__max_features=auto; total time=  11.4s\n",
      "[CV] END randomforestregressor__max_depth=39, randomforestregressor__max_features=auto; total time=  11.3s\n",
      "[CV] END randomforestregressor__max_depth=39, randomforestregressor__max_features=sqrt; total time=   3.5s\n",
      "[CV] END randomforestregressor__max_depth=39, randomforestregressor__max_features=sqrt; total time=   3.2s\n",
      "[CV] END randomforestregressor__max_depth=39, randomforestregressor__max_features=sqrt; total time=   3.5s\n",
      "[CV] END randomforestregressor__max_depth=39, randomforestregressor__max_features=log2; total time=   3.1s\n",
      "[CV] END randomforestregressor__max_depth=39, randomforestregressor__max_features=log2; total time=   3.0s\n",
      "[CV] END randomforestregressor__max_depth=39, randomforestregressor__max_features=log2; total time=   3.4s\n"
     ]
    },
    {
     "data": {
      "text/plain": [
       "GridSearchCV(cv=3,\n",
       "             estimator=Pipeline(steps=[('columntransformer',\n",
       "                                        ColumnTransformer(transformers=[('num',\n",
       "                                                                         Pipeline(steps=[('simpleimputer',\n",
       "                                                                                          SimpleImputer())]),\n",
       "                                                                         ['Store_id']),\n",
       "                                                                        ('cat',\n",
       "                                                                         Pipeline(steps=[('simpleimputer',\n",
       "                                                                                          SimpleImputer(fill_value='NA',\n",
       "                                                                                                        strategy='constant')),\n",
       "                                                                                         ('onehotencoder',\n",
       "                                                                                          OneHotEncoder(handle_unknown='ignore',\n",
       "                                                                                                        sparse=False))]),\n",
       "                                                                         ['Store_Type',\n",
       "                                                                          'L...\n",
       "                                                                          'Month',\n",
       "                                                                          'Year'])])),\n",
       "                                       ('randomforestregressor',\n",
       "                                        RandomForestRegressor(min_samples_leaf=8,\n",
       "                                                              min_samples_split=6,\n",
       "                                                              n_jobs=-1,\n",
       "                                                              random_state=42))]),\n",
       "             param_grid={'randomforestregressor__max_depth': [20, 21, 22, 23,\n",
       "                                                              24, 25, 26, 27,\n",
       "                                                              28, 29, 30, 31,\n",
       "                                                              32, 33, 34, 35,\n",
       "                                                              36, 37, 38, 39],\n",
       "                         'randomforestregressor__max_features': ['auto', 'sqrt',\n",
       "                                                                 'log2']},\n",
       "             scoring='neg_mean_squared_log_error', verbose=2)"
      ]
     },
     "execution_count": 13,
     "metadata": {},
     "output_type": "execute_result"
    }
   ],
   "source": [
    "from sklearn.ensemble import RandomForestRegressor\n",
    "from sklearn.model_selection import GridSearchCV\n",
    "\n",
    "params = {\n",
    "    \"randomforestregressor__max_depth\": list(range(20,40)), \n",
    "    \"randomforestregressor__max_features\": [\"auto\",\"sqrt\",\"log2\"]\n",
    "}\n",
    "\n",
    "rf = make_pipeline(full_pipe, RandomForestRegressor(random_state=42, \n",
    "                                                    min_samples_leaf=8, \n",
    "                                                    min_samples_split=6,\n",
    "                                                    n_jobs=-1))\n",
    "\n",
    "\n",
    "rf_grid_search = GridSearchCV(\n",
    "    estimator= rf,\n",
    "    param_grid= params,\n",
    "    scoring= \"neg_mean_squared_log_error\",\n",
    "    cv=3,\n",
    "    verbose=2,    \n",
    ")\n",
    "\n",
    "\n",
    "rf_grid_search.fit(X_train, y_train)"
   ]
  },
  {
   "cell_type": "code",
   "execution_count": 14,
   "id": "f1f1d288",
   "metadata": {},
   "outputs": [
    {
     "data": {
      "text/plain": [
       "-0.11696036790116093"
      ]
     },
     "execution_count": 14,
     "metadata": {},
     "output_type": "execute_result"
    }
   ],
   "source": [
    "rf_grid_search.best_score_"
   ]
  },
  {
   "cell_type": "code",
   "execution_count": 15,
   "id": "d3d5324b",
   "metadata": {},
   "outputs": [
    {
     "data": {
      "text/plain": [
       "{'randomforestregressor__max_depth': 30,\n",
       " 'randomforestregressor__max_features': 'sqrt'}"
      ]
     },
     "execution_count": 15,
     "metadata": {},
     "output_type": "execute_result"
    }
   ],
   "source": [
    "rf_grid_search.best_params_"
   ]
  },
  {
   "cell_type": "code",
   "execution_count": 20,
   "id": "9f1b97c2",
   "metadata": {},
   "outputs": [
    {
     "name": "stdout",
     "output_type": "stream",
     "text": [
      "Fitting 3 folds for each of 19 candidates, totalling 57 fits\n",
      "[CV] END ............randomforestregressor__n_estimators=100; total time=   5.5s\n",
      "[CV] END ............randomforestregressor__n_estimators=100; total time=   3.2s\n",
      "[CV] END ............randomforestregressor__n_estimators=100; total time=   3.7s\n",
      "[CV] END ............randomforestregressor__n_estimators=200; total time=   7.7s\n",
      "[CV] END ............randomforestregressor__n_estimators=200; total time=   6.7s\n",
      "[CV] END ............randomforestregressor__n_estimators=200; total time=   7.2s\n",
      "[CV] END ............randomforestregressor__n_estimators=300; total time=  10.9s\n",
      "[CV] END ............randomforestregressor__n_estimators=300; total time=   9.4s\n",
      "[CV] END ............randomforestregressor__n_estimators=300; total time=   9.7s\n",
      "[CV] END ............randomforestregressor__n_estimators=400; total time=  13.6s\n",
      "[CV] END ............randomforestregressor__n_estimators=400; total time=  11.8s\n",
      "[CV] END ............randomforestregressor__n_estimators=400; total time=  13.2s\n",
      "[CV] END ............randomforestregressor__n_estimators=500; total time=  18.3s\n",
      "[CV] END ............randomforestregressor__n_estimators=500; total time=  16.6s\n",
      "[CV] END ............randomforestregressor__n_estimators=500; total time=  17.0s\n",
      "[CV] END ............randomforestregressor__n_estimators=600; total time=  19.8s\n",
      "[CV] END ............randomforestregressor__n_estimators=600; total time=  19.4s\n",
      "[CV] END ............randomforestregressor__n_estimators=600; total time=  20.2s\n",
      "[CV] END ............randomforestregressor__n_estimators=700; total time=  23.6s\n",
      "[CV] END ............randomforestregressor__n_estimators=700; total time=  22.5s\n",
      "[CV] END ............randomforestregressor__n_estimators=700; total time=  22.5s\n",
      "[CV] END ............randomforestregressor__n_estimators=800; total time=  24.9s\n",
      "[CV] END ............randomforestregressor__n_estimators=800; total time=  23.1s\n",
      "[CV] END ............randomforestregressor__n_estimators=800; total time=  25.4s\n",
      "[CV] END ............randomforestregressor__n_estimators=900; total time=  28.0s\n",
      "[CV] END ............randomforestregressor__n_estimators=900; total time=  25.7s\n",
      "[CV] END ............randomforestregressor__n_estimators=900; total time=  27.5s\n",
      "[CV] END ...........randomforestregressor__n_estimators=1000; total time=  30.6s\n",
      "[CV] END ...........randomforestregressor__n_estimators=1000; total time=  28.1s\n",
      "[CV] END ...........randomforestregressor__n_estimators=1000; total time=  30.2s\n",
      "[CV] END ...........randomforestregressor__n_estimators=1100; total time=  33.5s\n",
      "[CV] END ...........randomforestregressor__n_estimators=1100; total time=  31.0s\n",
      "[CV] END ...........randomforestregressor__n_estimators=1100; total time=  33.3s\n",
      "[CV] END ...........randomforestregressor__n_estimators=1200; total time=  36.3s\n",
      "[CV] END ...........randomforestregressor__n_estimators=1200; total time=  33.5s\n",
      "[CV] END ...........randomforestregressor__n_estimators=1200; total time=  36.3s\n",
      "[CV] END ...........randomforestregressor__n_estimators=1300; total time=  39.3s\n",
      "[CV] END ...........randomforestregressor__n_estimators=1300; total time=  36.3s\n",
      "[CV] END ...........randomforestregressor__n_estimators=1300; total time=  39.4s\n",
      "[CV] END ...........randomforestregressor__n_estimators=1400; total time=  42.4s\n",
      "[CV] END ...........randomforestregressor__n_estimators=1400; total time=  39.5s\n",
      "[CV] END ...........randomforestregressor__n_estimators=1400; total time=  42.3s\n",
      "[CV] END ...........randomforestregressor__n_estimators=1500; total time=  46.1s\n",
      "[CV] END ...........randomforestregressor__n_estimators=1500; total time=  42.0s\n",
      "[CV] END ...........randomforestregressor__n_estimators=1500; total time=  45.0s\n",
      "[CV] END ...........randomforestregressor__n_estimators=1600; total time=  48.4s\n",
      "[CV] END ...........randomforestregressor__n_estimators=1600; total time=  44.6s\n",
      "[CV] END ...........randomforestregressor__n_estimators=1600; total time=  48.1s\n",
      "[CV] END ...........randomforestregressor__n_estimators=1700; total time=  51.5s\n",
      "[CV] END ...........randomforestregressor__n_estimators=1700; total time=  48.7s\n",
      "[CV] END ...........randomforestregressor__n_estimators=1700; total time=  51.7s\n",
      "[CV] END ...........randomforestregressor__n_estimators=1800; total time= 1.1min\n",
      "[CV] END ...........randomforestregressor__n_estimators=1800; total time=  56.9s\n",
      "[CV] END ...........randomforestregressor__n_estimators=1800; total time= 1.1min\n",
      "[CV] END ...........randomforestregressor__n_estimators=1900; total time= 1.2min\n",
      "[CV] END ...........randomforestregressor__n_estimators=1900; total time= 1.1min\n",
      "[CV] END ...........randomforestregressor__n_estimators=1900; total time= 1.2min\n"
     ]
    },
    {
     "data": {
      "text/plain": [
       "GridSearchCV(cv=3,\n",
       "             estimator=Pipeline(steps=[('columntransformer',\n",
       "                                        ColumnTransformer(transformers=[('num',\n",
       "                                                                         Pipeline(steps=[('simpleimputer',\n",
       "                                                                                          SimpleImputer())]),\n",
       "                                                                         ['Store_id']),\n",
       "                                                                        ('cat',\n",
       "                                                                         Pipeline(steps=[('simpleimputer',\n",
       "                                                                                          SimpleImputer(fill_value='NA',\n",
       "                                                                                                        strategy='constant')),\n",
       "                                                                                         ('onehotencoder',\n",
       "                                                                                          OneHotEncoder(handle_unknown='ignore',\n",
       "                                                                                                        sparse=False))]),\n",
       "                                                                         ['Store_Type',\n",
       "                                                                          'L...\n",
       "                                                                          'Month',\n",
       "                                                                          'Year'])])),\n",
       "                                       ('randomforestregressor',\n",
       "                                        RandomForestRegressor(max_depth=30,\n",
       "                                                              max_features='sqrt',\n",
       "                                                              min_samples_leaf=8,\n",
       "                                                              min_samples_split=6,\n",
       "                                                              n_jobs=-1,\n",
       "                                                              random_state=42))]),\n",
       "             param_grid={'randomforestregressor__n_estimators': [100, 200, 300,\n",
       "                                                                 400, 500, 600,\n",
       "                                                                 700, 800, 900,\n",
       "                                                                 1000, 1100,\n",
       "                                                                 1200, 1300,\n",
       "                                                                 1400, 1500,\n",
       "                                                                 1600, 1700,\n",
       "                                                                 1800, 1900]},\n",
       "             scoring='neg_mean_squared_log_error', verbose=2)"
      ]
     },
     "execution_count": 20,
     "metadata": {},
     "output_type": "execute_result"
    }
   ],
   "source": [
    "from sklearn.ensemble import RandomForestRegressor\n",
    "from sklearn.model_selection import GridSearchCV\n",
    "\n",
    "params = {\n",
    "    \"randomforestregressor__n_estimators\": list(range(100,2000,100)), \n",
    "}\n",
    "\n",
    "rf = make_pipeline(full_pipe, RandomForestRegressor(random_state=42, \n",
    "                                                    max_depth=30,\n",
    "                                                    min_samples_leaf= 8, \n",
    "                                                    min_samples_split= 6,\n",
    "                                                    max_features=\"sqrt\",\n",
    "                                                    n_jobs=-1))\n",
    "\n",
    "\n",
    "rf_grid_search = GridSearchCV(\n",
    "    estimator= rf,\n",
    "    param_grid= params,\n",
    "    scoring= \"neg_mean_squared_log_error\",\n",
    "    cv=3,\n",
    "    verbose=2,    \n",
    ")\n",
    "\n",
    "rf_grid_search.fit(X_train, y_train)"
   ]
  },
  {
   "cell_type": "code",
   "execution_count": 21,
   "id": "5fbb3a02",
   "metadata": {},
   "outputs": [
    {
     "data": {
      "text/plain": [
       "-0.11696036790116093"
      ]
     },
     "execution_count": 21,
     "metadata": {},
     "output_type": "execute_result"
    }
   ],
   "source": [
    "rf_grid_search.best_score_"
   ]
  },
  {
   "cell_type": "code",
   "execution_count": 22,
   "id": "c836e7ab",
   "metadata": {},
   "outputs": [
    {
     "data": {
      "text/plain": [
       "{'randomforestregressor__n_estimators': 100}"
      ]
     },
     "execution_count": 22,
     "metadata": {},
     "output_type": "execute_result"
    }
   ],
   "source": [
    "rf_grid_search.best_params_"
   ]
  },
  {
   "cell_type": "code",
   "execution_count": 23,
   "id": "32ac7837",
   "metadata": {},
   "outputs": [],
   "source": [
    "submission['Sales'] = rf_grid_search.best_estimator_.predict(X_test)\n",
    "save_dataframe(submission,\"rf_hyper1.csv\")"
   ]
  },
  {
   "cell_type": "markdown",
   "id": "c67dddc5",
   "metadata": {},
   "source": [
    "### XGBoost"
   ]
  },
  {
   "cell_type": "code",
   "execution_count": 24,
   "id": "7c730f44",
   "metadata": {},
   "outputs": [
    {
     "name": "stderr",
     "output_type": "stream",
     "text": [
      "C:\\Users\\BHOLA\\anaconda3\\lib\\site-packages\\sklearn\\model_selection\\_validation.py:610: FitFailedWarning: Estimator fit failed. The score on this train-test partition for these parameters will be set to nan. Details: \n",
      "Traceback (most recent call last):\n",
      "  File \"C:\\Users\\BHOLA\\anaconda3\\lib\\site-packages\\sklearn\\model_selection\\_validation.py\", line 593, in _fit_and_score\n",
      "    estimator.fit(X_train, y_train, **fit_params)\n",
      "  File \"C:\\Users\\BHOLA\\anaconda3\\lib\\site-packages\\sklearn\\pipeline.py\", line 346, in fit\n",
      "    self._final_estimator.fit(Xt, y, **fit_params_last_step)\n",
      "  File \"C:\\Users\\BHOLA\\anaconda3\\lib\\site-packages\\xgboost\\core.py\", line 436, in inner_f\n",
      "    return f(**kwargs)\n",
      "  File \"C:\\Users\\BHOLA\\anaconda3\\lib\\site-packages\\xgboost\\sklearn.py\", line 736, in fit\n",
      "    self._Booster = train(\n",
      "  File \"C:\\Users\\BHOLA\\anaconda3\\lib\\site-packages\\xgboost\\training.py\", line 189, in train\n",
      "    bst = _train_internal(params, dtrain,\n",
      "  File \"C:\\Users\\BHOLA\\anaconda3\\lib\\site-packages\\xgboost\\training.py\", line 81, in _train_internal\n",
      "    bst.update(dtrain, i, obj)\n",
      "  File \"C:\\Users\\BHOLA\\anaconda3\\lib\\site-packages\\xgboost\\core.py\", line 1499, in update\n",
      "    _check_call(_LIB.XGBoosterUpdateOneIter(self.handle,\n",
      "  File \"C:\\Users\\BHOLA\\anaconda3\\lib\\site-packages\\xgboost\\core.py\", line 210, in _check_call\n",
      "    raise XGBoostError(py_str(_LIB.XGBGetLastError()))\n",
      "xgboost.core.XGBoostError: [18:34:32] c:\\users\\administrator\\workspace\\xgboost-win64_release_1.4.0\\src\\data\\../common/device_helpers.cuh:414: Memory allocation error on worker 0: Caching allocator\n",
      "- Free memory: 7394426880\n",
      "- Requested memory: 8589934584\n",
      "\n",
      "\n",
      "  warnings.warn(\"Estimator fit failed. The score on this train-test\"\n",
      "C:\\Users\\BHOLA\\anaconda3\\lib\\site-packages\\sklearn\\model_selection\\_validation.py:610: FitFailedWarning: Estimator fit failed. The score on this train-test partition for these parameters will be set to nan. Details: \n",
      "Traceback (most recent call last):\n",
      "  File \"C:\\Users\\BHOLA\\anaconda3\\lib\\site-packages\\sklearn\\model_selection\\_validation.py\", line 593, in _fit_and_score\n",
      "    estimator.fit(X_train, y_train, **fit_params)\n",
      "  File \"C:\\Users\\BHOLA\\anaconda3\\lib\\site-packages\\sklearn\\pipeline.py\", line 346, in fit\n",
      "    self._final_estimator.fit(Xt, y, **fit_params_last_step)\n",
      "  File \"C:\\Users\\BHOLA\\anaconda3\\lib\\site-packages\\xgboost\\core.py\", line 436, in inner_f\n",
      "    return f(**kwargs)\n",
      "  File \"C:\\Users\\BHOLA\\anaconda3\\lib\\site-packages\\xgboost\\sklearn.py\", line 736, in fit\n",
      "    self._Booster = train(\n",
      "  File \"C:\\Users\\BHOLA\\anaconda3\\lib\\site-packages\\xgboost\\training.py\", line 189, in train\n",
      "    bst = _train_internal(params, dtrain,\n",
      "  File \"C:\\Users\\BHOLA\\anaconda3\\lib\\site-packages\\xgboost\\training.py\", line 81, in _train_internal\n",
      "    bst.update(dtrain, i, obj)\n",
      "  File \"C:\\Users\\BHOLA\\anaconda3\\lib\\site-packages\\xgboost\\core.py\", line 1499, in update\n",
      "    _check_call(_LIB.XGBoosterUpdateOneIter(self.handle,\n",
      "  File \"C:\\Users\\BHOLA\\anaconda3\\lib\\site-packages\\xgboost\\core.py\", line 210, in _check_call\n",
      "    raise XGBoostError(py_str(_LIB.XGBGetLastError()))\n",
      "xgboost.core.XGBoostError: [18:34:37] c:\\users\\administrator\\workspace\\xgboost-win64_release_1.4.0\\src\\data\\../common/device_helpers.cuh:414: Memory allocation error on worker 0: Caching allocator\n",
      "- Free memory: 7395082240\n",
      "- Requested memory: 8589934584\n",
      "\n",
      "\n",
      "  warnings.warn(\"Estimator fit failed. The score on this train-test\"\n",
      "C:\\Users\\BHOLA\\anaconda3\\lib\\site-packages\\sklearn\\model_selection\\_validation.py:610: FitFailedWarning: Estimator fit failed. The score on this train-test partition for these parameters will be set to nan. Details: \n",
      "Traceback (most recent call last):\n",
      "  File \"C:\\Users\\BHOLA\\anaconda3\\lib\\site-packages\\sklearn\\model_selection\\_validation.py\", line 593, in _fit_and_score\n",
      "    estimator.fit(X_train, y_train, **fit_params)\n",
      "  File \"C:\\Users\\BHOLA\\anaconda3\\lib\\site-packages\\sklearn\\pipeline.py\", line 346, in fit\n",
      "    self._final_estimator.fit(Xt, y, **fit_params_last_step)\n",
      "  File \"C:\\Users\\BHOLA\\anaconda3\\lib\\site-packages\\xgboost\\core.py\", line 436, in inner_f\n",
      "    return f(**kwargs)\n",
      "  File \"C:\\Users\\BHOLA\\anaconda3\\lib\\site-packages\\xgboost\\sklearn.py\", line 736, in fit\n",
      "    self._Booster = train(\n",
      "  File \"C:\\Users\\BHOLA\\anaconda3\\lib\\site-packages\\xgboost\\training.py\", line 189, in train\n",
      "    bst = _train_internal(params, dtrain,\n",
      "  File \"C:\\Users\\BHOLA\\anaconda3\\lib\\site-packages\\xgboost\\training.py\", line 81, in _train_internal\n",
      "    bst.update(dtrain, i, obj)\n",
      "  File \"C:\\Users\\BHOLA\\anaconda3\\lib\\site-packages\\xgboost\\core.py\", line 1499, in update\n",
      "    _check_call(_LIB.XGBoosterUpdateOneIter(self.handle,\n",
      "  File \"C:\\Users\\BHOLA\\anaconda3\\lib\\site-packages\\xgboost\\core.py\", line 210, in _check_call\n",
      "    raise XGBoostError(py_str(_LIB.XGBGetLastError()))\n",
      "xgboost.core.XGBoostError: [18:34:41] c:\\users\\administrator\\workspace\\xgboost-win64_release_1.4.0\\src\\data\\../common/device_helpers.cuh:414: Memory allocation error on worker 0: Caching allocator\n",
      "- Free memory: 7394557952\n",
      "- Requested memory: 8589934584\n",
      "\n",
      "\n",
      "  warnings.warn(\"Estimator fit failed. The score on this train-test\"\n",
      "C:\\Users\\BHOLA\\anaconda3\\lib\\site-packages\\sklearn\\model_selection\\_validation.py:610: FitFailedWarning: Estimator fit failed. The score on this train-test partition for these parameters will be set to nan. Details: \n",
      "Traceback (most recent call last):\n",
      "  File \"C:\\Users\\BHOLA\\anaconda3\\lib\\site-packages\\sklearn\\model_selection\\_validation.py\", line 593, in _fit_and_score\n",
      "    estimator.fit(X_train, y_train, **fit_params)\n",
      "  File \"C:\\Users\\BHOLA\\anaconda3\\lib\\site-packages\\sklearn\\pipeline.py\", line 346, in fit\n",
      "    self._final_estimator.fit(Xt, y, **fit_params_last_step)\n",
      "  File \"C:\\Users\\BHOLA\\anaconda3\\lib\\site-packages\\xgboost\\core.py\", line 436, in inner_f\n",
      "    return f(**kwargs)\n",
      "  File \"C:\\Users\\BHOLA\\anaconda3\\lib\\site-packages\\xgboost\\sklearn.py\", line 736, in fit\n",
      "    self._Booster = train(\n",
      "  File \"C:\\Users\\BHOLA\\anaconda3\\lib\\site-packages\\xgboost\\training.py\", line 189, in train\n",
      "    bst = _train_internal(params, dtrain,\n",
      "  File \"C:\\Users\\BHOLA\\anaconda3\\lib\\site-packages\\xgboost\\training.py\", line 81, in _train_internal\n",
      "    bst.update(dtrain, i, obj)\n",
      "  File \"C:\\Users\\BHOLA\\anaconda3\\lib\\site-packages\\xgboost\\core.py\", line 1499, in update\n",
      "    _check_call(_LIB.XGBoosterUpdateOneIter(self.handle,\n",
      "  File \"C:\\Users\\BHOLA\\anaconda3\\lib\\site-packages\\xgboost\\core.py\", line 210, in _check_call\n",
      "    raise XGBoostError(py_str(_LIB.XGBGetLastError()))\n",
      "xgboost.core.XGBoostError: [18:49:29] c:\\users\\administrator\\workspace\\xgboost-win64_release_1.4.0\\src\\data\\../common/device_helpers.cuh:414: Memory allocation error on worker 0: Caching allocator\n",
      "- Free memory: 7394426880\n",
      "- Requested memory: 8589934584\n",
      "\n",
      "\n",
      "  warnings.warn(\"Estimator fit failed. The score on this train-test\"\n",
      "C:\\Users\\BHOLA\\anaconda3\\lib\\site-packages\\sklearn\\model_selection\\_validation.py:610: FitFailedWarning: Estimator fit failed. The score on this train-test partition for these parameters will be set to nan. Details: \n",
      "Traceback (most recent call last):\n",
      "  File \"C:\\Users\\BHOLA\\anaconda3\\lib\\site-packages\\sklearn\\model_selection\\_validation.py\", line 593, in _fit_and_score\n",
      "    estimator.fit(X_train, y_train, **fit_params)\n",
      "  File \"C:\\Users\\BHOLA\\anaconda3\\lib\\site-packages\\sklearn\\pipeline.py\", line 346, in fit\n",
      "    self._final_estimator.fit(Xt, y, **fit_params_last_step)\n",
      "  File \"C:\\Users\\BHOLA\\anaconda3\\lib\\site-packages\\xgboost\\core.py\", line 436, in inner_f\n",
      "    return f(**kwargs)\n",
      "  File \"C:\\Users\\BHOLA\\anaconda3\\lib\\site-packages\\xgboost\\sklearn.py\", line 736, in fit\n",
      "    self._Booster = train(\n",
      "  File \"C:\\Users\\BHOLA\\anaconda3\\lib\\site-packages\\xgboost\\training.py\", line 189, in train\n",
      "    bst = _train_internal(params, dtrain,\n",
      "  File \"C:\\Users\\BHOLA\\anaconda3\\lib\\site-packages\\xgboost\\training.py\", line 81, in _train_internal\n",
      "    bst.update(dtrain, i, obj)\n",
      "  File \"C:\\Users\\BHOLA\\anaconda3\\lib\\site-packages\\xgboost\\core.py\", line 1499, in update\n",
      "    _check_call(_LIB.XGBoosterUpdateOneIter(self.handle,\n",
      "  File \"C:\\Users\\BHOLA\\anaconda3\\lib\\site-packages\\xgboost\\core.py\", line 210, in _check_call\n",
      "    raise XGBoostError(py_str(_LIB.XGBGetLastError()))\n",
      "xgboost.core.XGBoostError: [18:49:33] c:\\users\\administrator\\workspace\\xgboost-win64_release_1.4.0\\src\\data\\../common/device_helpers.cuh:414: Memory allocation error on worker 0: Caching allocator\n",
      "- Free memory: 7397179392\n",
      "- Requested memory: 8589934584\n",
      "\n",
      "\n",
      "  warnings.warn(\"Estimator fit failed. The score on this train-test\"\n"
     ]
    },
    {
     "name": "stderr",
     "output_type": "stream",
     "text": [
      "C:\\Users\\BHOLA\\anaconda3\\lib\\site-packages\\sklearn\\model_selection\\_validation.py:610: FitFailedWarning: Estimator fit failed. The score on this train-test partition for these parameters will be set to nan. Details: \n",
      "Traceback (most recent call last):\n",
      "  File \"C:\\Users\\BHOLA\\anaconda3\\lib\\site-packages\\sklearn\\model_selection\\_validation.py\", line 593, in _fit_and_score\n",
      "    estimator.fit(X_train, y_train, **fit_params)\n",
      "  File \"C:\\Users\\BHOLA\\anaconda3\\lib\\site-packages\\sklearn\\pipeline.py\", line 346, in fit\n",
      "    self._final_estimator.fit(Xt, y, **fit_params_last_step)\n",
      "  File \"C:\\Users\\BHOLA\\anaconda3\\lib\\site-packages\\xgboost\\core.py\", line 436, in inner_f\n",
      "    return f(**kwargs)\n",
      "  File \"C:\\Users\\BHOLA\\anaconda3\\lib\\site-packages\\xgboost\\sklearn.py\", line 736, in fit\n",
      "    self._Booster = train(\n",
      "  File \"C:\\Users\\BHOLA\\anaconda3\\lib\\site-packages\\xgboost\\training.py\", line 189, in train\n",
      "    bst = _train_internal(params, dtrain,\n",
      "  File \"C:\\Users\\BHOLA\\anaconda3\\lib\\site-packages\\xgboost\\training.py\", line 81, in _train_internal\n",
      "    bst.update(dtrain, i, obj)\n",
      "  File \"C:\\Users\\BHOLA\\anaconda3\\lib\\site-packages\\xgboost\\core.py\", line 1499, in update\n",
      "    _check_call(_LIB.XGBoosterUpdateOneIter(self.handle,\n",
      "  File \"C:\\Users\\BHOLA\\anaconda3\\lib\\site-packages\\xgboost\\core.py\", line 210, in _check_call\n",
      "    raise XGBoostError(py_str(_LIB.XGBGetLastError()))\n",
      "xgboost.core.XGBoostError: [18:49:38] c:\\users\\administrator\\workspace\\xgboost-win64_release_1.4.0\\src\\data\\../common/device_helpers.cuh:414: Memory allocation error on worker 0: Caching allocator\n",
      "- Free memory: 7396655104\n",
      "- Requested memory: 8589934584\n",
      "\n",
      "\n",
      "  warnings.warn(\"Estimator fit failed. The score on this train-test\"\n"
     ]
    },
    {
     "ename": "KeyboardInterrupt",
     "evalue": "",
     "output_type": "error",
     "traceback": [
      "\u001b[1;31m---------------------------------------------------------------------------\u001b[0m",
      "\u001b[1;31mKeyboardInterrupt\u001b[0m                         Traceback (most recent call last)",
      "\u001b[1;32m<ipython-input-24-1c959be3b4eb>\u001b[0m in \u001b[0;36m<module>\u001b[1;34m\u001b[0m\n\u001b[0;32m     19\u001b[0m     \u001b[0mcv\u001b[0m\u001b[1;33m=\u001b[0m\u001b[1;36m3\u001b[0m\u001b[1;33m\u001b[0m\u001b[1;33m\u001b[0m\u001b[0m\n\u001b[0;32m     20\u001b[0m )\n\u001b[1;32m---> 21\u001b[1;33m \u001b[0mxgb_grid\u001b[0m\u001b[1;33m.\u001b[0m\u001b[0mfit\u001b[0m\u001b[1;33m(\u001b[0m\u001b[0mX_train\u001b[0m\u001b[1;33m,\u001b[0m \u001b[0my_train\u001b[0m\u001b[1;33m)\u001b[0m\u001b[1;33m\u001b[0m\u001b[1;33m\u001b[0m\u001b[0m\n\u001b[0m",
      "\u001b[1;32m~\\anaconda3\\lib\\site-packages\\sklearn\\utils\\validation.py\u001b[0m in \u001b[0;36minner_f\u001b[1;34m(*args, **kwargs)\u001b[0m\n\u001b[0;32m     61\u001b[0m             \u001b[0mextra_args\u001b[0m \u001b[1;33m=\u001b[0m \u001b[0mlen\u001b[0m\u001b[1;33m(\u001b[0m\u001b[0margs\u001b[0m\u001b[1;33m)\u001b[0m \u001b[1;33m-\u001b[0m \u001b[0mlen\u001b[0m\u001b[1;33m(\u001b[0m\u001b[0mall_args\u001b[0m\u001b[1;33m)\u001b[0m\u001b[1;33m\u001b[0m\u001b[1;33m\u001b[0m\u001b[0m\n\u001b[0;32m     62\u001b[0m             \u001b[1;32mif\u001b[0m \u001b[0mextra_args\u001b[0m \u001b[1;33m<=\u001b[0m \u001b[1;36m0\u001b[0m\u001b[1;33m:\u001b[0m\u001b[1;33m\u001b[0m\u001b[1;33m\u001b[0m\u001b[0m\n\u001b[1;32m---> 63\u001b[1;33m                 \u001b[1;32mreturn\u001b[0m \u001b[0mf\u001b[0m\u001b[1;33m(\u001b[0m\u001b[1;33m*\u001b[0m\u001b[0margs\u001b[0m\u001b[1;33m,\u001b[0m \u001b[1;33m**\u001b[0m\u001b[0mkwargs\u001b[0m\u001b[1;33m)\u001b[0m\u001b[1;33m\u001b[0m\u001b[1;33m\u001b[0m\u001b[0m\n\u001b[0m\u001b[0;32m     64\u001b[0m \u001b[1;33m\u001b[0m\u001b[0m\n\u001b[0;32m     65\u001b[0m             \u001b[1;31m# extra_args > 0\u001b[0m\u001b[1;33m\u001b[0m\u001b[1;33m\u001b[0m\u001b[1;33m\u001b[0m\u001b[0m\n",
      "\u001b[1;32m~\\anaconda3\\lib\\site-packages\\sklearn\\model_selection\\_search.py\u001b[0m in \u001b[0;36mfit\u001b[1;34m(self, X, y, groups, **fit_params)\u001b[0m\n\u001b[0;32m    839\u001b[0m                 \u001b[1;32mreturn\u001b[0m \u001b[0mresults\u001b[0m\u001b[1;33m\u001b[0m\u001b[1;33m\u001b[0m\u001b[0m\n\u001b[0;32m    840\u001b[0m \u001b[1;33m\u001b[0m\u001b[0m\n\u001b[1;32m--> 841\u001b[1;33m             \u001b[0mself\u001b[0m\u001b[1;33m.\u001b[0m\u001b[0m_run_search\u001b[0m\u001b[1;33m(\u001b[0m\u001b[0mevaluate_candidates\u001b[0m\u001b[1;33m)\u001b[0m\u001b[1;33m\u001b[0m\u001b[1;33m\u001b[0m\u001b[0m\n\u001b[0m\u001b[0;32m    842\u001b[0m \u001b[1;33m\u001b[0m\u001b[0m\n\u001b[0;32m    843\u001b[0m             \u001b[1;31m# multimetric is determined here because in the case of a callable\u001b[0m\u001b[1;33m\u001b[0m\u001b[1;33m\u001b[0m\u001b[1;33m\u001b[0m\u001b[0m\n",
      "\u001b[1;32m~\\anaconda3\\lib\\site-packages\\sklearn\\model_selection\\_search.py\u001b[0m in \u001b[0;36m_run_search\u001b[1;34m(self, evaluate_candidates)\u001b[0m\n\u001b[0;32m   1286\u001b[0m     \u001b[1;32mdef\u001b[0m \u001b[0m_run_search\u001b[0m\u001b[1;33m(\u001b[0m\u001b[0mself\u001b[0m\u001b[1;33m,\u001b[0m \u001b[0mevaluate_candidates\u001b[0m\u001b[1;33m)\u001b[0m\u001b[1;33m:\u001b[0m\u001b[1;33m\u001b[0m\u001b[1;33m\u001b[0m\u001b[0m\n\u001b[0;32m   1287\u001b[0m         \u001b[1;34m\"\"\"Search all candidates in param_grid\"\"\"\u001b[0m\u001b[1;33m\u001b[0m\u001b[1;33m\u001b[0m\u001b[0m\n\u001b[1;32m-> 1288\u001b[1;33m         \u001b[0mevaluate_candidates\u001b[0m\u001b[1;33m(\u001b[0m\u001b[0mParameterGrid\u001b[0m\u001b[1;33m(\u001b[0m\u001b[0mself\u001b[0m\u001b[1;33m.\u001b[0m\u001b[0mparam_grid\u001b[0m\u001b[1;33m)\u001b[0m\u001b[1;33m)\u001b[0m\u001b[1;33m\u001b[0m\u001b[1;33m\u001b[0m\u001b[0m\n\u001b[0m\u001b[0;32m   1289\u001b[0m \u001b[1;33m\u001b[0m\u001b[0m\n\u001b[0;32m   1290\u001b[0m \u001b[1;33m\u001b[0m\u001b[0m\n",
      "\u001b[1;32m~\\anaconda3\\lib\\site-packages\\sklearn\\model_selection\\_search.py\u001b[0m in \u001b[0;36mevaluate_candidates\u001b[1;34m(candidate_params, cv, more_results)\u001b[0m\n\u001b[0;32m    793\u001b[0m                               n_splits, n_candidates, n_candidates * n_splits))\n\u001b[0;32m    794\u001b[0m \u001b[1;33m\u001b[0m\u001b[0m\n\u001b[1;32m--> 795\u001b[1;33m                 out = parallel(delayed(_fit_and_score)(clone(base_estimator),\n\u001b[0m\u001b[0;32m    796\u001b[0m                                                        \u001b[0mX\u001b[0m\u001b[1;33m,\u001b[0m \u001b[0my\u001b[0m\u001b[1;33m,\u001b[0m\u001b[1;33m\u001b[0m\u001b[1;33m\u001b[0m\u001b[0m\n\u001b[0;32m    797\u001b[0m                                                        \u001b[0mtrain\u001b[0m\u001b[1;33m=\u001b[0m\u001b[0mtrain\u001b[0m\u001b[1;33m,\u001b[0m \u001b[0mtest\u001b[0m\u001b[1;33m=\u001b[0m\u001b[0mtest\u001b[0m\u001b[1;33m,\u001b[0m\u001b[1;33m\u001b[0m\u001b[1;33m\u001b[0m\u001b[0m\n",
      "\u001b[1;32m~\\anaconda3\\lib\\site-packages\\joblib\\parallel.py\u001b[0m in \u001b[0;36m__call__\u001b[1;34m(self, iterable)\u001b[0m\n\u001b[0;32m   1042\u001b[0m                 \u001b[0mself\u001b[0m\u001b[1;33m.\u001b[0m\u001b[0m_iterating\u001b[0m \u001b[1;33m=\u001b[0m \u001b[0mself\u001b[0m\u001b[1;33m.\u001b[0m\u001b[0m_original_iterator\u001b[0m \u001b[1;32mis\u001b[0m \u001b[1;32mnot\u001b[0m \u001b[1;32mNone\u001b[0m\u001b[1;33m\u001b[0m\u001b[1;33m\u001b[0m\u001b[0m\n\u001b[0;32m   1043\u001b[0m \u001b[1;33m\u001b[0m\u001b[0m\n\u001b[1;32m-> 1044\u001b[1;33m             \u001b[1;32mwhile\u001b[0m \u001b[0mself\u001b[0m\u001b[1;33m.\u001b[0m\u001b[0mdispatch_one_batch\u001b[0m\u001b[1;33m(\u001b[0m\u001b[0miterator\u001b[0m\u001b[1;33m)\u001b[0m\u001b[1;33m:\u001b[0m\u001b[1;33m\u001b[0m\u001b[1;33m\u001b[0m\u001b[0m\n\u001b[0m\u001b[0;32m   1045\u001b[0m                 \u001b[1;32mpass\u001b[0m\u001b[1;33m\u001b[0m\u001b[1;33m\u001b[0m\u001b[0m\n\u001b[0;32m   1046\u001b[0m \u001b[1;33m\u001b[0m\u001b[0m\n",
      "\u001b[1;32m~\\anaconda3\\lib\\site-packages\\joblib\\parallel.py\u001b[0m in \u001b[0;36mdispatch_one_batch\u001b[1;34m(self, iterator)\u001b[0m\n\u001b[0;32m    857\u001b[0m                 \u001b[1;32mreturn\u001b[0m \u001b[1;32mFalse\u001b[0m\u001b[1;33m\u001b[0m\u001b[1;33m\u001b[0m\u001b[0m\n\u001b[0;32m    858\u001b[0m             \u001b[1;32melse\u001b[0m\u001b[1;33m:\u001b[0m\u001b[1;33m\u001b[0m\u001b[1;33m\u001b[0m\u001b[0m\n\u001b[1;32m--> 859\u001b[1;33m                 \u001b[0mself\u001b[0m\u001b[1;33m.\u001b[0m\u001b[0m_dispatch\u001b[0m\u001b[1;33m(\u001b[0m\u001b[0mtasks\u001b[0m\u001b[1;33m)\u001b[0m\u001b[1;33m\u001b[0m\u001b[1;33m\u001b[0m\u001b[0m\n\u001b[0m\u001b[0;32m    860\u001b[0m                 \u001b[1;32mreturn\u001b[0m \u001b[1;32mTrue\u001b[0m\u001b[1;33m\u001b[0m\u001b[1;33m\u001b[0m\u001b[0m\n\u001b[0;32m    861\u001b[0m \u001b[1;33m\u001b[0m\u001b[0m\n",
      "\u001b[1;32m~\\anaconda3\\lib\\site-packages\\joblib\\parallel.py\u001b[0m in \u001b[0;36m_dispatch\u001b[1;34m(self, batch)\u001b[0m\n\u001b[0;32m    775\u001b[0m         \u001b[1;32mwith\u001b[0m \u001b[0mself\u001b[0m\u001b[1;33m.\u001b[0m\u001b[0m_lock\u001b[0m\u001b[1;33m:\u001b[0m\u001b[1;33m\u001b[0m\u001b[1;33m\u001b[0m\u001b[0m\n\u001b[0;32m    776\u001b[0m             \u001b[0mjob_idx\u001b[0m \u001b[1;33m=\u001b[0m \u001b[0mlen\u001b[0m\u001b[1;33m(\u001b[0m\u001b[0mself\u001b[0m\u001b[1;33m.\u001b[0m\u001b[0m_jobs\u001b[0m\u001b[1;33m)\u001b[0m\u001b[1;33m\u001b[0m\u001b[1;33m\u001b[0m\u001b[0m\n\u001b[1;32m--> 777\u001b[1;33m             \u001b[0mjob\u001b[0m \u001b[1;33m=\u001b[0m \u001b[0mself\u001b[0m\u001b[1;33m.\u001b[0m\u001b[0m_backend\u001b[0m\u001b[1;33m.\u001b[0m\u001b[0mapply_async\u001b[0m\u001b[1;33m(\u001b[0m\u001b[0mbatch\u001b[0m\u001b[1;33m,\u001b[0m \u001b[0mcallback\u001b[0m\u001b[1;33m=\u001b[0m\u001b[0mcb\u001b[0m\u001b[1;33m)\u001b[0m\u001b[1;33m\u001b[0m\u001b[1;33m\u001b[0m\u001b[0m\n\u001b[0m\u001b[0;32m    778\u001b[0m             \u001b[1;31m# A job can complete so quickly than its callback is\u001b[0m\u001b[1;33m\u001b[0m\u001b[1;33m\u001b[0m\u001b[1;33m\u001b[0m\u001b[0m\n\u001b[0;32m    779\u001b[0m             \u001b[1;31m# called before we get here, causing self._jobs to\u001b[0m\u001b[1;33m\u001b[0m\u001b[1;33m\u001b[0m\u001b[1;33m\u001b[0m\u001b[0m\n",
      "\u001b[1;32m~\\anaconda3\\lib\\site-packages\\joblib\\_parallel_backends.py\u001b[0m in \u001b[0;36mapply_async\u001b[1;34m(self, func, callback)\u001b[0m\n\u001b[0;32m    206\u001b[0m     \u001b[1;32mdef\u001b[0m \u001b[0mapply_async\u001b[0m\u001b[1;33m(\u001b[0m\u001b[0mself\u001b[0m\u001b[1;33m,\u001b[0m \u001b[0mfunc\u001b[0m\u001b[1;33m,\u001b[0m \u001b[0mcallback\u001b[0m\u001b[1;33m=\u001b[0m\u001b[1;32mNone\u001b[0m\u001b[1;33m)\u001b[0m\u001b[1;33m:\u001b[0m\u001b[1;33m\u001b[0m\u001b[1;33m\u001b[0m\u001b[0m\n\u001b[0;32m    207\u001b[0m         \u001b[1;34m\"\"\"Schedule a func to be run\"\"\"\u001b[0m\u001b[1;33m\u001b[0m\u001b[1;33m\u001b[0m\u001b[0m\n\u001b[1;32m--> 208\u001b[1;33m         \u001b[0mresult\u001b[0m \u001b[1;33m=\u001b[0m \u001b[0mImmediateResult\u001b[0m\u001b[1;33m(\u001b[0m\u001b[0mfunc\u001b[0m\u001b[1;33m)\u001b[0m\u001b[1;33m\u001b[0m\u001b[1;33m\u001b[0m\u001b[0m\n\u001b[0m\u001b[0;32m    209\u001b[0m         \u001b[1;32mif\u001b[0m \u001b[0mcallback\u001b[0m\u001b[1;33m:\u001b[0m\u001b[1;33m\u001b[0m\u001b[1;33m\u001b[0m\u001b[0m\n\u001b[0;32m    210\u001b[0m             \u001b[0mcallback\u001b[0m\u001b[1;33m(\u001b[0m\u001b[0mresult\u001b[0m\u001b[1;33m)\u001b[0m\u001b[1;33m\u001b[0m\u001b[1;33m\u001b[0m\u001b[0m\n",
      "\u001b[1;32m~\\anaconda3\\lib\\site-packages\\joblib\\_parallel_backends.py\u001b[0m in \u001b[0;36m__init__\u001b[1;34m(self, batch)\u001b[0m\n\u001b[0;32m    570\u001b[0m         \u001b[1;31m# Don't delay the application, to avoid keeping the input\u001b[0m\u001b[1;33m\u001b[0m\u001b[1;33m\u001b[0m\u001b[1;33m\u001b[0m\u001b[0m\n\u001b[0;32m    571\u001b[0m         \u001b[1;31m# arguments in memory\u001b[0m\u001b[1;33m\u001b[0m\u001b[1;33m\u001b[0m\u001b[1;33m\u001b[0m\u001b[0m\n\u001b[1;32m--> 572\u001b[1;33m         \u001b[0mself\u001b[0m\u001b[1;33m.\u001b[0m\u001b[0mresults\u001b[0m \u001b[1;33m=\u001b[0m \u001b[0mbatch\u001b[0m\u001b[1;33m(\u001b[0m\u001b[1;33m)\u001b[0m\u001b[1;33m\u001b[0m\u001b[1;33m\u001b[0m\u001b[0m\n\u001b[0m\u001b[0;32m    573\u001b[0m \u001b[1;33m\u001b[0m\u001b[0m\n\u001b[0;32m    574\u001b[0m     \u001b[1;32mdef\u001b[0m \u001b[0mget\u001b[0m\u001b[1;33m(\u001b[0m\u001b[0mself\u001b[0m\u001b[1;33m)\u001b[0m\u001b[1;33m:\u001b[0m\u001b[1;33m\u001b[0m\u001b[1;33m\u001b[0m\u001b[0m\n",
      "\u001b[1;32m~\\anaconda3\\lib\\site-packages\\joblib\\parallel.py\u001b[0m in \u001b[0;36m__call__\u001b[1;34m(self)\u001b[0m\n\u001b[0;32m    260\u001b[0m         \u001b[1;31m# change the default number of processes to -1\u001b[0m\u001b[1;33m\u001b[0m\u001b[1;33m\u001b[0m\u001b[1;33m\u001b[0m\u001b[0m\n\u001b[0;32m    261\u001b[0m         \u001b[1;32mwith\u001b[0m \u001b[0mparallel_backend\u001b[0m\u001b[1;33m(\u001b[0m\u001b[0mself\u001b[0m\u001b[1;33m.\u001b[0m\u001b[0m_backend\u001b[0m\u001b[1;33m,\u001b[0m \u001b[0mn_jobs\u001b[0m\u001b[1;33m=\u001b[0m\u001b[0mself\u001b[0m\u001b[1;33m.\u001b[0m\u001b[0m_n_jobs\u001b[0m\u001b[1;33m)\u001b[0m\u001b[1;33m:\u001b[0m\u001b[1;33m\u001b[0m\u001b[1;33m\u001b[0m\u001b[0m\n\u001b[1;32m--> 262\u001b[1;33m             return [func(*args, **kwargs)\n\u001b[0m\u001b[0;32m    263\u001b[0m                     for func, args, kwargs in self.items]\n\u001b[0;32m    264\u001b[0m \u001b[1;33m\u001b[0m\u001b[0m\n",
      "\u001b[1;32m~\\anaconda3\\lib\\site-packages\\joblib\\parallel.py\u001b[0m in \u001b[0;36m<listcomp>\u001b[1;34m(.0)\u001b[0m\n\u001b[0;32m    260\u001b[0m         \u001b[1;31m# change the default number of processes to -1\u001b[0m\u001b[1;33m\u001b[0m\u001b[1;33m\u001b[0m\u001b[1;33m\u001b[0m\u001b[0m\n\u001b[0;32m    261\u001b[0m         \u001b[1;32mwith\u001b[0m \u001b[0mparallel_backend\u001b[0m\u001b[1;33m(\u001b[0m\u001b[0mself\u001b[0m\u001b[1;33m.\u001b[0m\u001b[0m_backend\u001b[0m\u001b[1;33m,\u001b[0m \u001b[0mn_jobs\u001b[0m\u001b[1;33m=\u001b[0m\u001b[0mself\u001b[0m\u001b[1;33m.\u001b[0m\u001b[0m_n_jobs\u001b[0m\u001b[1;33m)\u001b[0m\u001b[1;33m:\u001b[0m\u001b[1;33m\u001b[0m\u001b[1;33m\u001b[0m\u001b[0m\n\u001b[1;32m--> 262\u001b[1;33m             return [func(*args, **kwargs)\n\u001b[0m\u001b[0;32m    263\u001b[0m                     for func, args, kwargs in self.items]\n\u001b[0;32m    264\u001b[0m \u001b[1;33m\u001b[0m\u001b[0m\n",
      "\u001b[1;32m~\\anaconda3\\lib\\site-packages\\sklearn\\utils\\fixes.py\u001b[0m in \u001b[0;36m__call__\u001b[1;34m(self, *args, **kwargs)\u001b[0m\n\u001b[0;32m    220\u001b[0m     \u001b[1;32mdef\u001b[0m \u001b[0m__call__\u001b[0m\u001b[1;33m(\u001b[0m\u001b[0mself\u001b[0m\u001b[1;33m,\u001b[0m \u001b[1;33m*\u001b[0m\u001b[0margs\u001b[0m\u001b[1;33m,\u001b[0m \u001b[1;33m**\u001b[0m\u001b[0mkwargs\u001b[0m\u001b[1;33m)\u001b[0m\u001b[1;33m:\u001b[0m\u001b[1;33m\u001b[0m\u001b[1;33m\u001b[0m\u001b[0m\n\u001b[0;32m    221\u001b[0m         \u001b[1;32mwith\u001b[0m \u001b[0mconfig_context\u001b[0m\u001b[1;33m(\u001b[0m\u001b[1;33m**\u001b[0m\u001b[0mself\u001b[0m\u001b[1;33m.\u001b[0m\u001b[0mconfig\u001b[0m\u001b[1;33m)\u001b[0m\u001b[1;33m:\u001b[0m\u001b[1;33m\u001b[0m\u001b[1;33m\u001b[0m\u001b[0m\n\u001b[1;32m--> 222\u001b[1;33m             \u001b[1;32mreturn\u001b[0m \u001b[0mself\u001b[0m\u001b[1;33m.\u001b[0m\u001b[0mfunction\u001b[0m\u001b[1;33m(\u001b[0m\u001b[1;33m*\u001b[0m\u001b[0margs\u001b[0m\u001b[1;33m,\u001b[0m \u001b[1;33m**\u001b[0m\u001b[0mkwargs\u001b[0m\u001b[1;33m)\u001b[0m\u001b[1;33m\u001b[0m\u001b[1;33m\u001b[0m\u001b[0m\n\u001b[0m",
      "\u001b[1;32m~\\anaconda3\\lib\\site-packages\\sklearn\\model_selection\\_validation.py\u001b[0m in \u001b[0;36m_fit_and_score\u001b[1;34m(estimator, X, y, scorer, train, test, verbose, parameters, fit_params, return_train_score, return_parameters, return_n_test_samples, return_times, return_estimator, split_progress, candidate_progress, error_score)\u001b[0m\n\u001b[0;32m    591\u001b[0m             \u001b[0mestimator\u001b[0m\u001b[1;33m.\u001b[0m\u001b[0mfit\u001b[0m\u001b[1;33m(\u001b[0m\u001b[0mX_train\u001b[0m\u001b[1;33m,\u001b[0m \u001b[1;33m**\u001b[0m\u001b[0mfit_params\u001b[0m\u001b[1;33m)\u001b[0m\u001b[1;33m\u001b[0m\u001b[1;33m\u001b[0m\u001b[0m\n\u001b[0;32m    592\u001b[0m         \u001b[1;32melse\u001b[0m\u001b[1;33m:\u001b[0m\u001b[1;33m\u001b[0m\u001b[1;33m\u001b[0m\u001b[0m\n\u001b[1;32m--> 593\u001b[1;33m             \u001b[0mestimator\u001b[0m\u001b[1;33m.\u001b[0m\u001b[0mfit\u001b[0m\u001b[1;33m(\u001b[0m\u001b[0mX_train\u001b[0m\u001b[1;33m,\u001b[0m \u001b[0my_train\u001b[0m\u001b[1;33m,\u001b[0m \u001b[1;33m**\u001b[0m\u001b[0mfit_params\u001b[0m\u001b[1;33m)\u001b[0m\u001b[1;33m\u001b[0m\u001b[1;33m\u001b[0m\u001b[0m\n\u001b[0m\u001b[0;32m    594\u001b[0m \u001b[1;33m\u001b[0m\u001b[0m\n\u001b[0;32m    595\u001b[0m     \u001b[1;32mexcept\u001b[0m \u001b[0mException\u001b[0m \u001b[1;32mas\u001b[0m \u001b[0me\u001b[0m\u001b[1;33m:\u001b[0m\u001b[1;33m\u001b[0m\u001b[1;33m\u001b[0m\u001b[0m\n",
      "\u001b[1;32m~\\anaconda3\\lib\\site-packages\\sklearn\\pipeline.py\u001b[0m in \u001b[0;36mfit\u001b[1;34m(self, X, y, **fit_params)\u001b[0m\n\u001b[0;32m    344\u001b[0m             \u001b[1;32mif\u001b[0m \u001b[0mself\u001b[0m\u001b[1;33m.\u001b[0m\u001b[0m_final_estimator\u001b[0m \u001b[1;33m!=\u001b[0m \u001b[1;34m'passthrough'\u001b[0m\u001b[1;33m:\u001b[0m\u001b[1;33m\u001b[0m\u001b[1;33m\u001b[0m\u001b[0m\n\u001b[0;32m    345\u001b[0m                 \u001b[0mfit_params_last_step\u001b[0m \u001b[1;33m=\u001b[0m \u001b[0mfit_params_steps\u001b[0m\u001b[1;33m[\u001b[0m\u001b[0mself\u001b[0m\u001b[1;33m.\u001b[0m\u001b[0msteps\u001b[0m\u001b[1;33m[\u001b[0m\u001b[1;33m-\u001b[0m\u001b[1;36m1\u001b[0m\u001b[1;33m]\u001b[0m\u001b[1;33m[\u001b[0m\u001b[1;36m0\u001b[0m\u001b[1;33m]\u001b[0m\u001b[1;33m]\u001b[0m\u001b[1;33m\u001b[0m\u001b[1;33m\u001b[0m\u001b[0m\n\u001b[1;32m--> 346\u001b[1;33m                 \u001b[0mself\u001b[0m\u001b[1;33m.\u001b[0m\u001b[0m_final_estimator\u001b[0m\u001b[1;33m.\u001b[0m\u001b[0mfit\u001b[0m\u001b[1;33m(\u001b[0m\u001b[0mXt\u001b[0m\u001b[1;33m,\u001b[0m \u001b[0my\u001b[0m\u001b[1;33m,\u001b[0m \u001b[1;33m**\u001b[0m\u001b[0mfit_params_last_step\u001b[0m\u001b[1;33m)\u001b[0m\u001b[1;33m\u001b[0m\u001b[1;33m\u001b[0m\u001b[0m\n\u001b[0m\u001b[0;32m    347\u001b[0m \u001b[1;33m\u001b[0m\u001b[0m\n\u001b[0;32m    348\u001b[0m         \u001b[1;32mreturn\u001b[0m \u001b[0mself\u001b[0m\u001b[1;33m\u001b[0m\u001b[1;33m\u001b[0m\u001b[0m\n",
      "\u001b[1;32m~\\anaconda3\\lib\\site-packages\\xgboost\\core.py\u001b[0m in \u001b[0;36minner_f\u001b[1;34m(*args, **kwargs)\u001b[0m\n\u001b[0;32m    434\u001b[0m         \u001b[1;32mfor\u001b[0m \u001b[0mk\u001b[0m\u001b[1;33m,\u001b[0m \u001b[0marg\u001b[0m \u001b[1;32min\u001b[0m \u001b[0mzip\u001b[0m\u001b[1;33m(\u001b[0m\u001b[0msig\u001b[0m\u001b[1;33m.\u001b[0m\u001b[0mparameters\u001b[0m\u001b[1;33m,\u001b[0m \u001b[0margs\u001b[0m\u001b[1;33m)\u001b[0m\u001b[1;33m:\u001b[0m\u001b[1;33m\u001b[0m\u001b[1;33m\u001b[0m\u001b[0m\n\u001b[0;32m    435\u001b[0m             \u001b[0mkwargs\u001b[0m\u001b[1;33m[\u001b[0m\u001b[0mk\u001b[0m\u001b[1;33m]\u001b[0m \u001b[1;33m=\u001b[0m \u001b[0marg\u001b[0m\u001b[1;33m\u001b[0m\u001b[1;33m\u001b[0m\u001b[0m\n\u001b[1;32m--> 436\u001b[1;33m         \u001b[1;32mreturn\u001b[0m \u001b[0mf\u001b[0m\u001b[1;33m(\u001b[0m\u001b[1;33m**\u001b[0m\u001b[0mkwargs\u001b[0m\u001b[1;33m)\u001b[0m\u001b[1;33m\u001b[0m\u001b[1;33m\u001b[0m\u001b[0m\n\u001b[0m\u001b[0;32m    437\u001b[0m \u001b[1;33m\u001b[0m\u001b[0m\n\u001b[0;32m    438\u001b[0m     \u001b[1;32mreturn\u001b[0m \u001b[0minner_f\u001b[0m\u001b[1;33m\u001b[0m\u001b[1;33m\u001b[0m\u001b[0m\n",
      "\u001b[1;32m~\\anaconda3\\lib\\site-packages\\xgboost\\sklearn.py\u001b[0m in \u001b[0;36mfit\u001b[1;34m(self, X, y, sample_weight, base_margin, eval_set, eval_metric, early_stopping_rounds, verbose, xgb_model, sample_weight_eval_set, base_margin_eval_set, feature_weights, callbacks)\u001b[0m\n\u001b[0;32m    734\u001b[0m \u001b[1;33m\u001b[0m\u001b[0m\n\u001b[0;32m    735\u001b[0m         \u001b[0mmodel\u001b[0m\u001b[1;33m,\u001b[0m \u001b[0mfeval\u001b[0m\u001b[1;33m,\u001b[0m \u001b[0mparams\u001b[0m \u001b[1;33m=\u001b[0m \u001b[0mself\u001b[0m\u001b[1;33m.\u001b[0m\u001b[0m_configure_fit\u001b[0m\u001b[1;33m(\u001b[0m\u001b[0mxgb_model\u001b[0m\u001b[1;33m,\u001b[0m \u001b[0meval_metric\u001b[0m\u001b[1;33m,\u001b[0m \u001b[0mparams\u001b[0m\u001b[1;33m)\u001b[0m\u001b[1;33m\u001b[0m\u001b[1;33m\u001b[0m\u001b[0m\n\u001b[1;32m--> 736\u001b[1;33m         self._Booster = train(\n\u001b[0m\u001b[0;32m    737\u001b[0m             \u001b[0mparams\u001b[0m\u001b[1;33m,\u001b[0m\u001b[1;33m\u001b[0m\u001b[1;33m\u001b[0m\u001b[0m\n\u001b[0;32m    738\u001b[0m             \u001b[0mtrain_dmatrix\u001b[0m\u001b[1;33m,\u001b[0m\u001b[1;33m\u001b[0m\u001b[1;33m\u001b[0m\u001b[0m\n",
      "\u001b[1;32m~\\anaconda3\\lib\\site-packages\\xgboost\\training.py\u001b[0m in \u001b[0;36mtrain\u001b[1;34m(params, dtrain, num_boost_round, evals, obj, feval, maximize, early_stopping_rounds, evals_result, verbose_eval, xgb_model, callbacks)\u001b[0m\n\u001b[0;32m    187\u001b[0m     \u001b[0mBooster\u001b[0m \u001b[1;33m:\u001b[0m \u001b[0ma\u001b[0m \u001b[0mtrained\u001b[0m \u001b[0mbooster\u001b[0m \u001b[0mmodel\u001b[0m\u001b[1;33m\u001b[0m\u001b[1;33m\u001b[0m\u001b[0m\n\u001b[0;32m    188\u001b[0m     \"\"\"\n\u001b[1;32m--> 189\u001b[1;33m     bst = _train_internal(params, dtrain,\n\u001b[0m\u001b[0;32m    190\u001b[0m                           \u001b[0mnum_boost_round\u001b[0m\u001b[1;33m=\u001b[0m\u001b[0mnum_boost_round\u001b[0m\u001b[1;33m,\u001b[0m\u001b[1;33m\u001b[0m\u001b[1;33m\u001b[0m\u001b[0m\n\u001b[0;32m    191\u001b[0m                           \u001b[0mevals\u001b[0m\u001b[1;33m=\u001b[0m\u001b[0mevals\u001b[0m\u001b[1;33m,\u001b[0m\u001b[1;33m\u001b[0m\u001b[1;33m\u001b[0m\u001b[0m\n",
      "\u001b[1;32m~\\anaconda3\\lib\\site-packages\\xgboost\\training.py\u001b[0m in \u001b[0;36m_train_internal\u001b[1;34m(params, dtrain, num_boost_round, evals, obj, feval, xgb_model, callbacks, evals_result, maximize, verbose_eval, early_stopping_rounds)\u001b[0m\n\u001b[0;32m     79\u001b[0m         \u001b[1;32mif\u001b[0m \u001b[0mcallbacks\u001b[0m\u001b[1;33m.\u001b[0m\u001b[0mbefore_iteration\u001b[0m\u001b[1;33m(\u001b[0m\u001b[0mbst\u001b[0m\u001b[1;33m,\u001b[0m \u001b[0mi\u001b[0m\u001b[1;33m,\u001b[0m \u001b[0mdtrain\u001b[0m\u001b[1;33m,\u001b[0m \u001b[0mevals\u001b[0m\u001b[1;33m)\u001b[0m\u001b[1;33m:\u001b[0m\u001b[1;33m\u001b[0m\u001b[1;33m\u001b[0m\u001b[0m\n\u001b[0;32m     80\u001b[0m             \u001b[1;32mbreak\u001b[0m\u001b[1;33m\u001b[0m\u001b[1;33m\u001b[0m\u001b[0m\n\u001b[1;32m---> 81\u001b[1;33m         \u001b[0mbst\u001b[0m\u001b[1;33m.\u001b[0m\u001b[0mupdate\u001b[0m\u001b[1;33m(\u001b[0m\u001b[0mdtrain\u001b[0m\u001b[1;33m,\u001b[0m \u001b[0mi\u001b[0m\u001b[1;33m,\u001b[0m \u001b[0mobj\u001b[0m\u001b[1;33m)\u001b[0m\u001b[1;33m\u001b[0m\u001b[1;33m\u001b[0m\u001b[0m\n\u001b[0m\u001b[0;32m     82\u001b[0m         \u001b[1;32mif\u001b[0m \u001b[0mcallbacks\u001b[0m\u001b[1;33m.\u001b[0m\u001b[0mafter_iteration\u001b[0m\u001b[1;33m(\u001b[0m\u001b[0mbst\u001b[0m\u001b[1;33m,\u001b[0m \u001b[0mi\u001b[0m\u001b[1;33m,\u001b[0m \u001b[0mdtrain\u001b[0m\u001b[1;33m,\u001b[0m \u001b[0mevals\u001b[0m\u001b[1;33m)\u001b[0m\u001b[1;33m:\u001b[0m\u001b[1;33m\u001b[0m\u001b[1;33m\u001b[0m\u001b[0m\n\u001b[0;32m     83\u001b[0m             \u001b[1;32mbreak\u001b[0m\u001b[1;33m\u001b[0m\u001b[1;33m\u001b[0m\u001b[0m\n",
      "\u001b[1;32m~\\anaconda3\\lib\\site-packages\\xgboost\\core.py\u001b[0m in \u001b[0;36mupdate\u001b[1;34m(self, dtrain, iteration, fobj)\u001b[0m\n\u001b[0;32m   1497\u001b[0m \u001b[1;33m\u001b[0m\u001b[0m\n\u001b[0;32m   1498\u001b[0m         \u001b[1;32mif\u001b[0m \u001b[0mfobj\u001b[0m \u001b[1;32mis\u001b[0m \u001b[1;32mNone\u001b[0m\u001b[1;33m:\u001b[0m\u001b[1;33m\u001b[0m\u001b[1;33m\u001b[0m\u001b[0m\n\u001b[1;32m-> 1499\u001b[1;33m             _check_call(_LIB.XGBoosterUpdateOneIter(self.handle,\n\u001b[0m\u001b[0;32m   1500\u001b[0m                                                     \u001b[0mctypes\u001b[0m\u001b[1;33m.\u001b[0m\u001b[0mc_int\u001b[0m\u001b[1;33m(\u001b[0m\u001b[0miteration\u001b[0m\u001b[1;33m)\u001b[0m\u001b[1;33m,\u001b[0m\u001b[1;33m\u001b[0m\u001b[1;33m\u001b[0m\u001b[0m\n\u001b[0;32m   1501\u001b[0m                                                     dtrain.handle))\n",
      "\u001b[1;31mKeyboardInterrupt\u001b[0m: "
     ]
    }
   ],
   "source": [
    "from sklearn.pipeline import make_pipeline\n",
    "from xgboost import XGBRegressor\n",
    "from sklearn.model_selection import GridSearchCV\n",
    "\n",
    "xgb_reg = make_pipeline(full_pipe, XGBRegressor(objective= \"reg:squaredlogerror\",\n",
    "                                                random_state=42, \n",
    "                                                tree_method=\"gpu_hist\", \n",
    "                                                n_jobs=-1,))\n",
    "\n",
    "params = {\n",
    "    \"xgbregressor__learning_rate\": [0.1, 0.2, 0.3, 0.4, 0.5, 0.6, 0.7, 0.8, 0.9],\n",
    "    \"xgbregressor__max_depth\": list(range(5,30))\n",
    "}\n",
    "\n",
    "xgb_grid = GridSearchCV(\n",
    "    estimator= xgb_reg,\n",
    "    param_grid = params,\n",
    "    scoring=\"neg_mean_squared_log_error\",\n",
    "    cv=3\n",
    ")\n",
    "xgb_grid.fit(X_train, y_train)"
   ]
  },
  {
   "cell_type": "code",
   "execution_count": null,
   "id": "8f38b35e",
   "metadata": {},
   "outputs": [],
   "source": []
  }
 ],
 "metadata": {
  "kernelspec": {
   "display_name": "Python 3",
   "language": "python",
   "name": "python3"
  },
  "language_info": {
   "codemirror_mode": {
    "name": "ipython",
    "version": 3
   },
   "file_extension": ".py",
   "mimetype": "text/x-python",
   "name": "python",
   "nbconvert_exporter": "python",
   "pygments_lexer": "ipython3",
   "version": "3.8.8"
  }
 },
 "nbformat": 4,
 "nbformat_minor": 5
}
