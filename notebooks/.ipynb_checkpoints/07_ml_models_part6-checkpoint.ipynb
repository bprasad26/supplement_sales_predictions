{
 "cells": [
  {
   "cell_type": "markdown",
   "id": "3d4c91ee",
   "metadata": {},
   "source": [
    "## setup"
   ]
  },
  {
   "cell_type": "code",
   "execution_count": 1,
   "id": "4c5d8960",
   "metadata": {},
   "outputs": [],
   "source": [
    "import os\n",
    "import pandas as pd\n",
    "import numpy as np\n",
    "import matplotlib.pyplot as plt\n",
    "import plotly.graph_objects as go\n",
    "import plotly.express as px\n",
    "import seaborn\n",
    "%matplotlib inline\n",
    "\n",
    "# project paths\n",
    "project_root_dir = os.path.normpath(os.getcwd() + os.sep + os.pardir)\n",
    "\n",
    "data_path = os.path.join(project_root_dir, \"data\")\n",
    "os.makedirs(data_path, exist_ok=True)\n",
    "\n",
    "# function for reading data\n",
    "def read_data(filename, date_cols=None, file_path=data_path):\n",
    "    csv_path = os.path.join(file_path, filename)\n",
    "    return pd.read_csv(csv_path, parse_dates=date_cols)\n",
    "\n",
    "# function for saving data as csv file\n",
    "def save_dataframe(df, filename, file_path=data_path):\n",
    "    path = os.path.join(file_path, filename)\n",
    "    df.to_csv(path, index=False)"
   ]
  },
  {
   "cell_type": "markdown",
   "id": "68958812",
   "metadata": {},
   "source": [
    "### Read Data"
   ]
  },
  {
   "cell_type": "code",
   "execution_count": 2,
   "id": "3ef043f4",
   "metadata": {},
   "outputs": [],
   "source": [
    "train = read_data(\"TRAIN.CSV\", date_cols=[\"Date\"])\n",
    "test = read_data(\"TEST_FINAL.csv\", date_cols=[\"Date\"])\n",
    "submission = read_data(\"SAMPLE.csv\")"
   ]
  },
  {
   "cell_type": "code",
   "execution_count": 3,
   "id": "cd916c86",
   "metadata": {},
   "outputs": [],
   "source": [
    "from prepare import prepare_data\n",
    "X_train1, y_train1, X_test1, full_pipe = prepare_data(train, test)\n",
    "#length of df\n",
    "n = len(X_train1)\n",
    "# training set\n",
    "X_train = X_train1[:int(n*0.7)]\n",
    "y_train = y_train1[:int(n*0.7)]\n",
    "# validation set\n",
    "X_valid = X_train1[int(n*0.7):]\n",
    "y_valid = y_train1[int(n*0.7):]\n",
    "# test set\n",
    "X_test = X_test1.copy()"
   ]
  },
  {
   "cell_type": "code",
   "execution_count": null,
   "id": "4a832105",
   "metadata": {},
   "outputs": [],
   "source": [
    "param = {\n",
    "        'objective': 'binary',\n",
    "        'metric': 'binary_logloss',\n",
    "        'verbosity': -1,\n",
    "        'boosting_type': 'gbdt',\n",
    "        'lambda_l1': trial.suggest_loguniform('lambda_l1', 1e-8, 10.0),\n",
    "        'lambda_l2': trial.suggest_loguniform('lambda_l2', 1e-8, 10.0),\n",
    "        'num_leaves': trial.suggest_int('num_leaves', 2, 256),\n",
    "        'feature_fraction': trial.suggest_uniform('feature_fraction', 0.4, 1.0),\n",
    "        'bagging_fraction': trial.suggest_uniform('bagging_fraction', 0.4, 1.0),\n",
    "        'bagging_freq': trial.suggest_int('bagging_freq', 1, 7),\n",
    "        'min_child_samples': trial.suggest_int('min_child_samples', 5, 100),\n",
    "    }\n",
    "\n",
    "    gbm = lgb.train(param, dtrain)"
   ]
  },
  {
   "cell_type": "code",
   "execution_count": 6,
   "id": "9394f391",
   "metadata": {},
   "outputs": [
    {
     "name": "stderr",
     "output_type": "stream",
     "text": [
      "\u001b[32m[I 2021-09-18 23:43:47,595]\u001b[0m A new study created in memory with name: no-name-004664af-99ce-4423-b2f0-bcdf4790f3a1\u001b[0m\n",
      "\u001b[32m[I 2021-09-18 23:43:48,323]\u001b[0m Trial 0 finished with value: 0.10199453047681575 and parameters: {'num_leaves': 229, 'reg_alpha': 2.335634945840647, 'learning_rate': 0.15755334891853467}. Best is trial 0 with value: 0.10199453047681575.\u001b[0m\n",
      "\u001b[32m[I 2021-09-18 23:43:49,042]\u001b[0m Trial 1 finished with value: 0.10199453047681575 and parameters: {'num_leaves': 136, 'reg_alpha': 3.3837383441711726, 'learning_rate': 0.009755453699452615}. Best is trial 0 with value: 0.10199453047681575.\u001b[0m\n",
      "\u001b[32m[I 2021-09-18 23:43:49,785]\u001b[0m Trial 2 finished with value: 0.10199453047681575 and parameters: {'num_leaves': 111, 'reg_alpha': 7.046689195177098, 'learning_rate': 0.02714148089052181}. Best is trial 0 with value: 0.10199453047681575.\u001b[0m\n",
      "\u001b[32m[I 2021-09-18 23:43:50,530]\u001b[0m Trial 3 finished with value: 0.10199453047681575 and parameters: {'num_leaves': 108, 'reg_alpha': 1.4223515390009342e-07, 'learning_rate': 0.06511870364421046}. Best is trial 0 with value: 0.10199453047681575.\u001b[0m\n",
      "\u001b[32m[I 2021-09-18 23:43:51,280]\u001b[0m Trial 4 finished with value: 0.10199453047681575 and parameters: {'num_leaves': 236, 'reg_alpha': 0.0009092772847590317, 'learning_rate': 0.0012029739601875703}. Best is trial 0 with value: 0.10199453047681575.\u001b[0m\n",
      "\u001b[32m[I 2021-09-18 23:43:51,986]\u001b[0m Trial 5 finished with value: 0.10199453047681575 and parameters: {'num_leaves': 37, 'reg_alpha': 1.2271151702371813e-06, 'learning_rate': 0.014043682196745576}. Best is trial 0 with value: 0.10199453047681575.\u001b[0m\n",
      "\u001b[32m[I 2021-09-18 23:43:52,693]\u001b[0m Trial 6 finished with value: 0.10199453047681575 and parameters: {'num_leaves': 256, 'reg_alpha': 5.725444915513019e-05, 'learning_rate': 0.0015716575028818839}. Best is trial 0 with value: 0.10199453047681575.\u001b[0m\n",
      "\u001b[32m[I 2021-09-18 23:43:53,416]\u001b[0m Trial 7 finished with value: 0.10199453047681575 and parameters: {'num_leaves': 68, 'reg_alpha': 3.850416047041015, 'learning_rate': 0.10392802491644608}. Best is trial 0 with value: 0.10199453047681575.\u001b[0m\n",
      "\u001b[32m[I 2021-09-18 23:43:54,150]\u001b[0m Trial 8 finished with value: 0.10199453047681575 and parameters: {'num_leaves': 52, 'reg_alpha': 2.6939850511194902e-08, 'learning_rate': 0.01568879060068891}. Best is trial 0 with value: 0.10199453047681575.\u001b[0m\n",
      "\u001b[32m[I 2021-09-18 23:43:54,860]\u001b[0m Trial 9 finished with value: 0.10199453047681575 and parameters: {'num_leaves': 48, 'reg_alpha': 1.0372752374274377, 'learning_rate': 0.037022260992338046}. Best is trial 0 with value: 0.10199453047681575.\u001b[0m\n",
      "\u001b[32m[I 2021-09-18 23:43:55,581]\u001b[0m Trial 10 finished with value: 0.10199453047681575 and parameters: {'num_leaves': 184, 'reg_alpha': 0.02309095201881875, 'learning_rate': 0.17755812291913822}. Best is trial 0 with value: 0.10199453047681575.\u001b[0m\n",
      "\u001b[32m[I 2021-09-18 23:43:56,299]\u001b[0m Trial 11 finished with value: 0.10199453047681575 and parameters: {'num_leaves': 182, 'reg_alpha': 0.06820388317607226, 'learning_rate': 0.004494050276693991}. Best is trial 0 with value: 0.10199453047681575.\u001b[0m\n",
      "\u001b[32m[I 2021-09-18 23:43:57,005]\u001b[0m Trial 12 finished with value: 0.10199453047681575 and parameters: {'num_leaves': 172, 'reg_alpha': 0.07115706650298435, 'learning_rate': 0.005627183533078899}. Best is trial 0 with value: 0.10199453047681575.\u001b[0m\n",
      "\u001b[32m[I 2021-09-18 23:43:57,742]\u001b[0m Trial 13 finished with value: 0.10199453047681575 and parameters: {'num_leaves': 5, 'reg_alpha': 0.0013763756742900097, 'learning_rate': 0.00727448288608913}. Best is trial 0 with value: 0.10199453047681575.\u001b[0m\n",
      "\u001b[32m[I 2021-09-18 23:43:58,467]\u001b[0m Trial 14 finished with value: 0.10199453047681575 and parameters: {'num_leaves': 214, 'reg_alpha': 0.6301648625773388, 'learning_rate': 0.002726440559169194}. Best is trial 0 with value: 0.10199453047681575.\u001b[0m\n",
      "\u001b[32m[I 2021-09-18 23:43:59,194]\u001b[0m Trial 15 finished with value: 0.10199453047681575 and parameters: {'num_leaves': 142, 'reg_alpha': 5.0315483618059494e-05, 'learning_rate': 0.012075805390094342}. Best is trial 0 with value: 0.10199453047681575.\u001b[0m\n",
      "\u001b[32m[I 2021-09-18 23:43:59,907]\u001b[0m Trial 16 finished with value: 0.10199453047681575 and parameters: {'num_leaves': 145, 'reg_alpha': 0.007528781172661533, 'learning_rate': 0.036960807692694525}. Best is trial 0 with value: 0.10199453047681575.\u001b[0m\n",
      "\u001b[32m[I 2021-09-18 23:44:00,626]\u001b[0m Trial 17 finished with value: 0.10199453047681575 and parameters: {'num_leaves': 213, 'reg_alpha': 0.2677423102339907, 'learning_rate': 0.00272028680302251}. Best is trial 0 with value: 0.10199453047681575.\u001b[0m\n",
      "\u001b[32m[I 2021-09-18 23:44:01,347]\u001b[0m Trial 18 finished with value: 0.10199453047681575 and parameters: {'num_leaves': 91, 'reg_alpha': 4.103070165158792e-05, 'learning_rate': 0.1947888249322144}. Best is trial 0 with value: 0.10199453047681575.\u001b[0m\n",
      "\u001b[32m[I 2021-09-18 23:44:02,126]\u001b[0m Trial 19 finished with value: 0.10199453047681575 and parameters: {'num_leaves': 154, 'reg_alpha': 0.00488191923808699, 'learning_rate': 0.06053587156187182}. Best is trial 0 with value: 0.10199453047681575.\u001b[0m\n",
      "\u001b[32m[I 2021-09-18 23:44:02,859]\u001b[0m Trial 20 finished with value: 0.10199453047681575 and parameters: {'num_leaves': 211, 'reg_alpha': 0.2599060210642684, 'learning_rate': 0.002953104047060311}. Best is trial 0 with value: 0.10199453047681575.\u001b[0m\n",
      "\u001b[32m[I 2021-09-18 23:44:03,578]\u001b[0m Trial 21 finished with value: 0.10199453047681575 and parameters: {'num_leaves': 100, 'reg_alpha': 5.718111916521548e-06, 'learning_rate': 0.16676474353987467}. Best is trial 0 with value: 0.10199453047681575.\u001b[0m\n",
      "\u001b[32m[I 2021-09-18 23:44:04,473]\u001b[0m Trial 22 finished with value: 0.10199453047681575 and parameters: {'num_leaves': 74, 'reg_alpha': 4.077953534394265e-05, 'learning_rate': 0.08781757646184973}. Best is trial 0 with value: 0.10199453047681575.\u001b[0m\n",
      "\u001b[32m[I 2021-09-18 23:44:05,186]\u001b[0m Trial 23 finished with value: 0.10199453047681575 and parameters: {'num_leaves': 203, 'reg_alpha': 0.005503989721800491, 'learning_rate': 0.062080001044904055}. Best is trial 0 with value: 0.10199453047681575.\u001b[0m\n",
      "\u001b[32m[I 2021-09-18 23:44:05,908]\u001b[0m Trial 24 finished with value: 0.10199453047681575 and parameters: {'num_leaves': 254, 'reg_alpha': 2.7205802686817466e-06, 'learning_rate': 0.10297953561986618}. Best is trial 0 with value: 0.10199453047681575.\u001b[0m\n",
      "\u001b[32m[I 2021-09-18 23:44:06,617]\u001b[0m Trial 25 finished with value: 0.10199453047681575 and parameters: {'num_leaves': 82, 'reg_alpha': 3.6488799931623937e-06, 'learning_rate': 0.12186299230694617}. Best is trial 0 with value: 0.10199453047681575.\u001b[0m\n",
      "\u001b[32m[I 2021-09-18 23:44:07,336]\u001b[0m Trial 26 finished with value: 0.10199453047681575 and parameters: {'num_leaves': 199, 'reg_alpha': 0.00020772654360649056, 'learning_rate': 0.06747138200868978}. Best is trial 0 with value: 0.10199453047681575.\u001b[0m\n",
      "\u001b[32m[I 2021-09-18 23:44:08,045]\u001b[0m Trial 27 finished with value: 0.10199453047681575 and parameters: {'num_leaves': 241, 'reg_alpha': 3.728459616248599e-07, 'learning_rate': 0.02560277044580917}. Best is trial 0 with value: 0.10199453047681575.\u001b[0m\n",
      "\u001b[32m[I 2021-09-18 23:44:08,756]\u001b[0m Trial 28 finished with value: 0.10199453047681575 and parameters: {'num_leaves': 255, 'reg_alpha': 4.4509991586233815e-06, 'learning_rate': 0.11671176185734512}. Best is trial 0 with value: 0.10199453047681575.\u001b[0m\n",
      "\u001b[32m[I 2021-09-18 23:44:09,472]\u001b[0m Trial 29 finished with value: 0.10199453047681575 and parameters: {'num_leaves': 125, 'reg_alpha': 0.00020313142815367883, 'learning_rate': 0.0471848085985711}. Best is trial 0 with value: 0.10199453047681575.\u001b[0m\n",
      "\u001b[32m[I 2021-09-18 23:44:10,180]\u001b[0m Trial 30 finished with value: 0.10199453047681575 and parameters: {'num_leaves': 234, 'reg_alpha': 4.2582837645577454e-07, 'learning_rate': 0.022718309003707148}. Best is trial 0 with value: 0.10199453047681575.\u001b[0m\n",
      "\u001b[32m[I 2021-09-18 23:44:10,893]\u001b[0m Trial 31 finished with value: 0.10199453047681575 and parameters: {'num_leaves': 236, 'reg_alpha': 1.915747277811751e-08, 'learning_rate': 0.13603919614550425}. Best is trial 0 with value: 0.10199453047681575.\u001b[0m\n",
      "\u001b[32m[I 2021-09-18 23:44:11,633]\u001b[0m Trial 32 finished with value: 0.10199453047681575 and parameters: {'num_leaves': 122, 'reg_alpha': 1.354418840524777e-07, 'learning_rate': 0.04399959555901662}. Best is trial 0 with value: 0.10199453047681575.\u001b[0m\n"
     ]
    },
    {
     "name": "stderr",
     "output_type": "stream",
     "text": [
      "\u001b[32m[I 2021-09-18 23:44:12,437]\u001b[0m Trial 33 finished with value: 0.10199453047681575 and parameters: {'num_leaves': 162, 'reg_alpha': 7.370456251287568e-06, 'learning_rate': 0.020637849356277153}. Best is trial 0 with value: 0.10199453047681575.\u001b[0m\n",
      "\u001b[32m[I 2021-09-18 23:44:13,214]\u001b[0m Trial 34 finished with value: 0.10199453047681575 and parameters: {'num_leaves': 231, 'reg_alpha': 2.5777860052716494e-08, 'learning_rate': 0.04127659341491296}. Best is trial 0 with value: 0.10199453047681575.\u001b[0m\n",
      "\u001b[32m[I 2021-09-18 23:44:13,956]\u001b[0m Trial 35 finished with value: 0.10199453047681575 and parameters: {'num_leaves': 108, 'reg_alpha': 7.640864570501905, 'learning_rate': 0.15600101849332385}. Best is trial 0 with value: 0.10199453047681575.\u001b[0m\n",
      "\u001b[32m[I 2021-09-18 23:44:14,679]\u001b[0m Trial 36 finished with value: 0.10199453047681575 and parameters: {'num_leaves': 80, 'reg_alpha': 1.1692353989881262e-05, 'learning_rate': 0.07973393267764392}. Best is trial 0 with value: 0.10199453047681575.\u001b[0m\n",
      "\u001b[32m[I 2021-09-18 23:44:15,381]\u001b[0m Trial 37 finished with value: 0.10199453047681575 and parameters: {'num_leaves': 103, 'reg_alpha': 1.4691283592031341, 'learning_rate': 0.08506681720417013}. Best is trial 0 with value: 0.10199453047681575.\u001b[0m\n",
      "\u001b[32m[I 2021-09-18 23:44:16,140]\u001b[0m Trial 38 finished with value: 0.10199453047681575 and parameters: {'num_leaves': 23, 'reg_alpha': 1.8307383316900583e-05, 'learning_rate': 0.05768983276779205}. Best is trial 0 with value: 0.10199453047681575.\u001b[0m\n",
      "\u001b[32m[I 2021-09-18 23:44:16,877]\u001b[0m Trial 39 finished with value: 0.10199453047681575 and parameters: {'num_leaves': 73, 'reg_alpha': 0.004985750818308759, 'learning_rate': 0.09371071122612787}. Best is trial 0 with value: 0.10199453047681575.\u001b[0m\n",
      "\u001b[32m[I 2021-09-18 23:44:17,585]\u001b[0m Trial 40 finished with value: 0.10199453047681575 and parameters: {'num_leaves': 198, 'reg_alpha': 0.0005498700710499045, 'learning_rate': 0.10891332397857925}. Best is trial 0 with value: 0.10199453047681575.\u001b[0m\n",
      "\u001b[32m[I 2021-09-18 23:44:18,449]\u001b[0m Trial 41 finished with value: 0.10199453047681575 and parameters: {'num_leaves': 58, 'reg_alpha': 1.2881591009632612e-06, 'learning_rate': 0.13253996136753174}. Best is trial 0 with value: 0.10199453047681575.\u001b[0m\n",
      "\u001b[32m[I 2021-09-18 23:44:19,270]\u001b[0m Trial 42 finished with value: 0.10199453047681575 and parameters: {'num_leaves': 193, 'reg_alpha': 2.035950930557315e-06, 'learning_rate': 0.06718478403539137}. Best is trial 0 with value: 0.10199453047681575.\u001b[0m\n",
      "\u001b[32m[I 2021-09-18 23:44:19,991]\u001b[0m Trial 43 finished with value: 0.10199453047681575 and parameters: {'num_leaves': 224, 'reg_alpha': 0.00014333330978217232, 'learning_rate': 0.031356001497252255}. Best is trial 0 with value: 0.10199453047681575.\u001b[0m\n",
      "\u001b[32m[I 2021-09-18 23:44:20,727]\u001b[0m Trial 44 finished with value: 0.10199453047681575 and parameters: {'num_leaves': 247, 'reg_alpha': 1.3705195870878127e-07, 'learning_rate': 0.1285055683849513}. Best is trial 0 with value: 0.10199453047681575.\u001b[0m\n",
      "\u001b[32m[I 2021-09-18 23:44:21,441]\u001b[0m Trial 45 finished with value: 0.10199453047681575 and parameters: {'num_leaves': 245, 'reg_alpha': 5.191129105081112e-07, 'learning_rate': 0.024300056249608876}. Best is trial 0 with value: 0.10199453047681575.\u001b[0m\n",
      "\u001b[32m[I 2021-09-18 23:44:22,156]\u001b[0m Trial 46 finished with value: 0.10199453047681575 and parameters: {'num_leaves': 223, 'reg_alpha': 4.952528642420115e-07, 'learning_rate': 0.12928552067630072}. Best is trial 0 with value: 0.10199453047681575.\u001b[0m\n",
      "\u001b[32m[I 2021-09-18 23:44:22,878]\u001b[0m Trial 47 finished with value: 0.10199453047681575 and parameters: {'num_leaves': 256, 'reg_alpha': 0.0018237531895534914, 'learning_rate': 0.19231433178978816}. Best is trial 0 with value: 0.10199453047681575.\u001b[0m\n",
      "\u001b[32m[I 2021-09-18 23:44:23,602]\u001b[0m Trial 48 finished with value: 0.10199453047681575 and parameters: {'num_leaves': 184, 'reg_alpha': 0.00023730915574951772, 'learning_rate': 0.016298241758807105}. Best is trial 0 with value: 0.10199453047681575.\u001b[0m\n",
      "\u001b[32m[I 2021-09-18 23:44:24,317]\u001b[0m Trial 49 finished with value: 0.10199453047681575 and parameters: {'num_leaves': 241, 'reg_alpha': 0.00013876389528794355, 'learning_rate': 0.050453426670845854}. Best is trial 0 with value: 0.10199453047681575.\u001b[0m\n",
      "\u001b[32m[I 2021-09-18 23:44:25,016]\u001b[0m Trial 50 finished with value: 0.10199453047681575 and parameters: {'num_leaves': 228, 'reg_alpha': 4.5942298692191013e-07, 'learning_rate': 0.009010007827844205}. Best is trial 0 with value: 0.10199453047681575.\u001b[0m\n",
      "\u001b[32m[I 2021-09-18 23:44:25,721]\u001b[0m Trial 51 finished with value: 0.10199453047681575 and parameters: {'num_leaves': 237, 'reg_alpha': 3.468453148224102e-08, 'learning_rate': 0.023999898351197608}. Best is trial 0 with value: 0.10199453047681575.\u001b[0m\n",
      "\u001b[32m[I 2021-09-18 23:44:26,429]\u001b[0m Trial 52 finished with value: 0.10199453047681575 and parameters: {'num_leaves': 124, 'reg_alpha': 1.0211000702983298e-08, 'learning_rate': 0.04387203613385428}. Best is trial 0 with value: 0.10199453047681575.\u001b[0m\n",
      "\u001b[32m[I 2021-09-18 23:44:27,129]\u001b[0m Trial 53 finished with value: 0.10199453047681575 and parameters: {'num_leaves': 127, 'reg_alpha': 6.678181864635198e-08, 'learning_rate': 0.03329931671007408}. Best is trial 0 with value: 0.10199453047681575.\u001b[0m\n",
      "\u001b[32m[I 2021-09-18 23:44:27,835]\u001b[0m Trial 54 finished with value: 0.10199453047681575 and parameters: {'num_leaves': 168, 'reg_alpha': 1.816422051352142e-07, 'learning_rate': 0.018177319132828034}. Best is trial 0 with value: 0.10199453047681575.\u001b[0m\n",
      "\u001b[32m[I 2021-09-18 23:44:28,548]\u001b[0m Trial 55 finished with value: 0.10199453047681575 and parameters: {'num_leaves': 160, 'reg_alpha': 1.1392507893061767e-07, 'learning_rate': 0.019156591843625934}. Best is trial 0 with value: 0.10199453047681575.\u001b[0m\n",
      "\u001b[32m[I 2021-09-18 23:44:29,256]\u001b[0m Trial 56 finished with value: 0.10199453047681575 and parameters: {'num_leaves': 225, 'reg_alpha': 1.2227494045483725e-08, 'learning_rate': 0.011937282230725942}. Best is trial 0 with value: 0.10199453047681575.\u001b[0m\n",
      "\u001b[32m[I 2021-09-18 23:44:29,956]\u001b[0m Trial 57 finished with value: 0.10199453047681575 and parameters: {'num_leaves': 210, 'reg_alpha': 3.986609239209926e-08, 'learning_rate': 0.013606825579771305}. Best is trial 0 with value: 0.10199453047681575.\u001b[0m\n",
      "\u001b[32m[I 2021-09-18 23:44:30,665]\u001b[0m Trial 58 finished with value: 0.10199453047681575 and parameters: {'num_leaves': 138, 'reg_alpha': 9.967406748764411, 'learning_rate': 0.1511130057836275}. Best is trial 0 with value: 0.10199453047681575.\u001b[0m\n",
      "\u001b[32m[I 2021-09-18 23:44:31,375]\u001b[0m Trial 59 finished with value: 0.10199453047681575 and parameters: {'num_leaves': 113, 'reg_alpha': 3.596553490292928, 'learning_rate': 0.15157511825052894}. Best is trial 0 with value: 0.10199453047681575.\u001b[0m\n"
     ]
    }
   ],
   "source": [
    "import optuna\n",
    "from lightgbm import LGBMRegressor\n",
    "from sklearn.metrics import mean_squared_log_error\n",
    "from sklearn.pipeline import make_pipeline\n",
    "\n",
    "def objective(trial):\n",
    "    # hyperparameter setting\n",
    "    num_leaves = trial.suggest_int('num_leaves', 2, 256)\n",
    "    reg_alpha = trial.suggest_loguniform('reg_alpha', 1e-8, 10.0)\n",
    "    reg_lambda = trial.suggest_loguniform('reg_alpha', 1e-8, 10.0)\n",
    "    learning_rate = trial.suggest_loguniform('learning_rate',0.001,0.2)\n",
    "    \n",
    "    lgbm = make_pipeline(full_pipe, LGBMRegressor(random_state=42, n_jobs=-1))\n",
    "    lgbm.fit(X_train, y_train)\n",
    "    y_pred = lgbm.predict(X_valid)\n",
    "    msle = mean_squared_log_error(y_valid, y_pred)\n",
    "    return msle\n",
    "\n",
    "study = optuna.create_study(direction='minimize')\n",
    "study.optimize(objective, n_trials=60)"
   ]
  },
  {
   "cell_type": "code",
   "execution_count": 7,
   "id": "a4cfc759",
   "metadata": {},
   "outputs": [
    {
     "name": "stdout",
     "output_type": "stream",
     "text": [
      "Minimum mean squared error: 0.10199453047681575\n",
      "Best parameter: {'num_leaves': 229, 'reg_alpha': 2.335634945840647, 'learning_rate': 0.15755334891853467}\n"
     ]
    }
   ],
   "source": [
    "print('Minimum mean squared error: ' + str(study.best_value))\n",
    "print('Best parameter: ' + str(study.best_params))"
   ]
  },
  {
   "cell_type": "code",
   "execution_count": 12,
   "id": "2634aa7b",
   "metadata": {},
   "outputs": [
    {
     "name": "stderr",
     "output_type": "stream",
     "text": [
      "\u001b[32m[I 2021-09-18 23:58:39,758]\u001b[0m A new study created in memory with name: no-name-3815d3c1-d1a1-48ce-838d-f0faa4dffa4c\u001b[0m\n",
      "\u001b[32m[I 2021-09-18 23:58:40,434]\u001b[0m Trial 0 finished with value: 0.10199453047681575 and parameters: {'num_leaves': 49, 'reg_alpha': 6.659965675575887e-08, 'min_child_samples': 40, 'n_estimators': 902}. Best is trial 0 with value: 0.10199453047681575.\u001b[0m\n",
      "\u001b[32m[I 2021-09-18 23:58:41,146]\u001b[0m Trial 1 finished with value: 0.10199453047681575 and parameters: {'num_leaves': 177, 'reg_alpha': 5.488947567094909e-06, 'min_child_samples': 90, 'n_estimators': 658}. Best is trial 0 with value: 0.10199453047681575.\u001b[0m\n",
      "\u001b[32m[I 2021-09-18 23:58:41,879]\u001b[0m Trial 2 finished with value: 0.10199453047681575 and parameters: {'num_leaves': 192, 'reg_alpha': 0.04939721625889302, 'min_child_samples': 38, 'n_estimators': 835}. Best is trial 0 with value: 0.10199453047681575.\u001b[0m\n",
      "\u001b[32m[I 2021-09-18 23:58:42,574]\u001b[0m Trial 3 finished with value: 0.10199453047681575 and parameters: {'num_leaves': 233, 'reg_alpha': 2.190897296493592e-07, 'min_child_samples': 50, 'n_estimators': 937}. Best is trial 0 with value: 0.10199453047681575.\u001b[0m\n",
      "\u001b[32m[I 2021-09-18 23:58:43,298]\u001b[0m Trial 4 finished with value: 0.10199453047681575 and parameters: {'num_leaves': 30, 'reg_alpha': 2.9780008529225207e-07, 'min_child_samples': 87, 'n_estimators': 347}. Best is trial 0 with value: 0.10199453047681575.\u001b[0m\n",
      "\u001b[32m[I 2021-09-18 23:58:43,987]\u001b[0m Trial 5 finished with value: 0.10199453047681575 and parameters: {'num_leaves': 246, 'reg_alpha': 0.0007055924510161291, 'min_child_samples': 91, 'n_estimators': 356}. Best is trial 0 with value: 0.10199453047681575.\u001b[0m\n",
      "\u001b[32m[I 2021-09-18 23:58:44,687]\u001b[0m Trial 6 finished with value: 0.10199453047681575 and parameters: {'num_leaves': 193, 'reg_alpha': 0.00018634057264343994, 'min_child_samples': 37, 'n_estimators': 189}. Best is trial 0 with value: 0.10199453047681575.\u001b[0m\n",
      "\u001b[32m[I 2021-09-18 23:58:45,404]\u001b[0m Trial 7 finished with value: 0.10199453047681575 and parameters: {'num_leaves': 118, 'reg_alpha': 6.83466301419633e-08, 'min_child_samples': 64, 'n_estimators': 526}. Best is trial 0 with value: 0.10199453047681575.\u001b[0m\n",
      "\u001b[32m[I 2021-09-18 23:58:46,095]\u001b[0m Trial 8 finished with value: 0.10199453047681575 and parameters: {'num_leaves': 40, 'reg_alpha': 0.11084480492893467, 'min_child_samples': 25, 'n_estimators': 388}. Best is trial 0 with value: 0.10199453047681575.\u001b[0m\n",
      "\u001b[32m[I 2021-09-18 23:58:46,812]\u001b[0m Trial 9 finished with value: 0.10199453047681575 and parameters: {'num_leaves': 38, 'reg_alpha': 0.0070490205459433795, 'min_child_samples': 23, 'n_estimators': 521}. Best is trial 0 with value: 0.10199453047681575.\u001b[0m\n",
      "\u001b[32m[I 2021-09-18 23:58:47,511]\u001b[0m Trial 10 finished with value: 0.10199453047681575 and parameters: {'num_leaves': 104, 'reg_alpha': 2.9991583900394048, 'min_child_samples': 5, 'n_estimators': 724}. Best is trial 0 with value: 0.10199453047681575.\u001b[0m\n",
      "\u001b[32m[I 2021-09-18 23:58:48,219]\u001b[0m Trial 11 finished with value: 0.10199453047681575 and parameters: {'num_leaves': 156, 'reg_alpha': 6.312704387813473e-06, 'min_child_samples': 71, 'n_estimators': 734}. Best is trial 0 with value: 0.10199453047681575.\u001b[0m\n",
      "\u001b[32m[I 2021-09-18 23:58:48,918]\u001b[0m Trial 12 finished with value: 0.10199453047681575 and parameters: {'num_leaves': 83, 'reg_alpha': 1.044748485046298e-05, 'min_child_samples': 73, 'n_estimators': 996}. Best is trial 0 with value: 0.10199453047681575.\u001b[0m\n",
      "\u001b[32m[I 2021-09-18 23:58:49,672]\u001b[0m Trial 13 finished with value: 0.10199453047681575 and parameters: {'num_leaves': 148, 'reg_alpha': 2.141179410702986e-06, 'min_child_samples': 99, 'n_estimators': 664}. Best is trial 0 with value: 0.10199453047681575.\u001b[0m\n",
      "\u001b[32m[I 2021-09-18 23:58:50,375]\u001b[0m Trial 14 finished with value: 0.10199453047681575 and parameters: {'num_leaves': 67, 'reg_alpha': 1.1358293613798394e-08, 'min_child_samples': 56, 'n_estimators': 862}. Best is trial 0 with value: 0.10199453047681575.\u001b[0m\n",
      "\u001b[32m[I 2021-09-18 23:58:51,091]\u001b[0m Trial 15 finished with value: 0.10199453047681575 and parameters: {'num_leaves': 12, 'reg_alpha': 5.171713140765051e-05, 'min_child_samples': 82, 'n_estimators': 608}. Best is trial 0 with value: 0.10199453047681575.\u001b[0m\n",
      "\u001b[32m[I 2021-09-18 23:58:51,793]\u001b[0m Trial 16 finished with value: 0.10199453047681575 and parameters: {'num_leaves': 186, 'reg_alpha': 1.1388550318636388e-08, 'min_child_samples': 46, 'n_estimators': 817}. Best is trial 0 with value: 0.10199453047681575.\u001b[0m\n",
      "\u001b[32m[I 2021-09-18 23:58:52,489]\u001b[0m Trial 17 finished with value: 0.10199453047681575 and parameters: {'num_leaves': 74, 'reg_alpha': 2.0906170431616398e-08, 'min_child_samples': 64, 'n_estimators': 879}. Best is trial 0 with value: 0.10199453047681575.\u001b[0m\n",
      "\u001b[32m[I 2021-09-18 23:58:53,183]\u001b[0m Trial 18 finished with value: 0.10199453047681575 and parameters: {'num_leaves': 5, 'reg_alpha': 0.00011187204922028135, 'min_child_samples': 23, 'n_estimators': 138}. Best is trial 0 with value: 0.10199453047681575.\u001b[0m\n",
      "\u001b[32m[I 2021-09-18 23:58:53,878]\u001b[0m Trial 19 finished with value: 0.10199453047681575 and parameters: {'num_leaves': 219, 'reg_alpha': 3.209691888938869e-07, 'min_child_samples': 44, 'n_estimators': 796}. Best is trial 0 with value: 0.10199453047681575.\u001b[0m\n",
      "\u001b[32m[I 2021-09-18 23:58:54,596]\u001b[0m Trial 20 finished with value: 0.10199453047681575 and parameters: {'num_leaves': 71, 'reg_alpha': 6.086373528152702e-08, 'min_child_samples': 59, 'n_estimators': 919}. Best is trial 0 with value: 0.10199453047681575.\u001b[0m\n",
      "\u001b[32m[I 2021-09-18 23:58:55,295]\u001b[0m Trial 21 finished with value: 0.10199453047681575 and parameters: {'num_leaves': 2, 'reg_alpha': 0.001978565577937949, 'min_child_samples': 18, 'n_estimators': 157}. Best is trial 0 with value: 0.10199453047681575.\u001b[0m\n",
      "\u001b[32m[I 2021-09-18 23:58:56,003]\u001b[0m Trial 22 finished with value: 0.10199453047681575 and parameters: {'num_leaves': 228, 'reg_alpha': 7.71284226632025e-07, 'min_child_samples': 34, 'n_estimators': 768}. Best is trial 0 with value: 0.10199453047681575.\u001b[0m\n",
      "\u001b[32m[I 2021-09-18 23:58:56,691]\u001b[0m Trial 23 finished with value: 0.10199453047681575 and parameters: {'num_leaves': 57, 'reg_alpha': 1.1478141810283977e-07, 'min_child_samples': 44, 'n_estimators': 986}. Best is trial 0 with value: 0.10199453047681575.\u001b[0m\n",
      "\u001b[32m[I 2021-09-18 23:58:57,392]\u001b[0m Trial 24 finished with value: 0.10199453047681575 and parameters: {'num_leaves': 95, 'reg_alpha': 0.003039346744420961, 'min_child_samples': 7, 'n_estimators': 206}. Best is trial 0 with value: 0.10199453047681575.\u001b[0m\n",
      "\u001b[32m[I 2021-09-18 23:58:58,077]\u001b[0m Trial 25 finished with value: 0.10199453047681575 and parameters: {'num_leaves': 23, 'reg_alpha': 1.6444944439616987e-06, 'min_child_samples': 14, 'n_estimators': 433}. Best is trial 0 with value: 0.10199453047681575.\u001b[0m\n",
      "\u001b[32m[I 2021-09-18 23:58:58,794]\u001b[0m Trial 26 finished with value: 0.10199453047681575 and parameters: {'num_leaves': 52, 'reg_alpha': 4.361362065623602e-07, 'min_child_samples': 33, 'n_estimators': 995}. Best is trial 0 with value: 0.10199453047681575.\u001b[0m\n",
      "\u001b[32m[I 2021-09-18 23:58:59,483]\u001b[0m Trial 27 finished with value: 0.10199453047681575 and parameters: {'num_leaves': 100, 'reg_alpha': 0.22359914780971382, 'min_child_samples': 30, 'n_estimators': 213}. Best is trial 0 with value: 0.10199453047681575.\u001b[0m\n",
      "\u001b[32m[I 2021-09-18 23:59:00,179]\u001b[0m Trial 28 finished with value: 0.10199453047681575 and parameters: {'num_leaves': 25, 'reg_alpha': 0.008688900843491854, 'min_child_samples': 9, 'n_estimators': 450}. Best is trial 0 with value: 0.10199453047681575.\u001b[0m\n",
      "\u001b[32m[I 2021-09-18 23:59:00,900]\u001b[0m Trial 29 finished with value: 0.10199453047681575 and parameters: {'num_leaves': 53, 'reg_alpha': 1.584459371171248e-06, 'min_child_samples': 15, 'n_estimators': 596}. Best is trial 0 with value: 0.10199453047681575.\u001b[0m\n",
      "\u001b[32m[I 2021-09-18 23:59:01,609]\u001b[0m Trial 30 finished with value: 0.10199453047681575 and parameters: {'num_leaves': 129, 'reg_alpha': 8.647650578244814, 'min_child_samples': 33, 'n_estimators': 691}. Best is trial 0 with value: 0.10199453047681575.\u001b[0m\n",
      "\u001b[32m[I 2021-09-18 23:59:02,316]\u001b[0m Trial 31 finished with value: 0.10199453047681575 and parameters: {'num_leaves': 91, 'reg_alpha': 0.07426529956125968, 'min_child_samples': 32, 'n_estimators': 284}. Best is trial 0 with value: 0.10199453047681575.\u001b[0m\n"
     ]
    },
    {
     "name": "stderr",
     "output_type": "stream",
     "text": [
      "\u001b[32m[I 2021-09-18 23:59:03,017]\u001b[0m Trial 32 finished with value: 0.10199453047681575 and parameters: {'num_leaves': 59, 'reg_alpha': 0.28213123971192483, 'min_child_samples': 13, 'n_estimators': 454}. Best is trial 0 with value: 0.10199453047681575.\u001b[0m\n",
      "\u001b[32m[I 2021-09-18 23:59:03,800]\u001b[0m Trial 33 finished with value: 0.10199453047681575 and parameters: {'num_leaves': 131, 'reg_alpha': 0.8797198792497036, 'min_child_samples': 12, 'n_estimators': 612}. Best is trial 0 with value: 0.10199453047681575.\u001b[0m\n",
      "\u001b[32m[I 2021-09-18 23:59:04,512]\u001b[0m Trial 34 finished with value: 0.10199453047681575 and parameters: {'num_leaves': 136, 'reg_alpha': 9.646684558907696, 'min_child_samples': 29, 'n_estimators': 659}. Best is trial 0 with value: 0.10199453047681575.\u001b[0m\n",
      "\u001b[32m[I 2021-09-18 23:59:05,231]\u001b[0m Trial 35 finished with value: 0.10199453047681575 and parameters: {'num_leaves': 3, 'reg_alpha': 5.43476573009405e-08, 'min_child_samples': 58, 'n_estimators': 920}. Best is trial 0 with value: 0.10199453047681575.\u001b[0m\n",
      "\u001b[32m[I 2021-09-18 23:59:05,933]\u001b[0m Trial 36 finished with value: 0.10199453047681575 and parameters: {'num_leaves': 218, 'reg_alpha': 2.5255871309422766e-05, 'min_child_samples': 39, 'n_estimators': 775}. Best is trial 0 with value: 0.10199453047681575.\u001b[0m\n",
      "\u001b[32m[I 2021-09-18 23:59:06,628]\u001b[0m Trial 37 finished with value: 0.10199453047681575 and parameters: {'num_leaves': 250, 'reg_alpha': 0.000435340146806076, 'min_child_samples': 51, 'n_estimators': 936}. Best is trial 0 with value: 0.10199453047681575.\u001b[0m\n",
      "\u001b[32m[I 2021-09-18 23:59:07,446]\u001b[0m Trial 38 finished with value: 0.10199453047681575 and parameters: {'num_leaves': 37, 'reg_alpha': 6.086853766589734e-07, 'min_child_samples': 42, 'n_estimators': 861}. Best is trial 0 with value: 0.10199453047681575.\u001b[0m\n",
      "\u001b[32m[I 2021-09-18 23:59:08,160]\u001b[0m Trial 39 finished with value: 0.10199453047681575 and parameters: {'num_leaves': 162, 'reg_alpha': 1.403290055379463e-07, 'min_child_samples': 18, 'n_estimators': 953}. Best is trial 0 with value: 0.10199453047681575.\u001b[0m\n",
      "\u001b[32m[I 2021-09-18 23:59:08,861]\u001b[0m Trial 40 finished with value: 0.10199453047681575 and parameters: {'num_leaves': 114, 'reg_alpha': 0.007260180980592923, 'min_child_samples': 47, 'n_estimators': 768}. Best is trial 0 with value: 0.10199453047681575.\u001b[0m\n",
      "\u001b[32m[I 2021-09-18 23:59:09,582]\u001b[0m Trial 41 finished with value: 0.10199453047681575 and parameters: {'num_leaves': 18, 'reg_alpha': 1.6753634993400216e-06, 'min_child_samples': 5, 'n_estimators': 276}. Best is trial 0 with value: 0.10199453047681575.\u001b[0m\n",
      "\u001b[32m[I 2021-09-18 23:59:10,271]\u001b[0m Trial 42 finished with value: 0.10199453047681575 and parameters: {'num_leaves': 47, 'reg_alpha': 1.5423673779211073e-07, 'min_child_samples': 26, 'n_estimators': 988}. Best is trial 0 with value: 0.10199453047681575.\u001b[0m\n",
      "\u001b[32m[I 2021-09-18 23:59:11,011]\u001b[0m Trial 43 finished with value: 0.10199453047681575 and parameters: {'num_leaves': 59, 'reg_alpha': 3.8106732817774086e-08, 'min_child_samples': 38, 'n_estimators': 421}. Best is trial 0 with value: 0.10199453047681575.\u001b[0m\n",
      "\u001b[32m[I 2021-09-18 23:59:11,735]\u001b[0m Trial 44 finished with value: 0.10199453047681575 and parameters: {'num_leaves': 96, 'reg_alpha': 0.0014874894146966822, 'min_child_samples': 22, 'n_estimators': 210}. Best is trial 0 with value: 0.10199453047681575.\u001b[0m\n",
      "\u001b[32m[I 2021-09-18 23:59:12,440]\u001b[0m Trial 45 finished with value: 0.10199453047681575 and parameters: {'num_leaves': 82, 'reg_alpha': 3.39676073612903e-06, 'min_child_samples': 27, 'n_estimators': 258}. Best is trial 0 with value: 0.10199453047681575.\u001b[0m\n",
      "\u001b[32m[I 2021-09-18 23:59:13,143]\u001b[0m Trial 46 finished with value: 0.10199453047681575 and parameters: {'num_leaves': 27, 'reg_alpha': 0.025184474825633914, 'min_child_samples': 10, 'n_estimators': 350}. Best is trial 0 with value: 0.10199453047681575.\u001b[0m\n",
      "\u001b[32m[I 2021-09-18 23:59:13,876]\u001b[0m Trial 47 finished with value: 0.10199453047681575 and parameters: {'num_leaves': 23, 'reg_alpha': 0.020774048860379146, 'min_child_samples': 20, 'n_estimators': 503}. Best is trial 0 with value: 0.10199453047681575.\u001b[0m\n",
      "\u001b[32m[I 2021-09-18 23:59:14,594]\u001b[0m Trial 48 finished with value: 0.10199453047681575 and parameters: {'num_leaves': 43, 'reg_alpha': 0.16684634176664223, 'min_child_samples': 16, 'n_estimators': 624}. Best is trial 0 with value: 0.10199453047681575.\u001b[0m\n",
      "\u001b[32m[I 2021-09-18 23:59:15,316]\u001b[0m Trial 49 finished with value: 0.10199453047681575 and parameters: {'num_leaves': 50, 'reg_alpha': 0.6747061073697045, 'min_child_samples': 30, 'n_estimators': 322}. Best is trial 0 with value: 0.10199453047681575.\u001b[0m\n",
      "\u001b[32m[I 2021-09-18 23:59:16,035]\u001b[0m Trial 50 finished with value: 0.10199453047681575 and parameters: {'num_leaves': 115, 'reg_alpha': 9.388710866725281, 'min_child_samples': 36, 'n_estimators': 702}. Best is trial 0 with value: 0.10199453047681575.\u001b[0m\n",
      "\u001b[32m[I 2021-09-18 23:59:16,754]\u001b[0m Trial 51 finished with value: 0.10199453047681575 and parameters: {'num_leaves': 103, 'reg_alpha': 0.05051819800675256, 'min_child_samples': 31, 'n_estimators': 576}. Best is trial 0 with value: 0.10199453047681575.\u001b[0m\n",
      "\u001b[32m[I 2021-09-18 23:59:17,467]\u001b[0m Trial 52 finished with value: 0.10199453047681575 and parameters: {'num_leaves': 85, 'reg_alpha': 1.2843766488106103, 'min_child_samples': 9, 'n_estimators': 472}. Best is trial 0 with value: 0.10199453047681575.\u001b[0m\n",
      "\u001b[32m[I 2021-09-18 23:59:18,182]\u001b[0m Trial 53 finished with value: 0.10199453047681575 and parameters: {'num_leaves': 66, 'reg_alpha': 0.349991440981299, 'min_child_samples': 10, 'n_estimators': 558}. Best is trial 0 with value: 0.10199453047681575.\u001b[0m\n",
      "\u001b[32m[I 2021-09-18 23:59:18,877]\u001b[0m Trial 54 finished with value: 0.10199453047681575 and parameters: {'num_leaves': 138, 'reg_alpha': 2.539373763057792, 'min_child_samples': 13, 'n_estimators': 603}. Best is trial 0 with value: 0.10199453047681575.\u001b[0m\n",
      "\u001b[32m[I 2021-09-18 23:59:19,562]\u001b[0m Trial 55 finished with value: 0.10199453047681575 and parameters: {'num_leaves': 123, 'reg_alpha': 3.690541837904974, 'min_child_samples': 14, 'n_estimators': 708}. Best is trial 0 with value: 0.10199453047681575.\u001b[0m\n",
      "\u001b[32m[I 2021-09-18 23:59:20,264]\u001b[0m Trial 56 finished with value: 0.10199453047681575 and parameters: {'num_leaves': 134, 'reg_alpha': 7.566124125187345, 'min_child_samples': 28, 'n_estimators': 661}. Best is trial 0 with value: 0.10199453047681575.\u001b[0m\n",
      "\u001b[32m[I 2021-09-18 23:59:20,950]\u001b[0m Trial 57 finished with value: 0.10199453047681575 and parameters: {'num_leaves': 169, 'reg_alpha': 1.262334809554682, 'min_child_samples': 41, 'n_estimators': 511}. Best is trial 0 with value: 0.10199453047681575.\u001b[0m\n",
      "\u001b[32m[I 2021-09-18 23:59:21,653]\u001b[0m Trial 58 finished with value: 0.10199453047681575 and parameters: {'num_leaves': 146, 'reg_alpha': 0.09141291884905431, 'min_child_samples': 54, 'n_estimators': 400}. Best is trial 0 with value: 0.10199453047681575.\u001b[0m\n",
      "\u001b[32m[I 2021-09-18 23:59:22,357]\u001b[0m Trial 59 finished with value: 0.10199453047681575 and parameters: {'num_leaves': 153, 'reg_alpha': 0.4497642949681485, 'min_child_samples': 71, 'n_estimators': 882}. Best is trial 0 with value: 0.10199453047681575.\u001b[0m\n",
      "\u001b[32m[I 2021-09-18 23:59:23,043]\u001b[0m Trial 60 finished with value: 0.10199453047681575 and parameters: {'num_leaves': 203, 'reg_alpha': 1.1322891991847998e-05, 'min_child_samples': 64, 'n_estimators': 759}. Best is trial 0 with value: 0.10199453047681575.\u001b[0m\n",
      "\u001b[32m[I 2021-09-18 23:59:23,753]\u001b[0m Trial 61 finished with value: 0.10199453047681575 and parameters: {'num_leaves': 212, 'reg_alpha': 0.00022221505390071248, 'min_child_samples': 49, 'n_estimators': 940}. Best is trial 0 with value: 0.10199453047681575.\u001b[0m\n",
      "\u001b[32m[I 2021-09-18 23:59:24,472]\u001b[0m Trial 62 finished with value: 0.10199453047681575 and parameters: {'num_leaves': 254, 'reg_alpha': 6.91380695672207e-05, 'min_child_samples': 52, 'n_estimators': 847}. Best is trial 0 with value: 0.10199453047681575.\u001b[0m\n",
      "\u001b[32m[I 2021-09-18 23:59:25,169]\u001b[0m Trial 63 finished with value: 0.10199453047681575 and parameters: {'num_leaves': 241, 'reg_alpha': 1.8573863776997845e-05, 'min_child_samples': 57, 'n_estimators': 900}. Best is trial 0 with value: 0.10199453047681575.\u001b[0m\n"
     ]
    },
    {
     "name": "stderr",
     "output_type": "stream",
     "text": [
      "\u001b[32m[I 2021-09-18 23:59:25,875]\u001b[0m Trial 64 finished with value: 0.10199453047681575 and parameters: {'num_leaves': 182, 'reg_alpha': 4.2469635724005925e-07, 'min_child_samples': 43, 'n_estimators': 946}. Best is trial 0 with value: 0.10199453047681575.\u001b[0m\n",
      "\u001b[32m[I 2021-09-18 23:59:26,575]\u001b[0m Trial 65 finished with value: 0.10199453047681575 and parameters: {'num_leaves': 36, 'reg_alpha': 2.350201801957768e-08, 'min_child_samples': 40, 'n_estimators': 916}. Best is trial 0 with value: 0.10199453047681575.\u001b[0m\n",
      "\u001b[32m[I 2021-09-18 23:59:27,283]\u001b[0m Trial 66 finished with value: 0.10199453047681575 and parameters: {'num_leaves': 167, 'reg_alpha': 0.0006812287318068353, 'min_child_samples': 60, 'n_estimators': 808}. Best is trial 0 with value: 0.10199453047681575.\u001b[0m\n",
      "\u001b[32m[I 2021-09-18 23:59:28,005]\u001b[0m Trial 67 finished with value: 0.10199453047681575 and parameters: {'num_leaves': 14, 'reg_alpha': 7.925892568812012e-08, 'min_child_samples': 49, 'n_estimators': 841}. Best is trial 0 with value: 0.10199453047681575.\u001b[0m\n",
      "\u001b[32m[I 2021-09-18 23:59:28,717]\u001b[0m Trial 68 finished with value: 0.10199453047681575 and parameters: {'num_leaves': 238, 'reg_alpha': 8.719637710368757e-07, 'min_child_samples': 47, 'n_estimators': 958}. Best is trial 0 with value: 0.10199453047681575.\u001b[0m\n",
      "\u001b[32m[I 2021-09-18 23:59:29,423]\u001b[0m Trial 69 finished with value: 0.10199453047681575 and parameters: {'num_leaves': 227, 'reg_alpha': 4.481688393867368e-06, 'min_child_samples': 36, 'n_estimators': 778}. Best is trial 0 with value: 0.10199453047681575.\u001b[0m\n",
      "\u001b[32m[I 2021-09-18 23:59:30,125]\u001b[0m Trial 70 finished with value: 0.10199453047681575 and parameters: {'num_leaves': 17, 'reg_alpha': 1.9375737356597604e-07, 'min_child_samples': 5, 'n_estimators': 972}. Best is trial 0 with value: 0.10199453047681575.\u001b[0m\n",
      "\u001b[32m[I 2021-09-18 23:59:30,848]\u001b[0m Trial 71 finished with value: 0.10199453047681575 and parameters: {'num_leaves': 29, 'reg_alpha': 0.17917143958936185, 'min_child_samples': 17, 'n_estimators': 346}. Best is trial 0 with value: 0.10199453047681575.\u001b[0m\n",
      "\u001b[32m[I 2021-09-18 23:59:31,580]\u001b[0m Trial 72 finished with value: 0.10199453047681575 and parameters: {'num_leaves': 47, 'reg_alpha': 0.02125826184149178, 'min_child_samples': 21, 'n_estimators': 490}. Best is trial 0 with value: 0.10199453047681575.\u001b[0m\n",
      "\u001b[32m[I 2021-09-18 23:59:32,301]\u001b[0m Trial 73 finished with value: 0.10199453047681575 and parameters: {'num_leaves': 112, 'reg_alpha': 0.04266138419049342, 'min_child_samples': 20, 'n_estimators': 558}. Best is trial 0 with value: 0.10199453047681575.\u001b[0m\n",
      "\u001b[32m[I 2021-09-18 23:59:33,006]\u001b[0m Trial 74 finished with value: 0.10199453047681575 and parameters: {'num_leaves': 68, 'reg_alpha': 0.6225942747483609, 'min_child_samples': 9, 'n_estimators': 565}. Best is trial 0 with value: 0.10199453047681575.\u001b[0m\n",
      "\u001b[32m[I 2021-09-18 23:59:33,728]\u001b[0m Trial 75 finished with value: 0.10199453047681575 and parameters: {'num_leaves': 108, 'reg_alpha': 1.552703360135434, 'min_child_samples': 25, 'n_estimators': 635}. Best is trial 0 with value: 0.10199453047681575.\u001b[0m\n",
      "\u001b[32m[I 2021-09-18 23:59:34,460]\u001b[0m Trial 76 finished with value: 0.10199453047681575 and parameters: {'num_leaves': 87, 'reg_alpha': 2.313978374525172, 'min_child_samples': 35, 'n_estimators': 589}. Best is trial 0 with value: 0.10199453047681575.\u001b[0m\n",
      "\u001b[32m[I 2021-09-18 23:59:35,160]\u001b[0m Trial 77 finished with value: 0.10199453047681575 and parameters: {'num_leaves': 76, 'reg_alpha': 4.53443551509692, 'min_child_samples': 17, 'n_estimators': 539}. Best is trial 0 with value: 0.10199453047681575.\u001b[0m\n",
      "\u001b[32m[I 2021-09-18 23:59:35,899]\u001b[0m Trial 78 finished with value: 0.10199453047681575 and parameters: {'num_leaves': 102, 'reg_alpha': 3.0469051537860077, 'min_child_samples': 12, 'n_estimators': 701}. Best is trial 0 with value: 0.10199453047681575.\u001b[0m\n",
      "\u001b[32m[I 2021-09-18 23:59:36,646]\u001b[0m Trial 79 finished with value: 0.10199453047681575 and parameters: {'num_leaves': 137, 'reg_alpha': 4.692686366050002, 'min_child_samples': 11, 'n_estimators': 677}. Best is trial 0 with value: 0.10199453047681575.\u001b[0m\n",
      "\u001b[32m[I 2021-09-18 23:59:37,331]\u001b[0m Trial 80 finished with value: 0.10199453047681575 and parameters: {'num_leaves': 122, 'reg_alpha': 1.1911140770446305, 'min_child_samples': 8, 'n_estimators': 480}. Best is trial 0 with value: 0.10199453047681575.\u001b[0m\n",
      "\u001b[32m[I 2021-09-18 23:59:38,068]\u001b[0m Trial 81 finished with value: 0.10199453047681575 and parameters: {'num_leaves': 142, 'reg_alpha': 0.4734782163855664, 'min_child_samples': 54, 'n_estimators': 395}. Best is trial 0 with value: 0.10199453047681575.\u001b[0m\n",
      "\u001b[32m[I 2021-09-18 23:59:38,796]\u001b[0m Trial 82 finished with value: 0.10199453047681575 and parameters: {'num_leaves': 152, 'reg_alpha': 0.3825630681237656, 'min_child_samples': 80, 'n_estimators': 535}. Best is trial 0 with value: 0.10199453047681575.\u001b[0m\n",
      "\u001b[32m[I 2021-09-18 23:59:39,499]\u001b[0m Trial 83 finished with value: 0.10199453047681575 and parameters: {'num_leaves': 169, 'reg_alpha': 1.4438278869695007, 'min_child_samples': 74, 'n_estimators': 640}. Best is trial 0 with value: 0.10199453047681575.\u001b[0m\n",
      "\u001b[32m[I 2021-09-18 23:59:40,221]\u001b[0m Trial 84 finished with value: 0.10199453047681575 and parameters: {'num_leaves': 198, 'reg_alpha': 2.6316300910375774, 'min_child_samples': 68, 'n_estimators': 733}. Best is trial 0 with value: 0.10199453047681575.\u001b[0m\n",
      "\u001b[32m[I 2021-09-18 23:59:40,959]\u001b[0m Trial 85 finished with value: 0.10199453047681575 and parameters: {'num_leaves': 145, 'reg_alpha': 5.851785812336479, 'min_child_samples': 65, 'n_estimators': 749}. Best is trial 0 with value: 0.10199453047681575.\u001b[0m\n",
      "\u001b[32m[I 2021-09-18 23:59:41,655]\u001b[0m Trial 86 finished with value: 0.10199453047681575 and parameters: {'num_leaves': 209, 'reg_alpha': 0.00020889798822871041, 'min_child_samples': 78, 'n_estimators': 892}. Best is trial 0 with value: 0.10199453047681575.\u001b[0m\n",
      "\u001b[32m[I 2021-09-18 23:59:42,359]\u001b[0m Trial 87 finished with value: 0.10199453047681575 and parameters: {'num_leaves': 193, 'reg_alpha': 7.72931989348483e-05, 'min_child_samples': 62, 'n_estimators': 835}. Best is trial 0 with value: 0.10199453047681575.\u001b[0m\n",
      "\u001b[32m[I 2021-09-18 23:59:43,200]\u001b[0m Trial 88 finished with value: 0.10199453047681575 and parameters: {'num_leaves': 240, 'reg_alpha': 1.4151172435908238e-05, 'min_child_samples': 55, 'n_estimators': 864}. Best is trial 0 with value: 0.10199453047681575.\u001b[0m\n",
      "\u001b[32m[I 2021-09-18 23:59:44,002]\u001b[0m Trial 89 finished with value: 0.10199453047681575 and parameters: {'num_leaves': 249, 'reg_alpha': 3.297277187991984e-05, 'min_child_samples': 51, 'n_estimators': 894}. Best is trial 0 with value: 0.10199453047681575.\u001b[0m\n",
      "\u001b[32m[I 2021-09-18 23:59:44,737]\u001b[0m Trial 90 finished with value: 0.10199453047681575 and parameters: {'num_leaves': 179, 'reg_alpha': 9.901005573107416e-06, 'min_child_samples': 43, 'n_estimators': 935}. Best is trial 0 with value: 0.10199453047681575.\u001b[0m\n",
      "\u001b[32m[I 2021-09-18 23:59:45,456]\u001b[0m Trial 91 finished with value: 0.10199453047681575 and parameters: {'num_leaves': 255, 'reg_alpha': 2.602100281053434e-08, 'min_child_samples': 58, 'n_estimators': 907}. Best is trial 0 with value: 0.10199453047681575.\u001b[0m\n",
      "\u001b[32m[I 2021-09-18 23:59:46,300]\u001b[0m Trial 92 finished with value: 0.10199453047681575 and parameters: {'num_leaves': 214, 'reg_alpha': 0.0001332725286457188, 'min_child_samples': 61, 'n_estimators': 853}. Best is trial 0 with value: 0.10199453047681575.\u001b[0m\n",
      "\u001b[32m[I 2021-09-18 23:59:47,103]\u001b[0m Trial 93 finished with value: 0.10199453047681575 and parameters: {'num_leaves': 202, 'reg_alpha': 0.0006336598769012158, 'min_child_samples': 70, 'n_estimators': 805}. Best is trial 0 with value: 0.10199453047681575.\u001b[0m\n",
      "\u001b[32m[I 2021-09-18 23:59:47,851]\u001b[0m Trial 94 finished with value: 0.10199453047681575 and parameters: {'num_leaves': 180, 'reg_alpha': 2.0422121486551886e-08, 'min_child_samples': 48, 'n_estimators': 830}. Best is trial 0 with value: 0.10199453047681575.\u001b[0m\n",
      "\u001b[32m[I 2021-09-18 23:59:48,571]\u001b[0m Trial 95 finished with value: 0.10199453047681575 and parameters: {'num_leaves': 239, 'reg_alpha': 3.1916488428590685e-07, 'min_child_samples': 48, 'n_estimators': 975}. Best is trial 0 with value: 0.10199453047681575.\u001b[0m\n"
     ]
    },
    {
     "name": "stderr",
     "output_type": "stream",
     "text": [
      "\u001b[32m[I 2021-09-18 23:59:49,301]\u001b[0m Trial 96 finished with value: 0.10199453047681575 and parameters: {'num_leaves': 229, 'reg_alpha': 8.990759685981494e-08, 'min_child_samples': 45, 'n_estimators': 953}. Best is trial 0 with value: 0.10199453047681575.\u001b[0m\n",
      "\u001b[32m[I 2021-09-18 23:59:50,010]\u001b[0m Trial 97 finished with value: 0.10199453047681575 and parameters: {'num_leaves': 221, 'reg_alpha': 9.645057808704842e-07, 'min_child_samples': 39, 'n_estimators': 787}. Best is trial 0 with value: 0.10199453047681575.\u001b[0m\n",
      "\u001b[32m[I 2021-09-18 23:59:50,734]\u001b[0m Trial 98 finished with value: 0.10199453047681575 and parameters: {'num_leaves': 242, 'reg_alpha': 4.658133324973902e-06, 'min_child_samples': 41, 'n_estimators': 965}. Best is trial 0 with value: 0.10199453047681575.\u001b[0m\n",
      "\u001b[32m[I 2021-09-18 23:59:51,453]\u001b[0m Trial 99 finished with value: 0.10199453047681575 and parameters: {'num_leaves': 34, 'reg_alpha': 1.0052336288944945e-08, 'min_child_samples': 37, 'n_estimators': 913}. Best is trial 0 with value: 0.10199453047681575.\u001b[0m\n",
      "\u001b[32m[I 2021-09-18 23:59:52,162]\u001b[0m Trial 100 finished with value: 0.10199453047681575 and parameters: {'num_leaves': 17, 'reg_alpha': 2.108902021189446e-07, 'min_child_samples': 45, 'n_estimators': 1000}. Best is trial 0 with value: 0.10199453047681575.\u001b[0m\n",
      "\u001b[32m[I 2021-09-18 23:59:52,859]\u001b[0m Trial 101 finished with value: 0.10199453047681575 and parameters: {'num_leaves': 13, 'reg_alpha': 4.921693018720488e-07, 'min_child_samples': 57, 'n_estimators': 814}. Best is trial 0 with value: 0.10199453047681575.\u001b[0m\n",
      "\u001b[32m[I 2021-09-18 23:59:53,573]\u001b[0m Trial 102 finished with value: 0.10199453047681575 and parameters: {'num_leaves': 31, 'reg_alpha': 0.014582602109075015, 'min_child_samples': 22, 'n_estimators': 923}. Best is trial 0 with value: 0.10199453047681575.\u001b[0m\n",
      "\u001b[32m[I 2021-09-18 23:59:54,361]\u001b[0m Trial 103 finished with value: 0.10199453047681575 and parameters: {'num_leaves': 38, 'reg_alpha': 0.003576508182670529, 'min_child_samples': 20, 'n_estimators': 557}. Best is trial 0 with value: 0.10199453047681575.\u001b[0m\n",
      "\u001b[32m[I 2021-09-18 23:59:55,137]\u001b[0m Trial 104 finished with value: 0.10199453047681575 and parameters: {'num_leaves': 108, 'reg_alpha': 0.17131436997052132, 'min_child_samples': 25, 'n_estimators': 327}. Best is trial 0 with value: 0.10199453047681575.\u001b[0m\n",
      "\u001b[32m[I 2021-09-18 23:59:55,862]\u001b[0m Trial 105 finished with value: 0.10199453047681575 and parameters: {'num_leaves': 44, 'reg_alpha': 0.05926776774507115, 'min_child_samples': 5, 'n_estimators': 487}. Best is trial 0 with value: 0.10199453047681575.\u001b[0m\n",
      "\u001b[32m[I 2021-09-18 23:59:56,588]\u001b[0m Trial 106 finished with value: 0.10199453047681575 and parameters: {'num_leaves': 64, 'reg_alpha': 0.028127547396531487, 'min_child_samples': 24, 'n_estimators': 570}. Best is trial 0 with value: 0.10199453047681575.\u001b[0m\n",
      "\u001b[32m[I 2021-09-18 23:59:57,415]\u001b[0m Trial 107 finished with value: 0.10199453047681575 and parameters: {'num_leaves': 76, 'reg_alpha': 1.9005297433523107, 'min_child_samples': 18, 'n_estimators': 586}. Best is trial 0 with value: 0.10199453047681575.\u001b[0m\n",
      "\u001b[32m[I 2021-09-18 23:59:58,181]\u001b[0m Trial 108 finished with value: 0.10199453047681575 and parameters: {'num_leaves': 77, 'reg_alpha': 0.6816957856785862, 'min_child_samples': 16, 'n_estimators': 632}. Best is trial 0 with value: 0.10199453047681575.\u001b[0m\n",
      "\u001b[32m[I 2021-09-18 23:59:58,972]\u001b[0m Trial 109 finished with value: 0.10199453047681575 and parameters: {'num_leaves': 87, 'reg_alpha': 0.1321900639915155, 'min_child_samples': 7, 'n_estimators': 540}. Best is trial 0 with value: 0.10199453047681575.\u001b[0m\n",
      "\u001b[32m[I 2021-09-18 23:59:59,784]\u001b[0m Trial 110 finished with value: 0.10199453047681575 and parameters: {'num_leaves': 95, 'reg_alpha': 5.021101205521107, 'min_child_samples': 11, 'n_estimators': 682}. Best is trial 0 with value: 0.10199453047681575.\u001b[0m\n",
      "\u001b[32m[I 2021-09-19 00:00:00,498]\u001b[0m Trial 111 finished with value: 0.10199453047681575 and parameters: {'num_leaves': 113, 'reg_alpha': 0.7977994883830967, 'min_child_samples': 17, 'n_estimators': 524}. Best is trial 0 with value: 0.10199453047681575.\u001b[0m\n",
      "\u001b[32m[I 2021-09-19 00:00:01,249]\u001b[0m Trial 112 finished with value: 0.10199453047681575 and parameters: {'num_leaves': 119, 'reg_alpha': 3.515277490877712, 'min_child_samples': 8, 'n_estimators': 402}. Best is trial 0 with value: 0.10199453047681575.\u001b[0m\n",
      "\u001b[32m[I 2021-09-19 00:00:02,093]\u001b[0m Trial 113 finished with value: 0.10199453047681575 and parameters: {'num_leaves': 122, 'reg_alpha': 1.0145192357668291, 'min_child_samples': 20, 'n_estimators': 470}. Best is trial 0 with value: 0.10199453047681575.\u001b[0m\n",
      "\u001b[32m[I 2021-09-19 00:00:02,872]\u001b[0m Trial 114 finished with value: 0.10199453047681575 and parameters: {'num_leaves': 108, 'reg_alpha': 1.8925488867919185, 'min_child_samples': 84, 'n_estimators': 608}. Best is trial 0 with value: 0.10199453047681575.\u001b[0m\n",
      "\u001b[32m[I 2021-09-19 00:00:03,593]\u001b[0m Trial 115 finished with value: 0.10199453047681575 and parameters: {'num_leaves': 152, 'reg_alpha': 0.4517816353737074, 'min_child_samples': 78, 'n_estimators': 639}. Best is trial 0 with value: 0.10199453047681575.\u001b[0m\n",
      "\u001b[32m[I 2021-09-19 00:00:04,305]\u001b[0m Trial 116 finished with value: 0.10199453047681575 and parameters: {'num_leaves': 127, 'reg_alpha': 2.1310560199854596, 'min_child_samples': 76, 'n_estimators': 674}. Best is trial 0 with value: 0.10199453047681575.\u001b[0m\n",
      "\u001b[32m[I 2021-09-19 00:00:05,003]\u001b[0m Trial 117 finished with value: 0.10199453047681575 and parameters: {'num_leaves': 139, 'reg_alpha': 1.4434418727347644, 'min_child_samples': 12, 'n_estimators': 723}. Best is trial 0 with value: 0.10199453047681575.\u001b[0m\n",
      "\u001b[32m[I 2021-09-19 00:00:05,720]\u001b[0m Trial 118 finished with value: 0.10199453047681575 and parameters: {'num_leaves': 144, 'reg_alpha': 5.311077058582071, 'min_child_samples': 70, 'n_estimators': 754}. Best is trial 0 with value: 0.10199453047681575.\u001b[0m\n",
      "\u001b[32m[I 2021-09-19 00:00:06,438]\u001b[0m Trial 119 finished with value: 0.10199453047681575 and parameters: {'num_leaves': 157, 'reg_alpha': 5.5533986442209535, 'min_child_samples': 66, 'n_estimators': 717}. Best is trial 0 with value: 0.10199453047681575.\u001b[0m\n",
      "\u001b[32m[I 2021-09-19 00:00:07,168]\u001b[0m Trial 120 finished with value: 0.10199453047681575 and parameters: {'num_leaves': 195, 'reg_alpha': 3.151508183907527, 'min_child_samples': 74, 'n_estimators': 749}. Best is trial 0 with value: 0.10199453047681575.\u001b[0m\n",
      "\u001b[32m[I 2021-09-19 00:00:08,017]\u001b[0m Trial 121 finished with value: 0.10199453047681575 and parameters: {'num_leaves': 170, 'reg_alpha': 6.4980866998732845, 'min_child_samples': 88, 'n_estimators': 539}. Best is trial 0 with value: 0.10199453047681575.\u001b[0m\n",
      "\u001b[32m[I 2021-09-19 00:00:08,730]\u001b[0m Trial 122 finished with value: 0.10199453047681575 and parameters: {'num_leaves': 186, 'reg_alpha': 5.610413324083834e-05, 'min_child_samples': 67, 'n_estimators': 873}. Best is trial 0 with value: 0.10199453047681575.\u001b[0m\n",
      "\u001b[32m[I 2021-09-19 00:00:09,462]\u001b[0m Trial 123 finished with value: 0.10199453047681575 and parameters: {'num_leaves': 163, 'reg_alpha': 3.147599244534667e-05, 'min_child_samples': 80, 'n_estimators': 885}. Best is trial 0 with value: 0.10199453047681575.\u001b[0m\n",
      "\u001b[32m[I 2021-09-19 00:00:10,258]\u001b[0m Trial 124 finished with value: 0.10199453047681575 and parameters: {'num_leaves': 190, 'reg_alpha': 9.160804034309788e-06, 'min_child_samples': 62, 'n_estimators': 830}. Best is trial 0 with value: 0.10199453047681575.\u001b[0m\n",
      "\u001b[32m[I 2021-09-19 00:00:10,969]\u001b[0m Trial 125 finished with value: 0.10199453047681575 and parameters: {'num_leaves': 207, 'reg_alpha': 0.0003632240663123543, 'min_child_samples': 54, 'n_estimators': 876}. Best is trial 0 with value: 0.10199453047681575.\u001b[0m\n",
      "\u001b[32m[I 2021-09-19 00:00:11,680]\u001b[0m Trial 126 finished with value: 0.10199453047681575 and parameters: {'num_leaves': 198, 'reg_alpha': 8.16166524467505e-05, 'min_child_samples': 54, 'n_estimators': 887}. Best is trial 0 with value: 0.10199453047681575.\u001b[0m\n",
      "\u001b[32m[I 2021-09-19 00:00:12,442]\u001b[0m Trial 127 finished with value: 0.10199453047681575 and parameters: {'num_leaves': 249, 'reg_alpha': 0.00013503432936685816, 'min_child_samples': 59, 'n_estimators': 931}. Best is trial 0 with value: 0.10199453047681575.\u001b[0m\n"
     ]
    },
    {
     "name": "stderr",
     "output_type": "stream",
     "text": [
      "\u001b[32m[I 2021-09-19 00:00:13,157]\u001b[0m Trial 128 finished with value: 0.10199453047681575 and parameters: {'num_leaves': 175, 'reg_alpha': 0.00022230973158669678, 'min_child_samples': 69, 'n_estimators': 862}. Best is trial 0 with value: 0.10199453047681575.\u001b[0m\n",
      "\u001b[32m[I 2021-09-19 00:00:13,883]\u001b[0m Trial 129 finished with value: 0.10199453047681575 and parameters: {'num_leaves': 255, 'reg_alpha': 2.0251546534337575e-05, 'min_child_samples': 62, 'n_estimators': 903}. Best is trial 0 with value: 0.10199453047681575.\u001b[0m\n",
      "\u001b[32m[I 2021-09-19 00:00:14,601]\u001b[0m Trial 130 finished with value: 0.10199453047681575 and parameters: {'num_leaves': 180, 'reg_alpha': 3.722992359781807e-05, 'min_child_samples': 73, 'n_estimators': 800}. Best is trial 0 with value: 0.10199453047681575.\u001b[0m\n",
      "\u001b[32m[I 2021-09-19 00:00:15,343]\u001b[0m Trial 131 finished with value: 0.10199453047681575 and parameters: {'num_leaves': 212, 'reg_alpha': 3.396970932440059e-08, 'min_child_samples': 50, 'n_estimators': 825}. Best is trial 0 with value: 0.10199453047681575.\u001b[0m\n",
      "\u001b[32m[I 2021-09-19 00:00:16,074]\u001b[0m Trial 132 finished with value: 0.10199453047681575 and parameters: {'num_leaves': 231, 'reg_alpha': 1.0398382427300607e-07, 'min_child_samples': 94, 'n_estimators': 856}. Best is trial 0 with value: 0.10199453047681575.\u001b[0m\n",
      "\u001b[32m[I 2021-09-19 00:00:16,779]\u001b[0m Trial 133 finished with value: 0.10199453047681575 and parameters: {'num_leaves': 236, 'reg_alpha': 1.740995162051438e-08, 'min_child_samples': 62, 'n_estimators': 837}. Best is trial 0 with value: 0.10199453047681575.\u001b[0m\n",
      "\u001b[32m[I 2021-09-19 00:00:17,484]\u001b[0m Trial 134 finished with value: 0.10199453047681575 and parameters: {'num_leaves': 220, 'reg_alpha': 4.586088292675354e-08, 'min_child_samples': 47, 'n_estimators': 794}. Best is trial 0 with value: 0.10199453047681575.\u001b[0m\n",
      "\u001b[32m[I 2021-09-19 00:00:18,197]\u001b[0m Trial 135 finished with value: 0.10199453047681575 and parameters: {'num_leaves': 243, 'reg_alpha': 8.627202585719844e-07, 'min_child_samples': 42, 'n_estimators': 971}. Best is trial 0 with value: 0.10199453047681575.\u001b[0m\n",
      "\u001b[32m[I 2021-09-19 00:00:18,924]\u001b[0m Trial 136 finished with value: 0.10199453047681575 and parameters: {'num_leaves': 225, 'reg_alpha': 1.0667854930170207e-08, 'min_child_samples': 38, 'n_estimators': 972}. Best is trial 0 with value: 0.10199453047681575.\u001b[0m\n",
      "\u001b[32m[I 2021-09-19 00:00:19,670]\u001b[0m Trial 137 finished with value: 0.10199453047681575 and parameters: {'num_leaves': 247, 'reg_alpha': 1.8165357800137162e-08, 'min_child_samples': 44, 'n_estimators': 913}. Best is trial 0 with value: 0.10199453047681575.\u001b[0m\n",
      "\u001b[32m[I 2021-09-19 00:00:20,381]\u001b[0m Trial 138 finished with value: 0.10199453047681575 and parameters: {'num_leaves': 234, 'reg_alpha': 2.996961476653198e-07, 'min_child_samples': 45, 'n_estimators': 995}. Best is trial 0 with value: 0.10199453047681575.\u001b[0m\n",
      "\u001b[32m[I 2021-09-19 00:00:21,165]\u001b[0m Trial 139 finished with value: 0.10199453047681575 and parameters: {'num_leaves': 9, 'reg_alpha': 2.6398292921333468e-06, 'min_child_samples': 41, 'n_estimators': 952}. Best is trial 0 with value: 0.10199453047681575.\u001b[0m\n",
      "\u001b[32m[I 2021-09-19 00:00:21,946]\u001b[0m Trial 140 finished with value: 0.10199453047681575 and parameters: {'num_leaves': 32, 'reg_alpha': 5.232804821543278e-07, 'min_child_samples': 46, 'n_estimators': 930}. Best is trial 0 with value: 0.10199453047681575.\u001b[0m\n",
      "\u001b[32m[I 2021-09-19 00:00:22,698]\u001b[0m Trial 141 finished with value: 0.10199453047681575 and parameters: {'num_leaves': 21, 'reg_alpha': 8.379639007709952e-08, 'min_child_samples': 52, 'n_estimators': 962}. Best is trial 0 with value: 0.10199453047681575.\u001b[0m\n",
      "\u001b[32m[I 2021-09-19 00:00:23,408]\u001b[0m Trial 142 finished with value: 0.10199453047681575 and parameters: {'num_leaves': 223, 'reg_alpha': 0.002600396675479726, 'min_child_samples': 39, 'n_estimators': 987}. Best is trial 0 with value: 0.10199453047681575.\u001b[0m\n",
      "\u001b[32m[I 2021-09-19 00:00:24,132]\u001b[0m Trial 143 finished with value: 0.10199453047681575 and parameters: {'num_leaves': 31, 'reg_alpha': 2.783424059161202e-08, 'min_child_samples': 48, 'n_estimators': 933}. Best is trial 0 with value: 0.10199453047681575.\u001b[0m\n",
      "\u001b[32m[I 2021-09-19 00:00:24,943]\u001b[0m Trial 144 finished with value: 0.10199453047681575 and parameters: {'num_leaves': 40, 'reg_alpha': 0.004843474064114291, 'min_child_samples': 32, 'n_estimators': 136}. Best is trial 0 with value: 0.10199453047681575.\u001b[0m\n",
      "\u001b[32m[I 2021-09-19 00:00:25,689]\u001b[0m Trial 145 finished with value: 0.10199453047681575 and parameters: {'num_leaves': 217, 'reg_alpha': 0.013903313155778547, 'min_child_samples': 57, 'n_estimators': 782}. Best is trial 0 with value: 0.10199453047681575.\u001b[0m\n",
      "\u001b[32m[I 2021-09-19 00:00:26,525]\u001b[0m Trial 146 finished with value: 0.10199453047681575 and parameters: {'num_leaves': 45, 'reg_alpha': 0.0011319683614010314, 'min_child_samples': 26, 'n_estimators': 302}. Best is trial 0 with value: 0.10199453047681575.\u001b[0m\n",
      "\u001b[32m[I 2021-09-19 00:00:27,252]\u001b[0m Trial 147 finished with value: 0.10199453047681575 and parameters: {'num_leaves': 55, 'reg_alpha': 0.03141946907773975, 'min_child_samples': 23, 'n_estimators': 582}. Best is trial 0 with value: 0.10199453047681575.\u001b[0m\n",
      "\u001b[32m[I 2021-09-19 00:00:27,960]\u001b[0m Trial 148 finished with value: 0.10199453047681575 and parameters: {'num_leaves': 63, 'reg_alpha': 5.539310145379502e-08, 'min_child_samples': 29, 'n_estimators': 993}. Best is trial 0 with value: 0.10199453047681575.\u001b[0m\n",
      "\u001b[32m[I 2021-09-19 00:00:28,657]\u001b[0m Trial 149 finished with value: 0.10199453047681575 and parameters: {'num_leaves': 75, 'reg_alpha': 2.8886325339638696e-07, 'min_child_samples': 19, 'n_estimators': 168}. Best is trial 0 with value: 0.10199453047681575.\u001b[0m\n"
     ]
    }
   ],
   "source": [
    "def objective(trial):\n",
    "    # hyperparameter setting\n",
    "    num_leaves = trial.suggest_int('num_leaves', 2, 256)\n",
    "    reg_alpha = trial.suggest_loguniform('reg_alpha', 1e-8, 10.0)\n",
    "    reg_lambda = trial.suggest_loguniform('reg_alpha', 1e-8, 10.0)\n",
    "    #learning_rate = trial.suggest_loguniform('learning_rate',0.0001,0.4)\n",
    "    min_child_samples = trial.suggest_int('min_child_samples', 5, 100)\n",
    "    n_estimators = trial.suggest_int('n_estimators',100,1000)\n",
    "    \n",
    "    lgbm = make_pipeline(full_pipe, LGBMRegressor(random_state=42, n_jobs=-1))\n",
    "    lgbm.fit(X_train, y_train)\n",
    "    y_pred = lgbm.predict(X_valid)\n",
    "    msle = mean_squared_log_error(y_valid, y_pred)\n",
    "    return msle\n",
    "\n",
    "study = optuna.create_study(direction='minimize')\n",
    "study.optimize(objective, n_trials=150)"
   ]
  },
  {
   "cell_type": "code",
   "execution_count": 13,
   "id": "fb63297f",
   "metadata": {},
   "outputs": [
    {
     "name": "stdout",
     "output_type": "stream",
     "text": [
      "Minimum mean squared log error: 0.10199453047681575\n",
      "Best parameter: {'num_leaves': 49, 'reg_alpha': 6.659965675575887e-08, 'min_child_samples': 40, 'n_estimators': 902}\n"
     ]
    }
   ],
   "source": [
    "print('Minimum mean squared log error: ' + str(study.best_value))\n",
    "print('Best parameter: ' + str(study.best_params))"
   ]
  },
  {
   "cell_type": "code",
   "execution_count": 19,
   "id": "87aafbd4",
   "metadata": {},
   "outputs": [
    {
     "name": "stderr",
     "output_type": "stream",
     "text": [
      "C:\\Users\\BHOLA\\anaconda3\\lib\\site-packages\\sklearn\\model_selection\\_validation.py:683: UserWarning: Scoring failed. The score on this train-test partition for these parameters will be set to nan. Details: \n",
      "Traceback (most recent call last):\n",
      "  File \"C:\\Users\\BHOLA\\anaconda3\\lib\\site-packages\\sklearn\\model_selection\\_validation.py\", line 674, in _score\n",
      "    scores = scorer(estimator, X_test, y_test)\n",
      "  File \"C:\\Users\\BHOLA\\anaconda3\\lib\\site-packages\\sklearn\\metrics\\_scorer.py\", line 87, in __call__\n",
      "    score = scorer._score(cached_call, estimator,\n",
      "  File \"C:\\Users\\BHOLA\\anaconda3\\lib\\site-packages\\sklearn\\metrics\\_scorer.py\", line 242, in _score\n",
      "    return self._sign * self._score_func(y_true, y_pred,\n",
      "  File \"C:\\Users\\BHOLA\\anaconda3\\lib\\site-packages\\sklearn\\utils\\validation.py\", line 63, in inner_f\n",
      "    return f(*args, **kwargs)\n",
      "  File \"C:\\Users\\BHOLA\\anaconda3\\lib\\site-packages\\sklearn\\metrics\\_regression.py\", line 413, in mean_squared_log_error\n",
      "    raise ValueError(\"Mean Squared Logarithmic Error cannot be used when \"\n",
      "ValueError: Mean Squared Logarithmic Error cannot be used when targets contain negative values.\n",
      "\n",
      "  warnings.warn(\n"
     ]
    },
    {
     "name": "stdout",
     "output_type": "stream",
     "text": [
      "Scores: [0.10217816 0.07070072 0.05705155        nan 0.28774859]\n",
      "Average score: nan\n"
     ]
    }
   ],
   "source": [
    "from  sklearn.model_selection import cross_val_score\n",
    "\n",
    "lgbm = make_pipeline(full_pipe, LGBMRegressor(num_leaves=49,\n",
    "                                              reg_alpha=6.659965675575887e-08,\n",
    "                                              min_child_samples=40,\n",
    "                                              n_estimators=902,\n",
    "                                              random_state=42,n_jobs=-1))\n",
    "scores = cross_val_score(lgbm, X_train, y_train, cv=5, scoring=\"neg_mean_squared_log_error\")\n",
    "print(\"Scores:\", -scores)\n",
    "print(\"Average score:\", np.mean(-scores))"
   ]
  },
  {
   "cell_type": "code",
   "execution_count": 20,
   "id": "efc0446e",
   "metadata": {},
   "outputs": [],
   "source": [
    "lgbm.fit(X_train1, y_train1)\n",
    "submission['Sales'] = lgbm.predict(X_test)\n",
    "save_dataframe(submission, \"lgbm_optuna.csv\")"
   ]
  },
  {
   "cell_type": "code",
   "execution_count": 22,
   "id": "c0460ddc",
   "metadata": {},
   "outputs": [
    {
     "name": "stderr",
     "output_type": "stream",
     "text": [
      "\u001b[32m[I 2021-09-19 00:24:06,997]\u001b[0m A new study created in memory with name: no-name-592acede-5004-4a0c-ada1-0b333e862321\u001b[0m\n",
      "\u001b[32m[I 2021-09-19 00:25:12,900]\u001b[0m Trial 0 finished with value: 0.116745845740955 and parameters: {'max_depth': 27, 'min_samples_split': 4, 'min_samples_leaf': 13, 'max_features': 'auto', 'n_estimators': 129}. Best is trial 0 with value: 0.116745845740955.\u001b[0m\n",
      "\u001b[32m[I 2021-09-19 00:26:20,951]\u001b[0m Trial 1 finished with value: 0.116745845740955 and parameters: {'max_depth': 20, 'min_samples_split': 10, 'min_samples_leaf': 18, 'max_features': 'sqrt', 'n_estimators': 269}. Best is trial 0 with value: 0.116745845740955.\u001b[0m\n",
      "\u001b[32m[I 2021-09-19 00:27:25,612]\u001b[0m Trial 2 finished with value: 0.116745845740955 and parameters: {'max_depth': 18, 'min_samples_split': 2, 'min_samples_leaf': 3, 'max_features': 'log2', 'n_estimators': 250}. Best is trial 0 with value: 0.116745845740955.\u001b[0m\n",
      "\u001b[32m[I 2021-09-19 00:28:30,367]\u001b[0m Trial 3 finished with value: 0.116745845740955 and parameters: {'max_depth': 40, 'min_samples_split': 18, 'min_samples_leaf': 8, 'max_features': 'log2', 'n_estimators': 477}. Best is trial 0 with value: 0.116745845740955.\u001b[0m\n",
      "\u001b[32m[I 2021-09-19 00:29:32,402]\u001b[0m Trial 4 finished with value: 0.116745845740955 and parameters: {'max_depth': 26, 'min_samples_split': 11, 'min_samples_leaf': 20, 'max_features': 'auto', 'n_estimators': 220}. Best is trial 0 with value: 0.116745845740955.\u001b[0m\n",
      "\u001b[32m[I 2021-09-19 00:30:34,684]\u001b[0m Trial 5 finished with value: 0.116745845740955 and parameters: {'max_depth': 8, 'min_samples_split': 18, 'min_samples_leaf': 8, 'max_features': 'log2', 'n_estimators': 394}. Best is trial 0 with value: 0.116745845740955.\u001b[0m\n",
      "\u001b[32m[I 2021-09-19 00:31:37,538]\u001b[0m Trial 6 finished with value: 0.116745845740955 and parameters: {'max_depth': 20, 'min_samples_split': 3, 'min_samples_leaf': 4, 'max_features': 'log2', 'n_estimators': 138}. Best is trial 0 with value: 0.116745845740955.\u001b[0m\n",
      "\u001b[32m[I 2021-09-19 00:32:40,170]\u001b[0m Trial 7 finished with value: 0.116745845740955 and parameters: {'max_depth': 20, 'min_samples_split': 14, 'min_samples_leaf': 2, 'max_features': 'sqrt', 'n_estimators': 410}. Best is trial 0 with value: 0.116745845740955.\u001b[0m\n",
      "\u001b[32m[I 2021-09-19 00:33:42,119]\u001b[0m Trial 8 finished with value: 0.116745845740955 and parameters: {'max_depth': 27, 'min_samples_split': 6, 'min_samples_leaf': 15, 'max_features': 'log2', 'n_estimators': 200}. Best is trial 0 with value: 0.116745845740955.\u001b[0m\n",
      "\u001b[32m[I 2021-09-19 00:34:46,144]\u001b[0m Trial 9 finished with value: 0.116745845740955 and parameters: {'max_depth': 14, 'min_samples_split': 16, 'min_samples_leaf': 9, 'max_features': 'auto', 'n_estimators': 201}. Best is trial 0 with value: 0.116745845740955.\u001b[0m\n",
      "\u001b[32m[I 2021-09-19 00:35:48,068]\u001b[0m Trial 10 finished with value: 0.116745845740955 and parameters: {'max_depth': 35, 'min_samples_split': 7, 'min_samples_leaf': 13, 'max_features': 'auto', 'n_estimators': 101}. Best is trial 0 with value: 0.116745845740955.\u001b[0m\n",
      "\u001b[32m[I 2021-09-19 00:36:50,683]\u001b[0m Trial 11 finished with value: 0.116745845740955 and parameters: {'max_depth': 30, 'min_samples_split': 10, 'min_samples_leaf': 18, 'max_features': 'sqrt', 'n_estimators': 305}. Best is trial 0 with value: 0.116745845740955.\u001b[0m\n",
      "\u001b[32m[I 2021-09-19 00:37:52,331]\u001b[0m Trial 12 finished with value: 0.116745845740955 and parameters: {'max_depth': 12, 'min_samples_split': 6, 'min_samples_leaf': 15, 'max_features': 'sqrt', 'n_estimators': 308}. Best is trial 0 with value: 0.116745845740955.\u001b[0m\n",
      "\u001b[32m[I 2021-09-19 00:38:54,236]\u001b[0m Trial 13 finished with value: 0.116745845740955 and parameters: {'max_depth': 32, 'min_samples_split': 9, 'min_samples_leaf': 12, 'max_features': 'sqrt', 'n_estimators': 153}. Best is trial 0 with value: 0.116745845740955.\u001b[0m\n",
      "\u001b[32m[I 2021-09-19 00:39:57,027]\u001b[0m Trial 14 finished with value: 0.116745845740955 and parameters: {'max_depth': 24, 'min_samples_split': 13, 'min_samples_leaf': 17, 'max_features': 'auto', 'n_estimators': 359}. Best is trial 0 with value: 0.116745845740955.\u001b[0m\n",
      "\u001b[32m[I 2021-09-19 00:40:59,481]\u001b[0m Trial 15 finished with value: 0.116745845740955 and parameters: {'max_depth': 15, 'min_samples_split': 4, 'min_samples_leaf': 20, 'max_features': 'sqrt', 'n_estimators': 278}. Best is trial 0 with value: 0.116745845740955.\u001b[0m\n",
      "\u001b[32m[I 2021-09-19 00:42:01,288]\u001b[0m Trial 16 finished with value: 0.116745845740955 and parameters: {'max_depth': 23, 'min_samples_split': 8, 'min_samples_leaf': 15, 'max_features': 'auto', 'n_estimators': 157}. Best is trial 0 with value: 0.116745845740955.\u001b[0m\n",
      "\u001b[32m[I 2021-09-19 00:43:04,407]\u001b[0m Trial 17 finished with value: 0.116745845740955 and parameters: {'max_depth': 36, 'min_samples_split': 13, 'min_samples_leaf': 11, 'max_features': 'auto', 'n_estimators': 358}. Best is trial 0 with value: 0.116745845740955.\u001b[0m\n",
      "\u001b[32m[I 2021-09-19 00:44:06,104]\u001b[0m Trial 18 finished with value: 0.116745845740955 and parameters: {'max_depth': 14, 'min_samples_split': 4, 'min_samples_leaf': 20, 'max_features': 'sqrt', 'n_estimators': 468}. Best is trial 0 with value: 0.116745845740955.\u001b[0m\n",
      "\u001b[32m[I 2021-09-19 00:45:08,183]\u001b[0m Trial 19 finished with value: 0.116745845740955 and parameters: {'max_depth': 29, 'min_samples_split': 8, 'min_samples_leaf': 14, 'max_features': 'auto', 'n_estimators': 155}. Best is trial 0 with value: 0.116745845740955.\u001b[0m\n",
      "\u001b[32m[I 2021-09-19 00:46:10,087]\u001b[0m Trial 20 finished with value: 0.116745845740955 and parameters: {'max_depth': 38, 'min_samples_split': 14, 'min_samples_leaf': 11, 'max_features': 'auto', 'n_estimators': 343}. Best is trial 0 with value: 0.116745845740955.\u001b[0m\n",
      "\u001b[32m[I 2021-09-19 00:47:12,357]\u001b[0m Trial 21 finished with value: 0.116745845740955 and parameters: {'max_depth': 5, 'min_samples_split': 4, 'min_samples_leaf': 5, 'max_features': 'auto', 'n_estimators': 466}. Best is trial 0 with value: 0.116745845740955.\u001b[0m\n",
      "\u001b[32m[I 2021-09-19 00:48:16,354]\u001b[0m Trial 22 finished with value: 0.116745845740955 and parameters: {'max_depth': 29, 'min_samples_split': 5, 'min_samples_leaf': 14, 'max_features': 'auto', 'n_estimators': 108}. Best is trial 0 with value: 0.116745845740955.\u001b[0m\n",
      "\u001b[32m[I 2021-09-19 00:49:20,450]\u001b[0m Trial 23 finished with value: 0.116745845740955 and parameters: {'max_depth': 40, 'min_samples_split': 20, 'min_samples_leaf': 10, 'max_features': 'auto', 'n_estimators': 178}. Best is trial 0 with value: 0.116745845740955.\u001b[0m\n",
      "\u001b[32m[I 2021-09-19 00:50:24,529]\u001b[0m Trial 24 finished with value: 0.116745845740955 and parameters: {'max_depth': 6, 'min_samples_split': 2, 'min_samples_leaf': 6, 'max_features': 'auto', 'n_estimators': 435}. Best is trial 0 with value: 0.116745845740955.\u001b[0m\n",
      "\u001b[32m[I 2021-09-19 00:51:28,422]\u001b[0m Trial 25 finished with value: 0.116745845740955 and parameters: {'max_depth': 33, 'min_samples_split': 5, 'min_samples_leaf': 6, 'max_features': 'auto', 'n_estimators': 127}. Best is trial 0 with value: 0.116745845740955.\u001b[0m\n",
      "\u001b[32m[I 2021-09-19 00:52:31,522]\u001b[0m Trial 26 finished with value: 0.116745845740955 and parameters: {'max_depth': 40, 'min_samples_split': 20, 'min_samples_leaf': 9, 'max_features': 'auto', 'n_estimators': 104}. Best is trial 0 with value: 0.116745845740955.\u001b[0m\n",
      "\u001b[32m[I 2021-09-19 00:53:35,812]\u001b[0m Trial 27 finished with value: 0.116745845740955 and parameters: {'max_depth': 10, 'min_samples_split': 2, 'min_samples_leaf': 6, 'max_features': 'auto', 'n_estimators': 184}. Best is trial 0 with value: 0.116745845740955.\u001b[0m\n",
      "\u001b[32m[I 2021-09-19 00:54:39,873]\u001b[0m Trial 28 finished with value: 0.116745845740955 and parameters: {'max_depth': 33, 'min_samples_split': 2, 'min_samples_leaf': 6, 'max_features': 'auto', 'n_estimators': 228}. Best is trial 0 with value: 0.116745845740955.\u001b[0m\n",
      "\u001b[32m[I 2021-09-19 00:55:43,935]\u001b[0m Trial 29 finished with value: 0.116745845740955 and parameters: {'max_depth': 36, 'min_samples_split': 12, 'min_samples_leaf': 1, 'max_features': 'auto', 'n_estimators': 134}. Best is trial 0 with value: 0.116745845740955.\u001b[0m\n",
      "\u001b[32m[I 2021-09-19 00:56:47,716]\u001b[0m Trial 30 finished with value: 0.116745845740955 and parameters: {'max_depth': 9, 'min_samples_split': 16, 'min_samples_leaf': 8, 'max_features': 'auto', 'n_estimators': 178}. Best is trial 0 with value: 0.116745845740955.\u001b[0m\n"
     ]
    },
    {
     "name": "stderr",
     "output_type": "stream",
     "text": [
      "\u001b[32m[I 2021-09-19 00:57:50,971]\u001b[0m Trial 31 finished with value: 0.116745845740955 and parameters: {'max_depth': 32, 'min_samples_split': 2, 'min_samples_leaf': 6, 'max_features': 'auto', 'n_estimators': 229}. Best is trial 0 with value: 0.116745845740955.\u001b[0m\n",
      "\u001b[32m[I 2021-09-19 00:58:53,977]\u001b[0m Trial 32 finished with value: 0.116745845740955 and parameters: {'max_depth': 35, 'min_samples_split': 3, 'min_samples_leaf': 1, 'max_features': 'auto', 'n_estimators': 258}. Best is trial 0 with value: 0.116745845740955.\u001b[0m\n",
      "\u001b[32m[I 2021-09-19 00:59:57,363]\u001b[0m Trial 33 finished with value: 0.116745845740955 and parameters: {'max_depth': 37, 'min_samples_split': 15, 'min_samples_leaf': 4, 'max_features': 'auto', 'n_estimators': 231}. Best is trial 0 with value: 0.116745845740955.\u001b[0m\n",
      "\u001b[32m[I 2021-09-19 01:01:00,820]\u001b[0m Trial 34 finished with value: 0.116745845740955 and parameters: {'max_depth': 26, 'min_samples_split': 12, 'min_samples_leaf': 2, 'max_features': 'auto', 'n_estimators': 183}. Best is trial 0 with value: 0.116745845740955.\u001b[0m\n",
      "\u001b[32m[I 2021-09-19 01:02:05,314]\u001b[0m Trial 35 finished with value: 0.116745845740955 and parameters: {'max_depth': 22, 'min_samples_split': 8, 'min_samples_leaf': 12, 'max_features': 'log2', 'n_estimators': 342}. Best is trial 0 with value: 0.116745845740955.\u001b[0m\n",
      "\u001b[32m[I 2021-09-19 01:03:08,720]\u001b[0m Trial 36 finished with value: 0.116745845740955 and parameters: {'max_depth': 17, 'min_samples_split': 5, 'min_samples_leaf': 13, 'max_features': 'auto', 'n_estimators': 453}. Best is trial 0 with value: 0.116745845740955.\u001b[0m\n",
      "\u001b[32m[I 2021-09-19 01:04:11,977]\u001b[0m Trial 37 finished with value: 0.116745845740955 and parameters: {'max_depth': 29, 'min_samples_split': 4, 'min_samples_leaf': 16, 'max_features': 'log2', 'n_estimators': 499}. Best is trial 0 with value: 0.116745845740955.\u001b[0m\n",
      "\u001b[32m[I 2021-09-19 01:05:15,477]\u001b[0m Trial 38 finished with value: 0.116745845740955 and parameters: {'max_depth': 24, 'min_samples_split': 20, 'min_samples_leaf': 10, 'max_features': 'auto', 'n_estimators': 123}. Best is trial 0 with value: 0.116745845740955.\u001b[0m\n",
      "\u001b[32m[I 2021-09-19 01:06:18,994]\u001b[0m Trial 39 finished with value: 0.116745845740955 and parameters: {'max_depth': 19, 'min_samples_split': 6, 'min_samples_leaf': 17, 'max_features': 'auto', 'n_estimators': 400}. Best is trial 0 with value: 0.116745845740955.\u001b[0m\n",
      "\u001b[32m[I 2021-09-19 01:07:22,890]\u001b[0m Trial 40 finished with value: 0.116745845740955 and parameters: {'max_depth': 27, 'min_samples_split': 3, 'min_samples_leaf': 9, 'max_features': 'log2', 'n_estimators': 277}. Best is trial 0 with value: 0.116745845740955.\u001b[0m\n",
      "\u001b[32m[I 2021-09-19 01:08:26,315]\u001b[0m Trial 41 finished with value: 0.116745845740955 and parameters: {'max_depth': 40, 'min_samples_split': 5, 'min_samples_leaf': 7, 'max_features': 'auto', 'n_estimators': 122}. Best is trial 0 with value: 0.116745845740955.\u001b[0m\n",
      "\u001b[32m[I 2021-09-19 01:09:33,158]\u001b[0m Trial 42 finished with value: 0.116745845740955 and parameters: {'max_depth': 39, 'min_samples_split': 17, 'min_samples_leaf': 9, 'max_features': 'auto', 'n_estimators': 103}. Best is trial 0 with value: 0.116745845740955.\u001b[0m\n",
      "\u001b[32m[I 2021-09-19 01:10:37,761]\u001b[0m Trial 43 finished with value: 0.116745845740955 and parameters: {'max_depth': 40, 'min_samples_split': 20, 'min_samples_leaf': 10, 'max_features': 'auto', 'n_estimators': 431}. Best is trial 0 with value: 0.116745845740955.\u001b[0m\n",
      "\u001b[32m[I 2021-09-19 01:11:40,090]\u001b[0m Trial 44 finished with value: 0.116745845740955 and parameters: {'max_depth': 6, 'min_samples_split': 2, 'min_samples_leaf': 7, 'max_features': 'auto', 'n_estimators': 141}. Best is trial 0 with value: 0.116745845740955.\u001b[0m\n",
      "\u001b[32m[I 2021-09-19 01:12:41,956]\u001b[0m Trial 45 finished with value: 0.116745845740955 and parameters: {'max_depth': 9, 'min_samples_split': 3, 'min_samples_leaf': 6, 'max_features': 'auto', 'n_estimators': 205}. Best is trial 0 with value: 0.116745845740955.\u001b[0m\n",
      "\u001b[32m[I 2021-09-19 01:13:44,726]\u001b[0m Trial 46 finished with value: 0.116745845740955 and parameters: {'max_depth': 33, 'min_samples_split': 2, 'min_samples_leaf': 4, 'max_features': 'auto', 'n_estimators': 167}. Best is trial 0 with value: 0.116745845740955.\u001b[0m\n",
      "\u001b[32m[I 2021-09-19 01:14:47,527]\u001b[0m Trial 47 finished with value: 0.116745845740955 and parameters: {'max_depth': 33, 'min_samples_split': 7, 'min_samples_leaf': 5, 'max_features': 'auto', 'n_estimators': 212}. Best is trial 0 with value: 0.116745845740955.\u001b[0m\n",
      "\u001b[32m[I 2021-09-19 01:15:50,104]\u001b[0m Trial 48 finished with value: 0.116745845740955 and parameters: {'max_depth': 37, 'min_samples_split': 11, 'min_samples_leaf': 1, 'max_features': 'sqrt', 'n_estimators': 142}. Best is trial 0 with value: 0.116745845740955.\u001b[0m\n",
      "\u001b[32m[I 2021-09-19 01:16:53,858]\u001b[0m Trial 49 finished with value: 0.116745845740955 and parameters: {'max_depth': 31, 'min_samples_split': 18, 'min_samples_leaf': 3, 'max_features': 'log2', 'n_estimators': 192}. Best is trial 0 with value: 0.116745845740955.\u001b[0m\n"
     ]
    }
   ],
   "source": [
    "from sklearn.ensemble import RandomForestRegressor\n",
    "\n",
    "def objective(trial):\n",
    "    # hyperparameter setting\n",
    "    max_depth = trial.suggest_int(\"max_depth\",5,40)\n",
    "    min_samples_split = trial.suggest_int(\"min_samples_split\", 2, 20)\n",
    "    min_samples_leaf = trial.suggest_int(\"min_samples_leaf\", 1, 20)\n",
    "    max_features = trial.suggest_categorical('max_features', ['auto', 'sqrt','log2'])\n",
    "    n_estimators = trial.suggest_int(\"n_estimators\",100,500)\n",
    "    \n",
    "    rf = make_pipeline(full_pipe, RandomForestRegressor(random_state=42))\n",
    "    rf.fit(X_train, y_train)\n",
    "    y_pred = rf.predict(X_valid)\n",
    "    msle = mean_squared_log_error(y_valid, y_pred)\n",
    "    return msle\n",
    "\n",
    "study = optuna.create_study(direction='minimize')\n",
    "study.optimize(objective, n_trials=50)"
   ]
  },
  {
   "cell_type": "code",
   "execution_count": 23,
   "id": "302f2587",
   "metadata": {},
   "outputs": [
    {
     "name": "stdout",
     "output_type": "stream",
     "text": [
      "Minimum mean squared log error: 0.116745845740955\n",
      "Best parameter: {'max_depth': 27, 'min_samples_split': 4, 'min_samples_leaf': 13, 'max_features': 'auto', 'n_estimators': 129}\n"
     ]
    }
   ],
   "source": [
    "print('Minimum mean squared log error: ' + str(study.best_value))\n",
    "print('Best parameter: ' + str(study.best_params))"
   ]
  },
  {
   "cell_type": "code",
   "execution_count": null,
   "id": "8326c852",
   "metadata": {},
   "outputs": [],
   "source": []
  }
 ],
 "metadata": {
  "kernelspec": {
   "display_name": "Python 3",
   "language": "python",
   "name": "python3"
  },
  "language_info": {
   "codemirror_mode": {
    "name": "ipython",
    "version": 3
   },
   "file_extension": ".py",
   "mimetype": "text/x-python",
   "name": "python",
   "nbconvert_exporter": "python",
   "pygments_lexer": "ipython3",
   "version": "3.8.8"
  }
 },
 "nbformat": 4,
 "nbformat_minor": 5
}
