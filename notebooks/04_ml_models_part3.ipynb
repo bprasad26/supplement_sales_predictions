{
 "cells": [
  {
   "cell_type": "markdown",
   "id": "e802e6c3",
   "metadata": {},
   "source": [
    "## Setup"
   ]
  },
  {
   "cell_type": "code",
   "execution_count": 1,
   "id": "72a7669b",
   "metadata": {},
   "outputs": [],
   "source": [
    "import os\n",
    "import pandas as pd\n",
    "import numpy as np\n",
    "import matplotlib.pyplot as plt\n",
    "import plotly.graph_objects as go\n",
    "import plotly.express as px\n",
    "import seaborn\n",
    "%matplotlib inline\n",
    "\n",
    "# project paths\n",
    "project_root_dir = os.path.normpath(os.getcwd() + os.sep + os.pardir)\n",
    "\n",
    "data_path = os.path.join(project_root_dir, \"data\")\n",
    "os.makedirs(data_path, exist_ok=True)\n",
    "\n",
    "# function for reading data\n",
    "def read_data(filename, date_cols=None, file_path=data_path):\n",
    "    csv_path = os.path.join(file_path, filename)\n",
    "    return pd.read_csv(csv_path, parse_dates=date_cols)\n",
    "\n",
    "# function for saving data as csv file\n",
    "def save_dataframe(df, filename, file_path=data_path):\n",
    "    path = os.path.join(file_path, filename)\n",
    "    df.to_csv(path, index=False)"
   ]
  },
  {
   "cell_type": "markdown",
   "id": "648b8969",
   "metadata": {},
   "source": [
    "### Read Data"
   ]
  },
  {
   "cell_type": "code",
   "execution_count": 2,
   "id": "6777d805",
   "metadata": {},
   "outputs": [],
   "source": [
    "train = read_data(\"TRAIN.CSV\", date_cols=[\"Date\"])\n",
    "test = read_data(\"TEST_FINAL.csv\", date_cols=[\"Date\"])\n",
    "submission = read_data(\"SAMPLE.csv\")"
   ]
  },
  {
   "cell_type": "markdown",
   "id": "1d1cfa83",
   "metadata": {},
   "source": [
    "### Prepare data for ML"
   ]
  },
  {
   "cell_type": "code",
   "execution_count": 3,
   "id": "26dc9763",
   "metadata": {},
   "outputs": [],
   "source": [
    "from prepare import prepare_data\n",
    "X_train, y_train, X_test, full_pipe = prepare_data(train, test)"
   ]
  },
  {
   "cell_type": "markdown",
   "id": "48875926",
   "metadata": {},
   "source": [
    "# ML Models"
   ]
  },
  {
   "cell_type": "markdown",
   "id": "6a684e9c",
   "metadata": {},
   "source": [
    "### Linear SVR"
   ]
  },
  {
   "cell_type": "code",
   "execution_count": 4,
   "id": "224f6f02",
   "metadata": {},
   "outputs": [],
   "source": [
    "from sklearn.svm import LinearSVR\n",
    "from sklearn.pipeline import make_pipeline\n",
    "from sklearn.model_selection import cross_val_score\n",
    "from sklearn.model_selection import RandomizedSearchCV\n",
    "from scipy.stats import uniform, reciprocal"
   ]
  },
  {
   "cell_type": "code",
   "execution_count": 5,
   "id": "b4732db4",
   "metadata": {},
   "outputs": [
    {
     "name": "stdout",
     "output_type": "stream",
     "text": [
      "Scores: [0.10788181 0.07460828 0.08580756 0.20434581 0.13214094]\n",
      "Average score: 0.12095687881569946\n"
     ]
    }
   ],
   "source": [
    "lin_svr = make_pipeline(full_pipe, LinearSVR(random_state=42))\n",
    "\n",
    "scores = cross_val_score(lin_svr, X_train, y_train,cv=5, scoring=\"neg_mean_squared_log_error\")\n",
    "print(\"Scores:\", -scores)\n",
    "print(\"Average score:\", np.mean(-scores))"
   ]
  },
  {
   "cell_type": "code",
   "execution_count": 6,
   "id": "d24e41c3",
   "metadata": {},
   "outputs": [
    {
     "name": "stdout",
     "output_type": "stream",
     "text": [
      "Fitting 3 folds for each of 20 candidates, totalling 60 fits\n",
      "[CV] END linearsvr__C=4.745401188473625, linearsvr__tol=0.07114476009343418; total time=   1.0s\n",
      "[CV] END linearsvr__C=4.745401188473625, linearsvr__tol=0.07114476009343418; total time=   1.0s\n",
      "[CV] END linearsvr__C=4.745401188473625, linearsvr__tol=0.07114476009343418; total time=   1.0s\n",
      "[CV] END linearsvr__C=8.31993941811405, linearsvr__tol=0.006251373574521747; total time=   3.2s\n",
      "[CV] END linearsvr__C=8.31993941811405, linearsvr__tol=0.006251373574521747; total time=   3.2s\n",
      "[CV] END linearsvr__C=8.31993941811405, linearsvr__tol=0.006251373574521747; total time=   3.4s\n",
      "[CV] END linearsvr__C=2.560186404424365, linearsvr__tol=0.00029375384576328287; total time=   1.8s\n",
      "[CV] END linearsvr__C=2.560186404424365, linearsvr__tol=0.00029375384576328287; total time=   1.8s\n",
      "[CV] END linearsvr__C=2.560186404424365, linearsvr__tol=0.00029375384576328287; total time=   1.9s\n",
      "[CV] END linearsvr__C=1.5808361216819946, linearsvr__tol=0.039676050770529867; total time=   0.6s\n",
      "[CV] END linearsvr__C=1.5808361216819946, linearsvr__tol=0.039676050770529867; total time=   0.6s\n",
      "[CV] END linearsvr__C=1.5808361216819946, linearsvr__tol=0.039676050770529867; total time=   0.6s\n",
      "[CV] END linearsvr__C=7.011150117432088, linearsvr__tol=0.013311216080736881; total time=   2.4s\n",
      "[CV] END linearsvr__C=7.011150117432088, linearsvr__tol=0.013311216080736881; total time=   2.3s\n",
      "[CV] END linearsvr__C=7.011150117432088, linearsvr__tol=0.013311216080736881; total time=   2.4s\n",
      "[CV] END linearsvr__C=1.2058449429580245, linearsvr__tol=0.08123245085588685; total time=   0.5s\n",
      "[CV] END linearsvr__C=1.2058449429580245, linearsvr__tol=0.08123245085588685; total time=   0.5s\n",
      "[CV] END linearsvr__C=1.2058449429580245, linearsvr__tol=0.08123245085588685; total time=   0.5s\n",
      "[CV] END linearsvr__C=9.324426408004218, linearsvr__tol=0.00043352817949515634; total time=   5.2s\n",
      "[CV] END linearsvr__C=9.324426408004218, linearsvr__tol=0.00043352817949515634; total time=   5.2s\n",
      "[CV] END linearsvr__C=9.324426408004218, linearsvr__tol=0.00043352817949515634; total time=   5.4s\n",
      "[CV] END linearsvr__C=2.818249672071006, linearsvr__tol=0.00035498788321965016; total time=   2.0s\n",
      "[CV] END linearsvr__C=2.818249672071006, linearsvr__tol=0.00035498788321965016; total time=   2.0s\n",
      "[CV] END linearsvr__C=2.818249672071006, linearsvr__tol=0.00035498788321965016; total time=   2.1s\n",
      "[CV] END linearsvr__C=4.042422429595377, linearsvr__tol=0.00375205585512428; total time=   2.0s\n",
      "[CV] END linearsvr__C=4.042422429595377, linearsvr__tol=0.00375205585512428; total time=   2.0s\n",
      "[CV] END linearsvr__C=4.042422429595377, linearsvr__tol=0.00375205585512428; total time=   2.1s\n",
      "[CV] END linearsvr__C=5.319450186421157, linearsvr__tol=0.0007476312062252299; total time=   3.4s\n",
      "[CV] END linearsvr__C=5.319450186421157, linearsvr__tol=0.0007476312062252299; total time=   3.3s\n",
      "[CV] END linearsvr__C=5.319450186421157, linearsvr__tol=0.0007476312062252299; total time=   3.5s\n",
      "[CV] END linearsvr__C=7.118528947223795, linearsvr__tol=0.00026210878782654396; total time=   5.1s\n",
      "[CV] END linearsvr__C=7.118528947223795, linearsvr__tol=0.00026210878782654396; total time=   4.8s\n",
      "[CV] END linearsvr__C=7.118528947223795, linearsvr__tol=0.00026210878782654396; total time=   5.2s\n",
      "[CV] END linearsvr__C=3.9214464853521815, linearsvr__tol=0.0012562773503807024; total time=   2.9s\n",
      "[CV] END linearsvr__C=3.9214464853521815, linearsvr__tol=0.0012562773503807024; total time=   2.7s\n",
      "[CV] END linearsvr__C=3.9214464853521815, linearsvr__tol=0.0012562773503807024; total time=   2.8s\n",
      "[CV] END linearsvr__C=5.56069984217036, linearsvr__tol=0.022673986523780394; total time=   1.9s\n",
      "[CV] END linearsvr__C=5.56069984217036, linearsvr__tol=0.022673986523780394; total time=   1.7s\n",
      "[CV] END linearsvr__C=5.56069984217036, linearsvr__tol=0.022673986523780394; total time=   2.1s\n",
      "[CV] END linearsvr__C=2.996737821583597, linearsvr__tol=0.0034890188454913865; total time=   2.1s\n",
      "[CV] END linearsvr__C=2.996737821583597, linearsvr__tol=0.0034890188454913865; total time=   1.9s\n",
      "[CV] END linearsvr__C=2.996737821583597, linearsvr__tol=0.0034890188454913865; total time=   1.8s\n",
      "[CV] END linearsvr__C=6.924145688620425, linearsvr__tol=0.00013783237455007182; total time=   4.8s\n",
      "[CV] END linearsvr__C=6.924145688620425, linearsvr__tol=0.00013783237455007182; total time=   4.8s\n",
      "[CV] END linearsvr__C=6.924145688620425, linearsvr__tol=0.00013783237455007182; total time=   4.9s\n",
      "[CV] END linearsvr__C=7.075448519014383, linearsvr__tol=0.00032476735706274477; total time=   4.7s\n",
      "[CV] END linearsvr__C=7.075448519014383, linearsvr__tol=0.00032476735706274477; total time=   4.6s\n",
      "[CV] END linearsvr__C=7.075448519014383, linearsvr__tol=0.00032476735706274477; total time=   4.6s\n",
      "[CV] END linearsvr__C=1.6505159298527952, linearsvr__tol=0.07025166339242157; total time=   0.6s\n",
      "[CV] END linearsvr__C=1.6505159298527952, linearsvr__tol=0.07025166339242157; total time=   0.6s\n",
      "[CV] END linearsvr__C=1.6505159298527952, linearsvr__tol=0.07025166339242157; total time=   0.7s\n",
      "[CV] END linearsvr__C=10.656320330745594, linearsvr__tol=0.02661901888489055; total time=   2.6s\n",
      "[CV] END linearsvr__C=10.656320330745594, linearsvr__tol=0.02661901888489055; total time=   2.8s\n",
      "[CV] END linearsvr__C=10.656320330745594, linearsvr__tol=0.02661901888489055; total time=   2.9s\n",
      "[CV] END linearsvr__C=4.046137691733707, linearsvr__tol=0.00019634341572933326; total time=   2.8s\n",
      "[CV] END linearsvr__C=4.046137691733707, linearsvr__tol=0.00019634341572933326; total time=   3.0s\n",
      "[CV] END linearsvr__C=4.046137691733707, linearsvr__tol=0.00019634341572933326; total time=   2.9s\n",
      "[CV] END linearsvr__C=7.842330265121569, linearsvr__tol=0.00209149813290356; total time=   3.9s\n",
      "[CV] END linearsvr__C=7.842330265121569, linearsvr__tol=0.00209149813290356; total time=   3.8s\n",
      "[CV] END linearsvr__C=7.842330265121569, linearsvr__tol=0.00209149813290356; total time=   4.1s\n"
     ]
    },
    {
     "data": {
      "text/plain": [
       "RandomizedSearchCV(cv=3,\n",
       "                   estimator=Pipeline(steps=[('columntransformer',\n",
       "                                              ColumnTransformer(transformers=[('num',\n",
       "                                                                               Pipeline(steps=[('simpleimputer',\n",
       "                                                                                                SimpleImputer())]),\n",
       "                                                                               ['Store_id']),\n",
       "                                                                              ('cat',\n",
       "                                                                               Pipeline(steps=[('simpleimputer',\n",
       "                                                                                                SimpleImputer(fill_value='NA',\n",
       "                                                                                                              strategy='constant')),\n",
       "                                                                                               ('onehotencoder',\n",
       "                                                                                                OneHotEncoder(handle_unknown='ignore',\n",
       "                                                                                                              sparse=False))]),\n",
       "                                                                               ['Store_Ty...\n",
       "                                                                                'Month',\n",
       "                                                                                'Year'])])),\n",
       "                                             ('linearsvr',\n",
       "                                              LinearSVR(max_iter=100000,\n",
       "                                                        random_state=42))]),\n",
       "                   n_iter=20,\n",
       "                   param_distributions={'linearsvr__C': <scipy.stats._distn_infrastructure.rv_frozen object at 0x0000020C92218940>,\n",
       "                                        'linearsvr__tol': <scipy.stats._distn_infrastructure.rv_frozen object at 0x0000020C92218970>},\n",
       "                   random_state=42, scoring='neg_mean_squared_log_error',\n",
       "                   verbose=2)"
      ]
     },
     "execution_count": 6,
     "metadata": {},
     "output_type": "execute_result"
    }
   ],
   "source": [
    "lin_svr = make_pipeline(full_pipe, LinearSVR(random_state=42, max_iter=100000))\n",
    "\n",
    "param_dist = {\"linearsvr__C\": uniform(1, 10),\n",
    "              \"linearsvr__tol\": reciprocal(0.0001, 0.1)\n",
    "             }\n",
    "\n",
    "svr_rnd_search = RandomizedSearchCV(\n",
    "    lin_svr,\n",
    "    param_distributions=param_dist,\n",
    "    n_iter=20,\n",
    "    cv=3,\n",
    "    scoring=\"neg_mean_squared_log_error\",\n",
    "    random_state=42,\n",
    "    verbose=2\n",
    ")\n",
    "\n",
    "svr_rnd_search.fit(X_train, y_train)"
   ]
  },
  {
   "cell_type": "code",
   "execution_count": 7,
   "id": "d63007b3",
   "metadata": {},
   "outputs": [
    {
     "data": {
      "text/plain": [
       "-0.1307540115941013"
      ]
     },
     "execution_count": 7,
     "metadata": {},
     "output_type": "execute_result"
    }
   ],
   "source": [
    "svr_rnd_search.best_score_"
   ]
  },
  {
   "cell_type": "code",
   "execution_count": 8,
   "id": "81a77eea",
   "metadata": {},
   "outputs": [
    {
     "data": {
      "text/plain": [
       "{'linearsvr__C': 1.5808361216819946, 'linearsvr__tol': 0.039676050770529867}"
      ]
     },
     "execution_count": 8,
     "metadata": {},
     "output_type": "execute_result"
    }
   ],
   "source": [
    "svr_rnd_search.best_params_"
   ]
  },
  {
   "cell_type": "code",
   "execution_count": 9,
   "id": "f0302dbb",
   "metadata": {},
   "outputs": [],
   "source": [
    "submission['Sales'] = svr_rnd_search.best_estimator_.predict(X_test)\n",
    "save_dataframe(submission, \"lin_svr_hyper1.csv\")"
   ]
  },
  {
   "cell_type": "markdown",
   "id": "06237f48",
   "metadata": {},
   "source": [
    "## Random Forest"
   ]
  },
  {
   "cell_type": "code",
   "execution_count": 6,
   "id": "444460b3",
   "metadata": {},
   "outputs": [
    {
     "name": "stdout",
     "output_type": "stream",
     "text": [
      "Fitting 2 folds for each of 30 candidates, totalling 60 fits\n",
      "[CV] END randomforestregressor__max_depth=11, randomforestregressor__min_samples_leaf=4, randomforestregressor__min_samples_split=6, randomforestregressor__n_estimators=114; total time=   7.5s\n",
      "[CV] END randomforestregressor__max_depth=11, randomforestregressor__min_samples_leaf=4, randomforestregressor__min_samples_split=6, randomforestregressor__n_estimators=114; total time=   6.8s\n",
      "[CV] END randomforestregressor__max_depth=15, randomforestregressor__min_samples_leaf=8, randomforestregressor__min_samples_split=6, randomforestregressor__n_estimators=120; total time=   8.1s\n",
      "[CV] END randomforestregressor__max_depth=15, randomforestregressor__min_samples_leaf=8, randomforestregressor__min_samples_split=6, randomforestregressor__n_estimators=120; total time=   7.2s\n",
      "[CV] END randomforestregressor__max_depth=11, randomforestregressor__min_samples_leaf=3, randomforestregressor__min_samples_split=8, randomforestregressor__n_estimators=174; total time=  11.2s\n",
      "[CV] END randomforestregressor__max_depth=11, randomforestregressor__min_samples_leaf=3, randomforestregressor__min_samples_split=8, randomforestregressor__n_estimators=174; total time=  10.0s\n",
      "[CV] END randomforestregressor__max_depth=15, randomforestregressor__min_samples_leaf=8, randomforestregressor__min_samples_split=6, randomforestregressor__n_estimators=199; total time=  13.3s\n",
      "[CV] END randomforestregressor__max_depth=15, randomforestregressor__min_samples_leaf=8, randomforestregressor__min_samples_split=6, randomforestregressor__n_estimators=199; total time=  11.7s\n",
      "[CV] END randomforestregressor__max_depth=12, randomforestregressor__min_samples_leaf=8, randomforestregressor__min_samples_split=4, randomforestregressor__n_estimators=249; total time=  16.2s\n",
      "[CV] END randomforestregressor__max_depth=12, randomforestregressor__min_samples_leaf=8, randomforestregressor__min_samples_split=4, randomforestregressor__n_estimators=249; total time=  14.5s\n",
      "[CV] END randomforestregressor__max_depth=25, randomforestregressor__min_samples_leaf=2, randomforestregressor__min_samples_split=9, randomforestregressor__n_estimators=257; total time=  17.6s\n",
      "[CV] END randomforestregressor__max_depth=25, randomforestregressor__min_samples_leaf=2, randomforestregressor__min_samples_split=9, randomforestregressor__n_estimators=257; total time=  16.0s\n",
      "[CV] END randomforestregressor__max_depth=10, randomforestregressor__min_samples_leaf=2, randomforestregressor__min_samples_split=9, randomforestregressor__n_estimators=287; total time=  18.1s\n",
      "[CV] END randomforestregressor__max_depth=10, randomforestregressor__min_samples_leaf=2, randomforestregressor__min_samples_split=9, randomforestregressor__n_estimators=287; total time=  16.5s\n",
      "[CV] END randomforestregressor__max_depth=25, randomforestregressor__min_samples_leaf=1, randomforestregressor__min_samples_split=5, randomforestregressor__n_estimators=157; total time=  11.2s\n",
      "[CV] END randomforestregressor__max_depth=25, randomforestregressor__min_samples_leaf=1, randomforestregressor__min_samples_split=5, randomforestregressor__n_estimators=157; total time=  10.0s\n",
      "[CV] END randomforestregressor__max_depth=26, randomforestregressor__min_samples_leaf=9, randomforestregressor__min_samples_split=2, randomforestregressor__n_estimators=158; total time=  10.7s\n",
      "[CV] END randomforestregressor__max_depth=26, randomforestregressor__min_samples_leaf=9, randomforestregressor__min_samples_split=2, randomforestregressor__n_estimators=158; total time=   9.3s\n",
      "[CV] END randomforestregressor__max_depth=14, randomforestregressor__min_samples_leaf=3, randomforestregressor__min_samples_split=5, randomforestregressor__n_estimators=154; total time=  10.2s\n",
      "[CV] END randomforestregressor__max_depth=14, randomforestregressor__min_samples_leaf=3, randomforestregressor__min_samples_split=5, randomforestregressor__n_estimators=154; total time=   8.6s\n",
      "[CV] END randomforestregressor__max_depth=24, randomforestregressor__min_samples_leaf=9, randomforestregressor__min_samples_split=4, randomforestregressor__n_estimators=150; total time=  10.1s\n",
      "[CV] END randomforestregressor__max_depth=24, randomforestregressor__min_samples_leaf=9, randomforestregressor__min_samples_split=4, randomforestregressor__n_estimators=150; total time=   8.9s\n",
      "[CV] END randomforestregressor__max_depth=11, randomforestregressor__min_samples_leaf=5, randomforestregressor__min_samples_split=2, randomforestregressor__n_estimators=266; total time=  17.0s\n",
      "[CV] END randomforestregressor__max_depth=11, randomforestregressor__min_samples_leaf=5, randomforestregressor__min_samples_split=2, randomforestregressor__n_estimators=266; total time=  15.5s\n",
      "[CV] END randomforestregressor__max_depth=22, randomforestregressor__min_samples_leaf=4, randomforestregressor__min_samples_split=2, randomforestregressor__n_estimators=159; total time=  11.0s\n",
      "[CV] END randomforestregressor__max_depth=22, randomforestregressor__min_samples_leaf=4, randomforestregressor__min_samples_split=2, randomforestregressor__n_estimators=159; total time=   9.5s\n",
      "[CV] END randomforestregressor__max_depth=18, randomforestregressor__min_samples_leaf=2, randomforestregressor__min_samples_split=3, randomforestregressor__n_estimators=108; total time=   7.3s\n",
      "[CV] END randomforestregressor__max_depth=18, randomforestregressor__min_samples_leaf=2, randomforestregressor__min_samples_split=3, randomforestregressor__n_estimators=108; total time=   6.5s\n",
      "[CV] END randomforestregressor__max_depth=25, randomforestregressor__min_samples_leaf=2, randomforestregressor__min_samples_split=5, randomforestregressor__n_estimators=191; total time=  13.2s\n",
      "[CV] END randomforestregressor__max_depth=25, randomforestregressor__min_samples_leaf=2, randomforestregressor__min_samples_split=5, randomforestregressor__n_estimators=191; total time=  11.9s\n",
      "[CV] END randomforestregressor__max_depth=19, randomforestregressor__min_samples_leaf=7, randomforestregressor__min_samples_split=5, randomforestregressor__n_estimators=107; total time=   7.2s\n",
      "[CV] END randomforestregressor__max_depth=19, randomforestregressor__min_samples_leaf=7, randomforestregressor__min_samples_split=5, randomforestregressor__n_estimators=107; total time=   6.2s\n",
      "[CV] END randomforestregressor__max_depth=19, randomforestregressor__min_samples_leaf=3, randomforestregressor__min_samples_split=7, randomforestregressor__n_estimators=180; total time=  12.3s\n",
      "[CV] END randomforestregressor__max_depth=19, randomforestregressor__min_samples_leaf=3, randomforestregressor__min_samples_split=7, randomforestregressor__n_estimators=180; total time=  10.7s\n",
      "[CV] END randomforestregressor__max_depth=8, randomforestregressor__min_samples_leaf=2, randomforestregressor__min_samples_split=9, randomforestregressor__n_estimators=231; total time=  14.3s\n",
      "[CV] END randomforestregressor__max_depth=8, randomforestregressor__min_samples_leaf=2, randomforestregressor__min_samples_split=9, randomforestregressor__n_estimators=231; total time=  13.0s\n",
      "[CV] END randomforestregressor__max_depth=6, randomforestregressor__min_samples_leaf=6, randomforestregressor__min_samples_split=7, randomforestregressor__n_estimators=205; total time=  11.7s\n",
      "[CV] END randomforestregressor__max_depth=6, randomforestregressor__min_samples_leaf=6, randomforestregressor__min_samples_split=7, randomforestregressor__n_estimators=205; total time=  10.4s\n",
      "[CV] END randomforestregressor__max_depth=8, randomforestregressor__min_samples_leaf=6, randomforestregressor__min_samples_split=6, randomforestregressor__n_estimators=290; total time=  17.7s\n",
      "[CV] END randomforestregressor__max_depth=8, randomforestregressor__min_samples_leaf=6, randomforestregressor__min_samples_split=6, randomforestregressor__n_estimators=290; total time=  15.9s\n",
      "[CV] END randomforestregressor__max_depth=22, randomforestregressor__min_samples_leaf=2, randomforestregressor__min_samples_split=3, randomforestregressor__n_estimators=289; total time=  20.2s\n",
      "[CV] END randomforestregressor__max_depth=22, randomforestregressor__min_samples_leaf=2, randomforestregressor__min_samples_split=3, randomforestregressor__n_estimators=289; total time=  18.1s\n",
      "[CV] END randomforestregressor__max_depth=8, randomforestregressor__min_samples_leaf=8, randomforestregressor__min_samples_split=7, randomforestregressor__n_estimators=289; total time=  20.7s\n"
     ]
    },
    {
     "name": "stdout",
     "output_type": "stream",
     "text": [
      "[CV] END randomforestregressor__max_depth=8, randomforestregressor__min_samples_leaf=8, randomforestregressor__min_samples_split=7, randomforestregressor__n_estimators=289; total time=  16.6s\n",
      "[CV] END randomforestregressor__max_depth=12, randomforestregressor__min_samples_leaf=5, randomforestregressor__min_samples_split=9, randomforestregressor__n_estimators=181; total time=  13.1s\n",
      "[CV] END randomforestregressor__max_depth=12, randomforestregressor__min_samples_leaf=5, randomforestregressor__min_samples_split=9, randomforestregressor__n_estimators=181; total time=  10.8s\n",
      "[CV] END randomforestregressor__max_depth=19, randomforestregressor__min_samples_leaf=5, randomforestregressor__min_samples_split=9, randomforestregressor__n_estimators=253; total time=  18.3s\n",
      "[CV] END randomforestregressor__max_depth=19, randomforestregressor__min_samples_leaf=5, randomforestregressor__min_samples_split=9, randomforestregressor__n_estimators=253; total time=  15.9s\n",
      "[CV] END randomforestregressor__max_depth=29, randomforestregressor__min_samples_leaf=9, randomforestregressor__min_samples_split=6, randomforestregressor__n_estimators=114; total time=   8.2s\n",
      "[CV] END randomforestregressor__max_depth=29, randomforestregressor__min_samples_leaf=9, randomforestregressor__min_samples_split=6, randomforestregressor__n_estimators=114; total time=   7.4s\n",
      "[CV] END randomforestregressor__max_depth=17, randomforestregressor__min_samples_leaf=1, randomforestregressor__min_samples_split=2, randomforestregressor__n_estimators=170; total time=  12.0s\n",
      "[CV] END randomforestregressor__max_depth=17, randomforestregressor__min_samples_leaf=1, randomforestregressor__min_samples_split=2, randomforestregressor__n_estimators=170; total time=  11.3s\n",
      "[CV] END randomforestregressor__max_depth=13, randomforestregressor__min_samples_leaf=8, randomforestregressor__min_samples_split=2, randomforestregressor__n_estimators=235; total time=  16.5s\n",
      "[CV] END randomforestregressor__max_depth=13, randomforestregressor__min_samples_leaf=8, randomforestregressor__min_samples_split=2, randomforestregressor__n_estimators=235; total time=  14.3s\n",
      "[CV] END randomforestregressor__max_depth=28, randomforestregressor__min_samples_leaf=3, randomforestregressor__min_samples_split=2, randomforestregressor__n_estimators=235; total time=  17.6s\n",
      "[CV] END randomforestregressor__max_depth=28, randomforestregressor__min_samples_leaf=3, randomforestregressor__min_samples_split=2, randomforestregressor__n_estimators=235; total time=  15.5s\n",
      "[CV] END randomforestregressor__max_depth=7, randomforestregressor__min_samples_leaf=3, randomforestregressor__min_samples_split=2, randomforestregressor__n_estimators=222; total time=  14.0s\n",
      "[CV] END randomforestregressor__max_depth=7, randomforestregressor__min_samples_leaf=3, randomforestregressor__min_samples_split=2, randomforestregressor__n_estimators=222; total time=  13.5s\n",
      "[CV] END randomforestregressor__max_depth=9, randomforestregressor__min_samples_leaf=7, randomforestregressor__min_samples_split=3, randomforestregressor__n_estimators=140; total time=   9.1s\n",
      "[CV] END randomforestregressor__max_depth=9, randomforestregressor__min_samples_leaf=7, randomforestregressor__min_samples_split=3, randomforestregressor__n_estimators=140; total time=   9.4s\n"
     ]
    },
    {
     "data": {
      "text/plain": [
       "RandomizedSearchCV(cv=2,\n",
       "                   estimator=Pipeline(steps=[('columntransformer',\n",
       "                                              ColumnTransformer(transformers=[('num',\n",
       "                                                                               Pipeline(steps=[('simpleimputer',\n",
       "                                                                                                SimpleImputer())]),\n",
       "                                                                               ['Store_id']),\n",
       "                                                                              ('cat',\n",
       "                                                                               Pipeline(steps=[('simpleimputer',\n",
       "                                                                                                SimpleImputer(fill_value='NA',\n",
       "                                                                                                              strategy='constant')),\n",
       "                                                                                               ('onehotencoder',\n",
       "                                                                                                OneHotEncoder(handle_unknown='ignore',\n",
       "                                                                                                              sparse=False))]),\n",
       "                                                                               ['Store_Ty...\n",
       "                                        'randomforestregressor__min_samples_leaf': <scipy.stats._distn_infrastructure.rv_frozen object at 0x000001C914F8D8E0>,\n",
       "                                        'randomforestregressor__min_samples_split': <scipy.stats._distn_infrastructure.rv_frozen object at 0x000001C911BC5100>,\n",
       "                                        'randomforestregressor__n_estimators': <scipy.stats._distn_infrastructure.rv_frozen object at 0x000001C914C3F580>},\n",
       "                   random_state=42, scoring='neg_mean_squared_log_error',\n",
       "                   verbose=2)"
      ]
     },
     "execution_count": 6,
     "metadata": {},
     "output_type": "execute_result"
    }
   ],
   "source": [
    "from sklearn.model_selection import RandomizedSearchCV\n",
    "from scipy.stats import randint\n",
    "from sklearn.ensemble import RandomForestRegressor\n",
    "from sklearn.pipeline import make_pipeline\n",
    "\n",
    "param_dist = {\n",
    "    \"randomforestregressor__max_depth\": randint(low=5, high=30),\n",
    "    \"randomforestregressor__min_samples_split\": randint(low=2, high=10),\n",
    "    \"randomforestregressor__min_samples_leaf\": randint(low=1, high=10),\n",
    "    \"randomforestregressor__n_estimators\": randint(low=100,high=300)\n",
    "}\n",
    "\n",
    "rf = make_pipeline(\n",
    "    full_pipe, RandomForestRegressor(random_state=42, n_jobs=-1)\n",
    ")\n",
    "\n",
    "rf_rnd_search = RandomizedSearchCV(\n",
    "    rf,\n",
    "    param_distributions=param_dist,\n",
    "    n_iter=30,\n",
    "    cv=2,\n",
    "    scoring=\"neg_mean_squared_log_error\",\n",
    "    random_state=42,\n",
    "    verbose=2\n",
    ")\n",
    "\n",
    "rf_rnd_search.fit(X_train, y_train)"
   ]
  },
  {
   "cell_type": "code",
   "execution_count": 7,
   "id": "a872a011",
   "metadata": {},
   "outputs": [
    {
     "data": {
      "text/plain": [
       "-0.12344975773349076"
      ]
     },
     "execution_count": 7,
     "metadata": {},
     "output_type": "execute_result"
    }
   ],
   "source": [
    "rf_rnd_search.best_score_"
   ]
  },
  {
   "cell_type": "code",
   "execution_count": 8,
   "id": "a4edc1d4",
   "metadata": {},
   "outputs": [
    {
     "data": {
      "text/plain": [
       "{'randomforestregressor__max_depth': 7,\n",
       " 'randomforestregressor__min_samples_leaf': 3,\n",
       " 'randomforestregressor__min_samples_split': 2,\n",
       " 'randomforestregressor__n_estimators': 222}"
      ]
     },
     "execution_count": 8,
     "metadata": {},
     "output_type": "execute_result"
    }
   ],
   "source": [
    "rf_rnd_search.best_params_"
   ]
  },
  {
   "cell_type": "code",
   "execution_count": 9,
   "id": "6bc63d7d",
   "metadata": {},
   "outputs": [],
   "source": [
    "submission['Sales'] = rf_rnd_search.best_estimator_.predict(X_test)\n",
    "save_dataframe(submission,\"rf_hyper2.csv\")"
   ]
  },
  {
   "cell_type": "markdown",
   "id": "10f2a988",
   "metadata": {},
   "source": [
    "## Stacking"
   ]
  },
  {
   "cell_type": "code",
   "execution_count": 14,
   "id": "21635359",
   "metadata": {},
   "outputs": [
    {
     "name": "stdout",
     "output_type": "stream",
     "text": [
      "Scores: [0.08974682 0.1487915  0.21321321]\n",
      "Average score: 0.1505838418378722\n"
     ]
    }
   ],
   "source": [
    "from sklearn.linear_model import LinearRegression\n",
    "from sklearn.svm import LinearSVR\n",
    "from sklearn.ensemble import RandomForestRegressor\n",
    "from lightgbm import LGBMRegressor\n",
    "from sklearn.pipeline import make_pipeline\n",
    "from sklearn.ensemble import StackingRegressor\n",
    "from sklearn.model_selection import cross_val_score\n",
    "from sklearn.metrics import mean_squared_log_error\n",
    "\n",
    "rf_reg = RandomForestRegressor(random_state=42,\n",
    "                                 max_depth=30,\n",
    "                                 min_samples_leaf= 8,\n",
    "                                 min_samples_split= 6,\n",
    "                                 max_features=\"sqrt\",\n",
    "                                 n_jobs=-1)\n",
    "\n",
    "estimators = [\n",
    "    (\"rf\", rf_reg),\n",
    "    (\"svr\",LinearSVR(random_state=42)),\n",
    "    (\"lgb\",LGBMRegressor(random_state=42))\n",
    "]\n",
    "\n",
    "reg = StackingRegressor(estimators=estimators, final_estimator=LGBMRegressor(random_state=42))\n",
    "\n",
    "stacked_reg = make_pipeline(full_pipe, reg)\n",
    "\n",
    "scores = cross_val_score(stacked_reg, X_train, y_train, cv=3, scoring=\"neg_mean_squared_log_error\")\n",
    "print(\"Scores:\", -scores)\n",
    "print(\"Average score:\", np.mean(-scores))"
   ]
  },
  {
   "cell_type": "code",
   "execution_count": 6,
   "id": "9147b4e9",
   "metadata": {},
   "outputs": [],
   "source": [
    "stacked_reg.fit(X_train, y_train)\n",
    "submission['Sales'] = stacked_reg.predict(X_test)\n",
    "save_dataframe(submission, \"stacking1.csv\")"
   ]
  },
  {
   "cell_type": "code",
   "execution_count": null,
   "id": "c2a25534",
   "metadata": {},
   "outputs": [],
   "source": []
  }
 ],
 "metadata": {
  "kernelspec": {
   "display_name": "Python 3 (ipykernel)",
   "language": "python",
   "name": "python3"
  },
  "language_info": {
   "codemirror_mode": {
    "name": "ipython",
    "version": 3
   },
   "file_extension": ".py",
   "mimetype": "text/x-python",
   "name": "python",
   "nbconvert_exporter": "python",
   "pygments_lexer": "ipython3",
   "version": "3.9.12"
  }
 },
 "nbformat": 4,
 "nbformat_minor": 5
}
