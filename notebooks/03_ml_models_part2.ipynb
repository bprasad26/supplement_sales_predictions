{
 "cells": [
  {
   "cell_type": "markdown",
   "id": "50cb0f97",
   "metadata": {},
   "source": [
    "### Setup"
   ]
  },
  {
   "cell_type": "code",
   "execution_count": 1,
   "id": "6bba3381",
   "metadata": {},
   "outputs": [],
   "source": [
    "import os\n",
    "import pandas as pd\n",
    "import numpy as np\n",
    "import matplotlib.pyplot as plt\n",
    "import plotly.graph_objects as go\n",
    "import plotly.express as px\n",
    "import seaborn\n",
    "%matplotlib inline\n",
    "\n",
    "# project paths\n",
    "project_root_dir = os.path.normpath(os.getcwd() + os.sep + os.pardir)\n",
    "\n",
    "data_path = os.path.join(project_root_dir, \"data\")\n",
    "os.makedirs(data_path, exist_ok=True)\n",
    "\n",
    "# function for reading data\n",
    "def read_data(filename, date_cols=None, file_path=data_path):\n",
    "    csv_path = os.path.join(file_path, filename)\n",
    "    return pd.read_csv(csv_path, parse_dates=date_cols)\n",
    "\n",
    "# function for saving data as csv file\n",
    "def save_dataframe(df, filename, file_path=data_path):\n",
    "    path = os.path.join(file_path, filename)\n",
    "    df.to_csv(path, index=False)"
   ]
  },
  {
   "cell_type": "markdown",
   "id": "41c25477",
   "metadata": {},
   "source": [
    "### Read Data"
   ]
  },
  {
   "cell_type": "code",
   "execution_count": 2,
   "id": "48a2c84d",
   "metadata": {},
   "outputs": [],
   "source": [
    "train = read_data(\"TRAIN.CSV\", date_cols=[\"Date\"])\n",
    "test = read_data(\"TEST_FINAL.csv\", date_cols=[\"Date\"])\n",
    "submission = read_data(\"SAMPLE.csv\")"
   ]
  },
  {
   "cell_type": "markdown",
   "id": "ba0f192b",
   "metadata": {},
   "source": [
    "### Prepare Data For ML"
   ]
  },
  {
   "cell_type": "code",
   "execution_count": 3,
   "id": "1c3cd0fc",
   "metadata": {},
   "outputs": [],
   "source": [
    "from prepare import prepare_data"
   ]
  },
  {
   "cell_type": "code",
   "execution_count": 4,
   "id": "46c994b8",
   "metadata": {},
   "outputs": [],
   "source": [
    "X_train, y_train, X_test, full_pipe = prepare_data(train, test)"
   ]
  },
  {
   "cell_type": "markdown",
   "id": "31c67710",
   "metadata": {},
   "source": [
    "## Hyperparameter Tunning"
   ]
  },
  {
   "cell_type": "code",
   "execution_count": 5,
   "id": "01688118",
   "metadata": {},
   "outputs": [
    {
     "name": "stdout",
     "output_type": "stream",
     "text": [
      "Fitting 2 folds for each of 20 candidates, totalling 40 fits\n",
      "[CV] END linearsvr__C=4.745401188473625, linearsvr__loss=epsilon_insensitive, linearsvr__tol=0.002327392228062871; total time=   1.8s\n",
      "[CV] END linearsvr__C=4.745401188473625, linearsvr__loss=epsilon_insensitive, linearsvr__tol=0.002327392228062871; total time=   1.9s\n",
      "[CV] END linearsvr__C=8.796910002727692, linearsvr__loss=epsilon_insensitive, linearsvr__tol=0.0020513382630874496; total time=   3.0s\n",
      "[CV] END linearsvr__C=8.796910002727692, linearsvr__loss=epsilon_insensitive, linearsvr__tol=0.0020513382630874496; total time=   3.0s\n",
      "[CV] END linearsvr__C=2.5599452033620267, linearsvr__loss=epsilon_insensitive, linearsvr__tol=0.00828891686688514; total time=   1.0s\n",
      "[CV] END linearsvr__C=2.5599452033620267, linearsvr__loss=epsilon_insensitive, linearsvr__tol=0.00828891686688514; total time=   1.0s\n"
     ]
    },
    {
     "name": "stderr",
     "output_type": "stream",
     "text": [
      "C:\\Users\\BHOLA\\anaconda3\\lib\\site-packages\\sklearn\\svm\\_base.py:985: ConvergenceWarning: Liblinear failed to converge, increase the number of iterations.\n",
      "  warnings.warn(\"Liblinear failed to converge, increase \"\n"
     ]
    },
    {
     "name": "stdout",
     "output_type": "stream",
     "text": [
      "[CV] END linearsvr__C=4.337086111390218, linearsvr__loss=squared_epsilon_insensitive, linearsvr__tol=0.026070247583707663; total time= 1.8min\n"
     ]
    },
    {
     "name": "stderr",
     "output_type": "stream",
     "text": [
      "C:\\Users\\BHOLA\\anaconda3\\lib\\site-packages\\sklearn\\svm\\_base.py:985: ConvergenceWarning: Liblinear failed to converge, increase the number of iterations.\n",
      "  warnings.warn(\"Liblinear failed to converge, increase \"\n",
      "C:\\Users\\BHOLA\\anaconda3\\lib\\site-packages\\sklearn\\model_selection\\_validation.py:683: UserWarning: Scoring failed. The score on this train-test partition for these parameters will be set to nan. Details: \n",
      "Traceback (most recent call last):\n",
      "  File \"C:\\Users\\BHOLA\\anaconda3\\lib\\site-packages\\sklearn\\model_selection\\_validation.py\", line 674, in _score\n",
      "    scores = scorer(estimator, X_test, y_test)\n",
      "  File \"C:\\Users\\BHOLA\\anaconda3\\lib\\site-packages\\sklearn\\metrics\\_scorer.py\", line 199, in __call__\n",
      "    return self._score(partial(_cached_call, None), estimator, X, y_true,\n",
      "  File \"C:\\Users\\BHOLA\\anaconda3\\lib\\site-packages\\sklearn\\metrics\\_scorer.py\", line 242, in _score\n",
      "    return self._sign * self._score_func(y_true, y_pred,\n",
      "  File \"C:\\Users\\BHOLA\\anaconda3\\lib\\site-packages\\sklearn\\utils\\validation.py\", line 63, in inner_f\n",
      "    return f(*args, **kwargs)\n",
      "  File \"C:\\Users\\BHOLA\\anaconda3\\lib\\site-packages\\sklearn\\metrics\\_regression.py\", line 413, in mean_squared_log_error\n",
      "    raise ValueError(\"Mean Squared Logarithmic Error cannot be used when \"\n",
      "ValueError: Mean Squared Logarithmic Error cannot be used when targets contain negative values.\n",
      "\n",
      "  warnings.warn(\n"
     ]
    },
    {
     "name": "stdout",
     "output_type": "stream",
     "text": [
      "[CV] END linearsvr__C=4.337086111390218, linearsvr__loss=squared_epsilon_insensitive, linearsvr__tol=0.026070247583707663; total time= 1.7min\n"
     ]
    },
    {
     "name": "stderr",
     "output_type": "stream",
     "text": [
      "C:\\Users\\BHOLA\\anaconda3\\lib\\site-packages\\sklearn\\svm\\_base.py:985: ConvergenceWarning: Liblinear failed to converge, increase the number of iterations.\n",
      "  warnings.warn(\"Liblinear failed to converge, increase \"\n"
     ]
    },
    {
     "name": "stdout",
     "output_type": "stream",
     "text": [
      "[CV] END linearsvr__C=1.2058449429580245, linearsvr__loss=squared_epsilon_insensitive, linearsvr__tol=0.027796975515266813; total time= 1.8min\n"
     ]
    },
    {
     "name": "stderr",
     "output_type": "stream",
     "text": [
      "C:\\Users\\BHOLA\\anaconda3\\lib\\site-packages\\sklearn\\svm\\_base.py:985: ConvergenceWarning: Liblinear failed to converge, increase the number of iterations.\n",
      "  warnings.warn(\"Liblinear failed to converge, increase \"\n",
      "C:\\Users\\BHOLA\\anaconda3\\lib\\site-packages\\sklearn\\model_selection\\_validation.py:683: UserWarning: Scoring failed. The score on this train-test partition for these parameters will be set to nan. Details: \n",
      "Traceback (most recent call last):\n",
      "  File \"C:\\Users\\BHOLA\\anaconda3\\lib\\site-packages\\sklearn\\model_selection\\_validation.py\", line 674, in _score\n",
      "    scores = scorer(estimator, X_test, y_test)\n",
      "  File \"C:\\Users\\BHOLA\\anaconda3\\lib\\site-packages\\sklearn\\metrics\\_scorer.py\", line 199, in __call__\n",
      "    return self._score(partial(_cached_call, None), estimator, X, y_true,\n",
      "  File \"C:\\Users\\BHOLA\\anaconda3\\lib\\site-packages\\sklearn\\metrics\\_scorer.py\", line 242, in _score\n",
      "    return self._sign * self._score_func(y_true, y_pred,\n",
      "  File \"C:\\Users\\BHOLA\\anaconda3\\lib\\site-packages\\sklearn\\utils\\validation.py\", line 63, in inner_f\n",
      "    return f(*args, **kwargs)\n",
      "  File \"C:\\Users\\BHOLA\\anaconda3\\lib\\site-packages\\sklearn\\metrics\\_regression.py\", line 413, in mean_squared_log_error\n",
      "    raise ValueError(\"Mean Squared Logarithmic Error cannot be used when \"\n",
      "ValueError: Mean Squared Logarithmic Error cannot be used when targets contain negative values.\n",
      "\n",
      "  warnings.warn(\n"
     ]
    },
    {
     "name": "stdout",
     "output_type": "stream",
     "text": [
      "[CV] END linearsvr__C=1.2058449429580245, linearsvr__loss=squared_epsilon_insensitive, linearsvr__tol=0.027796975515266813; total time= 1.8min\n"
     ]
    },
    {
     "name": "stderr",
     "output_type": "stream",
     "text": [
      "C:\\Users\\BHOLA\\anaconda3\\lib\\site-packages\\sklearn\\svm\\_base.py:985: ConvergenceWarning: Liblinear failed to converge, increase the number of iterations.\n",
      "  warnings.warn(\"Liblinear failed to converge, increase \"\n"
     ]
    },
    {
     "name": "stdout",
     "output_type": "stream",
     "text": [
      "[CV] END linearsvr__C=10.385527090157503, linearsvr__loss=squared_epsilon_insensitive, linearsvr__tol=0.002310201887845293; total time= 1.7min\n"
     ]
    },
    {
     "name": "stderr",
     "output_type": "stream",
     "text": [
      "C:\\Users\\BHOLA\\anaconda3\\lib\\site-packages\\sklearn\\svm\\_base.py:985: ConvergenceWarning: Liblinear failed to converge, increase the number of iterations.\n",
      "  warnings.warn(\"Liblinear failed to converge, increase \"\n",
      "C:\\Users\\BHOLA\\anaconda3\\lib\\site-packages\\sklearn\\model_selection\\_validation.py:683: UserWarning: Scoring failed. The score on this train-test partition for these parameters will be set to nan. Details: \n",
      "Traceback (most recent call last):\n",
      "  File \"C:\\Users\\BHOLA\\anaconda3\\lib\\site-packages\\sklearn\\model_selection\\_validation.py\", line 674, in _score\n",
      "    scores = scorer(estimator, X_test, y_test)\n",
      "  File \"C:\\Users\\BHOLA\\anaconda3\\lib\\site-packages\\sklearn\\metrics\\_scorer.py\", line 199, in __call__\n",
      "    return self._score(partial(_cached_call, None), estimator, X, y_true,\n",
      "  File \"C:\\Users\\BHOLA\\anaconda3\\lib\\site-packages\\sklearn\\metrics\\_scorer.py\", line 242, in _score\n",
      "    return self._sign * self._score_func(y_true, y_pred,\n",
      "  File \"C:\\Users\\BHOLA\\anaconda3\\lib\\site-packages\\sklearn\\utils\\validation.py\", line 63, in inner_f\n",
      "    return f(*args, **kwargs)\n",
      "  File \"C:\\Users\\BHOLA\\anaconda3\\lib\\site-packages\\sklearn\\metrics\\_regression.py\", line 413, in mean_squared_log_error\n",
      "    raise ValueError(\"Mean Squared Logarithmic Error cannot be used when \"\n",
      "ValueError: Mean Squared Logarithmic Error cannot be used when targets contain negative values.\n",
      "\n",
      "  warnings.warn(\n"
     ]
    },
    {
     "name": "stdout",
     "output_type": "stream",
     "text": [
      "[CV] END linearsvr__C=10.385527090157503, linearsvr__loss=squared_epsilon_insensitive, linearsvr__tol=0.002310201887845293; total time= 1.8min\n"
     ]
    },
    {
     "name": "stderr",
     "output_type": "stream",
     "text": [
      "C:\\Users\\BHOLA\\anaconda3\\lib\\site-packages\\sklearn\\svm\\_base.py:985: ConvergenceWarning: Liblinear failed to converge, increase the number of iterations.\n",
      "  warnings.warn(\"Liblinear failed to converge, increase \"\n"
     ]
    },
    {
     "name": "stdout",
     "output_type": "stream",
     "text": [
      "[CV] END linearsvr__C=2.834045098534338, linearsvr__loss=squared_epsilon_insensitive, linearsvr__tol=0.016722697006183673; total time= 1.8min\n"
     ]
    },
    {
     "name": "stderr",
     "output_type": "stream",
     "text": [
      "C:\\Users\\BHOLA\\anaconda3\\lib\\site-packages\\sklearn\\svm\\_base.py:985: ConvergenceWarning: Liblinear failed to converge, increase the number of iterations.\n",
      "  warnings.warn(\"Liblinear failed to converge, increase \"\n",
      "C:\\Users\\BHOLA\\anaconda3\\lib\\site-packages\\sklearn\\model_selection\\_validation.py:683: UserWarning: Scoring failed. The score on this train-test partition for these parameters will be set to nan. Details: \n",
      "Traceback (most recent call last):\n",
      "  File \"C:\\Users\\BHOLA\\anaconda3\\lib\\site-packages\\sklearn\\model_selection\\_validation.py\", line 674, in _score\n",
      "    scores = scorer(estimator, X_test, y_test)\n",
      "  File \"C:\\Users\\BHOLA\\anaconda3\\lib\\site-packages\\sklearn\\metrics\\_scorer.py\", line 199, in __call__\n",
      "    return self._score(partial(_cached_call, None), estimator, X, y_true,\n",
      "  File \"C:\\Users\\BHOLA\\anaconda3\\lib\\site-packages\\sklearn\\metrics\\_scorer.py\", line 242, in _score\n",
      "    return self._sign * self._score_func(y_true, y_pred,\n",
      "  File \"C:\\Users\\BHOLA\\anaconda3\\lib\\site-packages\\sklearn\\utils\\validation.py\", line 63, in inner_f\n",
      "    return f(*args, **kwargs)\n",
      "  File \"C:\\Users\\BHOLA\\anaconda3\\lib\\site-packages\\sklearn\\metrics\\_regression.py\", line 413, in mean_squared_log_error\n",
      "    raise ValueError(\"Mean Squared Logarithmic Error cannot be used when \"\n",
      "ValueError: Mean Squared Logarithmic Error cannot be used when targets contain negative values.\n",
      "\n",
      "  warnings.warn(\n"
     ]
    },
    {
     "name": "stdout",
     "output_type": "stream",
     "text": [
      "[CV] END linearsvr__C=2.834045098534338, linearsvr__loss=squared_epsilon_insensitive, linearsvr__tol=0.016722697006183673; total time= 1.7min\n",
      "[CV] END linearsvr__C=1.070663052197174, linearsvr__loss=epsilon_insensitive, linearsvr__tol=0.003823475224675185; total time=   0.6s\n",
      "[CV] END linearsvr__C=1.070663052197174, linearsvr__loss=epsilon_insensitive, linearsvr__tol=0.003823475224675185; total time=   0.6s\n"
     ]
    },
    {
     "name": "stderr",
     "output_type": "stream",
     "text": [
      "C:\\Users\\BHOLA\\anaconda3\\lib\\site-packages\\sklearn\\svm\\_base.py:985: ConvergenceWarning: Liblinear failed to converge, increase the number of iterations.\n",
      "  warnings.warn(\"Liblinear failed to converge, increase \"\n"
     ]
    },
    {
     "name": "stdout",
     "output_type": "stream",
     "text": [
      "[CV] END linearsvr__C=7.118528947223795, linearsvr__loss=squared_epsilon_insensitive, linearsvr__tol=0.001239742034078414; total time= 1.8min\n"
     ]
    },
    {
     "name": "stderr",
     "output_type": "stream",
     "text": [
      "C:\\Users\\BHOLA\\anaconda3\\lib\\site-packages\\sklearn\\svm\\_base.py:985: ConvergenceWarning: Liblinear failed to converge, increase the number of iterations.\n",
      "  warnings.warn(\"Liblinear failed to converge, increase \"\n",
      "C:\\Users\\BHOLA\\anaconda3\\lib\\site-packages\\sklearn\\model_selection\\_validation.py:683: UserWarning: Scoring failed. The score on this train-test partition for these parameters will be set to nan. Details: \n",
      "Traceback (most recent call last):\n",
      "  File \"C:\\Users\\BHOLA\\anaconda3\\lib\\site-packages\\sklearn\\model_selection\\_validation.py\", line 674, in _score\n",
      "    scores = scorer(estimator, X_test, y_test)\n",
      "  File \"C:\\Users\\BHOLA\\anaconda3\\lib\\site-packages\\sklearn\\metrics\\_scorer.py\", line 199, in __call__\n",
      "    return self._score(partial(_cached_call, None), estimator, X, y_true,\n",
      "  File \"C:\\Users\\BHOLA\\anaconda3\\lib\\site-packages\\sklearn\\metrics\\_scorer.py\", line 242, in _score\n",
      "    return self._sign * self._score_func(y_true, y_pred,\n",
      "  File \"C:\\Users\\BHOLA\\anaconda3\\lib\\site-packages\\sklearn\\utils\\validation.py\", line 63, in inner_f\n",
      "    return f(*args, **kwargs)\n",
      "  File \"C:\\Users\\BHOLA\\anaconda3\\lib\\site-packages\\sklearn\\metrics\\_regression.py\", line 413, in mean_squared_log_error\n",
      "    raise ValueError(\"Mean Squared Logarithmic Error cannot be used when \"\n",
      "ValueError: Mean Squared Logarithmic Error cannot be used when targets contain negative values.\n",
      "\n",
      "  warnings.warn(\n"
     ]
    },
    {
     "name": "stdout",
     "output_type": "stream",
     "text": [
      "[CV] END linearsvr__C=7.118528947223795, linearsvr__loss=squared_epsilon_insensitive, linearsvr__tol=0.001239742034078414; total time= 1.8min\n",
      "[CV] END linearsvr__C=10.737555188414591, linearsvr__loss=epsilon_insensitive, linearsvr__tol=0.008168455894760163; total time=   3.1s\n",
      "[CV] END linearsvr__C=10.737555188414591, linearsvr__loss=epsilon_insensitive, linearsvr__tol=0.008168455894760163; total time=   3.2s\n",
      "[CV] END linearsvr__C=8.851759613930136, linearsvr__loss=epsilon_insensitive, linearsvr__tol=0.005820013372709849; total time=   2.8s\n",
      "[CV] END linearsvr__C=8.851759613930136, linearsvr__loss=epsilon_insensitive, linearsvr__tol=0.005820013372709849; total time=   2.7s\n",
      "[CV] END linearsvr__C=10.832308858067883, linearsvr__loss=epsilon_insensitive, linearsvr__tol=0.0012385137298860929; total time=   4.4s\n",
      "[CV] END linearsvr__C=10.832308858067883, linearsvr__loss=epsilon_insensitive, linearsvr__tol=0.0012385137298860929; total time=   4.1s\n",
      "[CV] END linearsvr__C=7.075448519014383, linearsvr__loss=epsilon_insensitive, linearsvr__tol=0.007961566078062943; total time=   2.0s\n",
      "[CV] END linearsvr__C=7.075448519014383, linearsvr__loss=epsilon_insensitive, linearsvr__tol=0.007961566078062943; total time=   2.1s\n",
      "[CV] END linearsvr__C=1.1326496115986653, linearsvr__loss=epsilon_insensitive, linearsvr__tol=0.08536189862866826; total time=   0.4s\n",
      "[CV] END linearsvr__C=1.1326496115986653, linearsvr__loss=epsilon_insensitive, linearsvr__tol=0.08536189862866826; total time=   0.5s\n",
      "[CV] END linearsvr__C=9.08397348116461, linearsvr__loss=epsilon_insensitive, linearsvr__tol=0.0010762979285747968; total time=   3.5s\n",
      "[CV] END linearsvr__C=9.08397348116461, linearsvr__loss=epsilon_insensitive, linearsvr__tol=0.0010762979285747968; total time=   3.4s\n"
     ]
    },
    {
     "name": "stderr",
     "output_type": "stream",
     "text": [
      "C:\\Users\\BHOLA\\anaconda3\\lib\\site-packages\\sklearn\\svm\\_base.py:985: ConvergenceWarning: Liblinear failed to converge, increase the number of iterations.\n",
      "  warnings.warn(\"Liblinear failed to converge, increase \"\n"
     ]
    },
    {
     "name": "stdout",
     "output_type": "stream",
     "text": [
      "[CV] END linearsvr__C=3.3089382562214897, linearsvr__loss=squared_epsilon_insensitive, linearsvr__tol=0.007591104805282692; total time= 1.8min\n"
     ]
    },
    {
     "name": "stderr",
     "output_type": "stream",
     "text": [
      "C:\\Users\\BHOLA\\anaconda3\\lib\\site-packages\\sklearn\\svm\\_base.py:985: ConvergenceWarning: Liblinear failed to converge, increase the number of iterations.\n",
      "  warnings.warn(\"Liblinear failed to converge, increase \"\n",
      "C:\\Users\\BHOLA\\anaconda3\\lib\\site-packages\\sklearn\\model_selection\\_validation.py:683: UserWarning: Scoring failed. The score on this train-test partition for these parameters will be set to nan. Details: \n",
      "Traceback (most recent call last):\n",
      "  File \"C:\\Users\\BHOLA\\anaconda3\\lib\\site-packages\\sklearn\\model_selection\\_validation.py\", line 674, in _score\n",
      "    scores = scorer(estimator, X_test, y_test)\n",
      "  File \"C:\\Users\\BHOLA\\anaconda3\\lib\\site-packages\\sklearn\\metrics\\_scorer.py\", line 199, in __call__\n",
      "    return self._score(partial(_cached_call, None), estimator, X, y_true,\n",
      "  File \"C:\\Users\\BHOLA\\anaconda3\\lib\\site-packages\\sklearn\\metrics\\_scorer.py\", line 242, in _score\n",
      "    return self._sign * self._score_func(y_true, y_pred,\n",
      "  File \"C:\\Users\\BHOLA\\anaconda3\\lib\\site-packages\\sklearn\\utils\\validation.py\", line 63, in inner_f\n",
      "    return f(*args, **kwargs)\n",
      "  File \"C:\\Users\\BHOLA\\anaconda3\\lib\\site-packages\\sklearn\\metrics\\_regression.py\", line 413, in mean_squared_log_error\n",
      "    raise ValueError(\"Mean Squared Logarithmic Error cannot be used when \"\n",
      "ValueError: Mean Squared Logarithmic Error cannot be used when targets contain negative values.\n",
      "\n",
      "  warnings.warn(\n"
     ]
    },
    {
     "name": "stdout",
     "output_type": "stream",
     "text": [
      "[CV] END linearsvr__C=3.3089382562214897, linearsvr__loss=squared_epsilon_insensitive, linearsvr__tol=0.007591104805282692; total time= 1.8min\n",
      "[CV] END linearsvr__C=2.2203823484477883, linearsvr__loss=epsilon_insensitive, linearsvr__tol=0.046386309723972764; total time=   0.6s\n",
      "[CV] END linearsvr__C=2.2203823484477883, linearsvr__loss=epsilon_insensitive, linearsvr__tol=0.046386309723972764; total time=   0.6s\n",
      "[CV] END linearsvr__C=2.733646535077721, linearsvr__loss=epsilon_insensitive, linearsvr__tol=0.0032927591344236156; total time=   1.3s\n",
      "[CV] END linearsvr__C=2.733646535077721, linearsvr__loss=epsilon_insensitive, linearsvr__tol=0.0032927591344236156; total time=   1.2s\n"
     ]
    },
    {
     "name": "stderr",
     "output_type": "stream",
     "text": [
      "C:\\Users\\BHOLA\\anaconda3\\lib\\site-packages\\sklearn\\svm\\_base.py:985: ConvergenceWarning: Liblinear failed to converge, increase the number of iterations.\n",
      "  warnings.warn(\"Liblinear failed to converge, increase \"\n"
     ]
    },
    {
     "name": "stdout",
     "output_type": "stream",
     "text": [
      "[CV] END linearsvr__C=7.62522284353982, linearsvr__loss=squared_epsilon_insensitive, linearsvr__tol=0.007084541505250228; total time= 1.7min\n"
     ]
    },
    {
     "name": "stderr",
     "output_type": "stream",
     "text": [
      "C:\\Users\\BHOLA\\anaconda3\\lib\\site-packages\\sklearn\\svm\\_base.py:985: ConvergenceWarning: Liblinear failed to converge, increase the number of iterations.\n",
      "  warnings.warn(\"Liblinear failed to converge, increase \"\n",
      "C:\\Users\\BHOLA\\anaconda3\\lib\\site-packages\\sklearn\\model_selection\\_validation.py:683: UserWarning: Scoring failed. The score on this train-test partition for these parameters will be set to nan. Details: \n",
      "Traceback (most recent call last):\n",
      "  File \"C:\\Users\\BHOLA\\anaconda3\\lib\\site-packages\\sklearn\\model_selection\\_validation.py\", line 674, in _score\n",
      "    scores = scorer(estimator, X_test, y_test)\n",
      "  File \"C:\\Users\\BHOLA\\anaconda3\\lib\\site-packages\\sklearn\\metrics\\_scorer.py\", line 199, in __call__\n",
      "    return self._score(partial(_cached_call, None), estimator, X, y_true,\n",
      "  File \"C:\\Users\\BHOLA\\anaconda3\\lib\\site-packages\\sklearn\\metrics\\_scorer.py\", line 242, in _score\n",
      "    return self._sign * self._score_func(y_true, y_pred,\n",
      "  File \"C:\\Users\\BHOLA\\anaconda3\\lib\\site-packages\\sklearn\\utils\\validation.py\", line 63, in inner_f\n",
      "    return f(*args, **kwargs)\n",
      "  File \"C:\\Users\\BHOLA\\anaconda3\\lib\\site-packages\\sklearn\\metrics\\_regression.py\", line 413, in mean_squared_log_error\n",
      "    raise ValueError(\"Mean Squared Logarithmic Error cannot be used when \"\n",
      "ValueError: Mean Squared Logarithmic Error cannot be used when targets contain negative values.\n",
      "\n",
      "  warnings.warn(\n"
     ]
    },
    {
     "name": "stdout",
     "output_type": "stream",
     "text": [
      "[CV] END linearsvr__C=7.62522284353982, linearsvr__loss=squared_epsilon_insensitive, linearsvr__tol=0.007084541505250228; total time= 1.7min\n"
     ]
    },
    {
     "name": "stderr",
     "output_type": "stream",
     "text": [
      "C:\\Users\\BHOLA\\anaconda3\\lib\\site-packages\\sklearn\\svm\\_base.py:985: ConvergenceWarning: Liblinear failed to converge, increase the number of iterations.\n",
      "  warnings.warn(\"Liblinear failed to converge, increase \"\n"
     ]
    },
    {
     "name": "stdout",
     "output_type": "stream",
     "text": [
      "[CV] END linearsvr__C=3.079416628681888, linearsvr__loss=squared_epsilon_insensitive, linearsvr__tol=0.0023426581058204037; total time= 1.7min\n"
     ]
    },
    {
     "name": "stderr",
     "output_type": "stream",
     "text": [
      "C:\\Users\\BHOLA\\anaconda3\\lib\\site-packages\\sklearn\\svm\\_base.py:985: ConvergenceWarning: Liblinear failed to converge, increase the number of iterations.\n",
      "  warnings.warn(\"Liblinear failed to converge, increase \"\n",
      "C:\\Users\\BHOLA\\anaconda3\\lib\\site-packages\\sklearn\\model_selection\\_validation.py:683: UserWarning: Scoring failed. The score on this train-test partition for these parameters will be set to nan. Details: \n",
      "Traceback (most recent call last):\n",
      "  File \"C:\\Users\\BHOLA\\anaconda3\\lib\\site-packages\\sklearn\\model_selection\\_validation.py\", line 674, in _score\n",
      "    scores = scorer(estimator, X_test, y_test)\n",
      "  File \"C:\\Users\\BHOLA\\anaconda3\\lib\\site-packages\\sklearn\\metrics\\_scorer.py\", line 199, in __call__\n",
      "    return self._score(partial(_cached_call, None), estimator, X, y_true,\n",
      "  File \"C:\\Users\\BHOLA\\anaconda3\\lib\\site-packages\\sklearn\\metrics\\_scorer.py\", line 242, in _score\n",
      "    return self._sign * self._score_func(y_true, y_pred,\n",
      "  File \"C:\\Users\\BHOLA\\anaconda3\\lib\\site-packages\\sklearn\\utils\\validation.py\", line 63, in inner_f\n",
      "    return f(*args, **kwargs)\n",
      "  File \"C:\\Users\\BHOLA\\anaconda3\\lib\\site-packages\\sklearn\\metrics\\_regression.py\", line 413, in mean_squared_log_error\n",
      "    raise ValueError(\"Mean Squared Logarithmic Error cannot be used when \"\n",
      "ValueError: Mean Squared Logarithmic Error cannot be used when targets contain negative values.\n",
      "\n",
      "  warnings.warn(\n"
     ]
    },
    {
     "name": "stdout",
     "output_type": "stream",
     "text": [
      "[CV] END linearsvr__C=3.079416628681888, linearsvr__loss=squared_epsilon_insensitive, linearsvr__tol=0.0023426581058204037; total time= 1.7min\n"
     ]
    },
    {
     "name": "stderr",
     "output_type": "stream",
     "text": [
      "C:\\Users\\BHOLA\\anaconda3\\lib\\site-packages\\sklearn\\model_selection\\_search.py:918: UserWarning: One or more of the test scores are non-finite: [-0.14163709 -0.1442857  -0.14158182         nan         nan         nan\n",
      "         nan -0.1446513          nan -0.14978293 -0.1443336  -0.14565593\n",
      " -0.15275757 -0.14418458 -0.14527968         nan -0.14185327 -0.14338048\n",
      "         nan         nan]\n",
      "  warnings.warn(\n"
     ]
    },
    {
     "data": {
      "text/plain": [
       "RandomizedSearchCV(cv=2,\n",
       "                   estimator=Pipeline(steps=[('columntransformer',\n",
       "                                              ColumnTransformer(transformers=[('num',\n",
       "                                                                               Pipeline(steps=[('simpleimputer',\n",
       "                                                                                                SimpleImputer())]),\n",
       "                                                                               ['Store_id']),\n",
       "                                                                              ('cat',\n",
       "                                                                               Pipeline(steps=[('simpleimputer',\n",
       "                                                                                                SimpleImputer(fill_value='NA',\n",
       "                                                                                                              strategy='constant')),\n",
       "                                                                                               ('onehotencoder',\n",
       "                                                                                                OneHotEncoder(handle_unknown='ignore',\n",
       "                                                                                                              sparse=False))]),\n",
       "                                                                               ['Store_Ty...\n",
       "                                                        random_state=42))]),\n",
       "                   n_iter=20,\n",
       "                   param_distributions={'linearsvr__C': <scipy.stats._distn_infrastructure.rv_frozen object at 0x0000017293D1B190>,\n",
       "                                        'linearsvr__loss': ['epsilon_insensitive',\n",
       "                                                            'squared_epsilon_insensitive'],\n",
       "                                        'linearsvr__tol': <scipy.stats._distn_infrastructure.rv_frozen object at 0x0000017293D1B550>},\n",
       "                   random_state=42, scoring='neg_mean_squared_log_error',\n",
       "                   verbose=2)"
      ]
     },
     "execution_count": 5,
     "metadata": {},
     "output_type": "execute_result"
    }
   ],
   "source": [
    "from sklearn.svm import LinearSVR\n",
    "from sklearn.model_selection import RandomizedSearchCV\n",
    "from scipy.stats import uniform, reciprocal \n",
    "from sklearn.pipeline import make_pipeline\n",
    "\n",
    "\n",
    "svr = make_pipeline(full_pipe, LinearSVR(random_state=42, max_iter=10000))\n",
    "\n",
    "param_dist = {\"linearsvr__C\": uniform(1, 10),\n",
    "              \"linearsvr__tol\": reciprocal(0.001, 0.1),\n",
    "              \"linearsvr__loss\":[\"epsilon_insensitive\",\"squared_epsilon_insensitive\"]\n",
    "             }\n",
    "\n",
    "svr_rnd_search = RandomizedSearchCV(\n",
    "    svr,\n",
    "    param_distributions=param_dist,\n",
    "    n_iter=20,\n",
    "    cv=2,\n",
    "    scoring=\"neg_mean_squared_log_error\",\n",
    "    random_state=42,\n",
    "    verbose=2\n",
    ")\n",
    "\n",
    "svr_rnd_search.fit(X_train, y_train)"
   ]
  },
  {
   "cell_type": "code",
   "execution_count": 6,
   "id": "a06a2d5a",
   "metadata": {},
   "outputs": [
    {
     "data": {
      "text/plain": [
       "-0.14158182102872205"
      ]
     },
     "execution_count": 6,
     "metadata": {},
     "output_type": "execute_result"
    }
   ],
   "source": [
    "svr_rnd_search.best_score_"
   ]
  },
  {
   "cell_type": "code",
   "execution_count": 7,
   "id": "443bb68b",
   "metadata": {},
   "outputs": [
    {
     "data": {
      "text/plain": [
       "{'linearsvr__C': 2.5599452033620267,\n",
       " 'linearsvr__loss': 'epsilon_insensitive',\n",
       " 'linearsvr__tol': 0.00828891686688514}"
      ]
     },
     "execution_count": 7,
     "metadata": {},
     "output_type": "execute_result"
    }
   ],
   "source": [
    "svr_rnd_search.best_params_"
   ]
  },
  {
   "cell_type": "code",
   "execution_count": 8,
   "id": "a78346bb",
   "metadata": {},
   "outputs": [
    {
     "name": "stdout",
     "output_type": "stream",
     "text": [
      "Fitting 2 folds for each of 10 candidates, totalling 20 fits\n",
      "[CV] END randomforestregressor__min_samples_leaf=7, randomforestregressor__min_samples_split=5; total time=   9.4s\n",
      "[CV] END randomforestregressor__min_samples_leaf=7, randomforestregressor__min_samples_split=5; total time=   6.8s\n",
      "[CV] END randomforestregressor__min_samples_leaf=8, randomforestregressor__min_samples_split=6; total time=   7.3s\n",
      "[CV] END randomforestregressor__min_samples_leaf=8, randomforestregressor__min_samples_split=6; total time=   6.5s\n",
      "[CV] END randomforestregressor__min_samples_leaf=5, randomforestregressor__min_samples_split=8; total time=   7.7s\n",
      "[CV] END randomforestregressor__min_samples_leaf=5, randomforestregressor__min_samples_split=8; total time=   6.7s\n",
      "[CV] END randomforestregressor__min_samples_leaf=3, randomforestregressor__min_samples_split=8; total time=   7.8s\n",
      "[CV] END randomforestregressor__min_samples_leaf=3, randomforestregressor__min_samples_split=8; total time=   7.4s\n",
      "[CV] END randomforestregressor__min_samples_leaf=8, randomforestregressor__min_samples_split=6; total time=   7.4s\n",
      "[CV] END randomforestregressor__min_samples_leaf=8, randomforestregressor__min_samples_split=6; total time=   6.7s\n",
      "[CV] END randomforestregressor__min_samples_leaf=4, randomforestregressor__min_samples_split=9; total time=   7.6s\n",
      "[CV] END randomforestregressor__min_samples_leaf=4, randomforestregressor__min_samples_split=9; total time=   6.8s\n",
      "[CV] END randomforestregressor__min_samples_leaf=8, randomforestregressor__min_samples_split=4; total time=   7.3s\n",
      "[CV] END randomforestregressor__min_samples_leaf=8, randomforestregressor__min_samples_split=4; total time=   6.5s\n",
      "[CV] END randomforestregressor__min_samples_leaf=6, randomforestregressor__min_samples_split=6; total time=   7.4s\n",
      "[CV] END randomforestregressor__min_samples_leaf=6, randomforestregressor__min_samples_split=6; total time=   6.8s\n",
      "[CV] END randomforestregressor__min_samples_leaf=2, randomforestregressor__min_samples_split=9; total time=   7.8s\n",
      "[CV] END randomforestregressor__min_samples_leaf=2, randomforestregressor__min_samples_split=9; total time=   7.2s\n",
      "[CV] END randomforestregressor__min_samples_leaf=6, randomforestregressor__min_samples_split=3; total time=   7.5s\n",
      "[CV] END randomforestregressor__min_samples_leaf=6, randomforestregressor__min_samples_split=3; total time=   6.8s\n"
     ]
    },
    {
     "data": {
      "text/plain": [
       "RandomizedSearchCV(cv=2,\n",
       "                   estimator=Pipeline(steps=[('columntransformer',\n",
       "                                              ColumnTransformer(transformers=[('num',\n",
       "                                                                               Pipeline(steps=[('simpleimputer',\n",
       "                                                                                                SimpleImputer())]),\n",
       "                                                                               ['Store_id']),\n",
       "                                                                              ('cat',\n",
       "                                                                               Pipeline(steps=[('simpleimputer',\n",
       "                                                                                                SimpleImputer(fill_value='NA',\n",
       "                                                                                                              strategy='constant')),\n",
       "                                                                                               ('onehotencoder',\n",
       "                                                                                                OneHotEncoder(handle_unknown='ignore',\n",
       "                                                                                                              sparse=False))]),\n",
       "                                                                               ['Store_Ty...\n",
       "                                              RandomForestRegressor(n_jobs=-1,\n",
       "                                                                    random_state=42))]),\n",
       "                   param_distributions={'randomforestregressor__min_samples_leaf': <scipy.stats._distn_infrastructure.rv_frozen object at 0x0000025009326490>,\n",
       "                                        'randomforestregressor__min_samples_split': <scipy.stats._distn_infrastructure.rv_frozen object at 0x000002500DF05400>},\n",
       "                   random_state=42, scoring='neg_mean_squared_log_error',\n",
       "                   verbose=2)"
      ]
     },
     "execution_count": 8,
     "metadata": {},
     "output_type": "execute_result"
    }
   ],
   "source": [
    "from sklearn.ensemble import RandomForestRegressor\n",
    "from sklearn.model_selection import RandomizedSearchCV\n",
    "from scipy.stats import randint\n",
    "\n",
    "params = {\n",
    "    \"randomforestregressor__min_samples_split\": randint(low=2, high=10),\n",
    "    \"randomforestregressor__min_samples_leaf\": randint(low=1, high=10), \n",
    "}\n",
    "\n",
    "rf = make_pipeline(full_pipe, RandomForestRegressor(random_state=42, n_jobs=-1))\n",
    "\n",
    "rf_rnd_search = RandomizedSearchCV(\n",
    "    estimator=rf,\n",
    "    param_distributions= params,\n",
    "    n_iter=10,\n",
    "    scoring=\"neg_mean_squared_log_error\",\n",
    "    cv=2,\n",
    "    verbose=2,\n",
    "    random_state=42)\n",
    "\n",
    "\n",
    "rf_rnd_search.fit(X_train, y_train)"
   ]
  },
  {
   "cell_type": "code",
   "execution_count": 9,
   "id": "80ace9fa",
   "metadata": {},
   "outputs": [
    {
     "data": {
      "text/plain": [
       "-0.12414510460809519"
      ]
     },
     "execution_count": 9,
     "metadata": {},
     "output_type": "execute_result"
    }
   ],
   "source": [
    "rf_rnd_search.best_score_"
   ]
  },
  {
   "cell_type": "code",
   "execution_count": 10,
   "id": "141f5f62",
   "metadata": {},
   "outputs": [
    {
     "data": {
      "text/plain": [
       "{'randomforestregressor__min_samples_leaf': 8,\n",
       " 'randomforestregressor__min_samples_split': 6}"
      ]
     },
     "execution_count": 10,
     "metadata": {},
     "output_type": "execute_result"
    }
   ],
   "source": [
    "rf_rnd_search.best_params_"
   ]
  },
  {
   "cell_type": "code",
   "execution_count": 13,
   "id": "926247ab",
   "metadata": {},
   "outputs": [
    {
     "name": "stdout",
     "output_type": "stream",
     "text": [
      "Fitting 3 folds for each of 60 candidates, totalling 180 fits\n",
      "[CV] END randomforestregressor__max_depth=20, randomforestregressor__max_features=auto; total time=  14.8s\n",
      "[CV] END randomforestregressor__max_depth=20, randomforestregressor__max_features=auto; total time=  11.6s\n",
      "[CV] END randomforestregressor__max_depth=20, randomforestregressor__max_features=auto; total time=  12.0s\n",
      "[CV] END randomforestregressor__max_depth=20, randomforestregressor__max_features=sqrt; total time=   3.7s\n",
      "[CV] END randomforestregressor__max_depth=20, randomforestregressor__max_features=sqrt; total time=   3.3s\n",
      "[CV] END randomforestregressor__max_depth=20, randomforestregressor__max_features=sqrt; total time=   3.9s\n",
      "[CV] END randomforestregressor__max_depth=20, randomforestregressor__max_features=log2; total time=   3.3s\n",
      "[CV] END randomforestregressor__max_depth=20, randomforestregressor__max_features=log2; total time=   3.1s\n",
      "[CV] END randomforestregressor__max_depth=20, randomforestregressor__max_features=log2; total time=   3.3s\n",
      "[CV] END randomforestregressor__max_depth=21, randomforestregressor__max_features=auto; total time=  13.9s\n",
      "[CV] END randomforestregressor__max_depth=21, randomforestregressor__max_features=auto; total time=  12.3s\n",
      "[CV] END randomforestregressor__max_depth=21, randomforestregressor__max_features=auto; total time=  12.0s\n",
      "[CV] END randomforestregressor__max_depth=21, randomforestregressor__max_features=sqrt; total time=   3.7s\n",
      "[CV] END randomforestregressor__max_depth=21, randomforestregressor__max_features=sqrt; total time=   3.5s\n",
      "[CV] END randomforestregressor__max_depth=21, randomforestregressor__max_features=sqrt; total time=   4.5s\n",
      "[CV] END randomforestregressor__max_depth=21, randomforestregressor__max_features=log2; total time=   3.4s\n",
      "[CV] END randomforestregressor__max_depth=21, randomforestregressor__max_features=log2; total time=   3.3s\n",
      "[CV] END randomforestregressor__max_depth=21, randomforestregressor__max_features=log2; total time=   3.4s\n",
      "[CV] END randomforestregressor__max_depth=22, randomforestregressor__max_features=auto; total time=  15.8s\n",
      "[CV] END randomforestregressor__max_depth=22, randomforestregressor__max_features=auto; total time=  12.4s\n",
      "[CV] END randomforestregressor__max_depth=22, randomforestregressor__max_features=auto; total time=  12.4s\n",
      "[CV] END randomforestregressor__max_depth=22, randomforestregressor__max_features=sqrt; total time=   4.1s\n",
      "[CV] END randomforestregressor__max_depth=22, randomforestregressor__max_features=sqrt; total time=   3.5s\n",
      "[CV] END randomforestregressor__max_depth=22, randomforestregressor__max_features=sqrt; total time=   4.2s\n",
      "[CV] END randomforestregressor__max_depth=22, randomforestregressor__max_features=log2; total time=   3.6s\n",
      "[CV] END randomforestregressor__max_depth=22, randomforestregressor__max_features=log2; total time=   3.5s\n",
      "[CV] END randomforestregressor__max_depth=22, randomforestregressor__max_features=log2; total time=   3.8s\n",
      "[CV] END randomforestregressor__max_depth=23, randomforestregressor__max_features=auto; total time=  16.2s\n",
      "[CV] END randomforestregressor__max_depth=23, randomforestregressor__max_features=auto; total time=  11.9s\n",
      "[CV] END randomforestregressor__max_depth=23, randomforestregressor__max_features=auto; total time=  13.1s\n",
      "[CV] END randomforestregressor__max_depth=23, randomforestregressor__max_features=sqrt; total time=   3.8s\n",
      "[CV] END randomforestregressor__max_depth=23, randomforestregressor__max_features=sqrt; total time=   3.5s\n",
      "[CV] END randomforestregressor__max_depth=23, randomforestregressor__max_features=sqrt; total time=   3.9s\n",
      "[CV] END randomforestregressor__max_depth=23, randomforestregressor__max_features=log2; total time=   3.3s\n",
      "[CV] END randomforestregressor__max_depth=23, randomforestregressor__max_features=log2; total time=   3.1s\n",
      "[CV] END randomforestregressor__max_depth=23, randomforestregressor__max_features=log2; total time=   3.2s\n",
      "[CV] END randomforestregressor__max_depth=24, randomforestregressor__max_features=auto; total time=  14.1s\n",
      "[CV] END randomforestregressor__max_depth=24, randomforestregressor__max_features=auto; total time=  12.0s\n",
      "[CV] END randomforestregressor__max_depth=24, randomforestregressor__max_features=auto; total time=  11.9s\n",
      "[CV] END randomforestregressor__max_depth=24, randomforestregressor__max_features=sqrt; total time=   3.7s\n",
      "[CV] END randomforestregressor__max_depth=24, randomforestregressor__max_features=sqrt; total time=   3.7s\n",
      "[CV] END randomforestregressor__max_depth=24, randomforestregressor__max_features=sqrt; total time=   4.0s\n",
      "[CV] END randomforestregressor__max_depth=24, randomforestregressor__max_features=log2; total time=   3.6s\n",
      "[CV] END randomforestregressor__max_depth=24, randomforestregressor__max_features=log2; total time=   3.2s\n",
      "[CV] END randomforestregressor__max_depth=24, randomforestregressor__max_features=log2; total time=   3.8s\n",
      "[CV] END randomforestregressor__max_depth=25, randomforestregressor__max_features=auto; total time=  14.1s\n",
      "[CV] END randomforestregressor__max_depth=25, randomforestregressor__max_features=auto; total time=  13.3s\n",
      "[CV] END randomforestregressor__max_depth=25, randomforestregressor__max_features=auto; total time=  13.3s\n",
      "[CV] END randomforestregressor__max_depth=25, randomforestregressor__max_features=sqrt; total time=   3.9s\n",
      "[CV] END randomforestregressor__max_depth=25, randomforestregressor__max_features=sqrt; total time=   4.0s\n",
      "[CV] END randomforestregressor__max_depth=25, randomforestregressor__max_features=sqrt; total time=   4.6s\n",
      "[CV] END randomforestregressor__max_depth=25, randomforestregressor__max_features=log2; total time=   3.9s\n",
      "[CV] END randomforestregressor__max_depth=25, randomforestregressor__max_features=log2; total time=   3.5s\n",
      "[CV] END randomforestregressor__max_depth=25, randomforestregressor__max_features=log2; total time=   3.7s\n",
      "[CV] END randomforestregressor__max_depth=26, randomforestregressor__max_features=auto; total time=  16.2s\n",
      "[CV] END randomforestregressor__max_depth=26, randomforestregressor__max_features=auto; total time=  13.4s\n",
      "[CV] END randomforestregressor__max_depth=26, randomforestregressor__max_features=auto; total time=  13.2s\n",
      "[CV] END randomforestregressor__max_depth=26, randomforestregressor__max_features=sqrt; total time=   4.1s\n",
      "[CV] END randomforestregressor__max_depth=26, randomforestregressor__max_features=sqrt; total time=   3.7s\n",
      "[CV] END randomforestregressor__max_depth=26, randomforestregressor__max_features=sqrt; total time=   3.9s\n",
      "[CV] END randomforestregressor__max_depth=26, randomforestregressor__max_features=log2; total time=   3.3s\n",
      "[CV] END randomforestregressor__max_depth=26, randomforestregressor__max_features=log2; total time=   3.1s\n",
      "[CV] END randomforestregressor__max_depth=26, randomforestregressor__max_features=log2; total time=   3.2s\n",
      "[CV] END randomforestregressor__max_depth=27, randomforestregressor__max_features=auto; total time=  12.8s\n",
      "[CV] END randomforestregressor__max_depth=27, randomforestregressor__max_features=auto; total time=  11.4s\n",
      "[CV] END randomforestregressor__max_depth=27, randomforestregressor__max_features=auto; total time=  11.7s\n",
      "[CV] END randomforestregressor__max_depth=27, randomforestregressor__max_features=sqrt; total time=   3.5s\n",
      "[CV] END randomforestregressor__max_depth=27, randomforestregressor__max_features=sqrt; total time=   3.3s\n",
      "[CV] END randomforestregressor__max_depth=27, randomforestregressor__max_features=sqrt; total time=   3.5s\n",
      "[CV] END randomforestregressor__max_depth=27, randomforestregressor__max_features=log2; total time=   3.2s\n",
      "[CV] END randomforestregressor__max_depth=27, randomforestregressor__max_features=log2; total time=   3.1s\n",
      "[CV] END randomforestregressor__max_depth=27, randomforestregressor__max_features=log2; total time=   3.4s\n",
      "[CV] END randomforestregressor__max_depth=28, randomforestregressor__max_features=auto; total time=  13.7s\n",
      "[CV] END randomforestregressor__max_depth=28, randomforestregressor__max_features=auto; total time=  12.1s\n",
      "[CV] END randomforestregressor__max_depth=28, randomforestregressor__max_features=auto; total time=  12.2s\n",
      "[CV] END randomforestregressor__max_depth=28, randomforestregressor__max_features=sqrt; total time=   4.0s\n"
     ]
    },
    {
     "name": "stdout",
     "output_type": "stream",
     "text": [
      "[CV] END randomforestregressor__max_depth=28, randomforestregressor__max_features=sqrt; total time=   3.5s\n",
      "[CV] END randomforestregressor__max_depth=28, randomforestregressor__max_features=sqrt; total time=   3.9s\n",
      "[CV] END randomforestregressor__max_depth=28, randomforestregressor__max_features=log2; total time=   3.4s\n",
      "[CV] END randomforestregressor__max_depth=28, randomforestregressor__max_features=log2; total time=   3.2s\n",
      "[CV] END randomforestregressor__max_depth=28, randomforestregressor__max_features=log2; total time=   3.5s\n",
      "[CV] END randomforestregressor__max_depth=29, randomforestregressor__max_features=auto; total time=  14.4s\n",
      "[CV] END randomforestregressor__max_depth=29, randomforestregressor__max_features=auto; total time=  13.0s\n",
      "[CV] END randomforestregressor__max_depth=29, randomforestregressor__max_features=auto; total time=  13.0s\n",
      "[CV] END randomforestregressor__max_depth=29, randomforestregressor__max_features=sqrt; total time=   3.8s\n",
      "[CV] END randomforestregressor__max_depth=29, randomforestregressor__max_features=sqrt; total time=   3.4s\n",
      "[CV] END randomforestregressor__max_depth=29, randomforestregressor__max_features=sqrt; total time=   3.8s\n",
      "[CV] END randomforestregressor__max_depth=29, randomforestregressor__max_features=log2; total time=   3.2s\n",
      "[CV] END randomforestregressor__max_depth=29, randomforestregressor__max_features=log2; total time=   3.1s\n",
      "[CV] END randomforestregressor__max_depth=29, randomforestregressor__max_features=log2; total time=   3.3s\n",
      "[CV] END randomforestregressor__max_depth=30, randomforestregressor__max_features=auto; total time=  13.8s\n",
      "[CV] END randomforestregressor__max_depth=30, randomforestregressor__max_features=auto; total time=  12.0s\n",
      "[CV] END randomforestregressor__max_depth=30, randomforestregressor__max_features=auto; total time=  12.9s\n",
      "[CV] END randomforestregressor__max_depth=30, randomforestregressor__max_features=sqrt; total time=   4.0s\n",
      "[CV] END randomforestregressor__max_depth=30, randomforestregressor__max_features=sqrt; total time=   3.9s\n",
      "[CV] END randomforestregressor__max_depth=30, randomforestregressor__max_features=sqrt; total time=   3.9s\n",
      "[CV] END randomforestregressor__max_depth=30, randomforestregressor__max_features=log2; total time=   3.3s\n",
      "[CV] END randomforestregressor__max_depth=30, randomforestregressor__max_features=log2; total time=   2.9s\n",
      "[CV] END randomforestregressor__max_depth=30, randomforestregressor__max_features=log2; total time=   3.4s\n",
      "[CV] END randomforestregressor__max_depth=31, randomforestregressor__max_features=auto; total time=  15.3s\n",
      "[CV] END randomforestregressor__max_depth=31, randomforestregressor__max_features=auto; total time=  12.4s\n",
      "[CV] END randomforestregressor__max_depth=31, randomforestregressor__max_features=auto; total time=  12.8s\n",
      "[CV] END randomforestregressor__max_depth=31, randomforestregressor__max_features=sqrt; total time=   3.8s\n",
      "[CV] END randomforestregressor__max_depth=31, randomforestregressor__max_features=sqrt; total time=   3.8s\n",
      "[CV] END randomforestregressor__max_depth=31, randomforestregressor__max_features=sqrt; total time=   3.6s\n",
      "[CV] END randomforestregressor__max_depth=31, randomforestregressor__max_features=log2; total time=   3.2s\n",
      "[CV] END randomforestregressor__max_depth=31, randomforestregressor__max_features=log2; total time=   3.0s\n",
      "[CV] END randomforestregressor__max_depth=31, randomforestregressor__max_features=log2; total time=   3.4s\n",
      "[CV] END randomforestregressor__max_depth=32, randomforestregressor__max_features=auto; total time=  14.7s\n",
      "[CV] END randomforestregressor__max_depth=32, randomforestregressor__max_features=auto; total time=  11.8s\n",
      "[CV] END randomforestregressor__max_depth=32, randomforestregressor__max_features=auto; total time=  12.3s\n",
      "[CV] END randomforestregressor__max_depth=32, randomforestregressor__max_features=sqrt; total time=   4.0s\n",
      "[CV] END randomforestregressor__max_depth=32, randomforestregressor__max_features=sqrt; total time=   4.0s\n",
      "[CV] END randomforestregressor__max_depth=32, randomforestregressor__max_features=sqrt; total time=   4.4s\n",
      "[CV] END randomforestregressor__max_depth=32, randomforestregressor__max_features=log2; total time=   3.6s\n",
      "[CV] END randomforestregressor__max_depth=32, randomforestregressor__max_features=log2; total time=   3.3s\n",
      "[CV] END randomforestregressor__max_depth=32, randomforestregressor__max_features=log2; total time=   3.6s\n",
      "[CV] END randomforestregressor__max_depth=33, randomforestregressor__max_features=auto; total time=  15.5s\n",
      "[CV] END randomforestregressor__max_depth=33, randomforestregressor__max_features=auto; total time=  12.8s\n",
      "[CV] END randomforestregressor__max_depth=33, randomforestregressor__max_features=auto; total time=  12.8s\n",
      "[CV] END randomforestregressor__max_depth=33, randomforestregressor__max_features=sqrt; total time=   3.6s\n",
      "[CV] END randomforestregressor__max_depth=33, randomforestregressor__max_features=sqrt; total time=   3.5s\n",
      "[CV] END randomforestregressor__max_depth=33, randomforestregressor__max_features=sqrt; total time=   3.8s\n",
      "[CV] END randomforestregressor__max_depth=33, randomforestregressor__max_features=log2; total time=   3.4s\n",
      "[CV] END randomforestregressor__max_depth=33, randomforestregressor__max_features=log2; total time=   3.3s\n",
      "[CV] END randomforestregressor__max_depth=33, randomforestregressor__max_features=log2; total time=   5.3s\n",
      "[CV] END randomforestregressor__max_depth=34, randomforestregressor__max_features=auto; total time=  15.3s\n",
      "[CV] END randomforestregressor__max_depth=34, randomforestregressor__max_features=auto; total time=  13.7s\n",
      "[CV] END randomforestregressor__max_depth=34, randomforestregressor__max_features=auto; total time=  12.7s\n",
      "[CV] END randomforestregressor__max_depth=34, randomforestregressor__max_features=sqrt; total time=   3.9s\n",
      "[CV] END randomforestregressor__max_depth=34, randomforestregressor__max_features=sqrt; total time=   3.8s\n",
      "[CV] END randomforestregressor__max_depth=34, randomforestregressor__max_features=sqrt; total time=   3.8s\n",
      "[CV] END randomforestregressor__max_depth=34, randomforestregressor__max_features=log2; total time=   3.2s\n",
      "[CV] END randomforestregressor__max_depth=34, randomforestregressor__max_features=log2; total time=   3.1s\n",
      "[CV] END randomforestregressor__max_depth=34, randomforestregressor__max_features=log2; total time=   3.4s\n",
      "[CV] END randomforestregressor__max_depth=35, randomforestregressor__max_features=auto; total time=  13.7s\n",
      "[CV] END randomforestregressor__max_depth=35, randomforestregressor__max_features=auto; total time=  12.0s\n",
      "[CV] END randomforestregressor__max_depth=35, randomforestregressor__max_features=auto; total time=  12.9s\n",
      "[CV] END randomforestregressor__max_depth=35, randomforestregressor__max_features=sqrt; total time=   3.5s\n",
      "[CV] END randomforestregressor__max_depth=35, randomforestregressor__max_features=sqrt; total time=   3.3s\n",
      "[CV] END randomforestregressor__max_depth=35, randomforestregressor__max_features=sqrt; total time=   3.9s\n",
      "[CV] END randomforestregressor__max_depth=35, randomforestregressor__max_features=log2; total time=   3.4s\n",
      "[CV] END randomforestregressor__max_depth=35, randomforestregressor__max_features=log2; total time=   2.9s\n",
      "[CV] END randomforestregressor__max_depth=35, randomforestregressor__max_features=log2; total time=   3.3s\n",
      "[CV] END randomforestregressor__max_depth=36, randomforestregressor__max_features=auto; total time=  13.1s\n",
      "[CV] END randomforestregressor__max_depth=36, randomforestregressor__max_features=auto; total time=  12.0s\n",
      "[CV] END randomforestregressor__max_depth=36, randomforestregressor__max_features=auto; total time=  11.7s\n",
      "[CV] END randomforestregressor__max_depth=36, randomforestregressor__max_features=sqrt; total time=   3.9s\n",
      "[CV] END randomforestregressor__max_depth=36, randomforestregressor__max_features=sqrt; total time=   3.4s\n",
      "[CV] END randomforestregressor__max_depth=36, randomforestregressor__max_features=sqrt; total time=   3.5s\n",
      "[CV] END randomforestregressor__max_depth=36, randomforestregressor__max_features=log2; total time=   3.3s\n",
      "[CV] END randomforestregressor__max_depth=36, randomforestregressor__max_features=log2; total time=   3.3s\n",
      "[CV] END randomforestregressor__max_depth=36, randomforestregressor__max_features=log2; total time=   3.4s\n"
     ]
    },
    {
     "name": "stdout",
     "output_type": "stream",
     "text": [
      "[CV] END randomforestregressor__max_depth=37, randomforestregressor__max_features=auto; total time=  13.8s\n",
      "[CV] END randomforestregressor__max_depth=37, randomforestregressor__max_features=auto; total time=  11.6s\n",
      "[CV] END randomforestregressor__max_depth=37, randomforestregressor__max_features=auto; total time=  12.3s\n",
      "[CV] END randomforestregressor__max_depth=37, randomforestregressor__max_features=sqrt; total time=   3.7s\n",
      "[CV] END randomforestregressor__max_depth=37, randomforestregressor__max_features=sqrt; total time=   3.6s\n",
      "[CV] END randomforestregressor__max_depth=37, randomforestregressor__max_features=sqrt; total time=   3.7s\n",
      "[CV] END randomforestregressor__max_depth=37, randomforestregressor__max_features=log2; total time=   3.5s\n",
      "[CV] END randomforestregressor__max_depth=37, randomforestregressor__max_features=log2; total time=   3.2s\n",
      "[CV] END randomforestregressor__max_depth=37, randomforestregressor__max_features=log2; total time=   3.5s\n",
      "[CV] END randomforestregressor__max_depth=38, randomforestregressor__max_features=auto; total time=  13.9s\n",
      "[CV] END randomforestregressor__max_depth=38, randomforestregressor__max_features=auto; total time=  12.2s\n",
      "[CV] END randomforestregressor__max_depth=38, randomforestregressor__max_features=auto; total time=  13.1s\n",
      "[CV] END randomforestregressor__max_depth=38, randomforestregressor__max_features=sqrt; total time=   3.9s\n",
      "[CV] END randomforestregressor__max_depth=38, randomforestregressor__max_features=sqrt; total time=   3.2s\n",
      "[CV] END randomforestregressor__max_depth=38, randomforestregressor__max_features=sqrt; total time=   3.5s\n",
      "[CV] END randomforestregressor__max_depth=38, randomforestregressor__max_features=log2; total time=   3.1s\n",
      "[CV] END randomforestregressor__max_depth=38, randomforestregressor__max_features=log2; total time=   2.9s\n",
      "[CV] END randomforestregressor__max_depth=38, randomforestregressor__max_features=log2; total time=   3.2s\n",
      "[CV] END randomforestregressor__max_depth=39, randomforestregressor__max_features=auto; total time=  13.2s\n",
      "[CV] END randomforestregressor__max_depth=39, randomforestregressor__max_features=auto; total time=  11.4s\n",
      "[CV] END randomforestregressor__max_depth=39, randomforestregressor__max_features=auto; total time=  11.3s\n",
      "[CV] END randomforestregressor__max_depth=39, randomforestregressor__max_features=sqrt; total time=   3.5s\n",
      "[CV] END randomforestregressor__max_depth=39, randomforestregressor__max_features=sqrt; total time=   3.2s\n",
      "[CV] END randomforestregressor__max_depth=39, randomforestregressor__max_features=sqrt; total time=   3.5s\n",
      "[CV] END randomforestregressor__max_depth=39, randomforestregressor__max_features=log2; total time=   3.1s\n",
      "[CV] END randomforestregressor__max_depth=39, randomforestregressor__max_features=log2; total time=   3.0s\n",
      "[CV] END randomforestregressor__max_depth=39, randomforestregressor__max_features=log2; total time=   3.4s\n"
     ]
    },
    {
     "data": {
      "text/plain": [
       "GridSearchCV(cv=3,\n",
       "             estimator=Pipeline(steps=[('columntransformer',\n",
       "                                        ColumnTransformer(transformers=[('num',\n",
       "                                                                         Pipeline(steps=[('simpleimputer',\n",
       "                                                                                          SimpleImputer())]),\n",
       "                                                                         ['Store_id']),\n",
       "                                                                        ('cat',\n",
       "                                                                         Pipeline(steps=[('simpleimputer',\n",
       "                                                                                          SimpleImputer(fill_value='NA',\n",
       "                                                                                                        strategy='constant')),\n",
       "                                                                                         ('onehotencoder',\n",
       "                                                                                          OneHotEncoder(handle_unknown='ignore',\n",
       "                                                                                                        sparse=False))]),\n",
       "                                                                         ['Store_Type',\n",
       "                                                                          'L...\n",
       "                                                                          'Month',\n",
       "                                                                          'Year'])])),\n",
       "                                       ('randomforestregressor',\n",
       "                                        RandomForestRegressor(min_samples_leaf=8,\n",
       "                                                              min_samples_split=6,\n",
       "                                                              n_jobs=-1,\n",
       "                                                              random_state=42))]),\n",
       "             param_grid={'randomforestregressor__max_depth': [20, 21, 22, 23,\n",
       "                                                              24, 25, 26, 27,\n",
       "                                                              28, 29, 30, 31,\n",
       "                                                              32, 33, 34, 35,\n",
       "                                                              36, 37, 38, 39],\n",
       "                         'randomforestregressor__max_features': ['auto', 'sqrt',\n",
       "                                                                 'log2']},\n",
       "             scoring='neg_mean_squared_log_error', verbose=2)"
      ]
     },
     "execution_count": 13,
     "metadata": {},
     "output_type": "execute_result"
    }
   ],
   "source": [
    "from sklearn.ensemble import RandomForestRegressor\n",
    "from sklearn.model_selection import GridSearchCV\n",
    "\n",
    "params = {\n",
    "    \"randomforestregressor__max_depth\": list(range(20,40)), \n",
    "    \"randomforestregressor__max_features\": [\"auto\",\"sqrt\",\"log2\"]\n",
    "}\n",
    "\n",
    "rf = make_pipeline(full_pipe, RandomForestRegressor(random_state=42, \n",
    "                                                    min_samples_leaf=8, \n",
    "                                                    min_samples_split=6,\n",
    "                                                    n_jobs=-1))\n",
    "\n",
    "\n",
    "rf_grid_search = GridSearchCV(\n",
    "    estimator= rf,\n",
    "    param_grid= params,\n",
    "    scoring= \"neg_mean_squared_log_error\",\n",
    "    cv=3,\n",
    "    verbose=2,    \n",
    ")\n",
    "\n",
    "\n",
    "rf_grid_search.fit(X_train, y_train)"
   ]
  },
  {
   "cell_type": "code",
   "execution_count": 14,
   "id": "79e2fc7a",
   "metadata": {},
   "outputs": [
    {
     "data": {
      "text/plain": [
       "-0.11696036790116093"
      ]
     },
     "execution_count": 14,
     "metadata": {},
     "output_type": "execute_result"
    }
   ],
   "source": [
    "rf_grid_search.best_score_"
   ]
  },
  {
   "cell_type": "code",
   "execution_count": 15,
   "id": "a9207331",
   "metadata": {},
   "outputs": [
    {
     "data": {
      "text/plain": [
       "{'randomforestregressor__max_depth': 30,\n",
       " 'randomforestregressor__max_features': 'sqrt'}"
      ]
     },
     "execution_count": 15,
     "metadata": {},
     "output_type": "execute_result"
    }
   ],
   "source": [
    "rf_grid_search.best_params_"
   ]
  },
  {
   "cell_type": "code",
   "execution_count": 20,
   "id": "c01b2143",
   "metadata": {},
   "outputs": [
    {
     "name": "stdout",
     "output_type": "stream",
     "text": [
      "Fitting 3 folds for each of 19 candidates, totalling 57 fits\n",
      "[CV] END ............randomforestregressor__n_estimators=100; total time=   5.5s\n",
      "[CV] END ............randomforestregressor__n_estimators=100; total time=   3.2s\n",
      "[CV] END ............randomforestregressor__n_estimators=100; total time=   3.7s\n",
      "[CV] END ............randomforestregressor__n_estimators=200; total time=   7.7s\n",
      "[CV] END ............randomforestregressor__n_estimators=200; total time=   6.7s\n",
      "[CV] END ............randomforestregressor__n_estimators=200; total time=   7.2s\n",
      "[CV] END ............randomforestregressor__n_estimators=300; total time=  10.9s\n",
      "[CV] END ............randomforestregressor__n_estimators=300; total time=   9.4s\n",
      "[CV] END ............randomforestregressor__n_estimators=300; total time=   9.7s\n",
      "[CV] END ............randomforestregressor__n_estimators=400; total time=  13.6s\n",
      "[CV] END ............randomforestregressor__n_estimators=400; total time=  11.8s\n",
      "[CV] END ............randomforestregressor__n_estimators=400; total time=  13.2s\n",
      "[CV] END ............randomforestregressor__n_estimators=500; total time=  18.3s\n",
      "[CV] END ............randomforestregressor__n_estimators=500; total time=  16.6s\n",
      "[CV] END ............randomforestregressor__n_estimators=500; total time=  17.0s\n",
      "[CV] END ............randomforestregressor__n_estimators=600; total time=  19.8s\n",
      "[CV] END ............randomforestregressor__n_estimators=600; total time=  19.4s\n",
      "[CV] END ............randomforestregressor__n_estimators=600; total time=  20.2s\n",
      "[CV] END ............randomforestregressor__n_estimators=700; total time=  23.6s\n",
      "[CV] END ............randomforestregressor__n_estimators=700; total time=  22.5s\n",
      "[CV] END ............randomforestregressor__n_estimators=700; total time=  22.5s\n",
      "[CV] END ............randomforestregressor__n_estimators=800; total time=  24.9s\n",
      "[CV] END ............randomforestregressor__n_estimators=800; total time=  23.1s\n",
      "[CV] END ............randomforestregressor__n_estimators=800; total time=  25.4s\n",
      "[CV] END ............randomforestregressor__n_estimators=900; total time=  28.0s\n",
      "[CV] END ............randomforestregressor__n_estimators=900; total time=  25.7s\n",
      "[CV] END ............randomforestregressor__n_estimators=900; total time=  27.5s\n",
      "[CV] END ...........randomforestregressor__n_estimators=1000; total time=  30.6s\n",
      "[CV] END ...........randomforestregressor__n_estimators=1000; total time=  28.1s\n",
      "[CV] END ...........randomforestregressor__n_estimators=1000; total time=  30.2s\n",
      "[CV] END ...........randomforestregressor__n_estimators=1100; total time=  33.5s\n",
      "[CV] END ...........randomforestregressor__n_estimators=1100; total time=  31.0s\n",
      "[CV] END ...........randomforestregressor__n_estimators=1100; total time=  33.3s\n",
      "[CV] END ...........randomforestregressor__n_estimators=1200; total time=  36.3s\n",
      "[CV] END ...........randomforestregressor__n_estimators=1200; total time=  33.5s\n",
      "[CV] END ...........randomforestregressor__n_estimators=1200; total time=  36.3s\n",
      "[CV] END ...........randomforestregressor__n_estimators=1300; total time=  39.3s\n",
      "[CV] END ...........randomforestregressor__n_estimators=1300; total time=  36.3s\n",
      "[CV] END ...........randomforestregressor__n_estimators=1300; total time=  39.4s\n",
      "[CV] END ...........randomforestregressor__n_estimators=1400; total time=  42.4s\n",
      "[CV] END ...........randomforestregressor__n_estimators=1400; total time=  39.5s\n",
      "[CV] END ...........randomforestregressor__n_estimators=1400; total time=  42.3s\n",
      "[CV] END ...........randomforestregressor__n_estimators=1500; total time=  46.1s\n",
      "[CV] END ...........randomforestregressor__n_estimators=1500; total time=  42.0s\n",
      "[CV] END ...........randomforestregressor__n_estimators=1500; total time=  45.0s\n",
      "[CV] END ...........randomforestregressor__n_estimators=1600; total time=  48.4s\n",
      "[CV] END ...........randomforestregressor__n_estimators=1600; total time=  44.6s\n",
      "[CV] END ...........randomforestregressor__n_estimators=1600; total time=  48.1s\n",
      "[CV] END ...........randomforestregressor__n_estimators=1700; total time=  51.5s\n",
      "[CV] END ...........randomforestregressor__n_estimators=1700; total time=  48.7s\n",
      "[CV] END ...........randomforestregressor__n_estimators=1700; total time=  51.7s\n",
      "[CV] END ...........randomforestregressor__n_estimators=1800; total time= 1.1min\n",
      "[CV] END ...........randomforestregressor__n_estimators=1800; total time=  56.9s\n",
      "[CV] END ...........randomforestregressor__n_estimators=1800; total time= 1.1min\n",
      "[CV] END ...........randomforestregressor__n_estimators=1900; total time= 1.2min\n",
      "[CV] END ...........randomforestregressor__n_estimators=1900; total time= 1.1min\n",
      "[CV] END ...........randomforestregressor__n_estimators=1900; total time= 1.2min\n"
     ]
    },
    {
     "data": {
      "text/plain": [
       "GridSearchCV(cv=3,\n",
       "             estimator=Pipeline(steps=[('columntransformer',\n",
       "                                        ColumnTransformer(transformers=[('num',\n",
       "                                                                         Pipeline(steps=[('simpleimputer',\n",
       "                                                                                          SimpleImputer())]),\n",
       "                                                                         ['Store_id']),\n",
       "                                                                        ('cat',\n",
       "                                                                         Pipeline(steps=[('simpleimputer',\n",
       "                                                                                          SimpleImputer(fill_value='NA',\n",
       "                                                                                                        strategy='constant')),\n",
       "                                                                                         ('onehotencoder',\n",
       "                                                                                          OneHotEncoder(handle_unknown='ignore',\n",
       "                                                                                                        sparse=False))]),\n",
       "                                                                         ['Store_Type',\n",
       "                                                                          'L...\n",
       "                                                                          'Month',\n",
       "                                                                          'Year'])])),\n",
       "                                       ('randomforestregressor',\n",
       "                                        RandomForestRegressor(max_depth=30,\n",
       "                                                              max_features='sqrt',\n",
       "                                                              min_samples_leaf=8,\n",
       "                                                              min_samples_split=6,\n",
       "                                                              n_jobs=-1,\n",
       "                                                              random_state=42))]),\n",
       "             param_grid={'randomforestregressor__n_estimators': [100, 200, 300,\n",
       "                                                                 400, 500, 600,\n",
       "                                                                 700, 800, 900,\n",
       "                                                                 1000, 1100,\n",
       "                                                                 1200, 1300,\n",
       "                                                                 1400, 1500,\n",
       "                                                                 1600, 1700,\n",
       "                                                                 1800, 1900]},\n",
       "             scoring='neg_mean_squared_log_error', verbose=2)"
      ]
     },
     "execution_count": 20,
     "metadata": {},
     "output_type": "execute_result"
    }
   ],
   "source": [
    "from sklearn.ensemble import RandomForestRegressor\n",
    "from sklearn.model_selection import GridSearchCV\n",
    "\n",
    "params = {\n",
    "    \"randomforestregressor__n_estimators\": list(range(100,2000,100)), \n",
    "}\n",
    "\n",
    "rf = make_pipeline(full_pipe, RandomForestRegressor(random_state=42, \n",
    "                                                    max_depth=30,\n",
    "                                                    min_samples_leaf= 8, \n",
    "                                                    min_samples_split= 6,\n",
    "                                                    max_features=\"sqrt\",\n",
    "                                                    n_jobs=-1))\n",
    "\n",
    "\n",
    "rf_grid_search = GridSearchCV(\n",
    "    estimator= rf,\n",
    "    param_grid= params,\n",
    "    scoring= \"neg_mean_squared_log_error\",\n",
    "    cv=3,\n",
    "    verbose=2,    \n",
    ")\n",
    "\n",
    "rf_grid_search.fit(X_train, y_train)"
   ]
  },
  {
   "cell_type": "code",
   "execution_count": 21,
   "id": "b255f07b",
   "metadata": {},
   "outputs": [
    {
     "data": {
      "text/plain": [
       "-0.11696036790116093"
      ]
     },
     "execution_count": 21,
     "metadata": {},
     "output_type": "execute_result"
    }
   ],
   "source": [
    "rf_grid_search.best_score_"
   ]
  },
  {
   "cell_type": "code",
   "execution_count": 22,
   "id": "d2d7e626",
   "metadata": {},
   "outputs": [
    {
     "data": {
      "text/plain": [
       "{'randomforestregressor__n_estimators': 100}"
      ]
     },
     "execution_count": 22,
     "metadata": {},
     "output_type": "execute_result"
    }
   ],
   "source": [
    "rf_grid_search.best_params_"
   ]
  },
  {
   "cell_type": "code",
   "execution_count": 23,
   "id": "01453f3e",
   "metadata": {},
   "outputs": [],
   "source": [
    "submission['Sales'] = rf_grid_search.best_estimator_.predict(X_test)\n",
    "save_dataframe(submission,\"rf_hyper1.csv\")"
   ]
  },
  {
   "cell_type": "markdown",
   "id": "1a906cb5",
   "metadata": {},
   "source": [
    "### XGBoost"
   ]
  },
  {
   "cell_type": "code",
   "execution_count": 5,
   "id": "838a78de",
   "metadata": {},
   "outputs": [
    {
     "name": "stdout",
     "output_type": "stream",
     "text": [
      "Fitting 2 folds for each of 135 candidates, totalling 270 fits\n",
      "[CV] END xgbregressor__learning_rate=0.1, xgbregressor__max_depth=5; total time=   2.4s\n",
      "[CV] END xgbregressor__learning_rate=0.1, xgbregressor__max_depth=5; total time=   0.5s\n",
      "[CV] END xgbregressor__learning_rate=0.1, xgbregressor__max_depth=6; total time=   0.5s\n",
      "[CV] END xgbregressor__learning_rate=0.1, xgbregressor__max_depth=6; total time=   0.5s\n",
      "[CV] END xgbregressor__learning_rate=0.1, xgbregressor__max_depth=7; total time=   0.5s\n",
      "[CV] END xgbregressor__learning_rate=0.1, xgbregressor__max_depth=7; total time=   0.5s\n",
      "[CV] END xgbregressor__learning_rate=0.1, xgbregressor__max_depth=8; total time=   0.5s\n",
      "[CV] END xgbregressor__learning_rate=0.1, xgbregressor__max_depth=8; total time=   0.5s\n",
      "[CV] END xgbregressor__learning_rate=0.1, xgbregressor__max_depth=9; total time=   0.5s\n",
      "[CV] END xgbregressor__learning_rate=0.1, xgbregressor__max_depth=9; total time=   0.5s\n",
      "[CV] END xgbregressor__learning_rate=0.1, xgbregressor__max_depth=10; total time=   0.5s\n",
      "[CV] END xgbregressor__learning_rate=0.1, xgbregressor__max_depth=10; total time=   0.5s\n",
      "[CV] END xgbregressor__learning_rate=0.1, xgbregressor__max_depth=11; total time=   0.5s\n",
      "[CV] END xgbregressor__learning_rate=0.1, xgbregressor__max_depth=11; total time=   0.5s\n",
      "[CV] END xgbregressor__learning_rate=0.1, xgbregressor__max_depth=12; total time=   0.5s\n",
      "[CV] END xgbregressor__learning_rate=0.1, xgbregressor__max_depth=12; total time=   0.5s\n",
      "[CV] END xgbregressor__learning_rate=0.1, xgbregressor__max_depth=13; total time=   0.5s\n",
      "[CV] END xgbregressor__learning_rate=0.1, xgbregressor__max_depth=13; total time=   0.5s\n",
      "[CV] END xgbregressor__learning_rate=0.1, xgbregressor__max_depth=14; total time=   0.5s\n",
      "[CV] END xgbregressor__learning_rate=0.1, xgbregressor__max_depth=14; total time=   0.5s\n",
      "[CV] END xgbregressor__learning_rate=0.1, xgbregressor__max_depth=15; total time=   0.5s\n",
      "[CV] END xgbregressor__learning_rate=0.1, xgbregressor__max_depth=15; total time=   0.5s\n",
      "[CV] END xgbregressor__learning_rate=0.1, xgbregressor__max_depth=16; total time=   0.5s\n",
      "[CV] END xgbregressor__learning_rate=0.1, xgbregressor__max_depth=16; total time=   0.5s\n",
      "[CV] END xgbregressor__learning_rate=0.1, xgbregressor__max_depth=17; total time=   0.6s\n",
      "[CV] END xgbregressor__learning_rate=0.1, xgbregressor__max_depth=17; total time=   0.6s\n",
      "[CV] END xgbregressor__learning_rate=0.1, xgbregressor__max_depth=18; total time=   0.6s\n",
      "[CV] END xgbregressor__learning_rate=0.1, xgbregressor__max_depth=18; total time=   0.7s\n",
      "[CV] END xgbregressor__learning_rate=0.1, xgbregressor__max_depth=19; total time=   0.7s\n",
      "[CV] END xgbregressor__learning_rate=0.1, xgbregressor__max_depth=19; total time=   0.7s\n",
      "[CV] END xgbregressor__learning_rate=0.2, xgbregressor__max_depth=5; total time=   0.5s\n",
      "[CV] END xgbregressor__learning_rate=0.2, xgbregressor__max_depth=5; total time=   0.5s\n",
      "[CV] END xgbregressor__learning_rate=0.2, xgbregressor__max_depth=6; total time=   0.5s\n",
      "[CV] END xgbregressor__learning_rate=0.2, xgbregressor__max_depth=6; total time=   0.5s\n",
      "[CV] END xgbregressor__learning_rate=0.2, xgbregressor__max_depth=7; total time=   0.5s\n",
      "[CV] END xgbregressor__learning_rate=0.2, xgbregressor__max_depth=7; total time=   0.5s\n",
      "[CV] END xgbregressor__learning_rate=0.2, xgbregressor__max_depth=8; total time=   0.5s\n",
      "[CV] END xgbregressor__learning_rate=0.2, xgbregressor__max_depth=8; total time=   0.5s\n",
      "[CV] END xgbregressor__learning_rate=0.2, xgbregressor__max_depth=9; total time=   0.5s\n",
      "[CV] END xgbregressor__learning_rate=0.2, xgbregressor__max_depth=9; total time=   0.5s\n",
      "[CV] END xgbregressor__learning_rate=0.2, xgbregressor__max_depth=10; total time=   0.5s\n",
      "[CV] END xgbregressor__learning_rate=0.2, xgbregressor__max_depth=10; total time=   0.5s\n",
      "[CV] END xgbregressor__learning_rate=0.2, xgbregressor__max_depth=11; total time=   0.5s\n",
      "[CV] END xgbregressor__learning_rate=0.2, xgbregressor__max_depth=11; total time=   0.5s\n",
      "[CV] END xgbregressor__learning_rate=0.2, xgbregressor__max_depth=12; total time=   0.5s\n",
      "[CV] END xgbregressor__learning_rate=0.2, xgbregressor__max_depth=12; total time=   0.5s\n",
      "[CV] END xgbregressor__learning_rate=0.2, xgbregressor__max_depth=13; total time=   0.5s\n",
      "[CV] END xgbregressor__learning_rate=0.2, xgbregressor__max_depth=13; total time=   0.5s\n",
      "[CV] END xgbregressor__learning_rate=0.2, xgbregressor__max_depth=14; total time=   0.5s\n",
      "[CV] END xgbregressor__learning_rate=0.2, xgbregressor__max_depth=14; total time=   0.5s\n",
      "[CV] END xgbregressor__learning_rate=0.2, xgbregressor__max_depth=15; total time=   0.5s\n",
      "[CV] END xgbregressor__learning_rate=0.2, xgbregressor__max_depth=15; total time=   0.5s\n",
      "[CV] END xgbregressor__learning_rate=0.2, xgbregressor__max_depth=16; total time=   0.5s\n",
      "[CV] END xgbregressor__learning_rate=0.2, xgbregressor__max_depth=16; total time=   0.5s\n",
      "[CV] END xgbregressor__learning_rate=0.2, xgbregressor__max_depth=17; total time=   0.5s\n",
      "[CV] END xgbregressor__learning_rate=0.2, xgbregressor__max_depth=17; total time=   0.6s\n",
      "[CV] END xgbregressor__learning_rate=0.2, xgbregressor__max_depth=18; total time=   0.6s\n",
      "[CV] END xgbregressor__learning_rate=0.2, xgbregressor__max_depth=18; total time=   0.6s\n",
      "[CV] END xgbregressor__learning_rate=0.2, xgbregressor__max_depth=19; total time=   0.7s\n",
      "[CV] END xgbregressor__learning_rate=0.2, xgbregressor__max_depth=19; total time=   0.7s\n",
      "[CV] END xgbregressor__learning_rate=0.3, xgbregressor__max_depth=5; total time=   0.5s\n",
      "[CV] END xgbregressor__learning_rate=0.3, xgbregressor__max_depth=5; total time=   0.5s\n",
      "[CV] END xgbregressor__learning_rate=0.3, xgbregressor__max_depth=6; total time=   0.5s\n",
      "[CV] END xgbregressor__learning_rate=0.3, xgbregressor__max_depth=6; total time=   0.5s\n",
      "[CV] END xgbregressor__learning_rate=0.3, xgbregressor__max_depth=7; total time=   0.5s\n",
      "[CV] END xgbregressor__learning_rate=0.3, xgbregressor__max_depth=7; total time=   0.5s\n",
      "[CV] END xgbregressor__learning_rate=0.3, xgbregressor__max_depth=8; total time=   0.5s\n",
      "[CV] END xgbregressor__learning_rate=0.3, xgbregressor__max_depth=8; total time=   0.5s\n",
      "[CV] END xgbregressor__learning_rate=0.3, xgbregressor__max_depth=9; total time=   0.5s\n",
      "[CV] END xgbregressor__learning_rate=0.3, xgbregressor__max_depth=9; total time=   0.5s\n",
      "[CV] END xgbregressor__learning_rate=0.3, xgbregressor__max_depth=10; total time=   0.5s\n",
      "[CV] END xgbregressor__learning_rate=0.3, xgbregressor__max_depth=10; total time=   0.5s\n",
      "[CV] END xgbregressor__learning_rate=0.3, xgbregressor__max_depth=11; total time=   0.5s\n",
      "[CV] END xgbregressor__learning_rate=0.3, xgbregressor__max_depth=11; total time=   0.5s\n",
      "[CV] END xgbregressor__learning_rate=0.3, xgbregressor__max_depth=12; total time=   0.5s\n",
      "[CV] END xgbregressor__learning_rate=0.3, xgbregressor__max_depth=12; total time=   0.5s\n",
      "[CV] END xgbregressor__learning_rate=0.3, xgbregressor__max_depth=13; total time=   0.5s\n",
      "[CV] END xgbregressor__learning_rate=0.3, xgbregressor__max_depth=13; total time=   0.5s\n",
      "[CV] END xgbregressor__learning_rate=0.3, xgbregressor__max_depth=14; total time=   0.5s\n",
      "[CV] END xgbregressor__learning_rate=0.3, xgbregressor__max_depth=14; total time=   0.5s\n",
      "[CV] END xgbregressor__learning_rate=0.3, xgbregressor__max_depth=15; total time=   0.5s\n",
      "[CV] END xgbregressor__learning_rate=0.3, xgbregressor__max_depth=15; total time=   0.5s\n",
      "[CV] END xgbregressor__learning_rate=0.3, xgbregressor__max_depth=16; total time=   0.5s\n",
      "[CV] END xgbregressor__learning_rate=0.3, xgbregressor__max_depth=16; total time=   0.5s\n",
      "[CV] END xgbregressor__learning_rate=0.3, xgbregressor__max_depth=17; total time=   0.5s\n",
      "[CV] END xgbregressor__learning_rate=0.3, xgbregressor__max_depth=17; total time=   0.6s\n",
      "[CV] END xgbregressor__learning_rate=0.3, xgbregressor__max_depth=18; total time=   0.6s\n",
      "[CV] END xgbregressor__learning_rate=0.3, xgbregressor__max_depth=18; total time=   0.6s\n",
      "[CV] END xgbregressor__learning_rate=0.3, xgbregressor__max_depth=19; total time=   0.7s\n",
      "[CV] END xgbregressor__learning_rate=0.3, xgbregressor__max_depth=19; total time=   0.7s\n",
      "[CV] END xgbregressor__learning_rate=0.4, xgbregressor__max_depth=5; total time=   0.6s\n",
      "[CV] END xgbregressor__learning_rate=0.4, xgbregressor__max_depth=5; total time=   0.5s\n"
     ]
    },
    {
     "name": "stdout",
     "output_type": "stream",
     "text": [
      "[CV] END xgbregressor__learning_rate=0.4, xgbregressor__max_depth=6; total time=   0.5s\n",
      "[CV] END xgbregressor__learning_rate=0.4, xgbregressor__max_depth=6; total time=   0.6s\n",
      "[CV] END xgbregressor__learning_rate=0.4, xgbregressor__max_depth=7; total time=   0.6s\n",
      "[CV] END xgbregressor__learning_rate=0.4, xgbregressor__max_depth=7; total time=   0.6s\n",
      "[CV] END xgbregressor__learning_rate=0.4, xgbregressor__max_depth=8; total time=   0.5s\n",
      "[CV] END xgbregressor__learning_rate=0.4, xgbregressor__max_depth=8; total time=   0.5s\n",
      "[CV] END xgbregressor__learning_rate=0.4, xgbregressor__max_depth=9; total time=   0.6s\n",
      "[CV] END xgbregressor__learning_rate=0.4, xgbregressor__max_depth=9; total time=   0.6s\n",
      "[CV] END xgbregressor__learning_rate=0.4, xgbregressor__max_depth=10; total time=   0.5s\n",
      "[CV] END xgbregressor__learning_rate=0.4, xgbregressor__max_depth=10; total time=   0.6s\n",
      "[CV] END xgbregressor__learning_rate=0.4, xgbregressor__max_depth=11; total time=   0.5s\n",
      "[CV] END xgbregressor__learning_rate=0.4, xgbregressor__max_depth=11; total time=   0.5s\n",
      "[CV] END xgbregressor__learning_rate=0.4, xgbregressor__max_depth=12; total time=   0.5s\n",
      "[CV] END xgbregressor__learning_rate=0.4, xgbregressor__max_depth=12; total time=   0.5s\n",
      "[CV] END xgbregressor__learning_rate=0.4, xgbregressor__max_depth=13; total time=   0.5s\n",
      "[CV] END xgbregressor__learning_rate=0.4, xgbregressor__max_depth=13; total time=   0.5s\n",
      "[CV] END xgbregressor__learning_rate=0.4, xgbregressor__max_depth=14; total time=   0.5s\n",
      "[CV] END xgbregressor__learning_rate=0.4, xgbregressor__max_depth=14; total time=   0.5s\n",
      "[CV] END xgbregressor__learning_rate=0.4, xgbregressor__max_depth=15; total time=   0.5s\n",
      "[CV] END xgbregressor__learning_rate=0.4, xgbregressor__max_depth=15; total time=   0.5s\n",
      "[CV] END xgbregressor__learning_rate=0.4, xgbregressor__max_depth=16; total time=   0.5s\n",
      "[CV] END xgbregressor__learning_rate=0.4, xgbregressor__max_depth=16; total time=   0.5s\n",
      "[CV] END xgbregressor__learning_rate=0.4, xgbregressor__max_depth=17; total time=   0.5s\n",
      "[CV] END xgbregressor__learning_rate=0.4, xgbregressor__max_depth=17; total time=   0.6s\n",
      "[CV] END xgbregressor__learning_rate=0.4, xgbregressor__max_depth=18; total time=   0.6s\n",
      "[CV] END xgbregressor__learning_rate=0.4, xgbregressor__max_depth=18; total time=   0.6s\n",
      "[CV] END xgbregressor__learning_rate=0.4, xgbregressor__max_depth=19; total time=   0.7s\n",
      "[CV] END xgbregressor__learning_rate=0.4, xgbregressor__max_depth=19; total time=   0.7s\n",
      "[CV] END xgbregressor__learning_rate=0.5, xgbregressor__max_depth=5; total time=   0.5s\n",
      "[CV] END xgbregressor__learning_rate=0.5, xgbregressor__max_depth=5; total time=   0.5s\n",
      "[CV] END xgbregressor__learning_rate=0.5, xgbregressor__max_depth=6; total time=   0.5s\n",
      "[CV] END xgbregressor__learning_rate=0.5, xgbregressor__max_depth=6; total time=   0.5s\n",
      "[CV] END xgbregressor__learning_rate=0.5, xgbregressor__max_depth=7; total time=   0.5s\n",
      "[CV] END xgbregressor__learning_rate=0.5, xgbregressor__max_depth=7; total time=   0.5s\n",
      "[CV] END xgbregressor__learning_rate=0.5, xgbregressor__max_depth=8; total time=   0.5s\n",
      "[CV] END xgbregressor__learning_rate=0.5, xgbregressor__max_depth=8; total time=   0.5s\n",
      "[CV] END xgbregressor__learning_rate=0.5, xgbregressor__max_depth=9; total time=   0.5s\n",
      "[CV] END xgbregressor__learning_rate=0.5, xgbregressor__max_depth=9; total time=   0.5s\n",
      "[CV] END xgbregressor__learning_rate=0.5, xgbregressor__max_depth=10; total time=   0.5s\n",
      "[CV] END xgbregressor__learning_rate=0.5, xgbregressor__max_depth=10; total time=   0.5s\n",
      "[CV] END xgbregressor__learning_rate=0.5, xgbregressor__max_depth=11; total time=   0.5s\n",
      "[CV] END xgbregressor__learning_rate=0.5, xgbregressor__max_depth=11; total time=   0.5s\n",
      "[CV] END xgbregressor__learning_rate=0.5, xgbregressor__max_depth=12; total time=   0.5s\n",
      "[CV] END xgbregressor__learning_rate=0.5, xgbregressor__max_depth=12; total time=   0.5s\n",
      "[CV] END xgbregressor__learning_rate=0.5, xgbregressor__max_depth=13; total time=   0.5s\n",
      "[CV] END xgbregressor__learning_rate=0.5, xgbregressor__max_depth=13; total time=   0.5s\n",
      "[CV] END xgbregressor__learning_rate=0.5, xgbregressor__max_depth=14; total time=   0.5s\n",
      "[CV] END xgbregressor__learning_rate=0.5, xgbregressor__max_depth=14; total time=   0.5s\n",
      "[CV] END xgbregressor__learning_rate=0.5, xgbregressor__max_depth=15; total time=   0.5s\n",
      "[CV] END xgbregressor__learning_rate=0.5, xgbregressor__max_depth=15; total time=   0.5s\n",
      "[CV] END xgbregressor__learning_rate=0.5, xgbregressor__max_depth=16; total time=   0.5s\n",
      "[CV] END xgbregressor__learning_rate=0.5, xgbregressor__max_depth=16; total time=   0.5s\n",
      "[CV] END xgbregressor__learning_rate=0.5, xgbregressor__max_depth=17; total time=   0.5s\n",
      "[CV] END xgbregressor__learning_rate=0.5, xgbregressor__max_depth=17; total time=   0.6s\n",
      "[CV] END xgbregressor__learning_rate=0.5, xgbregressor__max_depth=18; total time=   0.6s\n",
      "[CV] END xgbregressor__learning_rate=0.5, xgbregressor__max_depth=18; total time=   0.6s\n",
      "[CV] END xgbregressor__learning_rate=0.5, xgbregressor__max_depth=19; total time=   0.7s\n",
      "[CV] END xgbregressor__learning_rate=0.5, xgbregressor__max_depth=19; total time=   0.7s\n",
      "[CV] END xgbregressor__learning_rate=0.6, xgbregressor__max_depth=5; total time=   0.5s\n",
      "[CV] END xgbregressor__learning_rate=0.6, xgbregressor__max_depth=5; total time=   0.5s\n",
      "[CV] END xgbregressor__learning_rate=0.6, xgbregressor__max_depth=6; total time=   0.5s\n",
      "[CV] END xgbregressor__learning_rate=0.6, xgbregressor__max_depth=6; total time=   0.5s\n",
      "[CV] END xgbregressor__learning_rate=0.6, xgbregressor__max_depth=7; total time=   0.5s\n",
      "[CV] END xgbregressor__learning_rate=0.6, xgbregressor__max_depth=7; total time=   0.5s\n",
      "[CV] END xgbregressor__learning_rate=0.6, xgbregressor__max_depth=8; total time=   0.5s\n",
      "[CV] END xgbregressor__learning_rate=0.6, xgbregressor__max_depth=8; total time=   0.5s\n",
      "[CV] END xgbregressor__learning_rate=0.6, xgbregressor__max_depth=9; total time=   0.5s\n",
      "[CV] END xgbregressor__learning_rate=0.6, xgbregressor__max_depth=9; total time=   0.5s\n",
      "[CV] END xgbregressor__learning_rate=0.6, xgbregressor__max_depth=10; total time=   0.5s\n",
      "[CV] END xgbregressor__learning_rate=0.6, xgbregressor__max_depth=10; total time=   0.5s\n",
      "[CV] END xgbregressor__learning_rate=0.6, xgbregressor__max_depth=11; total time=   0.5s\n",
      "[CV] END xgbregressor__learning_rate=0.6, xgbregressor__max_depth=11; total time=   0.5s\n",
      "[CV] END xgbregressor__learning_rate=0.6, xgbregressor__max_depth=12; total time=   0.5s\n",
      "[CV] END xgbregressor__learning_rate=0.6, xgbregressor__max_depth=12; total time=   0.5s\n",
      "[CV] END xgbregressor__learning_rate=0.6, xgbregressor__max_depth=13; total time=   0.5s\n",
      "[CV] END xgbregressor__learning_rate=0.6, xgbregressor__max_depth=13; total time=   0.5s\n",
      "[CV] END xgbregressor__learning_rate=0.6, xgbregressor__max_depth=14; total time=   0.5s\n",
      "[CV] END xgbregressor__learning_rate=0.6, xgbregressor__max_depth=14; total time=   0.5s\n",
      "[CV] END xgbregressor__learning_rate=0.6, xgbregressor__max_depth=15; total time=   0.5s\n",
      "[CV] END xgbregressor__learning_rate=0.6, xgbregressor__max_depth=15; total time=   0.5s\n",
      "[CV] END xgbregressor__learning_rate=0.6, xgbregressor__max_depth=16; total time=   0.5s\n",
      "[CV] END xgbregressor__learning_rate=0.6, xgbregressor__max_depth=16; total time=   0.5s\n",
      "[CV] END xgbregressor__learning_rate=0.6, xgbregressor__max_depth=17; total time=   0.5s\n",
      "[CV] END xgbregressor__learning_rate=0.6, xgbregressor__max_depth=17; total time=   0.6s\n",
      "[CV] END xgbregressor__learning_rate=0.6, xgbregressor__max_depth=18; total time=   0.6s\n",
      "[CV] END xgbregressor__learning_rate=0.6, xgbregressor__max_depth=18; total time=   0.6s\n",
      "[CV] END xgbregressor__learning_rate=0.6, xgbregressor__max_depth=19; total time=   0.7s\n",
      "[CV] END xgbregressor__learning_rate=0.6, xgbregressor__max_depth=19; total time=   0.7s\n",
      "[CV] END xgbregressor__learning_rate=0.7, xgbregressor__max_depth=5; total time=   0.5s\n",
      "[CV] END xgbregressor__learning_rate=0.7, xgbregressor__max_depth=5; total time=   0.5s\n",
      "[CV] END xgbregressor__learning_rate=0.7, xgbregressor__max_depth=6; total time=   0.5s\n",
      "[CV] END xgbregressor__learning_rate=0.7, xgbregressor__max_depth=6; total time=   0.5s\n",
      "[CV] END xgbregressor__learning_rate=0.7, xgbregressor__max_depth=7; total time=   0.5s\n"
     ]
    },
    {
     "name": "stdout",
     "output_type": "stream",
     "text": [
      "[CV] END xgbregressor__learning_rate=0.7, xgbregressor__max_depth=7; total time=   0.5s\n",
      "[CV] END xgbregressor__learning_rate=0.7, xgbregressor__max_depth=8; total time=   0.5s\n",
      "[CV] END xgbregressor__learning_rate=0.7, xgbregressor__max_depth=8; total time=   0.5s\n",
      "[CV] END xgbregressor__learning_rate=0.7, xgbregressor__max_depth=9; total time=   0.5s\n",
      "[CV] END xgbregressor__learning_rate=0.7, xgbregressor__max_depth=9; total time=   0.5s\n",
      "[CV] END xgbregressor__learning_rate=0.7, xgbregressor__max_depth=10; total time=   0.5s\n",
      "[CV] END xgbregressor__learning_rate=0.7, xgbregressor__max_depth=10; total time=   0.5s\n",
      "[CV] END xgbregressor__learning_rate=0.7, xgbregressor__max_depth=11; total time=   0.5s\n",
      "[CV] END xgbregressor__learning_rate=0.7, xgbregressor__max_depth=11; total time=   0.5s\n",
      "[CV] END xgbregressor__learning_rate=0.7, xgbregressor__max_depth=12; total time=   0.5s\n",
      "[CV] END xgbregressor__learning_rate=0.7, xgbregressor__max_depth=12; total time=   0.5s\n",
      "[CV] END xgbregressor__learning_rate=0.7, xgbregressor__max_depth=13; total time=   0.5s\n",
      "[CV] END xgbregressor__learning_rate=0.7, xgbregressor__max_depth=13; total time=   0.5s\n",
      "[CV] END xgbregressor__learning_rate=0.7, xgbregressor__max_depth=14; total time=   0.5s\n",
      "[CV] END xgbregressor__learning_rate=0.7, xgbregressor__max_depth=14; total time=   0.5s\n",
      "[CV] END xgbregressor__learning_rate=0.7, xgbregressor__max_depth=15; total time=   0.5s\n",
      "[CV] END xgbregressor__learning_rate=0.7, xgbregressor__max_depth=15; total time=   0.5s\n",
      "[CV] END xgbregressor__learning_rate=0.7, xgbregressor__max_depth=16; total time=   0.5s\n",
      "[CV] END xgbregressor__learning_rate=0.7, xgbregressor__max_depth=16; total time=   0.5s\n",
      "[CV] END xgbregressor__learning_rate=0.7, xgbregressor__max_depth=17; total time=   0.5s\n",
      "[CV] END xgbregressor__learning_rate=0.7, xgbregressor__max_depth=17; total time=   0.6s\n",
      "[CV] END xgbregressor__learning_rate=0.7, xgbregressor__max_depth=18; total time=   0.6s\n",
      "[CV] END xgbregressor__learning_rate=0.7, xgbregressor__max_depth=18; total time=   0.6s\n",
      "[CV] END xgbregressor__learning_rate=0.7, xgbregressor__max_depth=19; total time=   0.7s\n",
      "[CV] END xgbregressor__learning_rate=0.7, xgbregressor__max_depth=19; total time=   0.7s\n",
      "[CV] END xgbregressor__learning_rate=0.8, xgbregressor__max_depth=5; total time=   0.5s\n",
      "[CV] END xgbregressor__learning_rate=0.8, xgbregressor__max_depth=5; total time=   0.5s\n",
      "[CV] END xgbregressor__learning_rate=0.8, xgbregressor__max_depth=6; total time=   0.5s\n",
      "[CV] END xgbregressor__learning_rate=0.8, xgbregressor__max_depth=6; total time=   0.5s\n",
      "[CV] END xgbregressor__learning_rate=0.8, xgbregressor__max_depth=7; total time=   0.5s\n",
      "[CV] END xgbregressor__learning_rate=0.8, xgbregressor__max_depth=7; total time=   0.5s\n",
      "[CV] END xgbregressor__learning_rate=0.8, xgbregressor__max_depth=8; total time=   0.5s\n",
      "[CV] END xgbregressor__learning_rate=0.8, xgbregressor__max_depth=8; total time=   0.5s\n",
      "[CV] END xgbregressor__learning_rate=0.8, xgbregressor__max_depth=9; total time=   0.5s\n",
      "[CV] END xgbregressor__learning_rate=0.8, xgbregressor__max_depth=9; total time=   0.5s\n",
      "[CV] END xgbregressor__learning_rate=0.8, xgbregressor__max_depth=10; total time=   0.5s\n",
      "[CV] END xgbregressor__learning_rate=0.8, xgbregressor__max_depth=10; total time=   0.5s\n",
      "[CV] END xgbregressor__learning_rate=0.8, xgbregressor__max_depth=11; total time=   0.5s\n",
      "[CV] END xgbregressor__learning_rate=0.8, xgbregressor__max_depth=11; total time=   0.5s\n",
      "[CV] END xgbregressor__learning_rate=0.8, xgbregressor__max_depth=12; total time=   0.5s\n",
      "[CV] END xgbregressor__learning_rate=0.8, xgbregressor__max_depth=12; total time=   0.5s\n",
      "[CV] END xgbregressor__learning_rate=0.8, xgbregressor__max_depth=13; total time=   0.5s\n",
      "[CV] END xgbregressor__learning_rate=0.8, xgbregressor__max_depth=13; total time=   0.5s\n",
      "[CV] END xgbregressor__learning_rate=0.8, xgbregressor__max_depth=14; total time=   0.5s\n",
      "[CV] END xgbregressor__learning_rate=0.8, xgbregressor__max_depth=14; total time=   0.5s\n",
      "[CV] END xgbregressor__learning_rate=0.8, xgbregressor__max_depth=15; total time=   0.5s\n",
      "[CV] END xgbregressor__learning_rate=0.8, xgbregressor__max_depth=15; total time=   0.5s\n",
      "[CV] END xgbregressor__learning_rate=0.8, xgbregressor__max_depth=16; total time=   0.5s\n",
      "[CV] END xgbregressor__learning_rate=0.8, xgbregressor__max_depth=16; total time=   0.5s\n",
      "[CV] END xgbregressor__learning_rate=0.8, xgbregressor__max_depth=17; total time=   0.5s\n",
      "[CV] END xgbregressor__learning_rate=0.8, xgbregressor__max_depth=17; total time=   0.6s\n",
      "[CV] END xgbregressor__learning_rate=0.8, xgbregressor__max_depth=18; total time=   0.6s\n",
      "[CV] END xgbregressor__learning_rate=0.8, xgbregressor__max_depth=18; total time=   0.6s\n",
      "[CV] END xgbregressor__learning_rate=0.8, xgbregressor__max_depth=19; total time=   0.7s\n",
      "[CV] END xgbregressor__learning_rate=0.8, xgbregressor__max_depth=19; total time=   0.7s\n",
      "[CV] END xgbregressor__learning_rate=0.9, xgbregressor__max_depth=5; total time=   0.5s\n",
      "[CV] END xgbregressor__learning_rate=0.9, xgbregressor__max_depth=5; total time=   0.5s\n",
      "[CV] END xgbregressor__learning_rate=0.9, xgbregressor__max_depth=6; total time=   0.5s\n",
      "[CV] END xgbregressor__learning_rate=0.9, xgbregressor__max_depth=6; total time=   0.5s\n",
      "[CV] END xgbregressor__learning_rate=0.9, xgbregressor__max_depth=7; total time=   0.5s\n",
      "[CV] END xgbregressor__learning_rate=0.9, xgbregressor__max_depth=7; total time=   0.5s\n",
      "[CV] END xgbregressor__learning_rate=0.9, xgbregressor__max_depth=8; total time=   0.5s\n",
      "[CV] END xgbregressor__learning_rate=0.9, xgbregressor__max_depth=8; total time=   0.5s\n",
      "[CV] END xgbregressor__learning_rate=0.9, xgbregressor__max_depth=9; total time=   0.5s\n",
      "[CV] END xgbregressor__learning_rate=0.9, xgbregressor__max_depth=9; total time=   0.5s\n",
      "[CV] END xgbregressor__learning_rate=0.9, xgbregressor__max_depth=10; total time=   0.5s\n",
      "[CV] END xgbregressor__learning_rate=0.9, xgbregressor__max_depth=10; total time=   0.5s\n",
      "[CV] END xgbregressor__learning_rate=0.9, xgbregressor__max_depth=11; total time=   0.5s\n",
      "[CV] END xgbregressor__learning_rate=0.9, xgbregressor__max_depth=11; total time=   0.5s\n",
      "[CV] END xgbregressor__learning_rate=0.9, xgbregressor__max_depth=12; total time=   0.5s\n",
      "[CV] END xgbregressor__learning_rate=0.9, xgbregressor__max_depth=12; total time=   0.5s\n",
      "[CV] END xgbregressor__learning_rate=0.9, xgbregressor__max_depth=13; total time=   0.5s\n",
      "[CV] END xgbregressor__learning_rate=0.9, xgbregressor__max_depth=13; total time=   0.5s\n",
      "[CV] END xgbregressor__learning_rate=0.9, xgbregressor__max_depth=14; total time=   0.5s\n",
      "[CV] END xgbregressor__learning_rate=0.9, xgbregressor__max_depth=14; total time=   0.5s\n",
      "[CV] END xgbregressor__learning_rate=0.9, xgbregressor__max_depth=15; total time=   0.5s\n",
      "[CV] END xgbregressor__learning_rate=0.9, xgbregressor__max_depth=15; total time=   0.5s\n",
      "[CV] END xgbregressor__learning_rate=0.9, xgbregressor__max_depth=16; total time=   0.5s\n",
      "[CV] END xgbregressor__learning_rate=0.9, xgbregressor__max_depth=16; total time=   0.5s\n",
      "[CV] END xgbregressor__learning_rate=0.9, xgbregressor__max_depth=17; total time=   0.5s\n",
      "[CV] END xgbregressor__learning_rate=0.9, xgbregressor__max_depth=17; total time=   0.6s\n",
      "[CV] END xgbregressor__learning_rate=0.9, xgbregressor__max_depth=18; total time=   0.6s\n",
      "[CV] END xgbregressor__learning_rate=0.9, xgbregressor__max_depth=18; total time=   0.6s\n",
      "[CV] END xgbregressor__learning_rate=0.9, xgbregressor__max_depth=19; total time=   0.7s\n",
      "[CV] END xgbregressor__learning_rate=0.9, xgbregressor__max_depth=19; total time=   0.7s\n"
     ]
    },
    {
     "data": {
      "text/plain": [
       "GridSearchCV(cv=2,\n",
       "             estimator=Pipeline(steps=[('columntransformer',\n",
       "                                        ColumnTransformer(transformers=[('num',\n",
       "                                                                         Pipeline(steps=[('simpleimputer',\n",
       "                                                                                          SimpleImputer())]),\n",
       "                                                                         ['Store_id']),\n",
       "                                                                        ('cat',\n",
       "                                                                         Pipeline(steps=[('simpleimputer',\n",
       "                                                                                          SimpleImputer(fill_value='NA',\n",
       "                                                                                                        strategy='constant')),\n",
       "                                                                                         ('onehotencoder',\n",
       "                                                                                          OneHotEncoder(handle_unknown='ignore',\n",
       "                                                                                                        sparse=False))]),\n",
       "                                                                         ['Store_Type',\n",
       "                                                                          'L...\n",
       "                                                     objective='reg:squaredlogerror',\n",
       "                                                     random_state=42,\n",
       "                                                     reg_alpha=None,\n",
       "                                                     reg_lambda=None,\n",
       "                                                     scale_pos_weight=None,\n",
       "                                                     subsample=None,\n",
       "                                                     tree_method='gpu_hist',\n",
       "                                                     validate_parameters=None,\n",
       "                                                     verbosity=None))]),\n",
       "             param_grid={'xgbregressor__learning_rate': [0.1, 0.2, 0.3, 0.4,\n",
       "                                                         0.5, 0.6, 0.7, 0.8,\n",
       "                                                         0.9],\n",
       "                         'xgbregressor__max_depth': [5, 6, 7, 8, 9, 10, 11, 12,\n",
       "                                                     13, 14, 15, 16, 17, 18,\n",
       "                                                     19]},\n",
       "             scoring='neg_mean_squared_log_error', verbose=2)"
      ]
     },
     "execution_count": 5,
     "metadata": {},
     "output_type": "execute_result"
    }
   ],
   "source": [
    "from sklearn.pipeline import make_pipeline\n",
    "from xgboost import XGBRegressor\n",
    "from sklearn.model_selection import GridSearchCV\n",
    "\n",
    "xgb_reg = make_pipeline(full_pipe, XGBRegressor(objective= \"reg:squaredlogerror\",\n",
    "                                                random_state=42, \n",
    "                                                tree_method=\"gpu_hist\", \n",
    "                                                n_jobs=-1,))\n",
    "\n",
    "params = {\n",
    "    \"xgbregressor__learning_rate\": [0.1, 0.2, 0.3, 0.4, 0.5, 0.6, 0.7, 0.8, 0.9],\n",
    "    \"xgbregressor__max_depth\": list(range(5,20))\n",
    "}\n",
    "\n",
    "xgb_grid = GridSearchCV(\n",
    "    estimator= xgb_reg,\n",
    "    param_grid = params,\n",
    "    scoring=\"neg_mean_squared_log_error\",\n",
    "    cv=2,\n",
    "    verbose=2\n",
    ")\n",
    "xgb_grid.fit(X_train, y_train)"
   ]
  },
  {
   "cell_type": "code",
   "execution_count": 6,
   "id": "2fa31e6e",
   "metadata": {},
   "outputs": [
    {
     "data": {
      "text/plain": [
       "-14.330466206973906"
      ]
     },
     "execution_count": 6,
     "metadata": {},
     "output_type": "execute_result"
    }
   ],
   "source": [
    "xgb_grid.best_score_"
   ]
  },
  {
   "cell_type": "code",
   "execution_count": 7,
   "id": "075b7fb5",
   "metadata": {},
   "outputs": [
    {
     "data": {
      "text/plain": [
       "{'xgbregressor__learning_rate': 0.8, 'xgbregressor__max_depth': 5}"
      ]
     },
     "execution_count": 7,
     "metadata": {},
     "output_type": "execute_result"
    }
   ],
   "source": [
    "xgb_grid.best_params_"
   ]
  },
  {
   "cell_type": "code",
   "execution_count": 11,
   "id": "aa58d31a",
   "metadata": {},
   "outputs": [
    {
     "name": "stdout",
     "output_type": "stream",
     "text": [
      "Fitting 3 folds for each of 100 candidates, totalling 300 fits\n",
      "[CV] END xgbregressor__colsample_bylevel=0.1, xgbregressor__colsample_bytree=0.1; total time=   0.6s\n",
      "[CV] END xgbregressor__colsample_bylevel=0.1, xgbregressor__colsample_bytree=0.1; total time=   0.6s\n",
      "[CV] END xgbregressor__colsample_bylevel=0.1, xgbregressor__colsample_bytree=0.1; total time=   0.6s\n",
      "[CV] END xgbregressor__colsample_bylevel=0.1, xgbregressor__colsample_bytree=0.2; total time=   0.6s\n",
      "[CV] END xgbregressor__colsample_bylevel=0.1, xgbregressor__colsample_bytree=0.2; total time=   0.6s\n",
      "[CV] END xgbregressor__colsample_bylevel=0.1, xgbregressor__colsample_bytree=0.2; total time=   0.6s\n",
      "[CV] END xgbregressor__colsample_bylevel=0.1, xgbregressor__colsample_bytree=0.3; total time=   0.6s\n",
      "[CV] END xgbregressor__colsample_bylevel=0.1, xgbregressor__colsample_bytree=0.3; total time=   0.6s\n",
      "[CV] END xgbregressor__colsample_bylevel=0.1, xgbregressor__colsample_bytree=0.3; total time=   0.6s\n",
      "[CV] END xgbregressor__colsample_bylevel=0.1, xgbregressor__colsample_bytree=0.4; total time=   0.6s\n",
      "[CV] END xgbregressor__colsample_bylevel=0.1, xgbregressor__colsample_bytree=0.4; total time=   0.6s\n",
      "[CV] END xgbregressor__colsample_bylevel=0.1, xgbregressor__colsample_bytree=0.4; total time=   0.6s\n",
      "[CV] END xgbregressor__colsample_bylevel=0.1, xgbregressor__colsample_bytree=0.5; total time=   0.6s\n",
      "[CV] END xgbregressor__colsample_bylevel=0.1, xgbregressor__colsample_bytree=0.5; total time=   0.6s\n",
      "[CV] END xgbregressor__colsample_bylevel=0.1, xgbregressor__colsample_bytree=0.5; total time=   0.6s\n",
      "[CV] END xgbregressor__colsample_bylevel=0.1, xgbregressor__colsample_bytree=0.6; total time=   0.6s\n",
      "[CV] END xgbregressor__colsample_bylevel=0.1, xgbregressor__colsample_bytree=0.6; total time=   0.6s\n",
      "[CV] END xgbregressor__colsample_bylevel=0.1, xgbregressor__colsample_bytree=0.6; total time=   0.6s\n",
      "[CV] END xgbregressor__colsample_bylevel=0.1, xgbregressor__colsample_bytree=0.7; total time=   0.6s\n",
      "[CV] END xgbregressor__colsample_bylevel=0.1, xgbregressor__colsample_bytree=0.7; total time=   0.6s\n",
      "[CV] END xgbregressor__colsample_bylevel=0.1, xgbregressor__colsample_bytree=0.7; total time=   0.6s\n",
      "[CV] END xgbregressor__colsample_bylevel=0.1, xgbregressor__colsample_bytree=0.8; total time=   0.6s\n",
      "[CV] END xgbregressor__colsample_bylevel=0.1, xgbregressor__colsample_bytree=0.8; total time=   0.6s\n",
      "[CV] END xgbregressor__colsample_bylevel=0.1, xgbregressor__colsample_bytree=0.8; total time=   0.6s\n",
      "[CV] END xgbregressor__colsample_bylevel=0.1, xgbregressor__colsample_bytree=0.9; total time=   0.6s\n",
      "[CV] END xgbregressor__colsample_bylevel=0.1, xgbregressor__colsample_bytree=0.9; total time=   0.6s\n",
      "[CV] END xgbregressor__colsample_bylevel=0.1, xgbregressor__colsample_bytree=0.9; total time=   0.6s\n",
      "[CV] END xgbregressor__colsample_bylevel=0.1, xgbregressor__colsample_bytree=1; total time=   0.6s\n",
      "[CV] END xgbregressor__colsample_bylevel=0.1, xgbregressor__colsample_bytree=1; total time=   0.6s\n",
      "[CV] END xgbregressor__colsample_bylevel=0.1, xgbregressor__colsample_bytree=1; total time=   0.6s\n",
      "[CV] END xgbregressor__colsample_bylevel=0.2, xgbregressor__colsample_bytree=0.1; total time=   0.6s\n",
      "[CV] END xgbregressor__colsample_bylevel=0.2, xgbregressor__colsample_bytree=0.1; total time=   0.6s\n",
      "[CV] END xgbregressor__colsample_bylevel=0.2, xgbregressor__colsample_bytree=0.1; total time=   0.6s\n",
      "[CV] END xgbregressor__colsample_bylevel=0.2, xgbregressor__colsample_bytree=0.2; total time=   0.6s\n",
      "[CV] END xgbregressor__colsample_bylevel=0.2, xgbregressor__colsample_bytree=0.2; total time=   0.6s\n",
      "[CV] END xgbregressor__colsample_bylevel=0.2, xgbregressor__colsample_bytree=0.2; total time=   0.6s\n",
      "[CV] END xgbregressor__colsample_bylevel=0.2, xgbregressor__colsample_bytree=0.3; total time=   0.6s\n",
      "[CV] END xgbregressor__colsample_bylevel=0.2, xgbregressor__colsample_bytree=0.3; total time=   0.6s\n",
      "[CV] END xgbregressor__colsample_bylevel=0.2, xgbregressor__colsample_bytree=0.3; total time=   0.6s\n",
      "[CV] END xgbregressor__colsample_bylevel=0.2, xgbregressor__colsample_bytree=0.4; total time=   0.6s\n",
      "[CV] END xgbregressor__colsample_bylevel=0.2, xgbregressor__colsample_bytree=0.4; total time=   0.6s\n",
      "[CV] END xgbregressor__colsample_bylevel=0.2, xgbregressor__colsample_bytree=0.4; total time=   0.6s\n",
      "[CV] END xgbregressor__colsample_bylevel=0.2, xgbregressor__colsample_bytree=0.5; total time=   0.6s\n",
      "[CV] END xgbregressor__colsample_bylevel=0.2, xgbregressor__colsample_bytree=0.5; total time=   0.6s\n",
      "[CV] END xgbregressor__colsample_bylevel=0.2, xgbregressor__colsample_bytree=0.5; total time=   0.6s\n",
      "[CV] END xgbregressor__colsample_bylevel=0.2, xgbregressor__colsample_bytree=0.6; total time=   0.6s\n",
      "[CV] END xgbregressor__colsample_bylevel=0.2, xgbregressor__colsample_bytree=0.6; total time=   0.6s\n",
      "[CV] END xgbregressor__colsample_bylevel=0.2, xgbregressor__colsample_bytree=0.6; total time=   0.6s\n",
      "[CV] END xgbregressor__colsample_bylevel=0.2, xgbregressor__colsample_bytree=0.7; total time=   0.6s\n",
      "[CV] END xgbregressor__colsample_bylevel=0.2, xgbregressor__colsample_bytree=0.7; total time=   0.6s\n",
      "[CV] END xgbregressor__colsample_bylevel=0.2, xgbregressor__colsample_bytree=0.7; total time=   0.6s\n",
      "[CV] END xgbregressor__colsample_bylevel=0.2, xgbregressor__colsample_bytree=0.8; total time=   0.6s\n",
      "[CV] END xgbregressor__colsample_bylevel=0.2, xgbregressor__colsample_bytree=0.8; total time=   0.6s\n",
      "[CV] END xgbregressor__colsample_bylevel=0.2, xgbregressor__colsample_bytree=0.8; total time=   0.6s\n",
      "[CV] END xgbregressor__colsample_bylevel=0.2, xgbregressor__colsample_bytree=0.9; total time=   0.6s\n",
      "[CV] END xgbregressor__colsample_bylevel=0.2, xgbregressor__colsample_bytree=0.9; total time=   0.6s\n",
      "[CV] END xgbregressor__colsample_bylevel=0.2, xgbregressor__colsample_bytree=0.9; total time=   0.6s\n",
      "[CV] END xgbregressor__colsample_bylevel=0.2, xgbregressor__colsample_bytree=1; total time=   0.6s\n",
      "[CV] END xgbregressor__colsample_bylevel=0.2, xgbregressor__colsample_bytree=1; total time=   0.6s\n",
      "[CV] END xgbregressor__colsample_bylevel=0.2, xgbregressor__colsample_bytree=1; total time=   0.6s\n",
      "[CV] END xgbregressor__colsample_bylevel=0.3, xgbregressor__colsample_bytree=0.1; total time=   0.6s\n",
      "[CV] END xgbregressor__colsample_bylevel=0.3, xgbregressor__colsample_bytree=0.1; total time=   0.6s\n",
      "[CV] END xgbregressor__colsample_bylevel=0.3, xgbregressor__colsample_bytree=0.1; total time=   0.6s\n",
      "[CV] END xgbregressor__colsample_bylevel=0.3, xgbregressor__colsample_bytree=0.2; total time=   0.6s\n",
      "[CV] END xgbregressor__colsample_bylevel=0.3, xgbregressor__colsample_bytree=0.2; total time=   0.6s\n",
      "[CV] END xgbregressor__colsample_bylevel=0.3, xgbregressor__colsample_bytree=0.2; total time=   0.6s\n",
      "[CV] END xgbregressor__colsample_bylevel=0.3, xgbregressor__colsample_bytree=0.3; total time=   0.6s\n",
      "[CV] END xgbregressor__colsample_bylevel=0.3, xgbregressor__colsample_bytree=0.3; total time=   0.6s\n",
      "[CV] END xgbregressor__colsample_bylevel=0.3, xgbregressor__colsample_bytree=0.3; total time=   0.6s\n",
      "[CV] END xgbregressor__colsample_bylevel=0.3, xgbregressor__colsample_bytree=0.4; total time=   0.6s\n",
      "[CV] END xgbregressor__colsample_bylevel=0.3, xgbregressor__colsample_bytree=0.4; total time=   0.6s\n",
      "[CV] END xgbregressor__colsample_bylevel=0.3, xgbregressor__colsample_bytree=0.4; total time=   0.6s\n",
      "[CV] END xgbregressor__colsample_bylevel=0.3, xgbregressor__colsample_bytree=0.5; total time=   0.6s\n",
      "[CV] END xgbregressor__colsample_bylevel=0.3, xgbregressor__colsample_bytree=0.5; total time=   0.6s\n",
      "[CV] END xgbregressor__colsample_bylevel=0.3, xgbregressor__colsample_bytree=0.5; total time=   0.6s\n",
      "[CV] END xgbregressor__colsample_bylevel=0.3, xgbregressor__colsample_bytree=0.6; total time=   0.6s\n",
      "[CV] END xgbregressor__colsample_bylevel=0.3, xgbregressor__colsample_bytree=0.6; total time=   0.6s\n",
      "[CV] END xgbregressor__colsample_bylevel=0.3, xgbregressor__colsample_bytree=0.6; total time=   0.6s\n",
      "[CV] END xgbregressor__colsample_bylevel=0.3, xgbregressor__colsample_bytree=0.7; total time=   0.6s\n",
      "[CV] END xgbregressor__colsample_bylevel=0.3, xgbregressor__colsample_bytree=0.7; total time=   0.6s\n",
      "[CV] END xgbregressor__colsample_bylevel=0.3, xgbregressor__colsample_bytree=0.7; total time=   0.6s\n"
     ]
    },
    {
     "name": "stdout",
     "output_type": "stream",
     "text": [
      "[CV] END xgbregressor__colsample_bylevel=0.3, xgbregressor__colsample_bytree=0.8; total time=   0.6s\n",
      "[CV] END xgbregressor__colsample_bylevel=0.3, xgbregressor__colsample_bytree=0.8; total time=   0.6s\n",
      "[CV] END xgbregressor__colsample_bylevel=0.3, xgbregressor__colsample_bytree=0.8; total time=   0.6s\n",
      "[CV] END xgbregressor__colsample_bylevel=0.3, xgbregressor__colsample_bytree=0.9; total time=   0.6s\n",
      "[CV] END xgbregressor__colsample_bylevel=0.3, xgbregressor__colsample_bytree=0.9; total time=   0.6s\n",
      "[CV] END xgbregressor__colsample_bylevel=0.3, xgbregressor__colsample_bytree=0.9; total time=   0.6s\n",
      "[CV] END xgbregressor__colsample_bylevel=0.3, xgbregressor__colsample_bytree=1; total time=   0.6s\n",
      "[CV] END xgbregressor__colsample_bylevel=0.3, xgbregressor__colsample_bytree=1; total time=   0.6s\n",
      "[CV] END xgbregressor__colsample_bylevel=0.3, xgbregressor__colsample_bytree=1; total time=   0.6s\n",
      "[CV] END xgbregressor__colsample_bylevel=0.4, xgbregressor__colsample_bytree=0.1; total time=   0.6s\n",
      "[CV] END xgbregressor__colsample_bylevel=0.4, xgbregressor__colsample_bytree=0.1; total time=   0.6s\n",
      "[CV] END xgbregressor__colsample_bylevel=0.4, xgbregressor__colsample_bytree=0.1; total time=   0.6s\n",
      "[CV] END xgbregressor__colsample_bylevel=0.4, xgbregressor__colsample_bytree=0.2; total time=   0.6s\n",
      "[CV] END xgbregressor__colsample_bylevel=0.4, xgbregressor__colsample_bytree=0.2; total time=   0.6s\n",
      "[CV] END xgbregressor__colsample_bylevel=0.4, xgbregressor__colsample_bytree=0.2; total time=   0.6s\n",
      "[CV] END xgbregressor__colsample_bylevel=0.4, xgbregressor__colsample_bytree=0.3; total time=   0.6s\n",
      "[CV] END xgbregressor__colsample_bylevel=0.4, xgbregressor__colsample_bytree=0.3; total time=   0.6s\n",
      "[CV] END xgbregressor__colsample_bylevel=0.4, xgbregressor__colsample_bytree=0.3; total time=   0.6s\n",
      "[CV] END xgbregressor__colsample_bylevel=0.4, xgbregressor__colsample_bytree=0.4; total time=   0.6s\n",
      "[CV] END xgbregressor__colsample_bylevel=0.4, xgbregressor__colsample_bytree=0.4; total time=   0.6s\n",
      "[CV] END xgbregressor__colsample_bylevel=0.4, xgbregressor__colsample_bytree=0.4; total time=   0.6s\n",
      "[CV] END xgbregressor__colsample_bylevel=0.4, xgbregressor__colsample_bytree=0.5; total time=   0.6s\n",
      "[CV] END xgbregressor__colsample_bylevel=0.4, xgbregressor__colsample_bytree=0.5; total time=   0.6s\n",
      "[CV] END xgbregressor__colsample_bylevel=0.4, xgbregressor__colsample_bytree=0.5; total time=   0.6s\n",
      "[CV] END xgbregressor__colsample_bylevel=0.4, xgbregressor__colsample_bytree=0.6; total time=   0.6s\n",
      "[CV] END xgbregressor__colsample_bylevel=0.4, xgbregressor__colsample_bytree=0.6; total time=   0.6s\n",
      "[CV] END xgbregressor__colsample_bylevel=0.4, xgbregressor__colsample_bytree=0.6; total time=   0.6s\n",
      "[CV] END xgbregressor__colsample_bylevel=0.4, xgbregressor__colsample_bytree=0.7; total time=   0.6s\n",
      "[CV] END xgbregressor__colsample_bylevel=0.4, xgbregressor__colsample_bytree=0.7; total time=   0.6s\n",
      "[CV] END xgbregressor__colsample_bylevel=0.4, xgbregressor__colsample_bytree=0.7; total time=   0.6s\n",
      "[CV] END xgbregressor__colsample_bylevel=0.4, xgbregressor__colsample_bytree=0.8; total time=   0.6s\n",
      "[CV] END xgbregressor__colsample_bylevel=0.4, xgbregressor__colsample_bytree=0.8; total time=   0.6s\n",
      "[CV] END xgbregressor__colsample_bylevel=0.4, xgbregressor__colsample_bytree=0.8; total time=   0.6s\n",
      "[CV] END xgbregressor__colsample_bylevel=0.4, xgbregressor__colsample_bytree=0.9; total time=   0.6s\n",
      "[CV] END xgbregressor__colsample_bylevel=0.4, xgbregressor__colsample_bytree=0.9; total time=   0.6s\n",
      "[CV] END xgbregressor__colsample_bylevel=0.4, xgbregressor__colsample_bytree=0.9; total time=   0.6s\n",
      "[CV] END xgbregressor__colsample_bylevel=0.4, xgbregressor__colsample_bytree=1; total time=   0.6s\n",
      "[CV] END xgbregressor__colsample_bylevel=0.4, xgbregressor__colsample_bytree=1; total time=   0.6s\n",
      "[CV] END xgbregressor__colsample_bylevel=0.4, xgbregressor__colsample_bytree=1; total time=   0.6s\n",
      "[CV] END xgbregressor__colsample_bylevel=0.5, xgbregressor__colsample_bytree=0.1; total time=   0.6s\n",
      "[CV] END xgbregressor__colsample_bylevel=0.5, xgbregressor__colsample_bytree=0.1; total time=   0.6s\n",
      "[CV] END xgbregressor__colsample_bylevel=0.5, xgbregressor__colsample_bytree=0.1; total time=   0.6s\n",
      "[CV] END xgbregressor__colsample_bylevel=0.5, xgbregressor__colsample_bytree=0.2; total time=   0.6s\n",
      "[CV] END xgbregressor__colsample_bylevel=0.5, xgbregressor__colsample_bytree=0.2; total time=   0.6s\n",
      "[CV] END xgbregressor__colsample_bylevel=0.5, xgbregressor__colsample_bytree=0.2; total time=   0.6s\n",
      "[CV] END xgbregressor__colsample_bylevel=0.5, xgbregressor__colsample_bytree=0.3; total time=   0.6s\n",
      "[CV] END xgbregressor__colsample_bylevel=0.5, xgbregressor__colsample_bytree=0.3; total time=   0.6s\n",
      "[CV] END xgbregressor__colsample_bylevel=0.5, xgbregressor__colsample_bytree=0.3; total time=   0.6s\n",
      "[CV] END xgbregressor__colsample_bylevel=0.5, xgbregressor__colsample_bytree=0.4; total time=   0.6s\n",
      "[CV] END xgbregressor__colsample_bylevel=0.5, xgbregressor__colsample_bytree=0.4; total time=   0.6s\n",
      "[CV] END xgbregressor__colsample_bylevel=0.5, xgbregressor__colsample_bytree=0.4; total time=   0.6s\n",
      "[CV] END xgbregressor__colsample_bylevel=0.5, xgbregressor__colsample_bytree=0.5; total time=   0.6s\n",
      "[CV] END xgbregressor__colsample_bylevel=0.5, xgbregressor__colsample_bytree=0.5; total time=   0.6s\n",
      "[CV] END xgbregressor__colsample_bylevel=0.5, xgbregressor__colsample_bytree=0.5; total time=   0.6s\n",
      "[CV] END xgbregressor__colsample_bylevel=0.5, xgbregressor__colsample_bytree=0.6; total time=   0.6s\n",
      "[CV] END xgbregressor__colsample_bylevel=0.5, xgbregressor__colsample_bytree=0.6; total time=   0.6s\n",
      "[CV] END xgbregressor__colsample_bylevel=0.5, xgbregressor__colsample_bytree=0.6; total time=   0.6s\n",
      "[CV] END xgbregressor__colsample_bylevel=0.5, xgbregressor__colsample_bytree=0.7; total time=   0.6s\n",
      "[CV] END xgbregressor__colsample_bylevel=0.5, xgbregressor__colsample_bytree=0.7; total time=   0.6s\n",
      "[CV] END xgbregressor__colsample_bylevel=0.5, xgbregressor__colsample_bytree=0.7; total time=   0.6s\n",
      "[CV] END xgbregressor__colsample_bylevel=0.5, xgbregressor__colsample_bytree=0.8; total time=   0.6s\n",
      "[CV] END xgbregressor__colsample_bylevel=0.5, xgbregressor__colsample_bytree=0.8; total time=   0.6s\n",
      "[CV] END xgbregressor__colsample_bylevel=0.5, xgbregressor__colsample_bytree=0.8; total time=   0.6s\n",
      "[CV] END xgbregressor__colsample_bylevel=0.5, xgbregressor__colsample_bytree=0.9; total time=   0.6s\n",
      "[CV] END xgbregressor__colsample_bylevel=0.5, xgbregressor__colsample_bytree=0.9; total time=   0.6s\n",
      "[CV] END xgbregressor__colsample_bylevel=0.5, xgbregressor__colsample_bytree=0.9; total time=   0.6s\n",
      "[CV] END xgbregressor__colsample_bylevel=0.5, xgbregressor__colsample_bytree=1; total time=   0.6s\n",
      "[CV] END xgbregressor__colsample_bylevel=0.5, xgbregressor__colsample_bytree=1; total time=   0.6s\n",
      "[CV] END xgbregressor__colsample_bylevel=0.5, xgbregressor__colsample_bytree=1; total time=   0.6s\n",
      "[CV] END xgbregressor__colsample_bylevel=0.6, xgbregressor__colsample_bytree=0.1; total time=   0.6s\n",
      "[CV] END xgbregressor__colsample_bylevel=0.6, xgbregressor__colsample_bytree=0.1; total time=   0.6s\n",
      "[CV] END xgbregressor__colsample_bylevel=0.6, xgbregressor__colsample_bytree=0.1; total time=   0.6s\n",
      "[CV] END xgbregressor__colsample_bylevel=0.6, xgbregressor__colsample_bytree=0.2; total time=   0.6s\n",
      "[CV] END xgbregressor__colsample_bylevel=0.6, xgbregressor__colsample_bytree=0.2; total time=   0.6s\n",
      "[CV] END xgbregressor__colsample_bylevel=0.6, xgbregressor__colsample_bytree=0.2; total time=   0.6s\n",
      "[CV] END xgbregressor__colsample_bylevel=0.6, xgbregressor__colsample_bytree=0.3; total time=   0.6s\n",
      "[CV] END xgbregressor__colsample_bylevel=0.6, xgbregressor__colsample_bytree=0.3; total time=   0.6s\n",
      "[CV] END xgbregressor__colsample_bylevel=0.6, xgbregressor__colsample_bytree=0.3; total time=   0.6s\n",
      "[CV] END xgbregressor__colsample_bylevel=0.6, xgbregressor__colsample_bytree=0.4; total time=   0.6s\n",
      "[CV] END xgbregressor__colsample_bylevel=0.6, xgbregressor__colsample_bytree=0.4; total time=   0.6s\n",
      "[CV] END xgbregressor__colsample_bylevel=0.6, xgbregressor__colsample_bytree=0.4; total time=   0.6s\n",
      "[CV] END xgbregressor__colsample_bylevel=0.6, xgbregressor__colsample_bytree=0.5; total time=   0.6s\n"
     ]
    },
    {
     "name": "stdout",
     "output_type": "stream",
     "text": [
      "[CV] END xgbregressor__colsample_bylevel=0.6, xgbregressor__colsample_bytree=0.5; total time=   0.6s\n",
      "[CV] END xgbregressor__colsample_bylevel=0.6, xgbregressor__colsample_bytree=0.5; total time=   0.6s\n",
      "[CV] END xgbregressor__colsample_bylevel=0.6, xgbregressor__colsample_bytree=0.6; total time=   0.6s\n",
      "[CV] END xgbregressor__colsample_bylevel=0.6, xgbregressor__colsample_bytree=0.6; total time=   0.6s\n",
      "[CV] END xgbregressor__colsample_bylevel=0.6, xgbregressor__colsample_bytree=0.6; total time=   0.6s\n",
      "[CV] END xgbregressor__colsample_bylevel=0.6, xgbregressor__colsample_bytree=0.7; total time=   0.6s\n",
      "[CV] END xgbregressor__colsample_bylevel=0.6, xgbregressor__colsample_bytree=0.7; total time=   0.6s\n",
      "[CV] END xgbregressor__colsample_bylevel=0.6, xgbregressor__colsample_bytree=0.7; total time=   0.6s\n",
      "[CV] END xgbregressor__colsample_bylevel=0.6, xgbregressor__colsample_bytree=0.8; total time=   0.6s\n",
      "[CV] END xgbregressor__colsample_bylevel=0.6, xgbregressor__colsample_bytree=0.8; total time=   0.6s\n",
      "[CV] END xgbregressor__colsample_bylevel=0.6, xgbregressor__colsample_bytree=0.8; total time=   0.6s\n",
      "[CV] END xgbregressor__colsample_bylevel=0.6, xgbregressor__colsample_bytree=0.9; total time=   0.6s\n",
      "[CV] END xgbregressor__colsample_bylevel=0.6, xgbregressor__colsample_bytree=0.9; total time=   0.6s\n",
      "[CV] END xgbregressor__colsample_bylevel=0.6, xgbregressor__colsample_bytree=0.9; total time=   0.6s\n",
      "[CV] END xgbregressor__colsample_bylevel=0.6, xgbregressor__colsample_bytree=1; total time=   0.6s\n",
      "[CV] END xgbregressor__colsample_bylevel=0.6, xgbregressor__colsample_bytree=1; total time=   0.6s\n",
      "[CV] END xgbregressor__colsample_bylevel=0.6, xgbregressor__colsample_bytree=1; total time=   0.6s\n",
      "[CV] END xgbregressor__colsample_bylevel=0.7, xgbregressor__colsample_bytree=0.1; total time=   0.6s\n",
      "[CV] END xgbregressor__colsample_bylevel=0.7, xgbregressor__colsample_bytree=0.1; total time=   0.6s\n",
      "[CV] END xgbregressor__colsample_bylevel=0.7, xgbregressor__colsample_bytree=0.1; total time=   0.6s\n",
      "[CV] END xgbregressor__colsample_bylevel=0.7, xgbregressor__colsample_bytree=0.2; total time=   0.6s\n",
      "[CV] END xgbregressor__colsample_bylevel=0.7, xgbregressor__colsample_bytree=0.2; total time=   0.6s\n",
      "[CV] END xgbregressor__colsample_bylevel=0.7, xgbregressor__colsample_bytree=0.2; total time=   0.6s\n",
      "[CV] END xgbregressor__colsample_bylevel=0.7, xgbregressor__colsample_bytree=0.3; total time=   0.6s\n",
      "[CV] END xgbregressor__colsample_bylevel=0.7, xgbregressor__colsample_bytree=0.3; total time=   0.6s\n",
      "[CV] END xgbregressor__colsample_bylevel=0.7, xgbregressor__colsample_bytree=0.3; total time=   0.6s\n",
      "[CV] END xgbregressor__colsample_bylevel=0.7, xgbregressor__colsample_bytree=0.4; total time=   0.6s\n",
      "[CV] END xgbregressor__colsample_bylevel=0.7, xgbregressor__colsample_bytree=0.4; total time=   0.6s\n",
      "[CV] END xgbregressor__colsample_bylevel=0.7, xgbregressor__colsample_bytree=0.4; total time=   0.6s\n",
      "[CV] END xgbregressor__colsample_bylevel=0.7, xgbregressor__colsample_bytree=0.5; total time=   0.6s\n",
      "[CV] END xgbregressor__colsample_bylevel=0.7, xgbregressor__colsample_bytree=0.5; total time=   0.6s\n",
      "[CV] END xgbregressor__colsample_bylevel=0.7, xgbregressor__colsample_bytree=0.5; total time=   0.6s\n",
      "[CV] END xgbregressor__colsample_bylevel=0.7, xgbregressor__colsample_bytree=0.6; total time=   0.6s\n",
      "[CV] END xgbregressor__colsample_bylevel=0.7, xgbregressor__colsample_bytree=0.6; total time=   0.6s\n",
      "[CV] END xgbregressor__colsample_bylevel=0.7, xgbregressor__colsample_bytree=0.6; total time=   0.6s\n",
      "[CV] END xgbregressor__colsample_bylevel=0.7, xgbregressor__colsample_bytree=0.7; total time=   0.6s\n",
      "[CV] END xgbregressor__colsample_bylevel=0.7, xgbregressor__colsample_bytree=0.7; total time=   0.6s\n",
      "[CV] END xgbregressor__colsample_bylevel=0.7, xgbregressor__colsample_bytree=0.7; total time=   0.6s\n",
      "[CV] END xgbregressor__colsample_bylevel=0.7, xgbregressor__colsample_bytree=0.8; total time=   0.6s\n",
      "[CV] END xgbregressor__colsample_bylevel=0.7, xgbregressor__colsample_bytree=0.8; total time=   0.6s\n",
      "[CV] END xgbregressor__colsample_bylevel=0.7, xgbregressor__colsample_bytree=0.8; total time=   0.6s\n",
      "[CV] END xgbregressor__colsample_bylevel=0.7, xgbregressor__colsample_bytree=0.9; total time=   0.6s\n",
      "[CV] END xgbregressor__colsample_bylevel=0.7, xgbregressor__colsample_bytree=0.9; total time=   0.6s\n",
      "[CV] END xgbregressor__colsample_bylevel=0.7, xgbregressor__colsample_bytree=0.9; total time=   0.6s\n",
      "[CV] END xgbregressor__colsample_bylevel=0.7, xgbregressor__colsample_bytree=1; total time=   0.6s\n",
      "[CV] END xgbregressor__colsample_bylevel=0.7, xgbregressor__colsample_bytree=1; total time=   0.6s\n",
      "[CV] END xgbregressor__colsample_bylevel=0.7, xgbregressor__colsample_bytree=1; total time=   0.6s\n",
      "[CV] END xgbregressor__colsample_bylevel=0.8, xgbregressor__colsample_bytree=0.1; total time=   0.6s\n",
      "[CV] END xgbregressor__colsample_bylevel=0.8, xgbregressor__colsample_bytree=0.1; total time=   0.6s\n",
      "[CV] END xgbregressor__colsample_bylevel=0.8, xgbregressor__colsample_bytree=0.1; total time=   0.6s\n",
      "[CV] END xgbregressor__colsample_bylevel=0.8, xgbregressor__colsample_bytree=0.2; total time=   0.6s\n",
      "[CV] END xgbregressor__colsample_bylevel=0.8, xgbregressor__colsample_bytree=0.2; total time=   0.6s\n",
      "[CV] END xgbregressor__colsample_bylevel=0.8, xgbregressor__colsample_bytree=0.2; total time=   0.6s\n",
      "[CV] END xgbregressor__colsample_bylevel=0.8, xgbregressor__colsample_bytree=0.3; total time=   0.6s\n",
      "[CV] END xgbregressor__colsample_bylevel=0.8, xgbregressor__colsample_bytree=0.3; total time=   0.6s\n",
      "[CV] END xgbregressor__colsample_bylevel=0.8, xgbregressor__colsample_bytree=0.3; total time=   0.6s\n",
      "[CV] END xgbregressor__colsample_bylevel=0.8, xgbregressor__colsample_bytree=0.4; total time=   0.6s\n",
      "[CV] END xgbregressor__colsample_bylevel=0.8, xgbregressor__colsample_bytree=0.4; total time=   0.6s\n",
      "[CV] END xgbregressor__colsample_bylevel=0.8, xgbregressor__colsample_bytree=0.4; total time=   0.6s\n",
      "[CV] END xgbregressor__colsample_bylevel=0.8, xgbregressor__colsample_bytree=0.5; total time=   0.6s\n",
      "[CV] END xgbregressor__colsample_bylevel=0.8, xgbregressor__colsample_bytree=0.5; total time=   0.6s\n",
      "[CV] END xgbregressor__colsample_bylevel=0.8, xgbregressor__colsample_bytree=0.5; total time=   0.6s\n",
      "[CV] END xgbregressor__colsample_bylevel=0.8, xgbregressor__colsample_bytree=0.6; total time=   0.6s\n",
      "[CV] END xgbregressor__colsample_bylevel=0.8, xgbregressor__colsample_bytree=0.6; total time=   0.6s\n",
      "[CV] END xgbregressor__colsample_bylevel=0.8, xgbregressor__colsample_bytree=0.6; total time=   0.6s\n",
      "[CV] END xgbregressor__colsample_bylevel=0.8, xgbregressor__colsample_bytree=0.7; total time=   0.6s\n",
      "[CV] END xgbregressor__colsample_bylevel=0.8, xgbregressor__colsample_bytree=0.7; total time=   0.6s\n",
      "[CV] END xgbregressor__colsample_bylevel=0.8, xgbregressor__colsample_bytree=0.7; total time=   0.6s\n",
      "[CV] END xgbregressor__colsample_bylevel=0.8, xgbregressor__colsample_bytree=0.8; total time=   0.6s\n",
      "[CV] END xgbregressor__colsample_bylevel=0.8, xgbregressor__colsample_bytree=0.8; total time=   0.6s\n",
      "[CV] END xgbregressor__colsample_bylevel=0.8, xgbregressor__colsample_bytree=0.8; total time=   0.6s\n",
      "[CV] END xgbregressor__colsample_bylevel=0.8, xgbregressor__colsample_bytree=0.9; total time=   0.6s\n",
      "[CV] END xgbregressor__colsample_bylevel=0.8, xgbregressor__colsample_bytree=0.9; total time=   0.6s\n",
      "[CV] END xgbregressor__colsample_bylevel=0.8, xgbregressor__colsample_bytree=0.9; total time=   0.6s\n",
      "[CV] END xgbregressor__colsample_bylevel=0.8, xgbregressor__colsample_bytree=1; total time=   0.6s\n",
      "[CV] END xgbregressor__colsample_bylevel=0.8, xgbregressor__colsample_bytree=1; total time=   0.6s\n",
      "[CV] END xgbregressor__colsample_bylevel=0.8, xgbregressor__colsample_bytree=1; total time=   0.6s\n",
      "[CV] END xgbregressor__colsample_bylevel=0.9, xgbregressor__colsample_bytree=0.1; total time=   0.6s\n",
      "[CV] END xgbregressor__colsample_bylevel=0.9, xgbregressor__colsample_bytree=0.1; total time=   0.6s\n",
      "[CV] END xgbregressor__colsample_bylevel=0.9, xgbregressor__colsample_bytree=0.1; total time=   0.6s\n",
      "[CV] END xgbregressor__colsample_bylevel=0.9, xgbregressor__colsample_bytree=0.2; total time=   0.6s\n",
      "[CV] END xgbregressor__colsample_bylevel=0.9, xgbregressor__colsample_bytree=0.2; total time=   0.6s\n"
     ]
    },
    {
     "name": "stdout",
     "output_type": "stream",
     "text": [
      "[CV] END xgbregressor__colsample_bylevel=0.9, xgbregressor__colsample_bytree=0.2; total time=   0.6s\n",
      "[CV] END xgbregressor__colsample_bylevel=0.9, xgbregressor__colsample_bytree=0.3; total time=   0.6s\n",
      "[CV] END xgbregressor__colsample_bylevel=0.9, xgbregressor__colsample_bytree=0.3; total time=   0.6s\n",
      "[CV] END xgbregressor__colsample_bylevel=0.9, xgbregressor__colsample_bytree=0.3; total time=   0.6s\n",
      "[CV] END xgbregressor__colsample_bylevel=0.9, xgbregressor__colsample_bytree=0.4; total time=   0.6s\n",
      "[CV] END xgbregressor__colsample_bylevel=0.9, xgbregressor__colsample_bytree=0.4; total time=   0.6s\n",
      "[CV] END xgbregressor__colsample_bylevel=0.9, xgbregressor__colsample_bytree=0.4; total time=   0.6s\n",
      "[CV] END xgbregressor__colsample_bylevel=0.9, xgbregressor__colsample_bytree=0.5; total time=   0.6s\n",
      "[CV] END xgbregressor__colsample_bylevel=0.9, xgbregressor__colsample_bytree=0.5; total time=   0.6s\n",
      "[CV] END xgbregressor__colsample_bylevel=0.9, xgbregressor__colsample_bytree=0.5; total time=   0.6s\n",
      "[CV] END xgbregressor__colsample_bylevel=0.9, xgbregressor__colsample_bytree=0.6; total time=   0.6s\n",
      "[CV] END xgbregressor__colsample_bylevel=0.9, xgbregressor__colsample_bytree=0.6; total time=   0.6s\n",
      "[CV] END xgbregressor__colsample_bylevel=0.9, xgbregressor__colsample_bytree=0.6; total time=   0.6s\n",
      "[CV] END xgbregressor__colsample_bylevel=0.9, xgbregressor__colsample_bytree=0.7; total time=   0.6s\n",
      "[CV] END xgbregressor__colsample_bylevel=0.9, xgbregressor__colsample_bytree=0.7; total time=   0.6s\n",
      "[CV] END xgbregressor__colsample_bylevel=0.9, xgbregressor__colsample_bytree=0.7; total time=   0.6s\n",
      "[CV] END xgbregressor__colsample_bylevel=0.9, xgbregressor__colsample_bytree=0.8; total time=   0.6s\n",
      "[CV] END xgbregressor__colsample_bylevel=0.9, xgbregressor__colsample_bytree=0.8; total time=   0.6s\n",
      "[CV] END xgbregressor__colsample_bylevel=0.9, xgbregressor__colsample_bytree=0.8; total time=   0.6s\n",
      "[CV] END xgbregressor__colsample_bylevel=0.9, xgbregressor__colsample_bytree=0.9; total time=   0.6s\n",
      "[CV] END xgbregressor__colsample_bylevel=0.9, xgbregressor__colsample_bytree=0.9; total time=   0.6s\n",
      "[CV] END xgbregressor__colsample_bylevel=0.9, xgbregressor__colsample_bytree=0.9; total time=   0.6s\n",
      "[CV] END xgbregressor__colsample_bylevel=0.9, xgbregressor__colsample_bytree=1; total time=   0.6s\n",
      "[CV] END xgbregressor__colsample_bylevel=0.9, xgbregressor__colsample_bytree=1; total time=   0.6s\n",
      "[CV] END xgbregressor__colsample_bylevel=0.9, xgbregressor__colsample_bytree=1; total time=   0.6s\n",
      "[CV] END xgbregressor__colsample_bylevel=1, xgbregressor__colsample_bytree=0.1; total time=   0.6s\n",
      "[CV] END xgbregressor__colsample_bylevel=1, xgbregressor__colsample_bytree=0.1; total time=   0.6s\n",
      "[CV] END xgbregressor__colsample_bylevel=1, xgbregressor__colsample_bytree=0.1; total time=   0.6s\n",
      "[CV] END xgbregressor__colsample_bylevel=1, xgbregressor__colsample_bytree=0.2; total time=   0.6s\n",
      "[CV] END xgbregressor__colsample_bylevel=1, xgbregressor__colsample_bytree=0.2; total time=   0.6s\n",
      "[CV] END xgbregressor__colsample_bylevel=1, xgbregressor__colsample_bytree=0.2; total time=   0.6s\n",
      "[CV] END xgbregressor__colsample_bylevel=1, xgbregressor__colsample_bytree=0.3; total time=   0.6s\n",
      "[CV] END xgbregressor__colsample_bylevel=1, xgbregressor__colsample_bytree=0.3; total time=   0.6s\n",
      "[CV] END xgbregressor__colsample_bylevel=1, xgbregressor__colsample_bytree=0.3; total time=   0.6s\n",
      "[CV] END xgbregressor__colsample_bylevel=1, xgbregressor__colsample_bytree=0.4; total time=   0.6s\n",
      "[CV] END xgbregressor__colsample_bylevel=1, xgbregressor__colsample_bytree=0.4; total time=   0.6s\n",
      "[CV] END xgbregressor__colsample_bylevel=1, xgbregressor__colsample_bytree=0.4; total time=   0.6s\n",
      "[CV] END xgbregressor__colsample_bylevel=1, xgbregressor__colsample_bytree=0.5; total time=   0.6s\n",
      "[CV] END xgbregressor__colsample_bylevel=1, xgbregressor__colsample_bytree=0.5; total time=   0.6s\n",
      "[CV] END xgbregressor__colsample_bylevel=1, xgbregressor__colsample_bytree=0.5; total time=   0.6s\n",
      "[CV] END xgbregressor__colsample_bylevel=1, xgbregressor__colsample_bytree=0.6; total time=   0.6s\n",
      "[CV] END xgbregressor__colsample_bylevel=1, xgbregressor__colsample_bytree=0.6; total time=   0.6s\n",
      "[CV] END xgbregressor__colsample_bylevel=1, xgbregressor__colsample_bytree=0.6; total time=   0.6s\n",
      "[CV] END xgbregressor__colsample_bylevel=1, xgbregressor__colsample_bytree=0.7; total time=   0.6s\n",
      "[CV] END xgbregressor__colsample_bylevel=1, xgbregressor__colsample_bytree=0.7; total time=   0.6s\n",
      "[CV] END xgbregressor__colsample_bylevel=1, xgbregressor__colsample_bytree=0.7; total time=   0.6s\n",
      "[CV] END xgbregressor__colsample_bylevel=1, xgbregressor__colsample_bytree=0.8; total time=   0.6s\n",
      "[CV] END xgbregressor__colsample_bylevel=1, xgbregressor__colsample_bytree=0.8; total time=   0.6s\n",
      "[CV] END xgbregressor__colsample_bylevel=1, xgbregressor__colsample_bytree=0.8; total time=   0.6s\n",
      "[CV] END xgbregressor__colsample_bylevel=1, xgbregressor__colsample_bytree=0.9; total time=   0.6s\n",
      "[CV] END xgbregressor__colsample_bylevel=1, xgbregressor__colsample_bytree=0.9; total time=   0.6s\n",
      "[CV] END xgbregressor__colsample_bylevel=1, xgbregressor__colsample_bytree=0.9; total time=   0.6s\n",
      "[CV] END xgbregressor__colsample_bylevel=1, xgbregressor__colsample_bytree=1; total time=   0.6s\n",
      "[CV] END xgbregressor__colsample_bylevel=1, xgbregressor__colsample_bytree=1; total time=   0.6s\n",
      "[CV] END xgbregressor__colsample_bylevel=1, xgbregressor__colsample_bytree=1; total time=   0.6s\n"
     ]
    },
    {
     "data": {
      "text/plain": [
       "GridSearchCV(cv=3,\n",
       "             estimator=Pipeline(steps=[('columntransformer',\n",
       "                                        ColumnTransformer(transformers=[('num',\n",
       "                                                                         Pipeline(steps=[('simpleimputer',\n",
       "                                                                                          SimpleImputer())]),\n",
       "                                                                         ['Store_id']),\n",
       "                                                                        ('cat',\n",
       "                                                                         Pipeline(steps=[('simpleimputer',\n",
       "                                                                                          SimpleImputer(fill_value='NA',\n",
       "                                                                                                        strategy='constant')),\n",
       "                                                                                         ('onehotencoder',\n",
       "                                                                                          OneHotEncoder(handle_unknown='ignore',\n",
       "                                                                                                        sparse=False))]),\n",
       "                                                                         ['Store_Type',\n",
       "                                                                          'L...\n",
       "                                                     random_state=42,\n",
       "                                                     reg_alpha=None,\n",
       "                                                     reg_lambda=None,\n",
       "                                                     scale_pos_weight=None,\n",
       "                                                     subsample=None,\n",
       "                                                     tree_method='gpu_hist',\n",
       "                                                     validate_parameters=None,\n",
       "                                                     verbosity=None))]),\n",
       "             param_grid={'xgbregressor__colsample_bylevel': [0.1, 0.2, 0.3, 0.4,\n",
       "                                                             0.5, 0.6, 0.7, 0.8,\n",
       "                                                             0.9, 1],\n",
       "                         'xgbregressor__colsample_bytree': [0.1, 0.2, 0.3, 0.4,\n",
       "                                                            0.5, 0.6, 0.7, 0.8,\n",
       "                                                            0.9, 1]},\n",
       "             scoring='neg_mean_squared_log_error', verbose=2)"
      ]
     },
     "execution_count": 11,
     "metadata": {},
     "output_type": "execute_result"
    }
   ],
   "source": [
    "xgb_reg = make_pipeline(full_pipe, XGBRegressor(objective= \"reg:squaredlogerror\",\n",
    "                                                learning_rate=0.8, \n",
    "                                                max_depth= 5,\n",
    "                                                random_state=42, \n",
    "                                                tree_method=\"gpu_hist\", \n",
    "                                                n_jobs=-1,))\n",
    "\n",
    "params = {\n",
    "    \"xgbregressor__colsample_bytree\": [0.1, 0.2, 0.3, 0.4, 0.5, 0.6, 0.7, 0.8, 0.9, 1],\n",
    "    \"xgbregressor__colsample_bylevel\": [0.1, 0.2, 0.3, 0.4, 0.5, 0.6, 0.7, 0.8, 0.9, 1]\n",
    "}\n",
    "\n",
    "xgb_grid = GridSearchCV(\n",
    "    estimator= xgb_reg,\n",
    "    param_grid = params,\n",
    "    scoring=\"neg_mean_squared_log_error\",\n",
    "    cv=3,\n",
    "    verbose=2\n",
    ")\n",
    "xgb_grid.fit(X_train, y_train)"
   ]
  },
  {
   "cell_type": "code",
   "execution_count": 12,
   "id": "8e8008b0",
   "metadata": {},
   "outputs": [
    {
     "data": {
      "text/plain": [
       "-13.8486153571469"
      ]
     },
     "execution_count": 12,
     "metadata": {},
     "output_type": "execute_result"
    }
   ],
   "source": [
    "xgb_grid.best_score_"
   ]
  },
  {
   "cell_type": "code",
   "execution_count": 13,
   "id": "d9466f9f",
   "metadata": {},
   "outputs": [
    {
     "data": {
      "text/plain": [
       "{'xgbregressor__colsample_bylevel': 0.1, 'xgbregressor__colsample_bytree': 0.1}"
      ]
     },
     "execution_count": 13,
     "metadata": {},
     "output_type": "execute_result"
    }
   ],
   "source": [
    "xgb_grid.best_params_"
   ]
  },
  {
   "cell_type": "code",
   "execution_count": 14,
   "id": "58b88c2a",
   "metadata": {},
   "outputs": [
    {
     "name": "stdout",
     "output_type": "stream",
     "text": [
      "Fitting 3 folds for each of 5 candidates, totalling 15 fits\n",
      "[CV] END .....................xgbregressor__tree_method=auto; total time=   0.9s\n",
      "[CV] END .....................xgbregressor__tree_method=auto; total time=   0.9s\n",
      "[CV] END .....................xgbregressor__tree_method=auto; total time=   0.9s\n",
      "[CV] END ....................xgbregressor__tree_method=exact; total time=   0.9s\n",
      "[CV] END ....................xgbregressor__tree_method=exact; total time=   0.9s\n",
      "[CV] END ....................xgbregressor__tree_method=exact; total time=   0.9s\n",
      "[CV] END ...................xgbregressor__tree_method=approx; total time=   1.2s\n",
      "[CV] END ...................xgbregressor__tree_method=approx; total time=   1.2s\n",
      "[CV] END ...................xgbregressor__tree_method=approx; total time=   1.3s\n",
      "[CV] END .....................xgbregressor__tree_method=hist; total time=   0.7s\n",
      "[CV] END .....................xgbregressor__tree_method=hist; total time=   0.7s\n",
      "[CV] END .....................xgbregressor__tree_method=hist; total time=   0.7s\n",
      "[CV] END .................xgbregressor__tree_method=gpu_hist; total time=   0.7s\n",
      "[CV] END .................xgbregressor__tree_method=gpu_hist; total time=   0.6s\n",
      "[CV] END .................xgbregressor__tree_method=gpu_hist; total time=   0.6s\n"
     ]
    },
    {
     "data": {
      "text/plain": [
       "GridSearchCV(cv=3,\n",
       "             estimator=Pipeline(steps=[('columntransformer',\n",
       "                                        ColumnTransformer(transformers=[('num',\n",
       "                                                                         Pipeline(steps=[('simpleimputer',\n",
       "                                                                                          SimpleImputer())]),\n",
       "                                                                         ['Store_id']),\n",
       "                                                                        ('cat',\n",
       "                                                                         Pipeline(steps=[('simpleimputer',\n",
       "                                                                                          SimpleImputer(fill_value='NA',\n",
       "                                                                                                        strategy='constant')),\n",
       "                                                                                         ('onehotencoder',\n",
       "                                                                                          OneHotEncoder(handle_unknown='ignore',\n",
       "                                                                                                        sparse=False))]),\n",
       "                                                                         ['Store_Type',\n",
       "                                                                          'L...\n",
       "                                                     n_estimators=100,\n",
       "                                                     n_jobs=-1,\n",
       "                                                     num_parallel_tree=None,\n",
       "                                                     objective='reg:squaredlogerror',\n",
       "                                                     random_state=42,\n",
       "                                                     reg_alpha=None,\n",
       "                                                     reg_lambda=None,\n",
       "                                                     scale_pos_weight=None,\n",
       "                                                     subsample=None,\n",
       "                                                     tree_method='gpu_hist',\n",
       "                                                     validate_parameters=None,\n",
       "                                                     verbosity=None))]),\n",
       "             param_grid={'xgbregressor__tree_method': ['auto', 'exact',\n",
       "                                                       'approx', 'hist',\n",
       "                                                       'gpu_hist']},\n",
       "             scoring='neg_mean_squared_log_error', verbose=2)"
      ]
     },
     "execution_count": 14,
     "metadata": {},
     "output_type": "execute_result"
    }
   ],
   "source": [
    "xgb_reg = make_pipeline(full_pipe, XGBRegressor(objective= \"reg:squaredlogerror\",\n",
    "                                                learning_rate=0.8, \n",
    "                                                max_depth= 5,\n",
    "                                                colsample_bylevel=0.1,\n",
    "                                                colsample_bytree=0.1,\n",
    "                                                random_state=42, \n",
    "                                                tree_method=\"gpu_hist\", \n",
    "                                                n_jobs=-1,))\n",
    "\n",
    "params = {\n",
    "    \"xgbregressor__tree_method\": [\"auto\", \"exact\", \"approx\", \"hist\", \"gpu_hist\"],\n",
    "}\n",
    "\n",
    "xgb_grid = GridSearchCV(\n",
    "    estimator= xgb_reg,\n",
    "    param_grid = params,\n",
    "    scoring=\"neg_mean_squared_log_error\",\n",
    "    cv=3,\n",
    "    verbose=2\n",
    ")\n",
    "xgb_grid.fit(X_train, y_train)"
   ]
  },
  {
   "cell_type": "code",
   "execution_count": 15,
   "id": "adee0cd1",
   "metadata": {},
   "outputs": [
    {
     "data": {
      "text/plain": [
       "-13.8486153571469"
      ]
     },
     "execution_count": 15,
     "metadata": {},
     "output_type": "execute_result"
    }
   ],
   "source": [
    "xgb_grid.best_score_"
   ]
  },
  {
   "cell_type": "code",
   "execution_count": 16,
   "id": "838a3ddb",
   "metadata": {},
   "outputs": [
    {
     "data": {
      "text/plain": [
       "{'xgbregressor__tree_method': 'auto'}"
      ]
     },
     "execution_count": 16,
     "metadata": {},
     "output_type": "execute_result"
    }
   ],
   "source": [
    "xgb_grid.best_params_"
   ]
  },
  {
   "cell_type": "code",
   "execution_count": 17,
   "id": "39de947a",
   "metadata": {},
   "outputs": [
    {
     "name": "stdout",
     "output_type": "stream",
     "text": [
      "Fitting 3 folds for each of 81 candidates, totalling 243 fits\n",
      "[CV] END xgbregressor__reg_alpha=0, xgbregressor__reg_lambda=0.1; total time=   0.9s\n",
      "[CV] END xgbregressor__reg_alpha=0, xgbregressor__reg_lambda=0.1; total time=   1.0s\n",
      "[CV] END xgbregressor__reg_alpha=0, xgbregressor__reg_lambda=0.1; total time=   0.9s\n",
      "[CV] END xgbregressor__reg_alpha=0, xgbregressor__reg_lambda=0.5; total time=   1.0s\n",
      "[CV] END xgbregressor__reg_alpha=0, xgbregressor__reg_lambda=0.5; total time=   0.9s\n",
      "[CV] END xgbregressor__reg_alpha=0, xgbregressor__reg_lambda=0.5; total time=   0.9s\n",
      "[CV] END xgbregressor__reg_alpha=0, xgbregressor__reg_lambda=1; total time=   0.9s\n",
      "[CV] END xgbregressor__reg_alpha=0, xgbregressor__reg_lambda=1; total time=   0.9s\n",
      "[CV] END xgbregressor__reg_alpha=0, xgbregressor__reg_lambda=1; total time=   0.9s\n",
      "[CV] END xgbregressor__reg_alpha=0, xgbregressor__reg_lambda=1.3; total time=   0.9s\n",
      "[CV] END xgbregressor__reg_alpha=0, xgbregressor__reg_lambda=1.3; total time=   1.1s\n",
      "[CV] END xgbregressor__reg_alpha=0, xgbregressor__reg_lambda=1.3; total time=   0.9s\n",
      "[CV] END xgbregressor__reg_alpha=0, xgbregressor__reg_lambda=1.5; total time=   1.1s\n",
      "[CV] END xgbregressor__reg_alpha=0, xgbregressor__reg_lambda=1.5; total time=   0.9s\n",
      "[CV] END xgbregressor__reg_alpha=0, xgbregressor__reg_lambda=1.5; total time=   0.9s\n",
      "[CV] END xgbregressor__reg_alpha=0, xgbregressor__reg_lambda=1.7; total time=   0.9s\n",
      "[CV] END xgbregressor__reg_alpha=0, xgbregressor__reg_lambda=1.7; total time=   0.9s\n",
      "[CV] END xgbregressor__reg_alpha=0, xgbregressor__reg_lambda=1.7; total time=   0.9s\n",
      "[CV] END xgbregressor__reg_alpha=0, xgbregressor__reg_lambda=2; total time=   1.0s\n",
      "[CV] END xgbregressor__reg_alpha=0, xgbregressor__reg_lambda=2; total time=   0.9s\n",
      "[CV] END xgbregressor__reg_alpha=0, xgbregressor__reg_lambda=2; total time=   0.9s\n",
      "[CV] END xgbregressor__reg_alpha=0, xgbregressor__reg_lambda=3; total time=   1.0s\n",
      "[CV] END xgbregressor__reg_alpha=0, xgbregressor__reg_lambda=3; total time=   0.9s\n",
      "[CV] END xgbregressor__reg_alpha=0, xgbregressor__reg_lambda=3; total time=   0.9s\n",
      "[CV] END xgbregressor__reg_alpha=0, xgbregressor__reg_lambda=4; total time=   0.9s\n",
      "[CV] END xgbregressor__reg_alpha=0, xgbregressor__reg_lambda=4; total time=   0.9s\n",
      "[CV] END xgbregressor__reg_alpha=0, xgbregressor__reg_lambda=4; total time=   0.9s\n",
      "[CV] END xgbregressor__reg_alpha=0.3, xgbregressor__reg_lambda=0.1; total time=   0.9s\n",
      "[CV] END xgbregressor__reg_alpha=0.3, xgbregressor__reg_lambda=0.1; total time=   1.0s\n",
      "[CV] END xgbregressor__reg_alpha=0.3, xgbregressor__reg_lambda=0.1; total time=   0.9s\n",
      "[CV] END xgbregressor__reg_alpha=0.3, xgbregressor__reg_lambda=0.5; total time=   0.9s\n",
      "[CV] END xgbregressor__reg_alpha=0.3, xgbregressor__reg_lambda=0.5; total time=   0.9s\n",
      "[CV] END xgbregressor__reg_alpha=0.3, xgbregressor__reg_lambda=0.5; total time=   0.9s\n",
      "[CV] END xgbregressor__reg_alpha=0.3, xgbregressor__reg_lambda=1; total time=   0.9s\n",
      "[CV] END xgbregressor__reg_alpha=0.3, xgbregressor__reg_lambda=1; total time=   0.8s\n",
      "[CV] END xgbregressor__reg_alpha=0.3, xgbregressor__reg_lambda=1; total time=   0.9s\n",
      "[CV] END xgbregressor__reg_alpha=0.3, xgbregressor__reg_lambda=1.3; total time=   0.9s\n",
      "[CV] END xgbregressor__reg_alpha=0.3, xgbregressor__reg_lambda=1.3; total time=   0.9s\n",
      "[CV] END xgbregressor__reg_alpha=0.3, xgbregressor__reg_lambda=1.3; total time=   0.9s\n",
      "[CV] END xgbregressor__reg_alpha=0.3, xgbregressor__reg_lambda=1.5; total time=   0.9s\n",
      "[CV] END xgbregressor__reg_alpha=0.3, xgbregressor__reg_lambda=1.5; total time=   0.8s\n",
      "[CV] END xgbregressor__reg_alpha=0.3, xgbregressor__reg_lambda=1.5; total time=   0.9s\n",
      "[CV] END xgbregressor__reg_alpha=0.3, xgbregressor__reg_lambda=1.7; total time=   0.9s\n",
      "[CV] END xgbregressor__reg_alpha=0.3, xgbregressor__reg_lambda=1.7; total time=   0.9s\n",
      "[CV] END xgbregressor__reg_alpha=0.3, xgbregressor__reg_lambda=1.7; total time=   0.9s\n",
      "[CV] END xgbregressor__reg_alpha=0.3, xgbregressor__reg_lambda=2; total time=   0.9s\n",
      "[CV] END xgbregressor__reg_alpha=0.3, xgbregressor__reg_lambda=2; total time=   0.9s\n",
      "[CV] END xgbregressor__reg_alpha=0.3, xgbregressor__reg_lambda=2; total time=   0.9s\n",
      "[CV] END xgbregressor__reg_alpha=0.3, xgbregressor__reg_lambda=3; total time=   0.9s\n",
      "[CV] END xgbregressor__reg_alpha=0.3, xgbregressor__reg_lambda=3; total time=   0.8s\n",
      "[CV] END xgbregressor__reg_alpha=0.3, xgbregressor__reg_lambda=3; total time=   1.0s\n",
      "[CV] END xgbregressor__reg_alpha=0.3, xgbregressor__reg_lambda=4; total time=   0.8s\n",
      "[CV] END xgbregressor__reg_alpha=0.3, xgbregressor__reg_lambda=4; total time=   0.9s\n",
      "[CV] END xgbregressor__reg_alpha=0.3, xgbregressor__reg_lambda=4; total time=   0.9s\n",
      "[CV] END xgbregressor__reg_alpha=0.5, xgbregressor__reg_lambda=0.1; total time=   0.9s\n",
      "[CV] END xgbregressor__reg_alpha=0.5, xgbregressor__reg_lambda=0.1; total time=   0.9s\n",
      "[CV] END xgbregressor__reg_alpha=0.5, xgbregressor__reg_lambda=0.1; total time=   0.9s\n",
      "[CV] END xgbregressor__reg_alpha=0.5, xgbregressor__reg_lambda=0.5; total time=   0.9s\n",
      "[CV] END xgbregressor__reg_alpha=0.5, xgbregressor__reg_lambda=0.5; total time=   0.9s\n",
      "[CV] END xgbregressor__reg_alpha=0.5, xgbregressor__reg_lambda=0.5; total time=   0.9s\n",
      "[CV] END xgbregressor__reg_alpha=0.5, xgbregressor__reg_lambda=1; total time=   0.9s\n",
      "[CV] END xgbregressor__reg_alpha=0.5, xgbregressor__reg_lambda=1; total time=   0.8s\n",
      "[CV] END xgbregressor__reg_alpha=0.5, xgbregressor__reg_lambda=1; total time=   0.9s\n",
      "[CV] END xgbregressor__reg_alpha=0.5, xgbregressor__reg_lambda=1.3; total time=   0.9s\n",
      "[CV] END xgbregressor__reg_alpha=0.5, xgbregressor__reg_lambda=1.3; total time=   0.9s\n",
      "[CV] END xgbregressor__reg_alpha=0.5, xgbregressor__reg_lambda=1.3; total time=   0.9s\n",
      "[CV] END xgbregressor__reg_alpha=0.5, xgbregressor__reg_lambda=1.5; total time=   0.9s\n",
      "[CV] END xgbregressor__reg_alpha=0.5, xgbregressor__reg_lambda=1.5; total time=   0.9s\n",
      "[CV] END xgbregressor__reg_alpha=0.5, xgbregressor__reg_lambda=1.5; total time=   0.9s\n",
      "[CV] END xgbregressor__reg_alpha=0.5, xgbregressor__reg_lambda=1.7; total time=   0.9s\n",
      "[CV] END xgbregressor__reg_alpha=0.5, xgbregressor__reg_lambda=1.7; total time=   0.9s\n",
      "[CV] END xgbregressor__reg_alpha=0.5, xgbregressor__reg_lambda=1.7; total time=   0.9s\n",
      "[CV] END xgbregressor__reg_alpha=0.5, xgbregressor__reg_lambda=2; total time=   1.0s\n",
      "[CV] END xgbregressor__reg_alpha=0.5, xgbregressor__reg_lambda=2; total time=   0.9s\n",
      "[CV] END xgbregressor__reg_alpha=0.5, xgbregressor__reg_lambda=2; total time=   0.9s\n",
      "[CV] END xgbregressor__reg_alpha=0.5, xgbregressor__reg_lambda=3; total time=   0.9s\n",
      "[CV] END xgbregressor__reg_alpha=0.5, xgbregressor__reg_lambda=3; total time=   0.9s\n",
      "[CV] END xgbregressor__reg_alpha=0.5, xgbregressor__reg_lambda=3; total time=   0.9s\n",
      "[CV] END xgbregressor__reg_alpha=0.5, xgbregressor__reg_lambda=4; total time=   0.9s\n",
      "[CV] END xgbregressor__reg_alpha=0.5, xgbregressor__reg_lambda=4; total time=   0.8s\n",
      "[CV] END xgbregressor__reg_alpha=0.5, xgbregressor__reg_lambda=4; total time=   0.9s\n",
      "[CV] END xgbregressor__reg_alpha=0.7, xgbregressor__reg_lambda=0.1; total time=   0.9s\n",
      "[CV] END xgbregressor__reg_alpha=0.7, xgbregressor__reg_lambda=0.1; total time=   0.8s\n",
      "[CV] END xgbregressor__reg_alpha=0.7, xgbregressor__reg_lambda=0.1; total time=   0.9s\n",
      "[CV] END xgbregressor__reg_alpha=0.7, xgbregressor__reg_lambda=0.5; total time=   1.0s\n",
      "[CV] END xgbregressor__reg_alpha=0.7, xgbregressor__reg_lambda=0.5; total time=   1.0s\n",
      "[CV] END xgbregressor__reg_alpha=0.7, xgbregressor__reg_lambda=0.5; total time=   0.9s\n",
      "[CV] END xgbregressor__reg_alpha=0.7, xgbregressor__reg_lambda=1; total time=   0.9s\n",
      "[CV] END xgbregressor__reg_alpha=0.7, xgbregressor__reg_lambda=1; total time=   0.9s\n",
      "[CV] END xgbregressor__reg_alpha=0.7, xgbregressor__reg_lambda=1; total time=   1.0s\n",
      "[CV] END xgbregressor__reg_alpha=0.7, xgbregressor__reg_lambda=1.3; total time=   1.0s\n",
      "[CV] END xgbregressor__reg_alpha=0.7, xgbregressor__reg_lambda=1.3; total time=   0.9s\n",
      "[CV] END xgbregressor__reg_alpha=0.7, xgbregressor__reg_lambda=1.3; total time=   1.0s\n",
      "[CV] END xgbregressor__reg_alpha=0.7, xgbregressor__reg_lambda=1.5; total time=   0.9s\n",
      "[CV] END xgbregressor__reg_alpha=0.7, xgbregressor__reg_lambda=1.5; total time=   0.9s\n"
     ]
    },
    {
     "name": "stdout",
     "output_type": "stream",
     "text": [
      "[CV] END xgbregressor__reg_alpha=0.7, xgbregressor__reg_lambda=1.5; total time=   1.0s\n",
      "[CV] END xgbregressor__reg_alpha=0.7, xgbregressor__reg_lambda=1.7; total time=   1.0s\n",
      "[CV] END xgbregressor__reg_alpha=0.7, xgbregressor__reg_lambda=1.7; total time=   1.0s\n",
      "[CV] END xgbregressor__reg_alpha=0.7, xgbregressor__reg_lambda=1.7; total time=   0.9s\n",
      "[CV] END xgbregressor__reg_alpha=0.7, xgbregressor__reg_lambda=2; total time=   0.9s\n",
      "[CV] END xgbregressor__reg_alpha=0.7, xgbregressor__reg_lambda=2; total time=   0.9s\n",
      "[CV] END xgbregressor__reg_alpha=0.7, xgbregressor__reg_lambda=2; total time=   1.0s\n",
      "[CV] END xgbregressor__reg_alpha=0.7, xgbregressor__reg_lambda=3; total time=   1.0s\n",
      "[CV] END xgbregressor__reg_alpha=0.7, xgbregressor__reg_lambda=3; total time=   1.0s\n",
      "[CV] END xgbregressor__reg_alpha=0.7, xgbregressor__reg_lambda=3; total time=   0.9s\n",
      "[CV] END xgbregressor__reg_alpha=0.7, xgbregressor__reg_lambda=4; total time=   0.9s\n",
      "[CV] END xgbregressor__reg_alpha=0.7, xgbregressor__reg_lambda=4; total time=   1.0s\n",
      "[CV] END xgbregressor__reg_alpha=0.7, xgbregressor__reg_lambda=4; total time=   0.9s\n",
      "[CV] END xgbregressor__reg_alpha=1, xgbregressor__reg_lambda=0.1; total time=   0.9s\n",
      "[CV] END xgbregressor__reg_alpha=1, xgbregressor__reg_lambda=0.1; total time=   1.0s\n",
      "[CV] END xgbregressor__reg_alpha=1, xgbregressor__reg_lambda=0.1; total time=   1.0s\n",
      "[CV] END xgbregressor__reg_alpha=1, xgbregressor__reg_lambda=0.5; total time=   0.9s\n",
      "[CV] END xgbregressor__reg_alpha=1, xgbregressor__reg_lambda=0.5; total time=   0.9s\n",
      "[CV] END xgbregressor__reg_alpha=1, xgbregressor__reg_lambda=0.5; total time=   1.0s\n",
      "[CV] END xgbregressor__reg_alpha=1, xgbregressor__reg_lambda=1; total time=   1.0s\n",
      "[CV] END xgbregressor__reg_alpha=1, xgbregressor__reg_lambda=1; total time=   0.9s\n",
      "[CV] END xgbregressor__reg_alpha=1, xgbregressor__reg_lambda=1; total time=   1.0s\n",
      "[CV] END xgbregressor__reg_alpha=1, xgbregressor__reg_lambda=1.3; total time=   0.9s\n",
      "[CV] END xgbregressor__reg_alpha=1, xgbregressor__reg_lambda=1.3; total time=   0.9s\n",
      "[CV] END xgbregressor__reg_alpha=1, xgbregressor__reg_lambda=1.3; total time=   0.9s\n",
      "[CV] END xgbregressor__reg_alpha=1, xgbregressor__reg_lambda=1.5; total time=   0.9s\n",
      "[CV] END xgbregressor__reg_alpha=1, xgbregressor__reg_lambda=1.5; total time=   0.8s\n",
      "[CV] END xgbregressor__reg_alpha=1, xgbregressor__reg_lambda=1.5; total time=   1.0s\n",
      "[CV] END xgbregressor__reg_alpha=1, xgbregressor__reg_lambda=1.7; total time=   0.9s\n",
      "[CV] END xgbregressor__reg_alpha=1, xgbregressor__reg_lambda=1.7; total time=   0.9s\n",
      "[CV] END xgbregressor__reg_alpha=1, xgbregressor__reg_lambda=1.7; total time=   0.9s\n",
      "[CV] END xgbregressor__reg_alpha=1, xgbregressor__reg_lambda=2; total time=   1.0s\n",
      "[CV] END xgbregressor__reg_alpha=1, xgbregressor__reg_lambda=2; total time=   0.8s\n",
      "[CV] END xgbregressor__reg_alpha=1, xgbregressor__reg_lambda=2; total time=   0.9s\n",
      "[CV] END xgbregressor__reg_alpha=1, xgbregressor__reg_lambda=3; total time=   0.9s\n",
      "[CV] END xgbregressor__reg_alpha=1, xgbregressor__reg_lambda=3; total time=   0.9s\n",
      "[CV] END xgbregressor__reg_alpha=1, xgbregressor__reg_lambda=3; total time=   0.9s\n",
      "[CV] END xgbregressor__reg_alpha=1, xgbregressor__reg_lambda=4; total time=   0.9s\n",
      "[CV] END xgbregressor__reg_alpha=1, xgbregressor__reg_lambda=4; total time=   0.9s\n",
      "[CV] END xgbregressor__reg_alpha=1, xgbregressor__reg_lambda=4; total time=   0.9s\n",
      "[CV] END xgbregressor__reg_alpha=1.5, xgbregressor__reg_lambda=0.1; total time=   0.9s\n",
      "[CV] END xgbregressor__reg_alpha=1.5, xgbregressor__reg_lambda=0.1; total time=   0.8s\n",
      "[CV] END xgbregressor__reg_alpha=1.5, xgbregressor__reg_lambda=0.1; total time=   0.9s\n",
      "[CV] END xgbregressor__reg_alpha=1.5, xgbregressor__reg_lambda=0.5; total time=   1.0s\n",
      "[CV] END xgbregressor__reg_alpha=1.5, xgbregressor__reg_lambda=0.5; total time=   0.8s\n",
      "[CV] END xgbregressor__reg_alpha=1.5, xgbregressor__reg_lambda=0.5; total time=   1.0s\n",
      "[CV] END xgbregressor__reg_alpha=1.5, xgbregressor__reg_lambda=1; total time=   0.9s\n",
      "[CV] END xgbregressor__reg_alpha=1.5, xgbregressor__reg_lambda=1; total time=   0.9s\n",
      "[CV] END xgbregressor__reg_alpha=1.5, xgbregressor__reg_lambda=1; total time=   0.9s\n",
      "[CV] END xgbregressor__reg_alpha=1.5, xgbregressor__reg_lambda=1.3; total time=   1.0s\n",
      "[CV] END xgbregressor__reg_alpha=1.5, xgbregressor__reg_lambda=1.3; total time=   0.9s\n",
      "[CV] END xgbregressor__reg_alpha=1.5, xgbregressor__reg_lambda=1.3; total time=   1.0s\n",
      "[CV] END xgbregressor__reg_alpha=1.5, xgbregressor__reg_lambda=1.5; total time=   0.9s\n",
      "[CV] END xgbregressor__reg_alpha=1.5, xgbregressor__reg_lambda=1.5; total time=   0.9s\n",
      "[CV] END xgbregressor__reg_alpha=1.5, xgbregressor__reg_lambda=1.5; total time=   0.9s\n",
      "[CV] END xgbregressor__reg_alpha=1.5, xgbregressor__reg_lambda=1.7; total time=   1.0s\n",
      "[CV] END xgbregressor__reg_alpha=1.5, xgbregressor__reg_lambda=1.7; total time=   0.8s\n",
      "[CV] END xgbregressor__reg_alpha=1.5, xgbregressor__reg_lambda=1.7; total time=   0.9s\n",
      "[CV] END xgbregressor__reg_alpha=1.5, xgbregressor__reg_lambda=2; total time=   0.9s\n",
      "[CV] END xgbregressor__reg_alpha=1.5, xgbregressor__reg_lambda=2; total time=   0.8s\n",
      "[CV] END xgbregressor__reg_alpha=1.5, xgbregressor__reg_lambda=2; total time=   0.9s\n",
      "[CV] END xgbregressor__reg_alpha=1.5, xgbregressor__reg_lambda=3; total time=   0.9s\n",
      "[CV] END xgbregressor__reg_alpha=1.5, xgbregressor__reg_lambda=3; total time=   0.9s\n",
      "[CV] END xgbregressor__reg_alpha=1.5, xgbregressor__reg_lambda=3; total time=   0.9s\n",
      "[CV] END xgbregressor__reg_alpha=1.5, xgbregressor__reg_lambda=4; total time=   0.9s\n",
      "[CV] END xgbregressor__reg_alpha=1.5, xgbregressor__reg_lambda=4; total time=   0.9s\n",
      "[CV] END xgbregressor__reg_alpha=1.5, xgbregressor__reg_lambda=4; total time=   0.9s\n",
      "[CV] END xgbregressor__reg_alpha=2, xgbregressor__reg_lambda=0.1; total time=   0.9s\n",
      "[CV] END xgbregressor__reg_alpha=2, xgbregressor__reg_lambda=0.1; total time=   0.9s\n",
      "[CV] END xgbregressor__reg_alpha=2, xgbregressor__reg_lambda=0.1; total time=   0.9s\n",
      "[CV] END xgbregressor__reg_alpha=2, xgbregressor__reg_lambda=0.5; total time=   0.9s\n",
      "[CV] END xgbregressor__reg_alpha=2, xgbregressor__reg_lambda=0.5; total time=   0.9s\n",
      "[CV] END xgbregressor__reg_alpha=2, xgbregressor__reg_lambda=0.5; total time=   0.9s\n",
      "[CV] END xgbregressor__reg_alpha=2, xgbregressor__reg_lambda=1; total time=   0.9s\n",
      "[CV] END xgbregressor__reg_alpha=2, xgbregressor__reg_lambda=1; total time=   0.9s\n",
      "[CV] END xgbregressor__reg_alpha=2, xgbregressor__reg_lambda=1; total time=   1.0s\n",
      "[CV] END xgbregressor__reg_alpha=2, xgbregressor__reg_lambda=1.3; total time=   1.0s\n",
      "[CV] END xgbregressor__reg_alpha=2, xgbregressor__reg_lambda=1.3; total time=   0.9s\n",
      "[CV] END xgbregressor__reg_alpha=2, xgbregressor__reg_lambda=1.3; total time=   0.9s\n",
      "[CV] END xgbregressor__reg_alpha=2, xgbregressor__reg_lambda=1.5; total time=   0.9s\n",
      "[CV] END xgbregressor__reg_alpha=2, xgbregressor__reg_lambda=1.5; total time=   1.0s\n",
      "[CV] END xgbregressor__reg_alpha=2, xgbregressor__reg_lambda=1.5; total time=   0.9s\n",
      "[CV] END xgbregressor__reg_alpha=2, xgbregressor__reg_lambda=1.7; total time=   0.9s\n",
      "[CV] END xgbregressor__reg_alpha=2, xgbregressor__reg_lambda=1.7; total time=   0.9s\n",
      "[CV] END xgbregressor__reg_alpha=2, xgbregressor__reg_lambda=1.7; total time=   0.9s\n",
      "[CV] END xgbregressor__reg_alpha=2, xgbregressor__reg_lambda=2; total time=   0.9s\n",
      "[CV] END xgbregressor__reg_alpha=2, xgbregressor__reg_lambda=2; total time=   0.9s\n",
      "[CV] END xgbregressor__reg_alpha=2, xgbregressor__reg_lambda=2; total time=   0.9s\n",
      "[CV] END xgbregressor__reg_alpha=2, xgbregressor__reg_lambda=3; total time=   0.9s\n",
      "[CV] END xgbregressor__reg_alpha=2, xgbregressor__reg_lambda=3; total time=   0.9s\n",
      "[CV] END xgbregressor__reg_alpha=2, xgbregressor__reg_lambda=3; total time=   1.0s\n",
      "[CV] END xgbregressor__reg_alpha=2, xgbregressor__reg_lambda=4; total time=   1.1s\n",
      "[CV] END xgbregressor__reg_alpha=2, xgbregressor__reg_lambda=4; total time=   0.9s\n",
      "[CV] END xgbregressor__reg_alpha=2, xgbregressor__reg_lambda=4; total time=   0.9s\n",
      "[CV] END xgbregressor__reg_alpha=2.5, xgbregressor__reg_lambda=0.1; total time=   0.9s\n",
      "[CV] END xgbregressor__reg_alpha=2.5, xgbregressor__reg_lambda=0.1; total time=   0.9s\n",
      "[CV] END xgbregressor__reg_alpha=2.5, xgbregressor__reg_lambda=0.1; total time=   0.9s\n"
     ]
    },
    {
     "name": "stdout",
     "output_type": "stream",
     "text": [
      "[CV] END xgbregressor__reg_alpha=2.5, xgbregressor__reg_lambda=0.5; total time=   0.9s\n",
      "[CV] END xgbregressor__reg_alpha=2.5, xgbregressor__reg_lambda=0.5; total time=   1.0s\n",
      "[CV] END xgbregressor__reg_alpha=2.5, xgbregressor__reg_lambda=0.5; total time=   0.9s\n",
      "[CV] END xgbregressor__reg_alpha=2.5, xgbregressor__reg_lambda=1; total time=   1.0s\n",
      "[CV] END xgbregressor__reg_alpha=2.5, xgbregressor__reg_lambda=1; total time=   0.9s\n",
      "[CV] END xgbregressor__reg_alpha=2.5, xgbregressor__reg_lambda=1; total time=   0.9s\n",
      "[CV] END xgbregressor__reg_alpha=2.5, xgbregressor__reg_lambda=1.3; total time=   0.9s\n",
      "[CV] END xgbregressor__reg_alpha=2.5, xgbregressor__reg_lambda=1.3; total time=   1.1s\n",
      "[CV] END xgbregressor__reg_alpha=2.5, xgbregressor__reg_lambda=1.3; total time=   1.2s\n",
      "[CV] END xgbregressor__reg_alpha=2.5, xgbregressor__reg_lambda=1.5; total time=   1.1s\n",
      "[CV] END xgbregressor__reg_alpha=2.5, xgbregressor__reg_lambda=1.5; total time=   1.0s\n",
      "[CV] END xgbregressor__reg_alpha=2.5, xgbregressor__reg_lambda=1.5; total time=   1.0s\n",
      "[CV] END xgbregressor__reg_alpha=2.5, xgbregressor__reg_lambda=1.7; total time=   1.0s\n",
      "[CV] END xgbregressor__reg_alpha=2.5, xgbregressor__reg_lambda=1.7; total time=   0.9s\n",
      "[CV] END xgbregressor__reg_alpha=2.5, xgbregressor__reg_lambda=1.7; total time=   1.0s\n",
      "[CV] END xgbregressor__reg_alpha=2.5, xgbregressor__reg_lambda=2; total time=   1.0s\n",
      "[CV] END xgbregressor__reg_alpha=2.5, xgbregressor__reg_lambda=2; total time=   0.9s\n",
      "[CV] END xgbregressor__reg_alpha=2.5, xgbregressor__reg_lambda=2; total time=   0.9s\n",
      "[CV] END xgbregressor__reg_alpha=2.5, xgbregressor__reg_lambda=3; total time=   0.9s\n",
      "[CV] END xgbregressor__reg_alpha=2.5, xgbregressor__reg_lambda=3; total time=   0.9s\n",
      "[CV] END xgbregressor__reg_alpha=2.5, xgbregressor__reg_lambda=3; total time=   0.9s\n",
      "[CV] END xgbregressor__reg_alpha=2.5, xgbregressor__reg_lambda=4; total time=   0.9s\n",
      "[CV] END xgbregressor__reg_alpha=2.5, xgbregressor__reg_lambda=4; total time=   0.9s\n",
      "[CV] END xgbregressor__reg_alpha=2.5, xgbregressor__reg_lambda=4; total time=   0.9s\n",
      "[CV] END xgbregressor__reg_alpha=3, xgbregressor__reg_lambda=0.1; total time=   1.2s\n",
      "[CV] END xgbregressor__reg_alpha=3, xgbregressor__reg_lambda=0.1; total time=   0.9s\n",
      "[CV] END xgbregressor__reg_alpha=3, xgbregressor__reg_lambda=0.1; total time=   0.9s\n",
      "[CV] END xgbregressor__reg_alpha=3, xgbregressor__reg_lambda=0.5; total time=   0.9s\n",
      "[CV] END xgbregressor__reg_alpha=3, xgbregressor__reg_lambda=0.5; total time=   0.9s\n",
      "[CV] END xgbregressor__reg_alpha=3, xgbregressor__reg_lambda=0.5; total time=   0.9s\n",
      "[CV] END xgbregressor__reg_alpha=3, xgbregressor__reg_lambda=1; total time=   0.9s\n",
      "[CV] END xgbregressor__reg_alpha=3, xgbregressor__reg_lambda=1; total time=   1.0s\n",
      "[CV] END xgbregressor__reg_alpha=3, xgbregressor__reg_lambda=1; total time=   0.9s\n",
      "[CV] END xgbregressor__reg_alpha=3, xgbregressor__reg_lambda=1.3; total time=   0.9s\n",
      "[CV] END xgbregressor__reg_alpha=3, xgbregressor__reg_lambda=1.3; total time=   0.9s\n",
      "[CV] END xgbregressor__reg_alpha=3, xgbregressor__reg_lambda=1.3; total time=   0.9s\n",
      "[CV] END xgbregressor__reg_alpha=3, xgbregressor__reg_lambda=1.5; total time=   0.9s\n",
      "[CV] END xgbregressor__reg_alpha=3, xgbregressor__reg_lambda=1.5; total time=   0.9s\n",
      "[CV] END xgbregressor__reg_alpha=3, xgbregressor__reg_lambda=1.5; total time=   0.9s\n",
      "[CV] END xgbregressor__reg_alpha=3, xgbregressor__reg_lambda=1.7; total time=   1.1s\n",
      "[CV] END xgbregressor__reg_alpha=3, xgbregressor__reg_lambda=1.7; total time=   0.9s\n",
      "[CV] END xgbregressor__reg_alpha=3, xgbregressor__reg_lambda=1.7; total time=   0.9s\n",
      "[CV] END xgbregressor__reg_alpha=3, xgbregressor__reg_lambda=2; total time=   0.9s\n",
      "[CV] END xgbregressor__reg_alpha=3, xgbregressor__reg_lambda=2; total time=   0.9s\n",
      "[CV] END xgbregressor__reg_alpha=3, xgbregressor__reg_lambda=2; total time=   0.9s\n",
      "[CV] END xgbregressor__reg_alpha=3, xgbregressor__reg_lambda=3; total time=   0.9s\n",
      "[CV] END xgbregressor__reg_alpha=3, xgbregressor__reg_lambda=3; total time=   0.9s\n",
      "[CV] END xgbregressor__reg_alpha=3, xgbregressor__reg_lambda=3; total time=   1.1s\n",
      "[CV] END xgbregressor__reg_alpha=3, xgbregressor__reg_lambda=4; total time=   1.0s\n",
      "[CV] END xgbregressor__reg_alpha=3, xgbregressor__reg_lambda=4; total time=   0.9s\n",
      "[CV] END xgbregressor__reg_alpha=3, xgbregressor__reg_lambda=4; total time=   0.9s\n"
     ]
    },
    {
     "data": {
      "text/plain": [
       "GridSearchCV(cv=3,\n",
       "             estimator=Pipeline(steps=[('columntransformer',\n",
       "                                        ColumnTransformer(transformers=[('num',\n",
       "                                                                         Pipeline(steps=[('simpleimputer',\n",
       "                                                                                          SimpleImputer())]),\n",
       "                                                                         ['Store_id']),\n",
       "                                                                        ('cat',\n",
       "                                                                         Pipeline(steps=[('simpleimputer',\n",
       "                                                                                          SimpleImputer(fill_value='NA',\n",
       "                                                                                                        strategy='constant')),\n",
       "                                                                                         ('onehotencoder',\n",
       "                                                                                          OneHotEncoder(handle_unknown='ignore',\n",
       "                                                                                                        sparse=False))]),\n",
       "                                                                         ['Store_Type',\n",
       "                                                                          'L...\n",
       "                                                     objective='reg:squaredlogerror',\n",
       "                                                     random_state=42,\n",
       "                                                     reg_alpha=None,\n",
       "                                                     reg_lambda=None,\n",
       "                                                     scale_pos_weight=None,\n",
       "                                                     subsample=None,\n",
       "                                                     tree_method='auto',\n",
       "                                                     validate_parameters=None,\n",
       "                                                     verbosity=None))]),\n",
       "             param_grid={'xgbregressor__reg_alpha': [0, 0.3, 0.5, 0.7, 1, 1.5,\n",
       "                                                     2, 2.5, 3],\n",
       "                         'xgbregressor__reg_lambda': [0.1, 0.5, 1, 1.3, 1.5,\n",
       "                                                      1.7, 2, 3, 4]},\n",
       "             scoring='neg_mean_squared_log_error', verbose=2)"
      ]
     },
     "execution_count": 17,
     "metadata": {},
     "output_type": "execute_result"
    }
   ],
   "source": [
    "xgb_reg = make_pipeline(full_pipe, XGBRegressor(objective= \"reg:squaredlogerror\",\n",
    "                                                learning_rate=0.8, \n",
    "                                                max_depth= 5,\n",
    "                                                colsample_bylevel=0.1,\n",
    "                                                colsample_bytree=0.1,\n",
    "                                                random_state=42, \n",
    "                                                tree_method=\"auto\", \n",
    "                                                n_jobs=-1,))\n",
    "\n",
    "params = {\n",
    "    \"xgbregressor__reg_lambda\": [0.1, 0.5, 1, 1.3, 1.5, 1.7, 2, 3, 4],\n",
    "    \"xgbregressor__reg_alpha\": [0, 0.3, 0.5, 0.7, 1, 1.5, 2, 2.5, 3]\n",
    "}\n",
    "\n",
    "xgb_grid = GridSearchCV(\n",
    "    estimator= xgb_reg,\n",
    "    param_grid = params,\n",
    "    scoring=\"neg_mean_squared_log_error\",\n",
    "    cv=3,\n",
    "    verbose=2\n",
    ")\n",
    "xgb_grid.fit(X_train, y_train)"
   ]
  },
  {
   "cell_type": "code",
   "execution_count": 18,
   "id": "16d634f7",
   "metadata": {},
   "outputs": [
    {
     "data": {
      "text/plain": [
       "-12.893688727253684"
      ]
     },
     "execution_count": 18,
     "metadata": {},
     "output_type": "execute_result"
    }
   ],
   "source": [
    "xgb_grid.best_score_"
   ]
  },
  {
   "cell_type": "code",
   "execution_count": 20,
   "id": "509edb3c",
   "metadata": {},
   "outputs": [
    {
     "data": {
      "text/plain": [
       "{'xgbregressor__reg_alpha': 0, 'xgbregressor__reg_lambda': 0.5}"
      ]
     },
     "execution_count": 20,
     "metadata": {},
     "output_type": "execute_result"
    }
   ],
   "source": [
    "xgb_grid.best_params_"
   ]
  },
  {
   "cell_type": "code",
   "execution_count": 22,
   "id": "22570cc3",
   "metadata": {},
   "outputs": [
    {
     "name": "stdout",
     "output_type": "stream",
     "text": [
      "Fitting 3 folds for each of 14 candidates, totalling 42 fits\n",
      "[CV] END .......................xgbregressor__reg_lambda=0.1; total time=   0.9s\n",
      "[CV] END .......................xgbregressor__reg_lambda=0.1; total time=   0.9s\n",
      "[CV] END .......................xgbregressor__reg_lambda=0.1; total time=   0.9s\n",
      "[CV] END .......................xgbregressor__reg_lambda=0.2; total time=   0.9s\n",
      "[CV] END .......................xgbregressor__reg_lambda=0.2; total time=   0.9s\n",
      "[CV] END .......................xgbregressor__reg_lambda=0.2; total time=   0.9s\n",
      "[CV] END .......................xgbregressor__reg_lambda=0.3; total time=   1.1s\n",
      "[CV] END .......................xgbregressor__reg_lambda=0.3; total time=   0.9s\n",
      "[CV] END .......................xgbregressor__reg_lambda=0.3; total time=   1.0s\n",
      "[CV] END .......................xgbregressor__reg_lambda=0.4; total time=   1.0s\n",
      "[CV] END .......................xgbregressor__reg_lambda=0.4; total time=   0.9s\n",
      "[CV] END .......................xgbregressor__reg_lambda=0.4; total time=   0.9s\n",
      "[CV] END .......................xgbregressor__reg_lambda=0.5; total time=   0.9s\n",
      "[CV] END .......................xgbregressor__reg_lambda=0.5; total time=   0.9s\n",
      "[CV] END .......................xgbregressor__reg_lambda=0.5; total time=   0.9s\n",
      "[CV] END .......................xgbregressor__reg_lambda=0.6; total time=   0.9s\n",
      "[CV] END .......................xgbregressor__reg_lambda=0.6; total time=   0.9s\n",
      "[CV] END .......................xgbregressor__reg_lambda=0.6; total time=   1.0s\n",
      "[CV] END .......................xgbregressor__reg_lambda=0.7; total time=   0.9s\n",
      "[CV] END .......................xgbregressor__reg_lambda=0.7; total time=   0.9s\n",
      "[CV] END .......................xgbregressor__reg_lambda=0.7; total time=   0.9s\n",
      "[CV] END .......................xgbregressor__reg_lambda=0.8; total time=   0.9s\n",
      "[CV] END .......................xgbregressor__reg_lambda=0.8; total time=   0.9s\n",
      "[CV] END .......................xgbregressor__reg_lambda=0.8; total time=   0.9s\n",
      "[CV] END .......................xgbregressor__reg_lambda=0.9; total time=   1.0s\n",
      "[CV] END .......................xgbregressor__reg_lambda=0.9; total time=   1.0s\n",
      "[CV] END .......................xgbregressor__reg_lambda=0.9; total time=   0.9s\n",
      "[CV] END .........................xgbregressor__reg_lambda=1; total time=   0.9s\n",
      "[CV] END .........................xgbregressor__reg_lambda=1; total time=   0.9s\n",
      "[CV] END .........................xgbregressor__reg_lambda=1; total time=   0.9s\n",
      "[CV] END .........................xgbregressor__reg_lambda=2; total time=   0.9s\n",
      "[CV] END .........................xgbregressor__reg_lambda=2; total time=   0.9s\n",
      "[CV] END .........................xgbregressor__reg_lambda=2; total time=   0.9s\n",
      "[CV] END .........................xgbregressor__reg_lambda=3; total time=   0.9s\n",
      "[CV] END .........................xgbregressor__reg_lambda=3; total time=   0.9s\n",
      "[CV] END .........................xgbregressor__reg_lambda=3; total time=   1.0s\n",
      "[CV] END .........................xgbregressor__reg_lambda=5; total time=   1.0s\n",
      "[CV] END .........................xgbregressor__reg_lambda=5; total time=   0.9s\n",
      "[CV] END .........................xgbregressor__reg_lambda=5; total time=   1.0s\n",
      "[CV] END ........................xgbregressor__reg_lambda=10; total time=   0.9s\n",
      "[CV] END ........................xgbregressor__reg_lambda=10; total time=   0.9s\n",
      "[CV] END ........................xgbregressor__reg_lambda=10; total time=   0.9s\n"
     ]
    },
    {
     "data": {
      "text/plain": [
       "GridSearchCV(cv=3,\n",
       "             estimator=Pipeline(steps=[('columntransformer',\n",
       "                                        ColumnTransformer(transformers=[('num',\n",
       "                                                                         Pipeline(steps=[('simpleimputer',\n",
       "                                                                                          SimpleImputer())]),\n",
       "                                                                         ['Store_id']),\n",
       "                                                                        ('cat',\n",
       "                                                                         Pipeline(steps=[('simpleimputer',\n",
       "                                                                                          SimpleImputer(fill_value='NA',\n",
       "                                                                                                        strategy='constant')),\n",
       "                                                                                         ('onehotencoder',\n",
       "                                                                                          OneHotEncoder(handle_unknown='ignore',\n",
       "                                                                                                        sparse=False))]),\n",
       "                                                                         ['Store_Type',\n",
       "                                                                          'L...\n",
       "                                                     n_estimators=100,\n",
       "                                                     n_jobs=-1,\n",
       "                                                     num_parallel_tree=None,\n",
       "                                                     objective='reg:squaredlogerror',\n",
       "                                                     random_state=42,\n",
       "                                                     reg_alpha=0,\n",
       "                                                     reg_lambda=None,\n",
       "                                                     scale_pos_weight=None,\n",
       "                                                     subsample=None,\n",
       "                                                     tree_method='auto',\n",
       "                                                     validate_parameters=None,\n",
       "                                                     verbosity=None))]),\n",
       "             param_grid={'xgbregressor__reg_lambda': [0.1, 0.2, 0.3, 0.4, 0.5,\n",
       "                                                      0.6, 0.7, 0.8, 0.9, 1, 2,\n",
       "                                                      3, 5, 10]},\n",
       "             scoring='neg_mean_squared_log_error', verbose=2)"
      ]
     },
     "execution_count": 22,
     "metadata": {},
     "output_type": "execute_result"
    }
   ],
   "source": [
    "xgb_reg = make_pipeline(full_pipe, XGBRegressor(objective= \"reg:squaredlogerror\",\n",
    "                                                learning_rate=0.8, \n",
    "                                                max_depth= 5,\n",
    "                                                colsample_bylevel=0.1,\n",
    "                                                colsample_bytree=0.1,\n",
    "                                                reg_alpha=0,\n",
    "                                                random_state=42, \n",
    "                                                tree_method=\"auto\", \n",
    "                                                n_jobs=-1,))\n",
    "\n",
    "params = {\n",
    "    \"xgbregressor__reg_lambda\": [0.1,0.2,0.3,0.4,0.5, 0.6,0.7,0.8,0.9,1,2,3,5,10]\n",
    "}\n",
    "\n",
    "xgb_grid = GridSearchCV(\n",
    "    estimator= xgb_reg,\n",
    "    param_grid = params,\n",
    "    scoring=\"neg_mean_squared_log_error\",\n",
    "    cv=3,\n",
    "    verbose=2\n",
    ")\n",
    "xgb_grid.fit(X_train, y_train)"
   ]
  },
  {
   "cell_type": "code",
   "execution_count": 23,
   "id": "77d2e8c9",
   "metadata": {},
   "outputs": [
    {
     "data": {
      "text/plain": [
       "-12.893688727253684"
      ]
     },
     "execution_count": 23,
     "metadata": {},
     "output_type": "execute_result"
    }
   ],
   "source": [
    "xgb_grid.best_score_"
   ]
  },
  {
   "cell_type": "code",
   "execution_count": 24,
   "id": "ca1ae87b",
   "metadata": {},
   "outputs": [
    {
     "data": {
      "text/plain": [
       "{'xgbregressor__reg_lambda': 0.5}"
      ]
     },
     "execution_count": 24,
     "metadata": {},
     "output_type": "execute_result"
    }
   ],
   "source": [
    "xgb_grid.best_params_"
   ]
  },
  {
   "cell_type": "code",
   "execution_count": 25,
   "id": "08e58925",
   "metadata": {},
   "outputs": [],
   "source": [
    "xgb_reg = make_pipeline(full_pipe, XGBRegressor(objective= \"reg:squaredlogerror\",\n",
    "                                                learning_rate=0.8, \n",
    "                                                max_depth= 5,\n",
    "                                                colsample_bylevel=0.1,\n",
    "                                                colsample_bytree=0.1,\n",
    "                                                reg_alpha=0,\n",
    "                                                reg_lambda=0.5,\n",
    "                                                random_state=42, \n",
    "                                                tree_method=\"auto\", \n",
    "                                                n_jobs=-1,))\n",
    "xgb_reg.fit(X_train, y_train)\n",
    "submission['Sales'] = xgb_reg.predict(X_test)\n",
    "save_dataframe(submission, \"xgb_hyper1.csv\")"
   ]
  },
  {
   "cell_type": "markdown",
   "id": "3a073f39",
   "metadata": {},
   "source": [
    "This model performs very poorly. "
   ]
  },
  {
   "cell_type": "markdown",
   "id": "517e2aa7",
   "metadata": {},
   "source": [
    "## Extra Trees"
   ]
  },
  {
   "cell_type": "code",
   "execution_count": 27,
   "id": "a55c4f5e",
   "metadata": {},
   "outputs": [
    {
     "name": "stdout",
     "output_type": "stream",
     "text": [
      "Scores: [0.11244326 0.09640252 0.13539122 0.22002627 0.16880093]\n",
      "Average score: 0.14661283864178518\n"
     ]
    }
   ],
   "source": [
    "from sklearn.ensemble import ExtraTreesRegressor\n",
    "from sklearn.model_selection import cross_val_score\n",
    "\n",
    "extra_tree = make_pipeline(full_pipe, ExtraTreesRegressor(random_state=42))\n",
    "scores = cross_val_score(extra_tree, X_train, y_train, cv=5, scoring=\"neg_mean_squared_log_error\")\n",
    "print(\"Scores:\", -scores)\n",
    "print(\"Average score:\", np.mean(-scores))"
   ]
  },
  {
   "cell_type": "code",
   "execution_count": 12,
   "id": "22793135",
   "metadata": {},
   "outputs": [
    {
     "name": "stdout",
     "output_type": "stream",
     "text": [
      "Fitting 3 folds for each of 10 candidates, totalling 30 fits\n",
      "[CV] END extratreesregressor__min_samples_leaf=7, extratreesregressor__min_samples_split=5; total time=  20.5s\n",
      "[CV] END extratreesregressor__min_samples_leaf=7, extratreesregressor__min_samples_split=5; total time=  15.3s\n",
      "[CV] END extratreesregressor__min_samples_leaf=7, extratreesregressor__min_samples_split=5; total time=  17.3s\n",
      "[CV] END extratreesregressor__min_samples_leaf=8, extratreesregressor__min_samples_split=6; total time=  19.9s\n",
      "[CV] END extratreesregressor__min_samples_leaf=8, extratreesregressor__min_samples_split=6; total time=  16.9s\n",
      "[CV] END extratreesregressor__min_samples_leaf=8, extratreesregressor__min_samples_split=6; total time=  17.6s\n",
      "[CV] END extratreesregressor__min_samples_leaf=5, extratreesregressor__min_samples_split=8; total time=  19.7s\n",
      "[CV] END extratreesregressor__min_samples_leaf=5, extratreesregressor__min_samples_split=8; total time=  17.0s\n",
      "[CV] END extratreesregressor__min_samples_leaf=5, extratreesregressor__min_samples_split=8; total time=  17.1s\n",
      "[CV] END extratreesregressor__min_samples_leaf=3, extratreesregressor__min_samples_split=8; total time=  18.9s\n",
      "[CV] END extratreesregressor__min_samples_leaf=3, extratreesregressor__min_samples_split=8; total time=  19.9s\n",
      "[CV] END extratreesregressor__min_samples_leaf=3, extratreesregressor__min_samples_split=8; total time=  20.0s\n",
      "[CV] END extratreesregressor__min_samples_leaf=8, extratreesregressor__min_samples_split=6; total time=  23.7s\n",
      "[CV] END extratreesregressor__min_samples_leaf=8, extratreesregressor__min_samples_split=6; total time=  19.8s\n",
      "[CV] END extratreesregressor__min_samples_leaf=8, extratreesregressor__min_samples_split=6; total time=  19.8s\n",
      "[CV] END extratreesregressor__min_samples_leaf=4, extratreesregressor__min_samples_split=9; total time=  21.8s\n",
      "[CV] END extratreesregressor__min_samples_leaf=4, extratreesregressor__min_samples_split=9; total time=  16.4s\n",
      "[CV] END extratreesregressor__min_samples_leaf=4, extratreesregressor__min_samples_split=9; total time=  16.2s\n",
      "[CV] END extratreesregressor__min_samples_leaf=8, extratreesregressor__min_samples_split=4; total time=  18.5s\n",
      "[CV] END extratreesregressor__min_samples_leaf=8, extratreesregressor__min_samples_split=4; total time=  14.7s\n",
      "[CV] END extratreesregressor__min_samples_leaf=8, extratreesregressor__min_samples_split=4; total time=  16.2s\n",
      "[CV] END extratreesregressor__min_samples_leaf=6, extratreesregressor__min_samples_split=6; total time=  18.6s\n",
      "[CV] END extratreesregressor__min_samples_leaf=6, extratreesregressor__min_samples_split=6; total time=  15.4s\n",
      "[CV] END extratreesregressor__min_samples_leaf=6, extratreesregressor__min_samples_split=6; total time=  16.3s\n",
      "[CV] END extratreesregressor__min_samples_leaf=2, extratreesregressor__min_samples_split=9; total time=  19.3s\n",
      "[CV] END extratreesregressor__min_samples_leaf=2, extratreesregressor__min_samples_split=9; total time=  17.2s\n",
      "[CV] END extratreesregressor__min_samples_leaf=2, extratreesregressor__min_samples_split=9; total time=  18.5s\n",
      "[CV] END extratreesregressor__min_samples_leaf=6, extratreesregressor__min_samples_split=3; total time=  20.7s\n",
      "[CV] END extratreesregressor__min_samples_leaf=6, extratreesregressor__min_samples_split=3; total time=  17.4s\n",
      "[CV] END extratreesregressor__min_samples_leaf=6, extratreesregressor__min_samples_split=3; total time=  19.3s\n"
     ]
    },
    {
     "data": {
      "text/plain": [
       "RandomizedSearchCV(cv=3,\n",
       "                   estimator=Pipeline(steps=[('columntransformer',\n",
       "                                              ColumnTransformer(transformers=[('num',\n",
       "                                                                               Pipeline(steps=[('simpleimputer',\n",
       "                                                                                                SimpleImputer())]),\n",
       "                                                                               ['Store_id']),\n",
       "                                                                              ('cat',\n",
       "                                                                               Pipeline(steps=[('simpleimputer',\n",
       "                                                                                                SimpleImputer(fill_value='NA',\n",
       "                                                                                                              strategy='constant')),\n",
       "                                                                                               ('onehotencoder',\n",
       "                                                                                                OneHotEncoder(handle_unknown='ignore',\n",
       "                                                                                                              sparse=False))]),\n",
       "                                                                               ['Store_Ty...\n",
       "                                              ExtraTreesRegressor(n_jobs=-1,\n",
       "                                                                  random_state=42))]),\n",
       "                   param_distributions={'extratreesregressor__min_samples_leaf': <scipy.stats._distn_infrastructure.rv_frozen object at 0x0000018A969970A0>,\n",
       "                                        'extratreesregressor__min_samples_split': <scipy.stats._distn_infrastructure.rv_frozen object at 0x0000018A96C0EC40>},\n",
       "                   random_state=42, scoring='neg_mean_squared_log_error',\n",
       "                   verbose=2)"
      ]
     },
     "execution_count": 12,
     "metadata": {},
     "output_type": "execute_result"
    }
   ],
   "source": [
    "from sklearn.ensemble import ExtraTreesRegressor\n",
    "from sklearn.model_selection import RandomizedSearchCV\n",
    "from scipy.stats import randint\n",
    "\n",
    "params = {\n",
    "    \"extratreesregressor__min_samples_split\": randint(low=2, high=10),\n",
    "    \"extratreesregressor__min_samples_leaf\": randint(low=1, high=10), \n",
    "}\n",
    "\n",
    "extra_tree = make_pipeline(full_pipe, ExtraTreesRegressor(random_state=42, n_jobs=-1))\n",
    "\n",
    "extra_tree_search = RandomizedSearchCV(\n",
    "    estimator=extra_tree,\n",
    "    param_distributions= params,\n",
    "    n_iter=10,\n",
    "    scoring=\"neg_mean_squared_log_error\",\n",
    "    cv=3,\n",
    "    verbose=2,\n",
    "    random_state=42)\n",
    "\n",
    "extra_tree_search.fit(X_train, y_train)"
   ]
  },
  {
   "cell_type": "code",
   "execution_count": 13,
   "id": "a93a51ae",
   "metadata": {},
   "outputs": [
    {
     "data": {
      "text/plain": [
       "-0.13263071578452862"
      ]
     },
     "execution_count": 13,
     "metadata": {},
     "output_type": "execute_result"
    }
   ],
   "source": [
    "extra_tree_search.best_score_"
   ]
  },
  {
   "cell_type": "code",
   "execution_count": 14,
   "id": "eff64a36",
   "metadata": {},
   "outputs": [
    {
     "data": {
      "text/plain": [
       "{'extratreesregressor__min_samples_leaf': 8,\n",
       " 'extratreesregressor__min_samples_split': 6}"
      ]
     },
     "execution_count": 14,
     "metadata": {},
     "output_type": "execute_result"
    }
   ],
   "source": [
    "extra_tree_search.best_params_"
   ]
  },
  {
   "cell_type": "code",
   "execution_count": 21,
   "id": "10492910",
   "metadata": {},
   "outputs": [
    {
     "name": "stdout",
     "output_type": "stream",
     "text": [
      "Fitting 3 folds for each of 27 candidates, totalling 81 fits\n",
      "[CV] END ...................extratreesregressor__max_depth=3; total time=  11.4s\n",
      "[CV] END ...................extratreesregressor__max_depth=3; total time=  10.1s\n",
      "[CV] END ...................extratreesregressor__max_depth=3; total time=  10.8s\n",
      "[CV] END ...................extratreesregressor__max_depth=4; total time=  13.5s\n",
      "[CV] END ...................extratreesregressor__max_depth=4; total time=  11.6s\n",
      "[CV] END ...................extratreesregressor__max_depth=4; total time=  12.3s\n",
      "[CV] END ...................extratreesregressor__max_depth=5; total time=  15.2s\n",
      "[CV] END ...................extratreesregressor__max_depth=5; total time=  12.9s\n",
      "[CV] END ...................extratreesregressor__max_depth=5; total time=  13.8s\n",
      "[CV] END ...................extratreesregressor__max_depth=6; total time=  16.4s\n",
      "[CV] END ...................extratreesregressor__max_depth=6; total time=  14.5s\n",
      "[CV] END ...................extratreesregressor__max_depth=6; total time=  14.4s\n",
      "[CV] END ...................extratreesregressor__max_depth=7; total time=  17.3s\n",
      "[CV] END ...................extratreesregressor__max_depth=7; total time=  14.5s\n",
      "[CV] END ...................extratreesregressor__max_depth=7; total time=  14.3s\n",
      "[CV] END ...................extratreesregressor__max_depth=8; total time=  17.5s\n",
      "[CV] END ...................extratreesregressor__max_depth=8; total time=  14.5s\n",
      "[CV] END ...................extratreesregressor__max_depth=8; total time=  14.8s\n",
      "[CV] END ...................extratreesregressor__max_depth=9; total time=  17.7s\n",
      "[CV] END ...................extratreesregressor__max_depth=9; total time=  15.4s\n",
      "[CV] END ...................extratreesregressor__max_depth=9; total time=  16.4s\n",
      "[CV] END ..................extratreesregressor__max_depth=10; total time=  18.2s\n",
      "[CV] END ..................extratreesregressor__max_depth=10; total time=  15.2s\n",
      "[CV] END ..................extratreesregressor__max_depth=10; total time=  15.5s\n",
      "[CV] END ..................extratreesregressor__max_depth=11; total time=  17.7s\n",
      "[CV] END ..................extratreesregressor__max_depth=11; total time=  15.1s\n",
      "[CV] END ..................extratreesregressor__max_depth=11; total time=  15.9s\n",
      "[CV] END ..................extratreesregressor__max_depth=12; total time=  18.3s\n",
      "[CV] END ..................extratreesregressor__max_depth=12; total time=  15.5s\n",
      "[CV] END ..................extratreesregressor__max_depth=12; total time=  16.3s\n",
      "[CV] END ..................extratreesregressor__max_depth=13; total time=  18.6s\n",
      "[CV] END ..................extratreesregressor__max_depth=13; total time=  14.8s\n",
      "[CV] END ..................extratreesregressor__max_depth=13; total time=  16.4s\n",
      "[CV] END ..................extratreesregressor__max_depth=14; total time=  18.2s\n",
      "[CV] END ..................extratreesregressor__max_depth=14; total time=  15.5s\n",
      "[CV] END ..................extratreesregressor__max_depth=14; total time=  16.1s\n",
      "[CV] END ..................extratreesregressor__max_depth=15; total time=  18.4s\n",
      "[CV] END ..................extratreesregressor__max_depth=15; total time=  15.3s\n",
      "[CV] END ..................extratreesregressor__max_depth=15; total time=  16.7s\n",
      "[CV] END ..................extratreesregressor__max_depth=16; total time=  18.6s\n",
      "[CV] END ..................extratreesregressor__max_depth=16; total time=  15.2s\n",
      "[CV] END ..................extratreesregressor__max_depth=16; total time=  16.2s\n",
      "[CV] END ..................extratreesregressor__max_depth=17; total time=  18.5s\n",
      "[CV] END ..................extratreesregressor__max_depth=17; total time=  15.1s\n",
      "[CV] END ..................extratreesregressor__max_depth=17; total time=  16.3s\n",
      "[CV] END ..................extratreesregressor__max_depth=18; total time=  19.1s\n",
      "[CV] END ..................extratreesregressor__max_depth=18; total time=  15.7s\n",
      "[CV] END ..................extratreesregressor__max_depth=18; total time=  15.8s\n",
      "[CV] END ..................extratreesregressor__max_depth=19; total time=  18.2s\n",
      "[CV] END ..................extratreesregressor__max_depth=19; total time=  15.2s\n",
      "[CV] END ..................extratreesregressor__max_depth=19; total time=  15.8s\n",
      "[CV] END ..................extratreesregressor__max_depth=20; total time=  18.6s\n",
      "[CV] END ..................extratreesregressor__max_depth=20; total time=  15.2s\n",
      "[CV] END ..................extratreesregressor__max_depth=20; total time=  16.6s\n",
      "[CV] END ..................extratreesregressor__max_depth=21; total time=  18.4s\n",
      "[CV] END ..................extratreesregressor__max_depth=21; total time=  15.0s\n",
      "[CV] END ..................extratreesregressor__max_depth=21; total time=  16.0s\n",
      "[CV] END ..................extratreesregressor__max_depth=22; total time=  19.0s\n",
      "[CV] END ..................extratreesregressor__max_depth=22; total time=  15.6s\n",
      "[CV] END ..................extratreesregressor__max_depth=22; total time=  16.6s\n",
      "[CV] END ..................extratreesregressor__max_depth=23; total time=  18.9s\n",
      "[CV] END ..................extratreesregressor__max_depth=23; total time=  15.9s\n",
      "[CV] END ..................extratreesregressor__max_depth=23; total time=  16.7s\n",
      "[CV] END ..................extratreesregressor__max_depth=24; total time=  19.1s\n",
      "[CV] END ..................extratreesregressor__max_depth=24; total time=  15.8s\n",
      "[CV] END ..................extratreesregressor__max_depth=24; total time=  16.5s\n",
      "[CV] END ..................extratreesregressor__max_depth=25; total time=  18.5s\n",
      "[CV] END ..................extratreesregressor__max_depth=25; total time=  15.7s\n",
      "[CV] END ..................extratreesregressor__max_depth=25; total time=  16.8s\n",
      "[CV] END ..................extratreesregressor__max_depth=26; total time=  19.2s\n",
      "[CV] END ..................extratreesregressor__max_depth=26; total time=  16.3s\n",
      "[CV] END ..................extratreesregressor__max_depth=26; total time=  19.4s\n",
      "[CV] END ..................extratreesregressor__max_depth=27; total time=  21.3s\n",
      "[CV] END ..................extratreesregressor__max_depth=27; total time=  17.6s\n",
      "[CV] END ..................extratreesregressor__max_depth=27; total time=  18.9s\n",
      "[CV] END ..................extratreesregressor__max_depth=28; total time=  21.2s\n",
      "[CV] END ..................extratreesregressor__max_depth=28; total time=  19.3s\n",
      "[CV] END ..................extratreesregressor__max_depth=28; total time=  18.1s\n",
      "[CV] END ..................extratreesregressor__max_depth=29; total time=  22.7s\n",
      "[CV] END ..................extratreesregressor__max_depth=29; total time=  17.2s\n",
      "[CV] END ..................extratreesregressor__max_depth=29; total time=  17.6s\n"
     ]
    },
    {
     "data": {
      "text/plain": [
       "GridSearchCV(cv=3,\n",
       "             estimator=Pipeline(steps=[('columntransformer',\n",
       "                                        ColumnTransformer(transformers=[('num',\n",
       "                                                                         Pipeline(steps=[('simpleimputer',\n",
       "                                                                                          SimpleImputer())]),\n",
       "                                                                         ['Store_id']),\n",
       "                                                                        ('cat',\n",
       "                                                                         Pipeline(steps=[('simpleimputer',\n",
       "                                                                                          SimpleImputer(fill_value='NA',\n",
       "                                                                                                        strategy='constant')),\n",
       "                                                                                         ('onehotencoder',\n",
       "                                                                                          OneHotEncoder(handle_unknown='ignore',\n",
       "                                                                                                        sparse=False))]),\n",
       "                                                                         ['Store_Type',\n",
       "                                                                          'L...n_Type',\n",
       "                                                                          'Region_Code',\n",
       "                                                                          'Holiday',\n",
       "                                                                          'Discount',\n",
       "                                                                          'Day',\n",
       "                                                                          'Month',\n",
       "                                                                          'Year'])])),\n",
       "                                       ('extratreesregressor',\n",
       "                                        ExtraTreesRegressor(min_samples_leaf=8,\n",
       "                                                            min_samples_split=6,\n",
       "                                                            n_jobs=-1,\n",
       "                                                            random_state=42))]),\n",
       "             param_grid={'extratreesregressor__max_depth': [3, 4, 5, 6, 7, 8, 9,\n",
       "                                                            10, 11, 12, 13, 14,\n",
       "                                                            15, 16, 17, 18, 19,\n",
       "                                                            20, 21, 22, 23, 24,\n",
       "                                                            25, 26, 27, 28,\n",
       "                                                            29]},\n",
       "             scoring='neg_mean_squared_log_error', verbose=2)"
      ]
     },
     "execution_count": 21,
     "metadata": {},
     "output_type": "execute_result"
    }
   ],
   "source": [
    "params = {\n",
    "    \"extratreesregressor__max_depth\": list(range(3,30)) \n",
    "}\n",
    "\n",
    "extra_tree = make_pipeline(full_pipe, ExtraTreesRegressor(random_state=42,\n",
    "                                                          min_samples_leaf=8,\n",
    "                                                          min_samples_split=6,\n",
    "                                                          n_jobs=-1))\n",
    "\n",
    "extra_tree_grid = GridSearchCV(\n",
    "    estimator= extra_tree,\n",
    "    param_grid = params,\n",
    "    scoring=\"neg_mean_squared_log_error\",\n",
    "    cv=3,\n",
    "    verbose=2\n",
    ")\n",
    "extra_tree_grid.fit(X_train, y_train)"
   ]
  },
  {
   "cell_type": "code",
   "execution_count": 22,
   "id": "65fbc237",
   "metadata": {},
   "outputs": [
    {
     "data": {
      "text/plain": [
       "-0.12581450950362952"
      ]
     },
     "execution_count": 22,
     "metadata": {},
     "output_type": "execute_result"
    }
   ],
   "source": [
    "extra_tree_grid.best_score_"
   ]
  },
  {
   "cell_type": "code",
   "execution_count": 23,
   "id": "445e81e8",
   "metadata": {},
   "outputs": [
    {
     "data": {
      "text/plain": [
       "{'extratreesregressor__max_depth': 8}"
      ]
     },
     "execution_count": 23,
     "metadata": {},
     "output_type": "execute_result"
    }
   ],
   "source": [
    "extra_tree_grid.best_params_"
   ]
  },
  {
   "cell_type": "code",
   "execution_count": null,
   "id": "bf2fb4bf",
   "metadata": {},
   "outputs": [],
   "source": [
    "extra_tree = make_pipeline(full_pipe, ExtraTreesRegressor(random_state=42,\n",
    "                                                         max_depth=8,\n",
    "                                                         min_samples_leaf=8,\n",
    "                                                          min_samples_split=6))"
   ]
  },
  {
   "cell_type": "markdown",
   "id": "f78376c1",
   "metadata": {},
   "source": [
    "## Hist Gradient Boosting"
   ]
  },
  {
   "cell_type": "code",
   "execution_count": 28,
   "id": "ba92c035",
   "metadata": {},
   "outputs": [
    {
     "name": "stdout",
     "output_type": "stream",
     "text": [
      "Scores: [0.09379386 0.07244025 0.1013186  0.20144597 0.11611935]\n",
      "Average score: 0.11702360851888935\n"
     ]
    }
   ],
   "source": [
    "from sklearn.experimental import enable_hist_gradient_boosting\n",
    "from sklearn.ensemble import HistGradientBoostingRegressor\n",
    "\n",
    "hist_gbrt = make_pipeline(full_pipe, HistGradientBoostingRegressor(random_state=42, early_stopping=True))\n",
    "\n",
    "scores = cross_val_score(hist_gbrt, X_train, y_train, cv=5, scoring=\"neg_mean_squared_log_error\")\n",
    "print(\"Scores:\", -scores)\n",
    "print(\"Average score:\", np.mean(-scores))"
   ]
  },
  {
   "cell_type": "code",
   "execution_count": 29,
   "id": "15df1fb2",
   "metadata": {},
   "outputs": [],
   "source": [
    "hist_gbrt.fit(X_train, y_train)\n",
    "submission['Sales'] = hist_gbrt.predict(X_test)\n",
    "save_dataframe(submission, \"hist_gbrt_default.csv\")"
   ]
  },
  {
   "cell_type": "code",
   "execution_count": 8,
   "id": "ee1ad17b",
   "metadata": {},
   "outputs": [
    {
     "name": "stdout",
     "output_type": "stream",
     "text": [
      "Fitting 3 folds for each of 5 candidates, totalling 15 fits\n",
      "[CV] END ........histgradientboostingregressor__max_iter=100; total time=   2.1s\n",
      "[CV] END ........histgradientboostingregressor__max_iter=100; total time=   2.0s\n",
      "[CV] END ........histgradientboostingregressor__max_iter=100; total time=   2.1s\n",
      "[CV] END ........histgradientboostingregressor__max_iter=200; total time=   3.7s\n",
      "[CV] END ........histgradientboostingregressor__max_iter=200; total time=   3.6s\n",
      "[CV] END ........histgradientboostingregressor__max_iter=200; total time=   3.8s\n",
      "[CV] END ........histgradientboostingregressor__max_iter=300; total time=   5.2s\n",
      "[CV] END ........histgradientboostingregressor__max_iter=300; total time=   5.0s\n",
      "[CV] END ........histgradientboostingregressor__max_iter=300; total time=   5.3s\n",
      "[CV] END ........histgradientboostingregressor__max_iter=400; total time=   6.8s\n",
      "[CV] END ........histgradientboostingregressor__max_iter=400; total time=   6.6s\n",
      "[CV] END ........histgradientboostingregressor__max_iter=400; total time=   7.0s\n",
      "[CV] END ........histgradientboostingregressor__max_iter=500; total time=   8.4s\n"
     ]
    },
    {
     "name": "stderr",
     "output_type": "stream",
     "text": [
      "C:\\Users\\BHOLA\\anaconda3\\lib\\site-packages\\sklearn\\model_selection\\_validation.py:683: UserWarning: Scoring failed. The score on this train-test partition for these parameters will be set to nan. Details: \n",
      "Traceback (most recent call last):\n",
      "  File \"C:\\Users\\BHOLA\\anaconda3\\lib\\site-packages\\sklearn\\model_selection\\_validation.py\", line 674, in _score\n",
      "    scores = scorer(estimator, X_test, y_test)\n",
      "  File \"C:\\Users\\BHOLA\\anaconda3\\lib\\site-packages\\sklearn\\metrics\\_scorer.py\", line 199, in __call__\n",
      "    return self._score(partial(_cached_call, None), estimator, X, y_true,\n",
      "  File \"C:\\Users\\BHOLA\\anaconda3\\lib\\site-packages\\sklearn\\metrics\\_scorer.py\", line 242, in _score\n",
      "    return self._sign * self._score_func(y_true, y_pred,\n",
      "  File \"C:\\Users\\BHOLA\\anaconda3\\lib\\site-packages\\sklearn\\utils\\validation.py\", line 63, in inner_f\n",
      "    return f(*args, **kwargs)\n",
      "  File \"C:\\Users\\BHOLA\\anaconda3\\lib\\site-packages\\sklearn\\metrics\\_regression.py\", line 413, in mean_squared_log_error\n",
      "    raise ValueError(\"Mean Squared Logarithmic Error cannot be used when \"\n",
      "ValueError: Mean Squared Logarithmic Error cannot be used when targets contain negative values.\n",
      "\n",
      "  warnings.warn(\n"
     ]
    },
    {
     "name": "stdout",
     "output_type": "stream",
     "text": [
      "[CV] END ........histgradientboostingregressor__max_iter=500; total time=   7.8s\n",
      "[CV] END ........histgradientboostingregressor__max_iter=500; total time=   8.1s\n"
     ]
    },
    {
     "name": "stderr",
     "output_type": "stream",
     "text": [
      "C:\\Users\\BHOLA\\anaconda3\\lib\\site-packages\\sklearn\\model_selection\\_search.py:918: UserWarning: One or more of the test scores are non-finite: [-0.1194592  -0.12013036 -0.12007529 -0.12034526         nan]\n",
      "  warnings.warn(\n"
     ]
    },
    {
     "data": {
      "text/plain": [
       "GridSearchCV(cv=3,\n",
       "             estimator=Pipeline(steps=[('columntransformer',\n",
       "                                        ColumnTransformer(transformers=[('num',\n",
       "                                                                         Pipeline(steps=[('simpleimputer',\n",
       "                                                                                          SimpleImputer())]),\n",
       "                                                                         ['Store_id']),\n",
       "                                                                        ('cat',\n",
       "                                                                         Pipeline(steps=[('simpleimputer',\n",
       "                                                                                          SimpleImputer(fill_value='NA',\n",
       "                                                                                                        strategy='constant')),\n",
       "                                                                                         ('onehotencoder',\n",
       "                                                                                          OneHotEncoder(handle_unknown='ignore',\n",
       "                                                                                                        sparse=False))]),\n",
       "                                                                         ['Store_Type',\n",
       "                                                                          'Location_Type',\n",
       "                                                                          'Region_Code',\n",
       "                                                                          'Holiday',\n",
       "                                                                          'Discount',\n",
       "                                                                          'Day',\n",
       "                                                                          'Month',\n",
       "                                                                          'Year'])])),\n",
       "                                       ('histgradientboostingregressor',\n",
       "                                        HistGradientBoostingRegressor(early_stopping=True,\n",
       "                                                                      random_state=42))]),\n",
       "             param_grid={'histgradientboostingregressor__max_iter': [100, 200,\n",
       "                                                                     300, 400,\n",
       "                                                                     500]},\n",
       "             scoring='neg_mean_squared_log_error', verbose=2)"
      ]
     },
     "execution_count": 8,
     "metadata": {},
     "output_type": "execute_result"
    }
   ],
   "source": [
    "from sklearn.pipeline import make_pipeline\n",
    "from sklearn.experimental import enable_hist_gradient_boosting\n",
    "from sklearn.ensemble import HistGradientBoostingRegressor\n",
    "from sklearn.model_selection import GridSearchCV\n",
    "\n",
    "hist_gbrt = make_pipeline(full_pipe, HistGradientBoostingRegressor(random_state=42,early_stopping=True))\n",
    "\n",
    "params = {\n",
    "    \"histgradientboostingregressor__max_iter\":[100,200,300,400,500]\n",
    "}\n",
    "\n",
    "hist_gbrt_grid = GridSearchCV(\n",
    "    estimator= hist_gbrt,\n",
    "    param_grid = params,\n",
    "    scoring=\"neg_mean_squared_log_error\",\n",
    "    cv=3,\n",
    "    verbose=2\n",
    ")\n",
    "hist_gbrt_grid.fit(X_train, y_train)"
   ]
  },
  {
   "cell_type": "code",
   "execution_count": null,
   "id": "d24ab311",
   "metadata": {},
   "outputs": [],
   "source": []
  }
 ],
 "metadata": {
  "kernelspec": {
   "display_name": "Python 3 (ipykernel)",
   "language": "python",
   "name": "python3"
  },
  "language_info": {
   "codemirror_mode": {
    "name": "ipython",
    "version": 3
   },
   "file_extension": ".py",
   "mimetype": "text/x-python",
   "name": "python",
   "nbconvert_exporter": "python",
   "pygments_lexer": "ipython3",
   "version": "3.9.12"
  }
 },
 "nbformat": 4,
 "nbformat_minor": 5
}
