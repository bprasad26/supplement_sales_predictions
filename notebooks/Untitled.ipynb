{
 "cells": [
  {
   "cell_type": "code",
   "execution_count": 1,
   "id": "cb734b88",
   "metadata": {},
   "outputs": [],
   "source": [
    "import os\n",
    "import pandas as pd\n",
    "import numpy as np\n",
    "import matplotlib.pyplot as plt\n",
    "import plotly.graph_objects as go\n",
    "import plotly.express as px\n",
    "import seaborn\n",
    "%matplotlib inline\n",
    "\n",
    "# project paths\n",
    "project_root_dir = os.path.normpath(os.getcwd() + os.sep + os.pardir)\n",
    "\n",
    "data_path = os.path.join(project_root_dir, \"data\")\n",
    "os.makedirs(data_path, exist_ok=True)\n",
    "\n",
    "# function for reading data\n",
    "def read_data(filename, date_cols=None, file_path=data_path):\n",
    "    csv_path = os.path.join(file_path, filename)\n",
    "    return pd.read_csv(csv_path, parse_dates=date_cols)\n",
    "\n",
    "# function for saving data as csv file\n",
    "def save_dataframe(df, filename, file_path=data_path):\n",
    "    path = os.path.join(file_path, filename)\n",
    "    df.to_csv(path, index=False)"
   ]
  },
  {
   "cell_type": "code",
   "execution_count": 2,
   "id": "0a6f7e37",
   "metadata": {},
   "outputs": [],
   "source": [
    "train = read_data(\"TRAIN.CSV\", date_cols=[\"Date\"])\n",
    "test = read_data(\"TEST_FINAL.csv\", date_cols=[\"Date\"])\n",
    "submission = read_data(\"SAMPLE.csv\")"
   ]
  },
  {
   "cell_type": "code",
   "execution_count": 3,
   "id": "eae2fbe2",
   "metadata": {},
   "outputs": [],
   "source": [
    "from prepare import prepare_data"
   ]
  },
  {
   "cell_type": "code",
   "execution_count": 4,
   "id": "507c45ca",
   "metadata": {},
   "outputs": [],
   "source": [
    "X_train, y_train, X_test, full_pipe = prepare_data(train, test)"
   ]
  },
  {
   "cell_type": "code",
   "execution_count": 7,
   "id": "dd4449be",
   "metadata": {},
   "outputs": [],
   "source": [
    "from sklearn.ensemble import RandomForestRegressor\n",
    "from sklearn.pipeline import make_pipeline"
   ]
  },
  {
   "cell_type": "code",
   "execution_count": 8,
   "id": "5e92ae92",
   "metadata": {},
   "outputs": [
    {
     "data": {
      "text/plain": [
       "Pipeline(steps=[('columntransformer',\n",
       "                 ColumnTransformer(transformers=[('num',\n",
       "                                                  Pipeline(steps=[('simpleimputer',\n",
       "                                                                   SimpleImputer())]),\n",
       "                                                  ['Store_id']),\n",
       "                                                 ('cat',\n",
       "                                                  Pipeline(steps=[('simpleimputer',\n",
       "                                                                   SimpleImputer(fill_value='NA',\n",
       "                                                                                 strategy='constant')),\n",
       "                                                                  ('onehotencoder',\n",
       "                                                                   OneHotEncoder(handle_unknown='ignore',\n",
       "                                                                                 sparse=False))]),\n",
       "                                                  ['Store_Type',\n",
       "                                                   'Location_Type',\n",
       "                                                   'Region_Code', 'Holiday',\n",
       "                                                   'Discount', 'Day', 'Month',\n",
       "                                                   'Year'])])),\n",
       "                ('randomforestregressor',\n",
       "                 RandomForestRegressor(max_depth=30, max_features='sqrt',\n",
       "                                       min_samples_leaf=8, min_samples_split=6,\n",
       "                                       n_jobs=-1, random_state=42))])"
      ]
     },
     "execution_count": 8,
     "metadata": {},
     "output_type": "execute_result"
    }
   ],
   "source": [
    "rf = make_pipeline(full_pipe, RandomForestRegressor(random_state=42, \n",
    "                                                    max_depth=30,\n",
    "                                                    min_samples_leaf= 8, \n",
    "                                                    min_samples_split= 6,\n",
    "                                                    max_features=\"sqrt\",\n",
    "                                                    n_jobs=-1))\n",
    "\n",
    "rf.fit(X_train, y_train)"
   ]
  },
  {
   "cell_type": "code",
   "execution_count": 9,
   "id": "4f646ff4",
   "metadata": {},
   "outputs": [],
   "source": [
    "submission['Sales'] = rf.predict(X_test)\n",
    "save_dataframe(submission,\"rf_hyper2.csv\")"
   ]
  },
  {
   "cell_type": "code",
   "execution_count": null,
   "id": "97458953",
   "metadata": {},
   "outputs": [],
   "source": []
  }
 ],
 "metadata": {
  "kernelspec": {
   "display_name": "Python 3",
   "language": "python",
   "name": "python3"
  },
  "language_info": {
   "codemirror_mode": {
    "name": "ipython",
    "version": 3
   },
   "file_extension": ".py",
   "mimetype": "text/x-python",
   "name": "python",
   "nbconvert_exporter": "python",
   "pygments_lexer": "ipython3",
   "version": "3.8.8"
  }
 },
 "nbformat": 4,
 "nbformat_minor": 5
}
